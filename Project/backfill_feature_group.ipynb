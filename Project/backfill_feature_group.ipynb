{
 "cells": [
  {
   "attachments": {},
   "cell_type": "markdown",
   "metadata": {},
   "source": [
    "# 1. Backfill features"
   ]
  },
  {
   "cell_type": "code",
   "execution_count": null,
   "metadata": {},
   "outputs": [],
   "source": [
    "import pandas as pd\n",
    "from datetime import datetime, timedelta"
   ]
  },
  {
   "cell_type": "code",
   "execution_count": null,
   "metadata": {},
   "outputs": [],
   "source": [
    "# functions for replacing date and time with timestamp (seconds since 1970-01-01)\n",
    "\n",
    "def energy_timestamp_2_time(x):\n",
    "    dt_obj = datetime.strptime(str(x), '%d.%m.%Y %H:%M')\n",
    "    dt_obj = dt_obj.timestamp() * 1000\n",
    "    return int(dt_obj)\n",
    "\n",
    "def weather_timestamp_2_time(x, i):\n",
    "    dt_obj = datetime.strptime(str(x), '%Y-%m-%d %H:%M:%S')\n",
    "    dt_obj = dt_obj + timedelta(hours=i)\n",
    "    dt_obj = dt_obj.timestamp() * 1000\n",
    "\n",
    "    return int(dt_obj)"
   ]
  },
  {
   "attachments": {},
   "cell_type": "markdown",
   "metadata": {},
   "source": [
    "### Load historical data"
   ]
  },
  {
   "cell_type": "code",
   "execution_count": null,
   "metadata": {},
   "outputs": [],
   "source": [
    "## Electricity data\n",
    "\n",
    "df_energy = pd.read_csv('data/timvarden-2022-01-11-SE3.csv')\n",
    "df_energy.head()"
   ]
  },
  {
   "cell_type": "code",
   "execution_count": null,
   "metadata": {},
   "outputs": [],
   "source": [
    "# Remove columns with nan/undefined values (Svenska elkraft)\n",
    "\n",
    "# print(f\"rows: {len(df_energy.index)}\")\n",
    "\n",
    "# df_energy_clean = df_energy.drop(['Förbrukning Mwh exkl. avk.last','Förbrukning Mwh >50 MW', \n",
    "#                             'Avkopplingsb. last', 'Timmätta förluster', 'Schablonleverans förbrukning', \n",
    "#                             'Schablonleverans förluster'], \n",
    "#                         axis=1)\n",
    "# df_energy_clean.rename(columns={\"Datum\": \"tid\", \"Day-ahead Price [EUR/MWh]\": \"day_ahead_price\"}, inplace=True)\n",
    "# df_energy_clean.head()\n",
    "\n",
    "# Remove columns with nan/undefined values (Entsoe)\n",
    "\n",
    "print(f\"rows: {len(df_energy.index)}\")\n",
    "print(\"Amount n/e in columns\")\n",
    "for col in df_energy.columns:\n",
    "    print(f\"{col}: {df_energy[df_energy[col] == 'n/e'].shape[0]}\")\n",
    "\n",
    "# df_energy_clean = df_energy.drop(['Biomass','Fossil Brown coal/Lignite', \n",
    "#                             'Fossil Coal-derived gas', 'Other renewable',\n",
    "#                             'Fossil Hard coal', 'Fossil Oil', 'Waste',\n",
    "#                             'Fossil Oil shale', 'Fossil Peat', 'Wind Offshore',\n",
    "#                             'Hydro Run-of-river and poundage', 'Geothermal',\n",
    "#                             'Hydro Pumped Storage', 'Hydro Pumped Storage - Actual Consumption',\n",
    "#                             'Currency'], \n",
    "#                         axis=1)\n",
    "df_energy.head()"
   ]
  },
  {
   "cell_type": "code",
   "execution_count": null,
   "metadata": {},
   "outputs": [],
   "source": [
    "# Convert feature 'Datum' into 'Time'\n",
    "df_energy_final = df_energy_clean.copy(deep=True)\n",
    "\n",
    "df_energy_final.iloc[:,0] = df_energy_final.iloc[:,0].apply(energy_timestamp_2_time)\n",
    "df_energy_final.head()\n",
    "\n",
    "# for idx in range(len(df_energy_final.index)): \n",
    "#     date_time = str(df_energy_final.iloc[idx][0])\n",
    "#     date_time = date_time.split(\" - \")[0]\n",
    "    \n",
    "#     print(date_time)\n",
    "#     # df_energy_final.at[idx, 'MTU'] = energy_timestamp_2_time(date_time)"
   ]
  },
  {
   "cell_type": "code",
   "execution_count": null,
   "metadata": {},
   "outputs": [],
   "source": [
    "## Wheather data\n",
    "df_weather = pd.read_csv('data/smhi-opendata_2022.csv')\n",
    "\n",
    "df_weather.head()"
   ]
  },
  {
   "cell_type": "code",
   "execution_count": null,
   "metadata": {},
   "outputs": [],
   "source": [
    "# Add additional rows for hours between 6 and 18 (only for stockholm-observatoriet data)\n",
    "# Combine features 'datum' and 'tid' into one single\n",
    "\n",
    "df_new_weather = pd.DataFrame(columns=[\"datum\", \"Lufttemperatur\", \"Kvalitet\"])\n",
    "\n",
    "for idx in range(len(df_weather.index)-1):\n",
    "\n",
    "    # retrieve date and temperature differece between two times\n",
    "    date_time = str(df_weather.iloc[idx][0]) + \" \" + str(df_weather.iloc[idx][1])\n",
    "    temp_diff = (df_weather.iloc[idx+1][2] - df_weather.iloc[idx][2]) / 12\n",
    "\n",
    "    # add current row to new df, covert to new format\n",
    "    new_date_time = weather_timestamp_2_time(date_time, 0)\n",
    "    df_new_weather.loc[len(df_new_weather)] = [new_date_time, df_weather.loc[idx][2], df_weather.loc[idx][3]]\n",
    "    #print(date_time)\n",
    "\n",
    "    for i in range(1, 12):\n",
    "\n",
    "        # increment time\n",
    "        new_date_time = weather_timestamp_2_time(date_time, i)\n",
    "        # dt_obj = datetime.strptime(str(date_time), '%Y-%m-%d %H:%M:%S')\n",
    "        # dt_obj = dt_obj + timedelta(hours=i)\n",
    "        # print(idx + i)\n",
    "\n",
    "        # create additional row\n",
    "        # time = dt_obj.time()\n",
    "        # date = dt_obj.date()\n",
    "        temp = df_weather.iloc[idx][2] + (temp_diff * i)\n",
    "        qlty = \"G\"\n",
    "\n",
    "        # add row to new df\n",
    "        # print(idx + i)\n",
    "        row = [new_date_time, temp, qlty]\n",
    "        df_new_weather.loc[len(df_new_weather)] = row\n",
    "\n",
    "        #df_weather_copy = df_weather_copy.append(row, ignore_index=True) # date, time, temp, qlty\n",
    "\n",
    "df_new_weather.head(5)"
   ]
  },
  {
   "cell_type": "code",
   "execution_count": null,
   "metadata": {},
   "outputs": [],
   "source": [
    "df_energy_final.info()\n",
    "df_new_weather.info()"
   ]
  },
  {
   "attachments": {},
   "cell_type": "markdown",
   "metadata": {},
   "source": [
    "### Connect to hopsworks"
   ]
  },
  {
   "cell_type": "code",
   "execution_count": null,
   "metadata": {},
   "outputs": [],
   "source": [
    "import hopsworks\n",
    "\n",
    "project = hopsworks.login()\n",
    "\n",
    "fs = project.get_feature_store() "
   ]
  },
  {
   "attachments": {},
   "cell_type": "markdown",
   "metadata": {},
   "source": [
    "### Creating Feature Groups\n"
   ]
  },
  {
   "cell_type": "code",
   "execution_count": null,
   "metadata": {},
   "outputs": [],
   "source": [
    "electricity_data_fg = fs.get_or_create_feature_group(\n",
    "        name = 'electricity_data_fg',\n",
    "        description = 'Energy generation, consumption and price of each hour',\n",
    "        version = 1,\n",
    "        primary_key = ['tid'],\n",
    "        online_enabled = True,\n",
    "        event_time = 'tid'\n",
    "    )    \n",
    "\n",
    "electricity_data_fg.insert(df_energy_final)"
   ]
  },
  {
   "cell_type": "code",
   "execution_count": null,
   "metadata": {},
   "outputs": [],
   "source": [
    "weather_fg = fs.get_or_create_feature_group(\n",
    "        name = 'weather_fg',\n",
    "        description = 'Weather characteristics of each day',\n",
    "        version = 1,\n",
    "        primary_key = ['city','date'],\n",
    "        online_enabled = True,\n",
    "        event_time = 'date'\n",
    "    )    \n",
    "\n",
    "weather_fg.insert(df_weather)"
   ]
  },
  {
   "attachments": {},
   "cell_type": "markdown",
   "metadata": {},
   "source": [
    "### old code"
   ]
  },
  {
   "cell_type": "code",
   "execution_count": null,
   "metadata": {},
   "outputs": [],
   "source": [
    "for idx in df_weather.index:\n",
    "    date_time = str(df_weather.iloc[idx][0]) + \" \" + str(df_weather.iloc[idx][1])\n",
    "    for i in range(1,12):\n",
    "        dt_obj = datetime.strptime(str(date_time), '%Y-%m-%d %H:%M:%S')\n",
    "        dt_obj = dt_obj + timedelta(hours=i)\n",
    "\n",
    "        # append to dataframe\n",
    "        time = dt_obj.time\n",
    "        date = dt_obj.date\n",
    "        print(time, date)\n"
   ]
  }
 ],
 "metadata": {
  "kernelspec": {
   "display_name": "base",
   "language": "python",
   "name": "python3"
  },
  "language_info": {
   "codemirror_mode": {
    "name": "ipython",
    "version": 3
   },
   "file_extension": ".py",
   "mimetype": "text/x-python",
   "name": "python",
   "nbconvert_exporter": "python",
   "pygments_lexer": "ipython3",
   "version": "3.9.12"
  },
  "orig_nbformat": 4,
  "vscode": {
   "interpreter": {
    "hash": "335d80310dcdd71c39c5fc237d90b2722202fb6a12e63ce8cbfcb42f72ee81b1"
   }
  }
 },
 "nbformat": 4,
 "nbformat_minor": 2
}
