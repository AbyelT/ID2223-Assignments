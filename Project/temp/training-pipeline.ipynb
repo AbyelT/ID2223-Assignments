{
  "cells": [
    {
      "cell_type": "code",
      "execution_count": 1,
      "metadata": {
        "id": "bTuwg_Q6EiPn"
      },
      "outputs": [
        {
          "name": "stderr",
          "output_type": "stream",
          "text": [
            "2023-01-13 16:29:42.533444: I tensorflow/core/platform/cpu_feature_guard.cc:193] This TensorFlow binary is optimized with oneAPI Deep Neural Network Library (oneDNN) to use the following CPU instructions in performance-critical operations:  AVX2 FMA\n",
            "To enable them in other operations, rebuild TensorFlow with the appropriate compiler flags.\n",
            "2023-01-13 16:29:43.043508: W tensorflow/compiler/xla/stream_executor/platform/default/dso_loader.cc:64] Could not load dynamic library 'libcudart.so.11.0'; dlerror: libcudart.so.11.0: cannot open shared object file: No such file or directory\n",
            "2023-01-13 16:29:43.043538: I tensorflow/compiler/xla/stream_executor/cuda/cudart_stub.cc:29] Ignore above cudart dlerror if you do not have a GPU set up on your machine.\n",
            "2023-01-13 16:29:44.482439: W tensorflow/compiler/xla/stream_executor/platform/default/dso_loader.cc:64] Could not load dynamic library 'libnvinfer.so.7'; dlerror: libnvinfer.so.7: cannot open shared object file: No such file or directory\n",
            "2023-01-13 16:29:44.482581: W tensorflow/compiler/xla/stream_executor/platform/default/dso_loader.cc:64] Could not load dynamic library 'libnvinfer_plugin.so.7'; dlerror: libnvinfer_plugin.so.7: cannot open shared object file: No such file or directory\n",
            "2023-01-13 16:29:44.482597: W tensorflow/compiler/tf2tensorrt/utils/py_utils.cc:38] TF-TRT Warning: Cannot dlopen some TensorRT libraries. If you would like to use Nvidia GPU with TensorRT, please make sure the missing libraries mentioned above are installed properly.\n"
          ]
        }
      ],
      "source": [
        "import numpy as np # linear algebra\n",
        "import pandas as pd\n",
        "from sklearn.preprocessing import LabelEncoder, StandardScaler\n",
        "import keras\n",
        "from keras.models import Sequential\n",
        "from keras.layers import Dense\n",
        "from keras.layers import LSTM\n",
        "from keras.layers import Dropout\n",
        "from keras.layers import *\n",
        "from sklearn.preprocessing import MinMaxScaler\n",
        "from sklearn.metrics import mean_squared_error\n",
        "from sklearn.metrics import mean_absolute_error\n",
        "from keras.callbacks import EarlyStopping\n",
        "import hopsworks"
      ]
    },
    {
      "cell_type": "code",
      "execution_count": 2,
      "metadata": {
        "colab": {
          "base_uri": "https://localhost:8080/"
        },
        "id": "VAmXJEE6nva9",
        "outputId": "786240ea-84cc-470f-85bf-3dae66e39eb5"
      },
      "outputs": [
        {
          "name": "stdout",
          "output_type": "stream",
          "text": [
            "Connected. Call `.close()` to terminate connection gracefully.\n",
            "\n",
            "Logged in to project, explore it here https://c.app.hopsworks.ai:443/p/4247\n"
          ]
        },
        {
          "name": "stderr",
          "output_type": "stream",
          "text": [
            "DeprecationWarning: the imp module is deprecated in favour of importlib; see the module's documentation for alternative uses\n"
          ]
        },
        {
          "name": "stdout",
          "output_type": "stream",
          "text": [
            "Connected. Call `.close()` to terminate connection gracefully.\n"
          ]
        }
      ],
      "source": [
        "project = hopsworks.login()\n",
        "fs = project.get_feature_store() "
      ]
    },
    {
      "cell_type": "code",
      "execution_count": 18,
      "metadata": {
        "id": "kzlX5Blty-sO"
      },
      "outputs": [
        {
          "name": "stdout",
          "output_type": "stream",
          "text": [
            "Feature view created successfully, explore it at \n",
            "https://c.app.hopsworks.ai:443/p/4247/fs/4192/fv/new_electricity_data_fv/version/1\n"
          ]
        }
      ],
      "source": [
        "try: \n",
        "    feature_view = fs.get_feature_view(name=\"new_electricity_data_fv\", version=1)\n",
        "except:\n",
        "    electricity_data_fg = fs.get_feature_group('new_electricity_data_fg', version=1)\n",
        "    query = electricity_data_fg.select_all()    \n",
        "    feature_view = fs.create_feature_view(name=\"new_electricity_data_fv\",\n",
        "                                        version=1, # labels: \"day_ahead_price\"\n",
        "                                        description=\"Read from Feature Group new_electricity_data_fg\",\n",
        "                                        query=query)"
      ]
    },
    {
      "cell_type": "code",
      "execution_count": null,
      "metadata": {
        "colab": {
          "base_uri": "https://localhost:8080/",
          "height": 894
        },
        "id": "bjHwu840wLhJ",
        "outputId": "6bef5ba7-8e42-432f-a555-43cf31a4f11f"
      },
      "outputs": [],
      "source": [
        "# electricity_data_fg.read()\n",
        "# query_show = electricity_data_fg.show(5)\n",
        "# col_names = query_show.columns"
      ]
    },
    {
      "cell_type": "code",
      "execution_count": 19,
      "metadata": {
        "colab": {
          "base_uri": "https://localhost:8080/"
        },
        "id": "2v5tuL835PtP",
        "outputId": "73f24985-5be9-4dd1-9767-e706604437eb"
      },
      "outputs": [
        {
          "name": "stdout",
          "output_type": "stream",
          "text": [
            "Training dataset job started successfully, you can follow the progress at \n",
            "https://c.app.hopsworks.ai/p/4247/jobs/named/new_electricity_data_fv_1_1_create_fv_td_13012023154113/executions\n",
            "17460\n"
          ]
        },
        {
          "name": "stderr",
          "output_type": "stream",
          "text": [
            "VersionWarning: Incremented version to `1`.\n"
          ]
        }
      ],
      "source": [
        "version, job = feature_view.create_training_data(\n",
        "    description = 'new electricity price pred train data',\n",
        "    data_format = 'csv',\n",
        "    write_options = {\"wait_for_job\": False}\n",
        ") # By default, it is materialised to HopsFS\n",
        "print(job.id) "
      ]
    },
    {
      "cell_type": "code",
      "execution_count": 20,
      "metadata": {
        "id": "eFb6xmqL7BYy"
      },
      "outputs": [
        {
          "data": {
            "text/html": [
              "<div>\n",
              "<style scoped>\n",
              "    .dataframe tbody tr th:only-of-type {\n",
              "        vertical-align: middle;\n",
              "    }\n",
              "\n",
              "    .dataframe tbody tr th {\n",
              "        vertical-align: top;\n",
              "    }\n",
              "\n",
              "    .dataframe thead th {\n",
              "        text-align: right;\n",
              "    }\n",
              "</style>\n",
              "<table border=\"1\" class=\"dataframe\">\n",
              "  <thead>\n",
              "    <tr style=\"text-align: right;\">\n",
              "      <th></th>\n",
              "      <th>hydro_water_reservoir</th>\n",
              "      <th>nuclear</th>\n",
              "      <th>other</th>\n",
              "      <th>solar</th>\n",
              "      <th>wind_onshore</th>\n",
              "      <th>datetime</th>\n",
              "      <th>day_ahead_price</th>\n",
              "      <th>total_load</th>\n",
              "      <th>temperature</th>\n",
              "    </tr>\n",
              "  </thead>\n",
              "  <tbody>\n",
              "    <tr>\n",
              "      <th>1282</th>\n",
              "      <td>824.0</td>\n",
              "      <td>5841.0</td>\n",
              "      <td>892.0</td>\n",
              "      <td>0.0</td>\n",
              "      <td>1062.0</td>\n",
              "      <td>1640991600000</td>\n",
              "      <td>46.60</td>\n",
              "      <td>9685.0</td>\n",
              "      <td>5.3</td>\n",
              "    </tr>\n",
              "    <tr>\n",
              "      <th>1384</th>\n",
              "      <td>818.0</td>\n",
              "      <td>5842.0</td>\n",
              "      <td>851.0</td>\n",
              "      <td>0.0</td>\n",
              "      <td>999.0</td>\n",
              "      <td>1640995200000</td>\n",
              "      <td>41.33</td>\n",
              "      <td>9612.0</td>\n",
              "      <td>5.4</td>\n",
              "    </tr>\n",
              "    <tr>\n",
              "      <th>7209</th>\n",
              "      <td>818.0</td>\n",
              "      <td>5839.0</td>\n",
              "      <td>858.0</td>\n",
              "      <td>0.0</td>\n",
              "      <td>958.0</td>\n",
              "      <td>1640998800000</td>\n",
              "      <td>42.18</td>\n",
              "      <td>9601.0</td>\n",
              "      <td>5.4</td>\n",
              "    </tr>\n",
              "    <tr>\n",
              "      <th>4637</th>\n",
              "      <td>838.0</td>\n",
              "      <td>5839.0</td>\n",
              "      <td>859.0</td>\n",
              "      <td>0.0</td>\n",
              "      <td>888.0</td>\n",
              "      <td>1641002400000</td>\n",
              "      <td>44.37</td>\n",
              "      <td>9552.0</td>\n",
              "      <td>5.7</td>\n",
              "    </tr>\n",
              "    <tr>\n",
              "      <th>6484</th>\n",
              "      <td>842.0</td>\n",
              "      <td>5840.0</td>\n",
              "      <td>856.0</td>\n",
              "      <td>0.0</td>\n",
              "      <td>788.0</td>\n",
              "      <td>1641006000000</td>\n",
              "      <td>37.67</td>\n",
              "      <td>9449.0</td>\n",
              "      <td>5.3</td>\n",
              "    </tr>\n",
              "    <tr>\n",
              "      <th>...</th>\n",
              "      <td>...</td>\n",
              "      <td>...</td>\n",
              "      <td>...</td>\n",
              "      <td>...</td>\n",
              "      <td>...</td>\n",
              "      <td>...</td>\n",
              "      <td>...</td>\n",
              "      <td>...</td>\n",
              "      <td>...</td>\n",
              "    </tr>\n",
              "    <tr>\n",
              "      <th>8783</th>\n",
              "      <td>1098.0</td>\n",
              "      <td>5798.0</td>\n",
              "      <td>954.0</td>\n",
              "      <td>0.0</td>\n",
              "      <td>504.0</td>\n",
              "      <td>1672682400000</td>\n",
              "      <td>164.46</td>\n",
              "      <td>11650.0</td>\n",
              "      <td>4.2</td>\n",
              "    </tr>\n",
              "    <tr>\n",
              "      <th>8793</th>\n",
              "      <td>1072.0</td>\n",
              "      <td>5797.0</td>\n",
              "      <td>941.0</td>\n",
              "      <td>0.0</td>\n",
              "      <td>605.0</td>\n",
              "      <td>1672686000000</td>\n",
              "      <td>153.00</td>\n",
              "      <td>11346.0</td>\n",
              "      <td>4.1</td>\n",
              "    </tr>\n",
              "    <tr>\n",
              "      <th>8785</th>\n",
              "      <td>828.0</td>\n",
              "      <td>5799.0</td>\n",
              "      <td>940.0</td>\n",
              "      <td>0.0</td>\n",
              "      <td>682.0</td>\n",
              "      <td>1672689600000</td>\n",
              "      <td>141.67</td>\n",
              "      <td>10959.0</td>\n",
              "      <td>5.0</td>\n",
              "    </tr>\n",
              "    <tr>\n",
              "      <th>8784</th>\n",
              "      <td>747.0</td>\n",
              "      <td>5800.0</td>\n",
              "      <td>913.0</td>\n",
              "      <td>0.0</td>\n",
              "      <td>740.0</td>\n",
              "      <td>1672693200000</td>\n",
              "      <td>131.67</td>\n",
              "      <td>10536.0</td>\n",
              "      <td>4.9</td>\n",
              "    </tr>\n",
              "    <tr>\n",
              "      <th>8801</th>\n",
              "      <td>713.0</td>\n",
              "      <td>5799.0</td>\n",
              "      <td>884.0</td>\n",
              "      <td>0.0</td>\n",
              "      <td>783.0</td>\n",
              "      <td>1672696800000</td>\n",
              "      <td>118.06</td>\n",
              "      <td>10266.0</td>\n",
              "      <td>4.8</td>\n",
              "    </tr>\n",
              "  </tbody>\n",
              "</table>\n",
              "<p>8802 rows × 9 columns</p>\n",
              "</div>"
            ],
            "text/plain": [
              "      hydro_water_reservoir  nuclear  other  solar  wind_onshore  \\\n",
              "1282                  824.0   5841.0  892.0    0.0        1062.0   \n",
              "1384                  818.0   5842.0  851.0    0.0         999.0   \n",
              "7209                  818.0   5839.0  858.0    0.0         958.0   \n",
              "4637                  838.0   5839.0  859.0    0.0         888.0   \n",
              "6484                  842.0   5840.0  856.0    0.0         788.0   \n",
              "...                     ...      ...    ...    ...           ...   \n",
              "8783                 1098.0   5798.0  954.0    0.0         504.0   \n",
              "8793                 1072.0   5797.0  941.0    0.0         605.0   \n",
              "8785                  828.0   5799.0  940.0    0.0         682.0   \n",
              "8784                  747.0   5800.0  913.0    0.0         740.0   \n",
              "8801                  713.0   5799.0  884.0    0.0         783.0   \n",
              "\n",
              "           datetime  day_ahead_price  total_load  temperature  \n",
              "1282  1640991600000            46.60      9685.0          5.3  \n",
              "1384  1640995200000            41.33      9612.0          5.4  \n",
              "7209  1640998800000            42.18      9601.0          5.4  \n",
              "4637  1641002400000            44.37      9552.0          5.7  \n",
              "6484  1641006000000            37.67      9449.0          5.3  \n",
              "...             ...              ...         ...          ...  \n",
              "8783  1672682400000           164.46     11650.0          4.2  \n",
              "8793  1672686000000           153.00     11346.0          4.1  \n",
              "8785  1672689600000           141.67     10959.0          5.0  \n",
              "8784  1672693200000           131.67     10536.0          4.9  \n",
              "8801  1672696800000           118.06     10266.0          4.8  \n",
              "\n",
              "[8802 rows x 9 columns]"
            ]
          },
          "execution_count": 20,
          "metadata": {},
          "output_type": "execute_result"
        }
      ],
      "source": [
        "train_data = feature_view.get_training_data(training_dataset_version=1)[0]\n",
        "train_data = train_data.sort_values(by=['datetime'])\n",
        "train_data"
      ]
    },
    {
      "cell_type": "code",
      "execution_count": 21,
      "metadata": {
        "id": "49khaR558---"
      },
      "outputs": [
        {
          "data": {
            "text/html": [
              "<div>\n",
              "<style scoped>\n",
              "    .dataframe tbody tr th:only-of-type {\n",
              "        vertical-align: middle;\n",
              "    }\n",
              "\n",
              "    .dataframe tbody tr th {\n",
              "        vertical-align: top;\n",
              "    }\n",
              "\n",
              "    .dataframe thead th {\n",
              "        text-align: right;\n",
              "    }\n",
              "</style>\n",
              "<table border=\"1\" class=\"dataframe\">\n",
              "  <thead>\n",
              "    <tr style=\"text-align: right;\">\n",
              "      <th></th>\n",
              "      <th>hydro_water_reservoir</th>\n",
              "      <th>nuclear</th>\n",
              "      <th>other</th>\n",
              "      <th>solar</th>\n",
              "      <th>wind_onshore</th>\n",
              "      <th>day_ahead_price</th>\n",
              "      <th>total_load</th>\n",
              "      <th>temperature</th>\n",
              "    </tr>\n",
              "    <tr>\n",
              "      <th>datetime</th>\n",
              "      <th></th>\n",
              "      <th></th>\n",
              "      <th></th>\n",
              "      <th></th>\n",
              "      <th></th>\n",
              "      <th></th>\n",
              "      <th></th>\n",
              "      <th></th>\n",
              "    </tr>\n",
              "  </thead>\n",
              "  <tbody>\n",
              "    <tr>\n",
              "      <th>1640991600000</th>\n",
              "      <td>824.0</td>\n",
              "      <td>5841.0</td>\n",
              "      <td>892.0</td>\n",
              "      <td>0.0</td>\n",
              "      <td>1062.0</td>\n",
              "      <td>46.60</td>\n",
              "      <td>9685.0</td>\n",
              "      <td>5.3</td>\n",
              "    </tr>\n",
              "    <tr>\n",
              "      <th>1640995200000</th>\n",
              "      <td>818.0</td>\n",
              "      <td>5842.0</td>\n",
              "      <td>851.0</td>\n",
              "      <td>0.0</td>\n",
              "      <td>999.0</td>\n",
              "      <td>41.33</td>\n",
              "      <td>9612.0</td>\n",
              "      <td>5.4</td>\n",
              "    </tr>\n",
              "    <tr>\n",
              "      <th>1640998800000</th>\n",
              "      <td>818.0</td>\n",
              "      <td>5839.0</td>\n",
              "      <td>858.0</td>\n",
              "      <td>0.0</td>\n",
              "      <td>958.0</td>\n",
              "      <td>42.18</td>\n",
              "      <td>9601.0</td>\n",
              "      <td>5.4</td>\n",
              "    </tr>\n",
              "    <tr>\n",
              "      <th>1641002400000</th>\n",
              "      <td>838.0</td>\n",
              "      <td>5839.0</td>\n",
              "      <td>859.0</td>\n",
              "      <td>0.0</td>\n",
              "      <td>888.0</td>\n",
              "      <td>44.37</td>\n",
              "      <td>9552.0</td>\n",
              "      <td>5.7</td>\n",
              "    </tr>\n",
              "    <tr>\n",
              "      <th>1641006000000</th>\n",
              "      <td>842.0</td>\n",
              "      <td>5840.0</td>\n",
              "      <td>856.0</td>\n",
              "      <td>0.0</td>\n",
              "      <td>788.0</td>\n",
              "      <td>37.67</td>\n",
              "      <td>9449.0</td>\n",
              "      <td>5.3</td>\n",
              "    </tr>\n",
              "    <tr>\n",
              "      <th>...</th>\n",
              "      <td>...</td>\n",
              "      <td>...</td>\n",
              "      <td>...</td>\n",
              "      <td>...</td>\n",
              "      <td>...</td>\n",
              "      <td>...</td>\n",
              "      <td>...</td>\n",
              "      <td>...</td>\n",
              "    </tr>\n",
              "    <tr>\n",
              "      <th>1672682400000</th>\n",
              "      <td>1098.0</td>\n",
              "      <td>5798.0</td>\n",
              "      <td>954.0</td>\n",
              "      <td>0.0</td>\n",
              "      <td>504.0</td>\n",
              "      <td>164.46</td>\n",
              "      <td>11650.0</td>\n",
              "      <td>4.2</td>\n",
              "    </tr>\n",
              "    <tr>\n",
              "      <th>1672686000000</th>\n",
              "      <td>1072.0</td>\n",
              "      <td>5797.0</td>\n",
              "      <td>941.0</td>\n",
              "      <td>0.0</td>\n",
              "      <td>605.0</td>\n",
              "      <td>153.00</td>\n",
              "      <td>11346.0</td>\n",
              "      <td>4.1</td>\n",
              "    </tr>\n",
              "    <tr>\n",
              "      <th>1672689600000</th>\n",
              "      <td>828.0</td>\n",
              "      <td>5799.0</td>\n",
              "      <td>940.0</td>\n",
              "      <td>0.0</td>\n",
              "      <td>682.0</td>\n",
              "      <td>141.67</td>\n",
              "      <td>10959.0</td>\n",
              "      <td>5.0</td>\n",
              "    </tr>\n",
              "    <tr>\n",
              "      <th>1672693200000</th>\n",
              "      <td>747.0</td>\n",
              "      <td>5800.0</td>\n",
              "      <td>913.0</td>\n",
              "      <td>0.0</td>\n",
              "      <td>740.0</td>\n",
              "      <td>131.67</td>\n",
              "      <td>10536.0</td>\n",
              "      <td>4.9</td>\n",
              "    </tr>\n",
              "    <tr>\n",
              "      <th>1672696800000</th>\n",
              "      <td>713.0</td>\n",
              "      <td>5799.0</td>\n",
              "      <td>884.0</td>\n",
              "      <td>0.0</td>\n",
              "      <td>783.0</td>\n",
              "      <td>118.06</td>\n",
              "      <td>10266.0</td>\n",
              "      <td>4.8</td>\n",
              "    </tr>\n",
              "  </tbody>\n",
              "</table>\n",
              "<p>8802 rows × 8 columns</p>\n",
              "</div>"
            ],
            "text/plain": [
              "               hydro_water_reservoir  nuclear  other  solar  wind_onshore  \\\n",
              "datetime                                                                    \n",
              "1640991600000                  824.0   5841.0  892.0    0.0        1062.0   \n",
              "1640995200000                  818.0   5842.0  851.0    0.0         999.0   \n",
              "1640998800000                  818.0   5839.0  858.0    0.0         958.0   \n",
              "1641002400000                  838.0   5839.0  859.0    0.0         888.0   \n",
              "1641006000000                  842.0   5840.0  856.0    0.0         788.0   \n",
              "...                              ...      ...    ...    ...           ...   \n",
              "1672682400000                 1098.0   5798.0  954.0    0.0         504.0   \n",
              "1672686000000                 1072.0   5797.0  941.0    0.0         605.0   \n",
              "1672689600000                  828.0   5799.0  940.0    0.0         682.0   \n",
              "1672693200000                  747.0   5800.0  913.0    0.0         740.0   \n",
              "1672696800000                  713.0   5799.0  884.0    0.0         783.0   \n",
              "\n",
              "               day_ahead_price  total_load  temperature  \n",
              "datetime                                                 \n",
              "1640991600000            46.60      9685.0          5.3  \n",
              "1640995200000            41.33      9612.0          5.4  \n",
              "1640998800000            42.18      9601.0          5.4  \n",
              "1641002400000            44.37      9552.0          5.7  \n",
              "1641006000000            37.67      9449.0          5.3  \n",
              "...                        ...         ...          ...  \n",
              "1672682400000           164.46     11650.0          4.2  \n",
              "1672686000000           153.00     11346.0          4.1  \n",
              "1672689600000           141.67     10959.0          5.0  \n",
              "1672693200000           131.67     10536.0          4.9  \n",
              "1672696800000           118.06     10266.0          4.8  \n",
              "\n",
              "[8802 rows x 8 columns]"
            ]
          },
          "execution_count": 21,
          "metadata": {},
          "output_type": "execute_result"
        }
      ],
      "source": [
        "train_data.set_index('datetime', inplace=True)\n",
        "train_data"
      ]
    },
    {
      "cell_type": "code",
      "execution_count": 22,
      "metadata": {
        "id": "Rw9QJHR5D6fX"
      },
      "outputs": [],
      "source": [
        "# Split into train & test sets\n",
        "train_size = int(len(train_data) * 0.80)\n",
        "test_size = len(train_data) - train_size\n",
        "test = train_data.iloc[train_size:,:]\n",
        "train = train_data.iloc[0:train_size,:]"
      ]
    },
    {
      "cell_type": "code",
      "execution_count": 23,
      "metadata": {
        "colab": {
          "base_uri": "https://localhost:8080/",
          "height": 455
        },
        "id": "HpUdlWXaEEDz",
        "outputId": "7fd8ba04-1e54-4189-d358-2d375b69e752"
      },
      "outputs": [
        {
          "data": {
            "text/html": [
              "<div>\n",
              "<style scoped>\n",
              "    .dataframe tbody tr th:only-of-type {\n",
              "        vertical-align: middle;\n",
              "    }\n",
              "\n",
              "    .dataframe tbody tr th {\n",
              "        vertical-align: top;\n",
              "    }\n",
              "\n",
              "    .dataframe thead th {\n",
              "        text-align: right;\n",
              "    }\n",
              "</style>\n",
              "<table border=\"1\" class=\"dataframe\">\n",
              "  <thead>\n",
              "    <tr style=\"text-align: right;\">\n",
              "      <th></th>\n",
              "      <th>hydro_water_reservoir</th>\n",
              "      <th>nuclear</th>\n",
              "      <th>other</th>\n",
              "      <th>solar</th>\n",
              "      <th>wind_onshore</th>\n",
              "      <th>day_ahead_price</th>\n",
              "      <th>total_load</th>\n",
              "      <th>temperature</th>\n",
              "    </tr>\n",
              "    <tr>\n",
              "      <th>datetime</th>\n",
              "      <th></th>\n",
              "      <th></th>\n",
              "      <th></th>\n",
              "      <th></th>\n",
              "      <th></th>\n",
              "      <th></th>\n",
              "      <th></th>\n",
              "      <th></th>\n",
              "    </tr>\n",
              "  </thead>\n",
              "  <tbody>\n",
              "    <tr>\n",
              "      <th>1640991600000</th>\n",
              "      <td>824.0</td>\n",
              "      <td>5841.0</td>\n",
              "      <td>892.0</td>\n",
              "      <td>0.0</td>\n",
              "      <td>1062.0</td>\n",
              "      <td>46.60</td>\n",
              "      <td>9685.0</td>\n",
              "      <td>5.3</td>\n",
              "    </tr>\n",
              "    <tr>\n",
              "      <th>1640995200000</th>\n",
              "      <td>818.0</td>\n",
              "      <td>5842.0</td>\n",
              "      <td>851.0</td>\n",
              "      <td>0.0</td>\n",
              "      <td>999.0</td>\n",
              "      <td>41.33</td>\n",
              "      <td>9612.0</td>\n",
              "      <td>5.4</td>\n",
              "    </tr>\n",
              "    <tr>\n",
              "      <th>1640998800000</th>\n",
              "      <td>818.0</td>\n",
              "      <td>5839.0</td>\n",
              "      <td>858.0</td>\n",
              "      <td>0.0</td>\n",
              "      <td>958.0</td>\n",
              "      <td>42.18</td>\n",
              "      <td>9601.0</td>\n",
              "      <td>5.4</td>\n",
              "    </tr>\n",
              "    <tr>\n",
              "      <th>1641002400000</th>\n",
              "      <td>838.0</td>\n",
              "      <td>5839.0</td>\n",
              "      <td>859.0</td>\n",
              "      <td>0.0</td>\n",
              "      <td>888.0</td>\n",
              "      <td>44.37</td>\n",
              "      <td>9552.0</td>\n",
              "      <td>5.7</td>\n",
              "    </tr>\n",
              "    <tr>\n",
              "      <th>1641006000000</th>\n",
              "      <td>842.0</td>\n",
              "      <td>5840.0</td>\n",
              "      <td>856.0</td>\n",
              "      <td>0.0</td>\n",
              "      <td>788.0</td>\n",
              "      <td>37.67</td>\n",
              "      <td>9449.0</td>\n",
              "      <td>5.3</td>\n",
              "    </tr>\n",
              "  </tbody>\n",
              "</table>\n",
              "</div>"
            ],
            "text/plain": [
              "               hydro_water_reservoir  nuclear  other  solar  wind_onshore  \\\n",
              "datetime                                                                    \n",
              "1640991600000                  824.0   5841.0  892.0    0.0        1062.0   \n",
              "1640995200000                  818.0   5842.0  851.0    0.0         999.0   \n",
              "1640998800000                  818.0   5839.0  858.0    0.0         958.0   \n",
              "1641002400000                  838.0   5839.0  859.0    0.0         888.0   \n",
              "1641006000000                  842.0   5840.0  856.0    0.0         788.0   \n",
              "\n",
              "               day_ahead_price  total_load  temperature  \n",
              "datetime                                                 \n",
              "1640991600000            46.60      9685.0          5.3  \n",
              "1640995200000            41.33      9612.0          5.4  \n",
              "1640998800000            42.18      9601.0          5.4  \n",
              "1641002400000            44.37      9552.0          5.7  \n",
              "1641006000000            37.67      9449.0          5.3  "
            ]
          },
          "execution_count": 23,
          "metadata": {},
          "output_type": "execute_result"
        }
      ],
      "source": [
        "train.head()"
      ]
    },
    {
      "cell_type": "code",
      "execution_count": 24,
      "metadata": {},
      "outputs": [
        {
          "data": {
            "text/html": [
              "<div>\n",
              "<style scoped>\n",
              "    .dataframe tbody tr th:only-of-type {\n",
              "        vertical-align: middle;\n",
              "    }\n",
              "\n",
              "    .dataframe tbody tr th {\n",
              "        vertical-align: top;\n",
              "    }\n",
              "\n",
              "    .dataframe thead th {\n",
              "        text-align: right;\n",
              "    }\n",
              "</style>\n",
              "<table border=\"1\" class=\"dataframe\">\n",
              "  <thead>\n",
              "    <tr style=\"text-align: right;\">\n",
              "      <th></th>\n",
              "      <th>hydro_water_reservoir</th>\n",
              "      <th>nuclear</th>\n",
              "      <th>other</th>\n",
              "      <th>solar</th>\n",
              "      <th>wind_onshore</th>\n",
              "      <th>day_ahead_price</th>\n",
              "      <th>total_load</th>\n",
              "      <th>temperature</th>\n",
              "    </tr>\n",
              "    <tr>\n",
              "      <th>datetime</th>\n",
              "      <th></th>\n",
              "      <th></th>\n",
              "      <th></th>\n",
              "      <th></th>\n",
              "      <th></th>\n",
              "      <th></th>\n",
              "      <th></th>\n",
              "      <th></th>\n",
              "    </tr>\n",
              "  </thead>\n",
              "  <tbody>\n",
              "    <tr>\n",
              "      <th>1666350000000</th>\n",
              "      <td>798.0</td>\n",
              "      <td>5670.0</td>\n",
              "      <td>804.0</td>\n",
              "      <td>57.0</td>\n",
              "      <td>461.0</td>\n",
              "      <td>159.64</td>\n",
              "      <td>9957.0</td>\n",
              "      <td>10.2</td>\n",
              "    </tr>\n",
              "    <tr>\n",
              "      <th>1666353600000</th>\n",
              "      <td>732.0</td>\n",
              "      <td>5670.0</td>\n",
              "      <td>819.0</td>\n",
              "      <td>43.0</td>\n",
              "      <td>440.0</td>\n",
              "      <td>156.83</td>\n",
              "      <td>9827.0</td>\n",
              "      <td>9.9</td>\n",
              "    </tr>\n",
              "    <tr>\n",
              "      <th>1666357200000</th>\n",
              "      <td>741.0</td>\n",
              "      <td>5669.0</td>\n",
              "      <td>821.0</td>\n",
              "      <td>24.0</td>\n",
              "      <td>419.0</td>\n",
              "      <td>153.78</td>\n",
              "      <td>9806.0</td>\n",
              "      <td>9.4</td>\n",
              "    </tr>\n",
              "    <tr>\n",
              "      <th>1666360800000</th>\n",
              "      <td>772.0</td>\n",
              "      <td>5665.0</td>\n",
              "      <td>820.0</td>\n",
              "      <td>8.0</td>\n",
              "      <td>413.0</td>\n",
              "      <td>158.25</td>\n",
              "      <td>9823.0</td>\n",
              "      <td>9.2</td>\n",
              "    </tr>\n",
              "    <tr>\n",
              "      <th>1666364400000</th>\n",
              "      <td>787.0</td>\n",
              "      <td>5664.0</td>\n",
              "      <td>813.0</td>\n",
              "      <td>1.0</td>\n",
              "      <td>435.0</td>\n",
              "      <td>167.20</td>\n",
              "      <td>10212.0</td>\n",
              "      <td>9.1</td>\n",
              "    </tr>\n",
              "  </tbody>\n",
              "</table>\n",
              "</div>"
            ],
            "text/plain": [
              "               hydro_water_reservoir  nuclear  other  solar  wind_onshore  \\\n",
              "datetime                                                                    \n",
              "1666350000000                  798.0   5670.0  804.0   57.0         461.0   \n",
              "1666353600000                  732.0   5670.0  819.0   43.0         440.0   \n",
              "1666357200000                  741.0   5669.0  821.0   24.0         419.0   \n",
              "1666360800000                  772.0   5665.0  820.0    8.0         413.0   \n",
              "1666364400000                  787.0   5664.0  813.0    1.0         435.0   \n",
              "\n",
              "               day_ahead_price  total_load  temperature  \n",
              "datetime                                                 \n",
              "1666350000000           159.64      9957.0         10.2  \n",
              "1666353600000           156.83      9827.0          9.9  \n",
              "1666357200000           153.78      9806.0          9.4  \n",
              "1666360800000           158.25      9823.0          9.2  \n",
              "1666364400000           167.20     10212.0          9.1  "
            ]
          },
          "execution_count": 24,
          "metadata": {},
          "output_type": "execute_result"
        }
      ],
      "source": [
        "test.head()"
      ]
    },
    {
      "cell_type": "code",
      "execution_count": 25,
      "metadata": {
        "id": "GLV1Gp0mRBuo"
      },
      "outputs": [],
      "source": [
        "# Standard scaler for features and label\n",
        "\n",
        "sc_x=StandardScaler()\n",
        "X_scaled_train=sc_x.fit_transform(train)"
      ]
    },
    {
      "cell_type": "code",
      "execution_count": 26,
      "metadata": {
        "id": "jgZmqGdOFDaI"
      },
      "outputs": [],
      "source": [
        "sc_y=StandardScaler()\n",
        "y_scaled_train=sc_y.fit_transform(train[['day_ahead_price']])"
      ]
    },
    {
      "cell_type": "code",
      "execution_count": 27,
      "metadata": {},
      "outputs": [
        {
          "name": "stdout",
          "output_type": "stream",
          "text": [
            "<class 'pandas.core.frame.DataFrame'>\n",
            "Int64Index: 7041 entries, 1640991600000 to 1666346400000\n",
            "Data columns (total 8 columns):\n",
            " #   Column                 Non-Null Count  Dtype  \n",
            "---  ------                 --------------  -----  \n",
            " 0   hydro_water_reservoir  7041 non-null   float64\n",
            " 1   nuclear                7041 non-null   float64\n",
            " 2   other                  7041 non-null   float64\n",
            " 3   solar                  7041 non-null   float64\n",
            " 4   wind_onshore           7041 non-null   float64\n",
            " 5   day_ahead_price        7041 non-null   float64\n",
            " 6   total_load             7041 non-null   float64\n",
            " 7   temperature            7041 non-null   float64\n",
            "dtypes: float64(8)\n",
            "memory usage: 495.1 KB\n"
          ]
        }
      ],
      "source": [
        "train.info()"
      ]
    },
    {
      "cell_type": "code",
      "execution_count": 28,
      "metadata": {
        "id": "ylgobSXOEOD1"
      },
      "outputs": [],
      "source": [
        "step_back=24\n",
        "no_records=len(train)\n",
        "no_cols=8\n",
        "X_train=[]\n",
        "y_train=[]\n",
        "for i in range(step_back,no_records):\n",
        "    X_train.append(X_scaled_train[i-step_back:i])\n",
        "    y_train.append(y_scaled_train[i][0])\n",
        "X_train,y_train=np.array(X_train),np.array(y_train)"
      ]
    },
    {
      "cell_type": "code",
      "execution_count": 29,
      "metadata": {
        "colab": {
          "base_uri": "https://localhost:8080/"
        },
        "id": "6CDcU0apJKbF",
        "outputId": "eef54356-208d-4438-b68f-ae4fdefa0172"
      },
      "outputs": [
        {
          "name": "stdout",
          "output_type": "stream",
          "text": [
            "(7017, 24, 8)\n",
            "(7017,)\n"
          ]
        }
      ],
      "source": [
        "print(X_train.shape)\n",
        "print(y_train.shape)"
      ]
    },
    {
      "cell_type": "code",
      "execution_count": 30,
      "metadata": {
        "id": "DLzQl9mdJZnG"
      },
      "outputs": [
        {
          "data": {
            "text/plain": [
              "(7017, 24, 8)"
            ]
          },
          "execution_count": 30,
          "metadata": {},
          "output_type": "execute_result"
        }
      ],
      "source": [
        "X_train_shape=np.reshape(X_train,(X_train.shape[0],X_train.shape[1],X_train.shape[2]))\n",
        "X_train_shape.shape"
      ]
    },
    {
      "attachments": {},
      "cell_type": "markdown",
      "metadata": {},
      "source": [
        "### LSTM model"
      ]
    },
    {
      "cell_type": "code",
      "execution_count": 31,
      "metadata": {
        "id": "zDSaWVsJJn_O"
      },
      "outputs": [
        {
          "name": "stderr",
          "output_type": "stream",
          "text": [
            "2023-01-13 16:44:17.854913: I tensorflow/compiler/xla/stream_executor/cuda/cuda_gpu_executor.cc:981] successful NUMA node read from SysFS had negative value (-1), but there must be at least one NUMA node, so returning NUMA node zero\n",
            "2023-01-13 16:44:17.855409: W tensorflow/compiler/xla/stream_executor/platform/default/dso_loader.cc:64] Could not load dynamic library 'libcudart.so.11.0'; dlerror: libcudart.so.11.0: cannot open shared object file: No such file or directory\n",
            "2023-01-13 16:44:17.856003: W tensorflow/compiler/xla/stream_executor/platform/default/dso_loader.cc:64] Could not load dynamic library 'libcublas.so.11'; dlerror: libcublas.so.11: cannot open shared object file: No such file or directory\n",
            "2023-01-13 16:44:17.856099: W tensorflow/compiler/xla/stream_executor/platform/default/dso_loader.cc:64] Could not load dynamic library 'libcublasLt.so.11'; dlerror: libcublasLt.so.11: cannot open shared object file: No such file or directory\n",
            "2023-01-13 16:44:17.856183: W tensorflow/compiler/xla/stream_executor/platform/default/dso_loader.cc:64] Could not load dynamic library 'libcufft.so.10'; dlerror: libcufft.so.10: cannot open shared object file: No such file or directory\n",
            "2023-01-13 16:44:17.856267: W tensorflow/compiler/xla/stream_executor/platform/default/dso_loader.cc:64] Could not load dynamic library 'libcurand.so.10'; dlerror: libcurand.so.10: cannot open shared object file: No such file or directory\n",
            "2023-01-13 16:44:17.856602: W tensorflow/compiler/xla/stream_executor/platform/default/dso_loader.cc:64] Could not load dynamic library 'libcusolver.so.11'; dlerror: libcusolver.so.11: cannot open shared object file: No such file or directory\n",
            "2023-01-13 16:44:17.856700: W tensorflow/compiler/xla/stream_executor/platform/default/dso_loader.cc:64] Could not load dynamic library 'libcusparse.so.11'; dlerror: libcusparse.so.11: cannot open shared object file: No such file or directory\n",
            "2023-01-13 16:44:17.856797: W tensorflow/compiler/xla/stream_executor/platform/default/dso_loader.cc:64] Could not load dynamic library 'libcudnn.so.8'; dlerror: libcudnn.so.8: cannot open shared object file: No such file or directory\n",
            "2023-01-13 16:44:17.856812: W tensorflow/core/common_runtime/gpu/gpu_device.cc:1934] Cannot dlopen some GPU libraries. Please make sure the missing libraries mentioned above are installed properly if you would like to use GPU. Follow the guide at https://www.tensorflow.org/install/gpu for how to download and setup the required libraries for your platform.\n",
            "Skipping registering GPU devices...\n",
            "2023-01-13 16:44:17.858851: I tensorflow/core/platform/cpu_feature_guard.cc:193] This TensorFlow binary is optimized with oneAPI Deep Neural Network Library (oneDNN) to use the following CPU instructions in performance-critical operations:  AVX2 FMA\n",
            "To enable them in other operations, rebuild TensorFlow with the appropriate compiler flags.\n"
          ]
        }
      ],
      "source": [
        "model_lstm = Sequential()\n",
        "model_lstm.add(LSTM(100, input_shape=(step_back,no_cols)))\n",
        "model_lstm.add(Dropout(0.2))\n",
        "model_lstm.add(Dense(1))\n",
        "model_lstm.compile(loss='mean_squared_error', optimizer='adam')"
      ]
    },
    {
      "cell_type": "code",
      "execution_count": 32,
      "metadata": {
        "colab": {
          "base_uri": "https://localhost:8080/"
        },
        "id": "gVhCQt1DVDey",
        "outputId": "2af74fe5-fa01-4bd3-8da2-0e1520991d56"
      },
      "outputs": [
        {
          "name": "stdout",
          "output_type": "stream",
          "text": [
            "Model: \"sequential\"\n",
            "_________________________________________________________________\n",
            " Layer (type)                Output Shape              Param #   \n",
            "=================================================================\n",
            " lstm (LSTM)                 (None, 100)               43600     \n",
            "                                                                 \n",
            " dropout (Dropout)           (None, 100)               0         \n",
            "                                                                 \n",
            " dense (Dense)               (None, 1)                 101       \n",
            "                                                                 \n",
            "=================================================================\n",
            "Total params: 43,701\n",
            "Trainable params: 43,701\n",
            "Non-trainable params: 0\n",
            "_________________________________________________________________\n"
          ]
        }
      ],
      "source": [
        "model_lstm.summary()"
      ]
    },
    {
      "cell_type": "code",
      "execution_count": 33,
      "metadata": {
        "colab": {
          "base_uri": "https://localhost:8080/",
          "height": 1000
        },
        "id": "hJsJF6B2J-9-",
        "outputId": "55ba17d7-9f73-4925-8172-afd908478e1e"
      },
      "outputs": [
        {
          "name": "stdout",
          "output_type": "stream",
          "text": [
            "Epoch 1/200\n",
            "27/27 [==============================] - 4s 49ms/step - loss: 0.8187\n",
            "Epoch 2/200\n",
            "27/27 [==============================] - 1s 47ms/step - loss: 0.4697\n",
            "Epoch 3/200\n",
            "27/27 [==============================] - 2s 75ms/step - loss: 0.3567\n",
            "Epoch 4/200\n",
            "27/27 [==============================] - 1s 55ms/step - loss: 0.2888\n",
            "Epoch 5/200\n",
            "27/27 [==============================] - 1s 48ms/step - loss: 0.2406\n",
            "Epoch 6/200\n",
            "27/27 [==============================] - 1s 49ms/step - loss: 0.2105\n",
            "Epoch 7/200\n",
            "27/27 [==============================] - 1s 50ms/step - loss: 0.1849\n",
            "Epoch 8/200\n",
            "27/27 [==============================] - 1s 53ms/step - loss: 0.1626\n",
            "Epoch 9/200\n",
            "27/27 [==============================] - 1s 48ms/step - loss: 0.1490\n",
            "Epoch 10/200\n",
            "27/27 [==============================] - 1s 50ms/step - loss: 0.1400\n",
            "Epoch 11/200\n",
            "27/27 [==============================] - 1s 55ms/step - loss: 0.1365\n",
            "Epoch 12/200\n",
            "27/27 [==============================] - 1s 52ms/step - loss: 0.1292\n",
            "Epoch 13/200\n",
            "27/27 [==============================] - 1s 52ms/step - loss: 0.1236\n",
            "Epoch 14/200\n",
            "27/27 [==============================] - 1s 54ms/step - loss: 0.1230\n",
            "Epoch 15/200\n",
            "27/27 [==============================] - 1s 56ms/step - loss: 0.1245\n",
            "Epoch 16/200\n",
            "27/27 [==============================] - 2s 56ms/step - loss: 0.1196\n",
            "Epoch 17/200\n",
            "27/27 [==============================] - 2s 79ms/step - loss: 0.1161\n",
            "Epoch 18/200\n",
            "27/27 [==============================] - 2s 55ms/step - loss: 0.1100\n",
            "Epoch 19/200\n",
            "27/27 [==============================] - 1s 54ms/step - loss: 0.1083\n",
            "Epoch 20/200\n",
            "27/27 [==============================] - 1s 54ms/step - loss: 0.1036\n",
            "Epoch 21/200\n",
            "27/27 [==============================] - 1s 53ms/step - loss: 0.1034\n",
            "Epoch 22/200\n",
            "27/27 [==============================] - 1s 53ms/step - loss: 0.1031\n",
            "Epoch 23/200\n",
            "27/27 [==============================] - 1s 53ms/step - loss: 0.1019\n",
            "Epoch 24/200\n",
            "27/27 [==============================] - 1s 54ms/step - loss: 0.1013\n",
            "Epoch 25/200\n",
            "27/27 [==============================] - 2s 57ms/step - loss: 0.0986\n",
            "Epoch 26/200\n",
            "27/27 [==============================] - 1s 53ms/step - loss: 0.0965\n",
            "Epoch 27/200\n",
            "27/27 [==============================] - 1s 54ms/step - loss: 0.0935\n",
            "Epoch 28/200\n",
            "27/27 [==============================] - 2s 64ms/step - loss: 0.0912\n",
            "Epoch 29/200\n",
            "27/27 [==============================] - 2s 63ms/step - loss: 0.0913\n",
            "Epoch 30/200\n",
            "27/27 [==============================] - 2s 64ms/step - loss: 0.0894\n",
            "Epoch 31/200\n",
            "27/27 [==============================] - 2s 65ms/step - loss: 0.0900\n",
            "Epoch 32/200\n",
            "27/27 [==============================] - 2s 65ms/step - loss: 0.0885\n",
            "Epoch 33/200\n",
            "27/27 [==============================] - 2s 66ms/step - loss: 0.0902\n",
            "Epoch 34/200\n",
            "27/27 [==============================] - 2s 64ms/step - loss: 0.0902\n",
            "Epoch 35/200\n",
            "27/27 [==============================] - 2s 90ms/step - loss: 0.0885\n",
            "Epoch 36/200\n",
            "27/27 [==============================] - 2s 55ms/step - loss: 0.0874\n",
            "Epoch 37/200\n",
            "27/27 [==============================] - 1s 52ms/step - loss: 0.0876\n",
            "Epoch 38/200\n",
            "27/27 [==============================] - 1s 52ms/step - loss: 0.0900\n",
            "Epoch 39/200\n",
            "27/27 [==============================] - 1s 53ms/step - loss: 0.0876\n",
            "Epoch 40/200\n",
            "27/27 [==============================] - 1s 52ms/step - loss: 0.0883\n",
            "Epoch 41/200\n",
            "27/27 [==============================] - 1s 53ms/step - loss: 0.0831\n",
            "Epoch 42/200\n",
            "27/27 [==============================] - 1s 52ms/step - loss: 0.0836\n",
            "Epoch 43/200\n",
            "27/27 [==============================] - 1s 53ms/step - loss: 0.0836\n",
            "Epoch 44/200\n",
            "27/27 [==============================] - 1s 54ms/step - loss: 0.0838\n",
            "Epoch 45/200\n",
            "27/27 [==============================] - 1s 54ms/step - loss: 0.0834\n",
            "Epoch 46/200\n",
            "27/27 [==============================] - 1s 52ms/step - loss: 0.0829\n",
            "Epoch 47/200\n",
            "27/27 [==============================] - 1s 53ms/step - loss: 0.0797\n",
            "Epoch 48/200\n",
            "27/27 [==============================] - 2s 67ms/step - loss: 0.0825\n",
            "Epoch 49/200\n",
            "27/27 [==============================] - 2s 68ms/step - loss: 0.0798\n",
            "Epoch 50/200\n",
            "27/27 [==============================] - 2s 57ms/step - loss: 0.0804\n",
            "Epoch 51/200\n",
            "27/27 [==============================] - 1s 52ms/step - loss: 0.0811\n",
            "Epoch 52/200\n",
            "27/27 [==============================] - 1s 52ms/step - loss: 0.0832\n",
            "Epoch 53/200\n",
            "27/27 [==============================] - 1s 52ms/step - loss: 0.0816\n",
            "Epoch 54/200\n",
            "27/27 [==============================] - 1s 53ms/step - loss: 0.0802\n",
            "Epoch 55/200\n",
            "27/27 [==============================] - 1s 54ms/step - loss: 0.0815\n",
            "Epoch 56/200\n",
            "27/27 [==============================] - 1s 54ms/step - loss: 0.0800\n",
            "Epoch 57/200\n",
            "27/27 [==============================] - 1s 51ms/step - loss: 0.0787\n",
            "Epoch 58/200\n",
            "27/27 [==============================] - 1s 54ms/step - loss: 0.0784\n",
            "Epoch 59/200\n",
            "27/27 [==============================] - 2s 56ms/step - loss: 0.0783\n",
            "Epoch 60/200\n",
            "27/27 [==============================] - 2s 56ms/step - loss: 0.0760\n",
            "Epoch 61/200\n",
            "27/27 [==============================] - 2s 61ms/step - loss: 0.0777\n",
            "Epoch 62/200\n",
            "27/27 [==============================] - 2s 81ms/step - loss: 0.0788\n",
            "Epoch 63/200\n",
            "27/27 [==============================] - 2s 65ms/step - loss: 0.0767\n",
            "Epoch 64/200\n",
            "27/27 [==============================] - 2s 65ms/step - loss: 0.0750\n",
            "Epoch 65/200\n",
            "27/27 [==============================] - 2s 66ms/step - loss: 0.0748\n",
            "Epoch 66/200\n",
            "27/27 [==============================] - 2s 65ms/step - loss: 0.0733\n",
            "Epoch 67/200\n",
            "27/27 [==============================] - 2s 68ms/step - loss: 0.0721\n",
            "Epoch 68/200\n",
            "27/27 [==============================] - 2s 65ms/step - loss: 0.0743\n",
            "Epoch 69/200\n",
            "27/27 [==============================] - 2s 66ms/step - loss: 0.0783\n",
            "Epoch 70/200\n",
            "27/27 [==============================] - 2s 90ms/step - loss: 0.0772\n",
            "Epoch 71/200\n",
            "27/27 [==============================] - 1s 52ms/step - loss: 0.0796\n",
            "Epoch 72/200\n",
            "27/27 [==============================] - 1s 52ms/step - loss: 0.0769\n",
            "Epoch 73/200\n",
            "27/27 [==============================] - 1s 53ms/step - loss: 0.0751\n",
            "Epoch 74/200\n",
            "27/27 [==============================] - 1s 52ms/step - loss: 0.0734\n",
            "Epoch 75/200\n",
            "27/27 [==============================] - 1s 52ms/step - loss: 0.0728\n",
            "Epoch 76/200\n",
            "27/27 [==============================] - 1s 53ms/step - loss: 0.0728\n",
            "Epoch 77/200\n",
            "27/27 [==============================] - 1s 52ms/step - loss: 0.0733\n",
            "Epoch 78/200\n",
            "27/27 [==============================] - 1s 52ms/step - loss: 0.0759\n",
            "Epoch 79/200\n",
            "27/27 [==============================] - 1s 54ms/step - loss: 0.0752\n",
            "Epoch 80/200\n",
            "27/27 [==============================] - 1s 51ms/step - loss: 0.0763\n",
            "Epoch 81/200\n",
            "27/27 [==============================] - 1s 52ms/step - loss: 0.0745\n",
            "Epoch 82/200\n",
            "27/27 [==============================] - 2s 56ms/step - loss: 0.0738\n",
            "Epoch 83/200\n",
            "27/27 [==============================] - 2s 76ms/step - loss: 0.0753\n",
            "Epoch 84/200\n",
            "27/27 [==============================] - 2s 58ms/step - loss: 0.0721\n",
            "Epoch 85/200\n",
            "27/27 [==============================] - 2s 75ms/step - loss: 0.0697\n",
            "Epoch 86/200\n",
            "27/27 [==============================] - 1s 55ms/step - loss: 0.0698\n",
            "Epoch 87/200\n",
            "27/27 [==============================] - 2s 59ms/step - loss: 0.0697\n",
            "Epoch 88/200\n",
            "27/27 [==============================] - 1s 55ms/step - loss: 0.0725\n",
            "Epoch 89/200\n",
            "27/27 [==============================] - 1s 53ms/step - loss: 0.0708\n",
            "Epoch 90/200\n",
            "27/27 [==============================] - 2s 57ms/step - loss: 0.0680\n",
            "Epoch 91/200\n",
            "27/27 [==============================] - 1s 52ms/step - loss: 0.0684\n",
            "Epoch 92/200\n",
            "27/27 [==============================] - 1s 53ms/step - loss: 0.0686\n",
            "Epoch 93/200\n",
            "27/27 [==============================] - 1s 53ms/step - loss: 0.0684\n",
            "Epoch 94/200\n",
            "27/27 [==============================] - 1s 53ms/step - loss: 0.0701\n",
            "Epoch 95/200\n",
            "27/27 [==============================] - 1s 56ms/step - loss: 0.0672\n",
            "Epoch 96/200\n",
            "27/27 [==============================] - 2s 81ms/step - loss: 0.0682\n",
            "Epoch 97/200\n",
            "27/27 [==============================] - 2s 67ms/step - loss: 0.0655\n",
            "Epoch 98/200\n",
            "27/27 [==============================] - 2s 67ms/step - loss: 0.0678\n",
            "Epoch 99/200\n",
            "27/27 [==============================] - 2s 65ms/step - loss: 0.0644\n",
            "Epoch 100/200\n",
            "27/27 [==============================] - 2s 66ms/step - loss: 0.0685\n",
            "Epoch 101/200\n",
            "27/27 [==============================] - 2s 67ms/step - loss: 0.0716\n",
            "Epoch 102/200\n",
            "27/27 [==============================] - 2s 66ms/step - loss: 0.0655\n",
            "Epoch 103/200\n",
            "27/27 [==============================] - 2s 74ms/step - loss: 0.0639\n",
            "Epoch 104/200\n",
            "27/27 [==============================] - 2s 81ms/step - loss: 0.0627\n",
            "Epoch 105/200\n",
            "27/27 [==============================] - 1s 54ms/step - loss: 0.0608\n",
            "Epoch 106/200\n",
            "27/27 [==============================] - 1s 53ms/step - loss: 0.0663\n",
            "Epoch 107/200\n",
            "27/27 [==============================] - 2s 59ms/step - loss: 0.0665\n",
            "Epoch 108/200\n",
            "27/27 [==============================] - 1s 53ms/step - loss: 0.0634\n",
            "Epoch 109/200\n",
            "27/27 [==============================] - 1s 54ms/step - loss: 0.0645\n",
            "Epoch 110/200\n",
            "27/27 [==============================] - 1s 54ms/step - loss: 0.0607\n",
            "Epoch 111/200\n",
            "27/27 [==============================] - 1s 54ms/step - loss: 0.0616\n",
            "Epoch 112/200\n",
            "27/27 [==============================] - 1s 54ms/step - loss: 0.0598\n",
            "Epoch 113/200\n",
            "27/27 [==============================] - 1s 53ms/step - loss: 0.0641\n",
            "Epoch 114/200\n",
            "27/27 [==============================] - 1s 55ms/step - loss: 0.0600\n",
            "Epoch 115/200\n",
            "27/27 [==============================] - 1s 54ms/step - loss: 0.0596\n",
            "Epoch 116/200\n",
            "27/27 [==============================] - 2s 62ms/step - loss: 0.0589\n",
            "Epoch 117/200\n",
            "27/27 [==============================] - 2s 75ms/step - loss: 0.0618\n",
            "Epoch 118/200\n",
            "27/27 [==============================] - 1s 55ms/step - loss: 0.0632\n",
            "Epoch 119/200\n",
            "27/27 [==============================] - 2s 66ms/step - loss: 0.0579\n",
            "Epoch 120/200\n",
            "27/27 [==============================] - 1s 54ms/step - loss: 0.0571\n",
            "Epoch 121/200\n",
            "27/27 [==============================] - 1s 55ms/step - loss: 0.0560\n",
            "Epoch 122/200\n",
            "27/27 [==============================] - 2s 57ms/step - loss: 0.0610\n",
            "Epoch 123/200\n",
            "27/27 [==============================] - 2s 68ms/step - loss: 0.0616\n",
            "Epoch 124/200\n",
            "27/27 [==============================] - 2s 56ms/step - loss: 0.0635\n",
            "Epoch 125/200\n",
            "27/27 [==============================] - 2s 59ms/step - loss: 0.0613\n",
            "Epoch 126/200\n",
            "27/27 [==============================] - 1s 55ms/step - loss: 0.0616\n",
            "Epoch 127/200\n",
            "27/27 [==============================] - 2s 56ms/step - loss: 0.0605\n",
            "Epoch 128/200\n",
            "27/27 [==============================] - 2s 56ms/step - loss: 0.0564\n",
            "Epoch 129/200\n",
            "27/27 [==============================] - 2s 79ms/step - loss: 0.0555\n",
            "Epoch 130/200\n",
            "27/27 [==============================] - 2s 69ms/step - loss: 0.0564\n",
            "Epoch 131/200\n",
            "27/27 [==============================] - 2s 65ms/step - loss: 0.0552\n",
            "Epoch 132/200\n",
            "27/27 [==============================] - 2s 67ms/step - loss: 0.0565\n",
            "Epoch 133/200\n",
            "27/27 [==============================] - 2s 66ms/step - loss: 0.0524\n",
            "Epoch 134/200\n",
            "27/27 [==============================] - 2s 67ms/step - loss: 0.0527\n",
            "Epoch 135/200\n",
            "27/27 [==============================] - 2s 66ms/step - loss: 0.0546\n",
            "Epoch 136/200\n",
            "27/27 [==============================] - 2s 70ms/step - loss: 0.0538\n",
            "Epoch 137/200\n",
            "27/27 [==============================] - 2s 85ms/step - loss: 0.0538\n",
            "Epoch 138/200\n",
            "27/27 [==============================] - 2s 65ms/step - loss: 0.0621\n",
            "Epoch 139/200\n",
            "27/27 [==============================] - 2s 59ms/step - loss: 0.0579\n",
            "Epoch 140/200\n",
            "27/27 [==============================] - 1s 55ms/step - loss: 0.0591\n",
            "Epoch 141/200\n",
            "27/27 [==============================] - 1s 55ms/step - loss: 0.0587\n",
            "Epoch 142/200\n",
            "27/27 [==============================] - 1s 54ms/step - loss: 0.0577\n",
            "Epoch 143/200\n",
            "27/27 [==============================] - 1s 53ms/step - loss: 0.0507\n",
            "Epoch 144/200\n",
            "27/27 [==============================] - 2s 55ms/step - loss: 0.0500\n",
            "Epoch 145/200\n",
            "27/27 [==============================] - 1s 54ms/step - loss: 0.0531\n",
            "Epoch 146/200\n",
            "27/27 [==============================] - 2s 57ms/step - loss: 0.0545\n",
            "Epoch 147/200\n",
            "27/27 [==============================] - 2s 57ms/step - loss: 0.0587\n",
            "Epoch 148/200\n",
            "27/27 [==============================] - 1s 53ms/step - loss: 0.0561\n",
            "Epoch 149/200\n",
            "27/27 [==============================] - 2s 68ms/step - loss: 0.0524\n",
            "Epoch 150/200\n",
            "27/27 [==============================] - 2s 73ms/step - loss: 0.0548\n",
            "Epoch 151/200\n",
            "27/27 [==============================] - 1s 55ms/step - loss: 0.0552\n",
            "Epoch 152/200\n",
            "27/27 [==============================] - 2s 56ms/step - loss: 0.0536\n",
            "Epoch 153/200\n",
            "27/27 [==============================] - 2s 60ms/step - loss: 0.0511\n",
            "Epoch 154/200\n",
            "27/27 [==============================] - 1s 53ms/step - loss: 0.0500\n",
            "Epoch 155/200\n",
            "27/27 [==============================] - 1s 56ms/step - loss: 0.0526\n",
            "Epoch 156/200\n",
            "27/27 [==============================] - 1s 55ms/step - loss: 0.0485\n",
            "Epoch 157/200\n",
            "27/27 [==============================] - 1s 54ms/step - loss: 0.0469\n",
            "Epoch 158/200\n",
            "27/27 [==============================] - 1s 53ms/step - loss: 0.0485\n",
            "Epoch 159/200\n",
            "27/27 [==============================] - 2s 57ms/step - loss: 0.0465\n",
            "Epoch 160/200\n",
            "27/27 [==============================] - 2s 62ms/step - loss: 0.0473\n",
            "Epoch 161/200\n",
            "27/27 [==============================] - 2s 63ms/step - loss: 0.0475\n",
            "Epoch 162/200\n",
            "27/27 [==============================] - 2s 76ms/step - loss: 0.0472\n",
            "Epoch 163/200\n",
            "27/27 [==============================] - 2s 69ms/step - loss: 0.0493\n",
            "Epoch 164/200\n",
            "27/27 [==============================] - 2s 62ms/step - loss: 0.0482\n",
            "Epoch 165/200\n",
            "27/27 [==============================] - 2s 63ms/step - loss: 0.0491\n",
            "Epoch 166/200\n",
            "27/27 [==============================] - 2s 69ms/step - loss: 0.0495\n",
            "Epoch 167/200\n",
            "27/27 [==============================] - 2s 70ms/step - loss: 0.0485\n",
            "Epoch 168/200\n",
            "27/27 [==============================] - 2s 65ms/step - loss: 0.0483\n",
            "Epoch 169/200\n",
            "27/27 [==============================] - 2s 64ms/step - loss: 0.0494\n",
            "Epoch 170/200\n",
            "27/27 [==============================] - 2s 69ms/step - loss: 0.0503\n",
            "Epoch 171/200\n",
            "27/27 [==============================] - 2s 77ms/step - loss: 0.0536\n",
            "Epoch 172/200\n",
            "27/27 [==============================] - 2s 89ms/step - loss: 0.0480\n",
            "Epoch 173/200\n",
            "27/27 [==============================] - 1s 54ms/step - loss: 0.0449\n",
            "Epoch 174/200\n",
            "27/27 [==============================] - 1s 52ms/step - loss: 0.0429\n",
            "Epoch 175/200\n",
            "27/27 [==============================] - 2s 56ms/step - loss: 0.0455\n",
            "Epoch 176/200\n",
            "27/27 [==============================] - 1s 53ms/step - loss: 0.0453\n",
            "Epoch 177/200\n",
            "27/27 [==============================] - 2s 58ms/step - loss: 0.0477\n",
            "Epoch 178/200\n",
            "27/27 [==============================] - 1s 52ms/step - loss: 0.0478\n",
            "Epoch 179/200\n",
            "27/27 [==============================] - 1s 52ms/step - loss: 0.0473\n",
            "Epoch 180/200\n",
            "27/27 [==============================] - 1s 55ms/step - loss: 0.0464\n",
            "Epoch 181/200\n",
            "27/27 [==============================] - 1s 54ms/step - loss: 0.0444\n",
            "Epoch 182/200\n",
            "27/27 [==============================] - 1s 52ms/step - loss: 0.0446\n",
            "Epoch 183/200\n",
            "27/27 [==============================] - 1s 53ms/step - loss: 0.0452\n",
            "Epoch 184/200\n",
            "27/27 [==============================] - 2s 58ms/step - loss: 0.0456\n",
            "Epoch 185/200\n",
            "27/27 [==============================] - 2s 74ms/step - loss: 0.0461\n",
            "Epoch 186/200\n",
            "27/27 [==============================] - 2s 90ms/step - loss: 0.0461\n",
            "Epoch 187/200\n",
            "27/27 [==============================] - 2s 57ms/step - loss: 0.0443\n",
            "Epoch 188/200\n",
            "27/27 [==============================] - 2s 59ms/step - loss: 0.0451\n",
            "Epoch 189/200\n",
            "27/27 [==============================] - 2s 81ms/step - loss: 0.0475\n",
            "Epoch 190/200\n",
            "27/27 [==============================] - 2s 79ms/step - loss: 0.0457\n",
            "Epoch 191/200\n",
            "27/27 [==============================] - 2s 82ms/step - loss: 0.0428\n",
            "Epoch 192/200\n",
            "27/27 [==============================] - 2s 82ms/step - loss: 0.0406\n",
            "Epoch 193/200\n",
            "27/27 [==============================] - 2s 83ms/step - loss: 0.0402\n",
            "Epoch 194/200\n",
            "27/27 [==============================] - 19s 731ms/step - loss: 0.0399\n",
            "Epoch 195/200\n",
            "27/27 [==============================] - 2s 65ms/step - loss: 0.0399\n",
            "Epoch 196/200\n",
            "27/27 [==============================] - 2s 64ms/step - loss: 0.0390\n",
            "Epoch 197/200\n",
            "27/27 [==============================] - 2s 75ms/step - loss: 0.0405\n",
            "Epoch 198/200\n",
            "27/27 [==============================] - 2s 65ms/step - loss: 0.0463\n",
            "Epoch 199/200\n",
            "27/27 [==============================] - 2s 63ms/step - loss: 0.0460\n",
            "Epoch 200/200\n",
            "27/27 [==============================] - 2s 66ms/step - loss: 0.0471\n"
          ]
        },
        {
          "data": {
            "text/plain": [
              "<keras.callbacks.History at 0x7f0272ee2790>"
            ]
          },
          "execution_count": 33,
          "metadata": {},
          "output_type": "execute_result"
        }
      ],
      "source": [
        "model_lstm.fit(X_train_shape, y_train, epochs=200, batch_size=265, verbose=1, shuffle=False)"
      ]
    },
    {
      "cell_type": "code",
      "execution_count": 34,
      "metadata": {
        "colab": {
          "base_uri": "https://localhost:8080/",
          "height": 255
        },
        "id": "AxklYOCiK2e0",
        "outputId": "94231fa0-0c75-4780-d95b-9dc258d42a69"
      },
      "outputs": [
        {
          "name": "stdout",
          "output_type": "stream",
          "text": [
            "(1785, 8)\n"
          ]
        },
        {
          "data": {
            "text/html": [
              "<div>\n",
              "<style scoped>\n",
              "    .dataframe tbody tr th:only-of-type {\n",
              "        vertical-align: middle;\n",
              "    }\n",
              "\n",
              "    .dataframe tbody tr th {\n",
              "        vertical-align: top;\n",
              "    }\n",
              "\n",
              "    .dataframe thead th {\n",
              "        text-align: right;\n",
              "    }\n",
              "</style>\n",
              "<table border=\"1\" class=\"dataframe\">\n",
              "  <thead>\n",
              "    <tr style=\"text-align: right;\">\n",
              "      <th></th>\n",
              "      <th>hydro_water_reservoir</th>\n",
              "      <th>nuclear</th>\n",
              "      <th>other</th>\n",
              "      <th>solar</th>\n",
              "      <th>wind_onshore</th>\n",
              "      <th>day_ahead_price</th>\n",
              "      <th>total_load</th>\n",
              "      <th>temperature</th>\n",
              "    </tr>\n",
              "    <tr>\n",
              "      <th>datetime</th>\n",
              "      <th></th>\n",
              "      <th></th>\n",
              "      <th></th>\n",
              "      <th></th>\n",
              "      <th></th>\n",
              "      <th></th>\n",
              "      <th></th>\n",
              "      <th></th>\n",
              "    </tr>\n",
              "  </thead>\n",
              "  <tbody>\n",
              "    <tr>\n",
              "      <th>1666263600000</th>\n",
              "      <td>783.0</td>\n",
              "      <td>5673.0</td>\n",
              "      <td>836.0</td>\n",
              "      <td>145.0</td>\n",
              "      <td>178.0</td>\n",
              "      <td>129.88</td>\n",
              "      <td>9713.0</td>\n",
              "      <td>11.4</td>\n",
              "    </tr>\n",
              "    <tr>\n",
              "      <th>1666267200000</th>\n",
              "      <td>778.0</td>\n",
              "      <td>5674.0</td>\n",
              "      <td>839.0</td>\n",
              "      <td>116.0</td>\n",
              "      <td>184.0</td>\n",
              "      <td>130.08</td>\n",
              "      <td>9761.0</td>\n",
              "      <td>11.0</td>\n",
              "    </tr>\n",
              "    <tr>\n",
              "      <th>1666270800000</th>\n",
              "      <td>775.0</td>\n",
              "      <td>5674.0</td>\n",
              "      <td>785.0</td>\n",
              "      <td>68.0</td>\n",
              "      <td>173.0</td>\n",
              "      <td>134.32</td>\n",
              "      <td>9764.0</td>\n",
              "      <td>9.9</td>\n",
              "    </tr>\n",
              "    <tr>\n",
              "      <th>1666274400000</th>\n",
              "      <td>777.0</td>\n",
              "      <td>5675.0</td>\n",
              "      <td>757.0</td>\n",
              "      <td>22.0</td>\n",
              "      <td>173.0</td>\n",
              "      <td>144.51</td>\n",
              "      <td>9812.0</td>\n",
              "      <td>8.3</td>\n",
              "    </tr>\n",
              "    <tr>\n",
              "      <th>1666278000000</th>\n",
              "      <td>812.0</td>\n",
              "      <td>5675.0</td>\n",
              "      <td>763.0</td>\n",
              "      <td>2.0</td>\n",
              "      <td>225.0</td>\n",
              "      <td>164.09</td>\n",
              "      <td>10246.0</td>\n",
              "      <td>7.3</td>\n",
              "    </tr>\n",
              "  </tbody>\n",
              "</table>\n",
              "</div>"
            ],
            "text/plain": [
              "               hydro_water_reservoir  nuclear  other  solar  wind_onshore  \\\n",
              "datetime                                                                    \n",
              "1666263600000                  783.0   5673.0  836.0  145.0         178.0   \n",
              "1666267200000                  778.0   5674.0  839.0  116.0         184.0   \n",
              "1666270800000                  775.0   5674.0  785.0   68.0         173.0   \n",
              "1666274400000                  777.0   5675.0  757.0   22.0         173.0   \n",
              "1666278000000                  812.0   5675.0  763.0    2.0         225.0   \n",
              "\n",
              "               day_ahead_price  total_load  temperature  \n",
              "datetime                                                 \n",
              "1666263600000           129.88      9713.0         11.4  \n",
              "1666267200000           130.08      9761.0         11.0  \n",
              "1666270800000           134.32      9764.0          9.9  \n",
              "1666274400000           144.51      9812.0          8.3  \n",
              "1666278000000           164.09     10246.0          7.3  "
            ]
          },
          "execution_count": 34,
          "metadata": {},
          "output_type": "execute_result"
        }
      ],
      "source": [
        "last_24=train.iloc[-step_back:]\n",
        "full_df= pd.concat((last_24,test),axis=0)\n",
        "print(full_df.shape)\n",
        "full_df.head()"
      ]
    },
    {
      "cell_type": "code",
      "execution_count": 35,
      "metadata": {
        "colab": {
          "base_uri": "https://localhost:8080/"
        },
        "id": "BBuuXJzER_PG",
        "outputId": "e329701d-5db8-469f-d190-a2feb0de5485"
      },
      "outputs": [
        {
          "data": {
            "text/plain": [
              "(1785, 8)"
            ]
          },
          "execution_count": 35,
          "metadata": {},
          "output_type": "execute_result"
        }
      ],
      "source": [
        "full_df=sc_x.transform(full_df)\n",
        "full_df.shape"
      ]
    },
    {
      "cell_type": "code",
      "execution_count": 36,
      "metadata": {
        "colab": {
          "base_uri": "https://localhost:8080/"
        },
        "id": "Qn4iTJ9_Lv2X",
        "outputId": "4e710477-3255-4ffc-94aa-7859e4730d6f"
      },
      "outputs": [
        {
          "name": "stdout",
          "output_type": "stream",
          "text": [
            "(1761, 24, 8)\n"
          ]
        }
      ],
      "source": [
        "step_back=step_back\n",
        "no_records=len(full_df)\n",
        "no_cols=no_cols\n",
        "X_train_shape_pred=[]\n",
        "for i in range(step_back,no_records):\n",
        "    X_train_shape_pred.append(full_df[i-step_back:i])\n",
        "X_train_shape_pred=np.array(X_train_shape_pred)\n",
        "print(X_train_shape_pred.shape)"
      ]
    },
    {
      "cell_type": "code",
      "execution_count": 37,
      "metadata": {
        "colab": {
          "base_uri": "https://localhost:8080/"
        },
        "id": "Qx4TMjDVMEHU",
        "outputId": "e1164692-ef3f-4890-a674-003fd6f21a17"
      },
      "outputs": [
        {
          "name": "stdout",
          "output_type": "stream",
          "text": [
            "56/56 [==============================] - 1s 6ms/step\n"
          ]
        }
      ],
      "source": [
        "y_test=model_lstm.predict(X_train_shape_pred)"
      ]
    },
    {
      "cell_type": "code",
      "execution_count": 38,
      "metadata": {
        "colab": {
          "base_uri": "https://localhost:8080/"
        },
        "id": "lJiwKC9_MJTZ",
        "outputId": "2815510d-5034-4bea-f165-7a3fb9156b4e"
      },
      "outputs": [
        {
          "data": {
            "text/plain": [
              "array([[162.08998],\n",
              "       [154.54097],\n",
              "       [143.18192],\n",
              "       ...,\n",
              "       [141.04477],\n",
              "       [132.77777],\n",
              "       [136.46417]], dtype=float32)"
            ]
          },
          "execution_count": 38,
          "metadata": {},
          "output_type": "execute_result"
        }
      ],
      "source": [
        "y_final_pred=sc_y.inverse_transform(y_test)\n",
        "y_final_pred"
      ]
    },
    {
      "cell_type": "code",
      "execution_count": 39,
      "metadata": {
        "colab": {
          "base_uri": "https://localhost:8080/",
          "height": 424
        },
        "id": "Ax12yUoXOCGy",
        "outputId": "65208f27-51f6-436a-bda9-d06b9c7afd39"
      },
      "outputs": [
        {
          "data": {
            "text/html": [
              "<div>\n",
              "<style scoped>\n",
              "    .dataframe tbody tr th:only-of-type {\n",
              "        vertical-align: middle;\n",
              "    }\n",
              "\n",
              "    .dataframe tbody tr th {\n",
              "        vertical-align: top;\n",
              "    }\n",
              "\n",
              "    .dataframe thead th {\n",
              "        text-align: right;\n",
              "    }\n",
              "</style>\n",
              "<table border=\"1\" class=\"dataframe\">\n",
              "  <thead>\n",
              "    <tr style=\"text-align: right;\">\n",
              "      <th></th>\n",
              "      <th>final_pred</th>\n",
              "    </tr>\n",
              "  </thead>\n",
              "  <tbody>\n",
              "    <tr>\n",
              "      <th>0</th>\n",
              "      <td>162.089981</td>\n",
              "    </tr>\n",
              "    <tr>\n",
              "      <th>1</th>\n",
              "      <td>154.540970</td>\n",
              "    </tr>\n",
              "    <tr>\n",
              "      <th>2</th>\n",
              "      <td>143.181915</td>\n",
              "    </tr>\n",
              "    <tr>\n",
              "      <th>3</th>\n",
              "      <td>136.312637</td>\n",
              "    </tr>\n",
              "    <tr>\n",
              "      <th>4</th>\n",
              "      <td>144.198044</td>\n",
              "    </tr>\n",
              "  </tbody>\n",
              "</table>\n",
              "</div>"
            ],
            "text/plain": [
              "   final_pred\n",
              "0  162.089981\n",
              "1  154.540970\n",
              "2  143.181915\n",
              "3  136.312637\n",
              "4  144.198044"
            ]
          },
          "execution_count": 39,
          "metadata": {},
          "output_type": "execute_result"
        }
      ],
      "source": [
        "final_pred=pd.DataFrame(y_final_pred)\n",
        "final_pred.columns=['final_pred']\n",
        "final_pred.head()"
      ]
    },
    {
      "cell_type": "code",
      "execution_count": 40,
      "metadata": {
        "id": "a7Iu7TQ4OMaA"
      },
      "outputs": [],
      "source": [
        "test.reset_index(inplace=True)"
      ]
    },
    {
      "cell_type": "code",
      "execution_count": 41,
      "metadata": {
        "colab": {
          "base_uri": "https://localhost:8080/",
          "height": 424
        },
        "id": "Oo1JNv9dOO6X",
        "outputId": "e55a0a9a-95f6-4d18-97e2-be4495781174"
      },
      "outputs": [
        {
          "data": {
            "text/html": [
              "<div>\n",
              "<style scoped>\n",
              "    .dataframe tbody tr th:only-of-type {\n",
              "        vertical-align: middle;\n",
              "    }\n",
              "\n",
              "    .dataframe tbody tr th {\n",
              "        vertical-align: top;\n",
              "    }\n",
              "\n",
              "    .dataframe thead th {\n",
              "        text-align: right;\n",
              "    }\n",
              "</style>\n",
              "<table border=\"1\" class=\"dataframe\">\n",
              "  <thead>\n",
              "    <tr style=\"text-align: right;\">\n",
              "      <th></th>\n",
              "      <th>final_pred</th>\n",
              "      <th>datetime</th>\n",
              "      <th>hydro_water_reservoir</th>\n",
              "      <th>nuclear</th>\n",
              "      <th>other</th>\n",
              "      <th>solar</th>\n",
              "      <th>wind_onshore</th>\n",
              "      <th>day_ahead_price</th>\n",
              "      <th>total_load</th>\n",
              "      <th>temperature</th>\n",
              "    </tr>\n",
              "  </thead>\n",
              "  <tbody>\n",
              "    <tr>\n",
              "      <th>0</th>\n",
              "      <td>162.089981</td>\n",
              "      <td>1666350000000</td>\n",
              "      <td>798.0</td>\n",
              "      <td>5670.0</td>\n",
              "      <td>804.0</td>\n",
              "      <td>57.0</td>\n",
              "      <td>461.0</td>\n",
              "      <td>159.64</td>\n",
              "      <td>9957.0</td>\n",
              "      <td>10.2</td>\n",
              "    </tr>\n",
              "    <tr>\n",
              "      <th>1</th>\n",
              "      <td>154.540970</td>\n",
              "      <td>1666353600000</td>\n",
              "      <td>732.0</td>\n",
              "      <td>5670.0</td>\n",
              "      <td>819.0</td>\n",
              "      <td>43.0</td>\n",
              "      <td>440.0</td>\n",
              "      <td>156.83</td>\n",
              "      <td>9827.0</td>\n",
              "      <td>9.9</td>\n",
              "    </tr>\n",
              "    <tr>\n",
              "      <th>2</th>\n",
              "      <td>143.181915</td>\n",
              "      <td>1666357200000</td>\n",
              "      <td>741.0</td>\n",
              "      <td>5669.0</td>\n",
              "      <td>821.0</td>\n",
              "      <td>24.0</td>\n",
              "      <td>419.0</td>\n",
              "      <td>153.78</td>\n",
              "      <td>9806.0</td>\n",
              "      <td>9.4</td>\n",
              "    </tr>\n",
              "    <tr>\n",
              "      <th>3</th>\n",
              "      <td>136.312637</td>\n",
              "      <td>1666360800000</td>\n",
              "      <td>772.0</td>\n",
              "      <td>5665.0</td>\n",
              "      <td>820.0</td>\n",
              "      <td>8.0</td>\n",
              "      <td>413.0</td>\n",
              "      <td>158.25</td>\n",
              "      <td>9823.0</td>\n",
              "      <td>9.2</td>\n",
              "    </tr>\n",
              "    <tr>\n",
              "      <th>4</th>\n",
              "      <td>144.198044</td>\n",
              "      <td>1666364400000</td>\n",
              "      <td>787.0</td>\n",
              "      <td>5664.0</td>\n",
              "      <td>813.0</td>\n",
              "      <td>1.0</td>\n",
              "      <td>435.0</td>\n",
              "      <td>167.20</td>\n",
              "      <td>10212.0</td>\n",
              "      <td>9.1</td>\n",
              "    </tr>\n",
              "    <tr>\n",
              "      <th>...</th>\n",
              "      <td>...</td>\n",
              "      <td>...</td>\n",
              "      <td>...</td>\n",
              "      <td>...</td>\n",
              "      <td>...</td>\n",
              "      <td>...</td>\n",
              "      <td>...</td>\n",
              "      <td>...</td>\n",
              "      <td>...</td>\n",
              "      <td>...</td>\n",
              "    </tr>\n",
              "    <tr>\n",
              "      <th>1756</th>\n",
              "      <td>159.119476</td>\n",
              "      <td>1672682400000</td>\n",
              "      <td>1098.0</td>\n",
              "      <td>5798.0</td>\n",
              "      <td>954.0</td>\n",
              "      <td>0.0</td>\n",
              "      <td>504.0</td>\n",
              "      <td>164.46</td>\n",
              "      <td>11650.0</td>\n",
              "      <td>4.2</td>\n",
              "    </tr>\n",
              "    <tr>\n",
              "      <th>1757</th>\n",
              "      <td>146.998688</td>\n",
              "      <td>1672686000000</td>\n",
              "      <td>1072.0</td>\n",
              "      <td>5797.0</td>\n",
              "      <td>941.0</td>\n",
              "      <td>0.0</td>\n",
              "      <td>605.0</td>\n",
              "      <td>153.00</td>\n",
              "      <td>11346.0</td>\n",
              "      <td>4.1</td>\n",
              "    </tr>\n",
              "    <tr>\n",
              "      <th>1758</th>\n",
              "      <td>141.044769</td>\n",
              "      <td>1672689600000</td>\n",
              "      <td>828.0</td>\n",
              "      <td>5799.0</td>\n",
              "      <td>940.0</td>\n",
              "      <td>0.0</td>\n",
              "      <td>682.0</td>\n",
              "      <td>141.67</td>\n",
              "      <td>10959.0</td>\n",
              "      <td>5.0</td>\n",
              "    </tr>\n",
              "    <tr>\n",
              "      <th>1759</th>\n",
              "      <td>132.777771</td>\n",
              "      <td>1672693200000</td>\n",
              "      <td>747.0</td>\n",
              "      <td>5800.0</td>\n",
              "      <td>913.0</td>\n",
              "      <td>0.0</td>\n",
              "      <td>740.0</td>\n",
              "      <td>131.67</td>\n",
              "      <td>10536.0</td>\n",
              "      <td>4.9</td>\n",
              "    </tr>\n",
              "    <tr>\n",
              "      <th>1760</th>\n",
              "      <td>136.464172</td>\n",
              "      <td>1672696800000</td>\n",
              "      <td>713.0</td>\n",
              "      <td>5799.0</td>\n",
              "      <td>884.0</td>\n",
              "      <td>0.0</td>\n",
              "      <td>783.0</td>\n",
              "      <td>118.06</td>\n",
              "      <td>10266.0</td>\n",
              "      <td>4.8</td>\n",
              "    </tr>\n",
              "  </tbody>\n",
              "</table>\n",
              "<p>1761 rows × 10 columns</p>\n",
              "</div>"
            ],
            "text/plain": [
              "      final_pred       datetime  hydro_water_reservoir  nuclear  other  solar  \\\n",
              "0     162.089981  1666350000000                  798.0   5670.0  804.0   57.0   \n",
              "1     154.540970  1666353600000                  732.0   5670.0  819.0   43.0   \n",
              "2     143.181915  1666357200000                  741.0   5669.0  821.0   24.0   \n",
              "3     136.312637  1666360800000                  772.0   5665.0  820.0    8.0   \n",
              "4     144.198044  1666364400000                  787.0   5664.0  813.0    1.0   \n",
              "...          ...            ...                    ...      ...    ...    ...   \n",
              "1756  159.119476  1672682400000                 1098.0   5798.0  954.0    0.0   \n",
              "1757  146.998688  1672686000000                 1072.0   5797.0  941.0    0.0   \n",
              "1758  141.044769  1672689600000                  828.0   5799.0  940.0    0.0   \n",
              "1759  132.777771  1672693200000                  747.0   5800.0  913.0    0.0   \n",
              "1760  136.464172  1672696800000                  713.0   5799.0  884.0    0.0   \n",
              "\n",
              "      wind_onshore  day_ahead_price  total_load  temperature  \n",
              "0            461.0           159.64      9957.0         10.2  \n",
              "1            440.0           156.83      9827.0          9.9  \n",
              "2            419.0           153.78      9806.0          9.4  \n",
              "3            413.0           158.25      9823.0          9.2  \n",
              "4            435.0           167.20     10212.0          9.1  \n",
              "...            ...              ...         ...          ...  \n",
              "1756         504.0           164.46     11650.0          4.2  \n",
              "1757         605.0           153.00     11346.0          4.1  \n",
              "1758         682.0           141.67     10959.0          5.0  \n",
              "1759         740.0           131.67     10536.0          4.9  \n",
              "1760         783.0           118.06     10266.0          4.8  \n",
              "\n",
              "[1761 rows x 10 columns]"
            ]
          },
          "execution_count": 41,
          "metadata": {},
          "output_type": "execute_result"
        }
      ],
      "source": [
        "fully_final=pd.concat((final_pred,test),axis=1)\n",
        "fully_final"
      ]
    },
    {
      "cell_type": "code",
      "execution_count": 42,
      "metadata": {
        "colab": {
          "base_uri": "https://localhost:8080/",
          "height": 352
        },
        "id": "axlE-m9mOU7s",
        "outputId": "f47035b4-30b2-4f64-e4df-bb2570e4ab74"
      },
      "outputs": [
        {
          "data": {
            "image/png": "[encoded data removed]",
            "text/plain": [
              "<Figure size 1400x400 with 1 Axes>"
            ]
          },
          "metadata": {},
          "output_type": "display_data"
        }
      ],
      "source": [
        "import matplotlib.pyplot as plt\n",
        "import seaborn as sns\n",
        "aa=[x for x in range(1761)]\n",
        "plt.figure(figsize=(14,4))\n",
        "plt.plot(aa, fully_final['day_ahead_price'], marker='.', label=\"actual\")\n",
        "plt.plot(aa, fully_final['final_pred'], 'r', label=\"prediction\")\n",
        "# plt.tick_params(left=False, labelleft=True) #remove ticks\n",
        "plt.tight_layout()\n",
        "sns.despine(top=True)\n",
        "plt.subplots_adjust(left=0.07)\n",
        "plt.ylabel('Electricity Day Ahead Price [EUR/MWh]', size=15)\n",
        "plt.xlabel('Time step [Hour]', size=30)\n",
        "plt.legend(fontsize=15)\n",
        "plt.show();"
      ]
    },
    {
      "attachments": {},
      "cell_type": "markdown",
      "metadata": {},
      "source": [
        "### Upload model to hopsworks"
      ]
    },
    {
      "cell_type": "code",
      "execution_count": 43,
      "metadata": {},
      "outputs": [
        {
          "name": "stdout",
          "output_type": "stream",
          "text": [
            "Connection closed.\n",
            "Connected. Call `.close()` to terminate connection gracefully.\n",
            "\n",
            "Logged in to project, explore it here https://c.app.hopsworks.ai:443/p/4247\n",
            "Connected. Call `.close()` to terminate connection gracefully.\n",
            "Connected. Call `.close()` to terminate connection gracefully.\n"
          ]
        }
      ],
      "source": [
        "import hopsworks\n",
        "\n",
        "project = hopsworks.login() \n",
        "fs = project.get_feature_store() \n",
        "mr = project.get_model_registry()"
      ]
    },
    {
      "cell_type": "code",
      "execution_count": 45,
      "metadata": {},
      "outputs": [],
      "source": [
        "import os\n",
        "import joblib\n",
        "model_dir = \"model\"\n",
        "if not os.path.isdir(model_dir):\n",
        "    os.mkdir(model_dir)"
      ]
    },
    {
      "cell_type": "code",
      "execution_count": 51,
      "metadata": {},
      "outputs": [
        {
          "data": {
            "text/plain": [
              "7017"
            ]
          },
          "execution_count": 51,
          "metadata": {},
          "output_type": "execute_result"
        }
      ],
      "source": []
    },
    {
      "cell_type": "code",
      "execution_count": 54,
      "metadata": {},
      "outputs": [
        {
          "data": {
            "text/plain": [
              "{'input_schema': {'tensor_schema': {'shape': '(7017, 24, 8)',\n",
              "   'type': 'float64'}},\n",
              " 'output_schema': {'tensor_schema': {'shape': '(7017,)', 'type': 'float64'}}}"
            ]
          },
          "execution_count": 54,
          "metadata": {},
          "output_type": "execute_result"
        }
      ],
      "source": [
        "from hsml.schema import Schema\n",
        "from hsml.model_schema import ModelSchema\n",
        "\n",
        "input_schema = Schema(X_train_shape)\n",
        "output_schema = Schema(y_train)\n",
        "model_schema = ModelSchema(input_schema=input_schema, output_schema=output_schema)\n",
        "\n",
        "model_schema.to_dict()"
      ]
    },
    {
      "cell_type": "code",
      "execution_count": null,
      "metadata": {},
      "outputs": [],
      "source": [
        "joblib.dump(model_lstm, model_dir + \"/electricity_price.pkl\")"
      ]
    },
    {
      "cell_type": "code",
      "execution_count": 60,
      "metadata": {},
      "outputs": [],
      "source": [
        "from sklearn.metrics import mean_squared_error, r2_score "
      ]
    },
    {
      "cell_type": "code",
      "execution_count": 66,
      "metadata": {},
      "outputs": [
        {
          "name": "stdout",
          "output_type": "stream",
          "text": [
            "R2 Score:  0.6533885945764686\n",
            "MAE:  52.37991742359248\n",
            "mean_squared_error testing :  5946.989784519626\n"
          ]
        }
      ],
      "source": [
        "print('R2 Score: ', r2_score(fully_final['day_ahead_price'], y_final_pred)) \n",
        "print('MAE: ', mean_absolute_error(fully_final['day_ahead_price'], y_final_pred)) \n",
        "print('mean_squared_error testing : ', mean_squared_error(fully_final['day_ahead_price'], y_final_pred))\n"
      ]
    },
    {
      "cell_type": "code",
      "execution_count": 65,
      "metadata": {},
      "outputs": [
        {
          "name": "stderr",
          "output_type": "stream",
          "text": [
            "Model export complete: 100%|██████████| 6/6 [00:21<00:00,  3.51s/it]                   "
          ]
        },
        {
          "name": "stdout",
          "output_type": "stream",
          "text": [
            "Model created, explore it at https://c.app.hopsworks.ai:443/p/4247/models/SE3_elec_price_model/1\n"
          ]
        },
        {
          "name": "stderr",
          "output_type": "stream",
          "text": [
            "\n"
          ]
        },
        {
          "data": {
            "text/plain": [
              "Model(name: 'SE3_elec_price_model', version: 1)"
            ]
          },
          "execution_count": 65,
          "metadata": {},
          "output_type": "execute_result"
        }
      ],
      "source": [
        "model = mr.sklearn.create_model(\n",
        "    name=\"SE3_elec_price_model\",\n",
        "    description=\"SE3 electricity price prediction\",\n",
        "    model_schema=model_schema,\n",
        ")\n",
        "\n",
        "model.save('model/electricity_price.pkl')"
      ]
    },
    {
      "cell_type": "code",
      "execution_count": null,
      "metadata": {},
      "outputs": [],
      "source": []
    }
  ],
  "metadata": {
    "colab": {
      "provenance": []
    },
    "kernelspec": {
      "display_name": "base",
      "language": "python",
      "name": "python3"
    },
    "language_info": {
      "codemirror_mode": {
        "name": "ipython",
        "version": 3
      },
      "file_extension": ".py",
      "mimetype": "text/x-python",
      "name": "python",
      "nbconvert_exporter": "python",
      "pygments_lexer": "ipython3",
      "version": "3.9.12"
    },
    "vscode": {
      "interpreter": {
        "hash": "335d80310dcdd71c39c5fc237d90b2722202fb6a12e63ce8cbfcb42f72ee81b1"
      }
    }
  },
  "nbformat": 4,
  "nbformat_minor": 0
}
