{
  "cells": [
    {
      "cell_type": "markdown",
      "metadata": {
        "id": "MtIJ1mhmRmHz"
      },
      "source": [
        "## Load imports"
      ]
    },
    {
      "cell_type": "code",
      "execution_count": 47,
      "metadata": {
        "id": "FtjjfVPIRuBd"
      },
      "outputs": [],
      "source": [
        "import numpy as np # linear algebra\n",
        "import pandas as pd # data processing, CSV file I/O (e.g. pd.read_csv)\n",
        "import hopsworks\n",
        "from datetime import datetime, timedelta, date\n",
        "from entsoe import EntsoePandasClient\n",
        "import time"
      ]
    },
    {
      "attachments": {},
      "cell_type": "markdown",
      "metadata": {
        "id": "mWqrna-YGSIr"
      },
      "source": [
        "#### Helper functions (timestamp)"
      ]
    },
    {
      "cell_type": "code",
      "execution_count": 48,
      "metadata": {
        "execution": {
          "iopub.execute_input": "2023-01-03T16:52:17.529361Z",
          "iopub.status.busy": "2023-01-03T16:52:17.528424Z",
          "iopub.status.idle": "2023-01-03T16:52:17.535668Z",
          "shell.execute_reply": "2023-01-03T16:52:17.534728Z",
          "shell.execute_reply.started": "2023-01-03T16:52:17.529326Z"
        },
        "id": "v1Ol3mTBkM1q",
        "trusted": true
      },
      "outputs": [],
      "source": [
        "# # functions for replacing date and time with timestamp (seconds since 1970-01-01)\n",
        "\n",
        "# def entsoe_timestamp_2_time(x):\n",
        "#     dt_obj = datetime.strptime(str(x), '%Y-%m-%d %H:%M:%S')\n",
        "#     dt_obj = dt_obj.timestamp() * 1000\n",
        "#     return int(dt_obj)\n",
        "\n",
        "# def weather_timestamp_2_time(x, i):\n",
        "#     dt_obj = datetime.strptime(str(x), '%Y-%m-%d %H:%M:%S')\n",
        "#     dt_obj = dt_obj + timedelta(hours=i)\n",
        "#     dt_obj = dt_obj.timestamp() * 1000\n",
        "\n",
        "#     return int(dt_obj)"
      ]
    },
    {
      "cell_type": "markdown",
      "metadata": {
        "id": "vNVhPyH1RzR-"
      },
      "source": [
        "## Fetch & Parse data"
      ]
    },
    {
      "cell_type": "code",
      "execution_count": 77,
      "metadata": {
        "colab": {
          "base_uri": "https://localhost:8080/"
        },
        "id": "KS4b2U35JJzz",
        "outputId": "e48d1411-c7fc-4511-d1b9-439b2fab535e"
      },
      "outputs": [
        {
          "data": {
            "text/plain": [
              "('20230102', '20230103')"
            ]
          },
          "execution_count": 77,
          "metadata": {},
          "output_type": "execute_result"
        }
      ],
      "source": [
        "## Get current date and time for prediction, prediction and actual data is available \n",
        "\n",
        "#used to retrieve earlier dates\n",
        "date_from = \"20230102\"\n",
        "\n",
        "#date_from = datetime.now() - timedelta(days=1)\n",
        "#date_from = date_from.date().strftime('%Y%m%d')\n",
        "date_to = (datetime.strptime(date_from, '%Y%m%d') + timedelta(days=1)).strftime('%Y%m%d')\n",
        "\n",
        "# time\n",
        "# time = datetime.now().time().strftime('%H')\n",
        "date_from, date_to"
      ]
    },
    {
      "cell_type": "markdown",
      "metadata": {
        "id": "H3KMVQDNiU1N"
      },
      "source": [
        "### Entsoe API"
      ]
    },
    {
      "cell_type": "code",
      "execution_count": 78,
      "metadata": {
        "id": "vcQ7bnX1R6iz"
      },
      "outputs": [],
      "source": [
        "# Client\n",
        "client = EntsoePandasClient(api_key=\"cb3a29b2-3276-4a4c-aba3-6507120d99be\")\n",
        "\n",
        "# Date and country\n",
        "start = pd.Timestamp(date_from, tz='Europe/Stockholm')\n",
        "end = pd.Timestamp(date_to, tz='Europe/Stockholm')\n",
        "country_code = 'SE_3'  "
      ]
    },
    {
      "cell_type": "code",
      "execution_count": 79,
      "metadata": {
        "id": "5TuWBy0KU2LS"
      },
      "outputs": [],
      "source": [
        "## Query entsoe\n",
        "\n",
        "# Day price\n",
        "df_day_price = client.query_day_ahead_prices(country_code, start=start,end=end)\n",
        "\n",
        "# Generation per production type\n",
        "df_generation_per_prod = client.query_generation(country_code, start=start,end=end, psr_type=None)\n",
        "\n",
        "# Actual load (consumption)\n",
        "df_load = client.query_load(country_code, start=start,end=end)"
      ]
    },
    {
      "cell_type": "code",
      "execution_count": 80,
      "metadata": {
        "id": "E8m5vlqhiLCm"
      },
      "outputs": [],
      "source": [
        "# Combine entsoe data\n",
        "df_entsoe = df_generation_per_prod.join(df_day_price.rename(\"day_ahead_price\"))\n",
        "df_entsoe = df_entsoe.join(df_load)"
      ]
    },
    {
      "cell_type": "code",
      "execution_count": 81,
      "metadata": {
        "id": "fEAXFNXvRIDl"
      },
      "outputs": [],
      "source": [
        "# convert current index (date) into column, rename and convert into timestamp (as int64)\n",
        "df_entsoe_clean = df_entsoe.reset_index()\n",
        "df_entsoe_clean = df_entsoe_clean.rename(columns = {'index':'DateTime'})\n",
        "df_entsoe_clean['DateTime'] = df_entsoe_clean.DateTime.values.astype('int64') // 10 ** 6  ## divide by 10^6 to convert from ns to ms\n"
      ]
    },
    {
      "cell_type": "code",
      "execution_count": 82,
      "metadata": {
        "colab": {
          "base_uri": "https://localhost:8080/",
          "height": 206
        },
        "id": "kd2simSKPn2K",
        "outputId": "d7c1f7c4-5f22-4cc0-c565-55fed096e0a8"
      },
      "outputs": [
        {
          "data": {
            "text/html": [
              "<div>\n",
              "<style scoped>\n",
              "    .dataframe tbody tr th:only-of-type {\n",
              "        vertical-align: middle;\n",
              "    }\n",
              "\n",
              "    .dataframe tbody tr th {\n",
              "        vertical-align: top;\n",
              "    }\n",
              "\n",
              "    .dataframe thead th {\n",
              "        text-align: right;\n",
              "    }\n",
              "</style>\n",
              "<table border=\"1\" class=\"dataframe\">\n",
              "  <thead>\n",
              "    <tr style=\"text-align: right;\">\n",
              "      <th></th>\n",
              "      <th>DateTime</th>\n",
              "      <th>Fossil Gas</th>\n",
              "      <th>Hydro Water Reservoir</th>\n",
              "      <th>Nuclear</th>\n",
              "      <th>Other</th>\n",
              "      <th>Solar</th>\n",
              "      <th>Wind Onshore</th>\n",
              "      <th>day_ahead_price</th>\n",
              "      <th>Actual Load</th>\n",
              "    </tr>\n",
              "  </thead>\n",
              "  <tbody>\n",
              "    <tr>\n",
              "      <th>0</th>\n",
              "      <td>1672614000000</td>\n",
              "      <td>0.0</td>\n",
              "      <td>597.0</td>\n",
              "      <td>5798.0</td>\n",
              "      <td>557.0</td>\n",
              "      <td>0.0</td>\n",
              "      <td>869.0</td>\n",
              "      <td>57.91</td>\n",
              "      <td>9632.0</td>\n",
              "    </tr>\n",
              "    <tr>\n",
              "      <th>1</th>\n",
              "      <td>1672617600000</td>\n",
              "      <td>0.0</td>\n",
              "      <td>578.0</td>\n",
              "      <td>5797.0</td>\n",
              "      <td>583.0</td>\n",
              "      <td>0.0</td>\n",
              "      <td>930.0</td>\n",
              "      <td>51.67</td>\n",
              "      <td>9491.0</td>\n",
              "    </tr>\n",
              "    <tr>\n",
              "      <th>2</th>\n",
              "      <td>1672621200000</td>\n",
              "      <td>0.0</td>\n",
              "      <td>558.0</td>\n",
              "      <td>5796.0</td>\n",
              "      <td>578.0</td>\n",
              "      <td>0.0</td>\n",
              "      <td>926.0</td>\n",
              "      <td>52.86</td>\n",
              "      <td>9388.0</td>\n",
              "    </tr>\n",
              "    <tr>\n",
              "      <th>3</th>\n",
              "      <td>1672624800000</td>\n",
              "      <td>0.0</td>\n",
              "      <td>553.0</td>\n",
              "      <td>5798.0</td>\n",
              "      <td>579.0</td>\n",
              "      <td>0.0</td>\n",
              "      <td>912.0</td>\n",
              "      <td>44.16</td>\n",
              "      <td>9290.0</td>\n",
              "    </tr>\n",
              "    <tr>\n",
              "      <th>4</th>\n",
              "      <td>1672628400000</td>\n",
              "      <td>0.0</td>\n",
              "      <td>552.0</td>\n",
              "      <td>5796.0</td>\n",
              "      <td>585.0</td>\n",
              "      <td>0.0</td>\n",
              "      <td>871.0</td>\n",
              "      <td>50.08</td>\n",
              "      <td>9256.0</td>\n",
              "    </tr>\n",
              "  </tbody>\n",
              "</table>\n",
              "</div>"
            ],
            "text/plain": [
              "        DateTime  Fossil Gas  Hydro Water Reservoir  Nuclear  Other  Solar  \\\n",
              "0  1672614000000         0.0                  597.0   5798.0  557.0    0.0   \n",
              "1  1672617600000         0.0                  578.0   5797.0  583.0    0.0   \n",
              "2  1672621200000         0.0                  558.0   5796.0  578.0    0.0   \n",
              "3  1672624800000         0.0                  553.0   5798.0  579.0    0.0   \n",
              "4  1672628400000         0.0                  552.0   5796.0  585.0    0.0   \n",
              "\n",
              "   Wind Onshore  day_ahead_price  Actual Load  \n",
              "0         869.0            57.91       9632.0  \n",
              "1         930.0            51.67       9491.0  \n",
              "2         926.0            52.86       9388.0  \n",
              "3         912.0            44.16       9290.0  \n",
              "4         871.0            50.08       9256.0  "
            ]
          },
          "execution_count": 82,
          "metadata": {},
          "output_type": "execute_result"
        }
      ],
      "source": [
        "df_entsoe_clean.head() # gmt + 1"
      ]
    },
    {
      "cell_type": "markdown",
      "metadata": {
        "id": "P0vYDdZJiYxY"
      },
      "source": [
        "### SMHI"
      ]
    },
    {
      "cell_type": "code",
      "execution_count": 83,
      "metadata": {
        "id": "LzlFZSM3o0Xm"
      },
      "outputs": [],
      "source": [
        "import json\n",
        "from urllib.request import urlopen\n",
        "from pandas import json_normalize"
      ]
    },
    {
      "cell_type": "code",
      "execution_count": 84,
      "metadata": {
        "id": "r_nh5VtCiaZo"
      },
      "outputs": [],
      "source": [
        "## fetch data\n",
        "url = \"https://opendata-download-metobs.smhi.se/api/version/latest/parameter/1/station/71420/period/latest-months/data.json\"\n",
        "response = urlopen(url)\n",
        "\n",
        "# convert response to json, to dataframe\n",
        "data_json = json.loads(response.read())\n",
        "df_smhi_data = json_normalize(data_json['value']) \n",
        "\n",
        "# get timestamps the specified day (or latest)\n",
        "timeseries_from = df_entsoe_clean[\"DateTime\"].iloc[0]\n",
        "timeseries_to = df_entsoe_clean[\"DateTime\"].iloc[-1]\n",
        "\n",
        "# #extract only the temperature in the time stamp interval\n",
        "df_smhi_data = df_smhi_data.loc[(df_smhi_data['date'] >= timeseries_from) & (df_smhi_data['date'] <= timeseries_to)]\n",
        "df_smhi_data = df_smhi_data.reset_index().rename(columns = {'date':'DateTime'})\n",
        "\n",
        "#df2.head()\n",
        "# data = json.load(url)\n",
        "# temp = data['value']\n",
        "# temp\n",
        "#df_smhi_data = df_smhi_data.iloc[:25, ::]\n",
        "#int(datetime.strptime(date_from, '%Y%m%d').timestamp() * 1000)\n",
        "#timeseries_to = int((datetime.strptime(date_from, '%Y%m%d') timedelta(hours=i) .timestamp() * 1000)\n"
      ]
    },
    {
      "cell_type": "code",
      "execution_count": 85,
      "metadata": {
        "colab": {
          "base_uri": "https://localhost:8080/"
        },
        "id": "u3S_53YXMbzb",
        "outputId": "e6e1f937-060b-4a16-ce73-48e35749111e"
      },
      "outputs": [
        {
          "name": "stdout",
          "output_type": "stream",
          "text": [
            "<class 'pandas.core.frame.DataFrame'>\n",
            "RangeIndex: 24 entries, 0 to 23\n",
            "Data columns (total 4 columns):\n",
            " #   Column    Non-Null Count  Dtype \n",
            "---  ------    --------------  ----- \n",
            " 0   index     24 non-null     int64 \n",
            " 1   DateTime  24 non-null     int64 \n",
            " 2   value     24 non-null     object\n",
            " 3   quality   24 non-null     object\n",
            "dtypes: int64(2), object(2)\n",
            "memory usage: 896.0+ bytes\n"
          ]
        }
      ],
      "source": [
        "df_smhi_data.info()"
      ]
    },
    {
      "cell_type": "markdown",
      "metadata": {
        "id": "cYMK4hSeP-9O"
      },
      "source": [
        "## Combine & clean final data"
      ]
    },
    {
      "cell_type": "code",
      "execution_count": 86,
      "metadata": {
        "colab": {
          "base_uri": "https://localhost:8080/"
        },
        "id": "U8XHnIaHQBXY",
        "outputId": "6245d14f-21fb-4433-a85e-092826389f2b"
      },
      "outputs": [
        {
          "data": {
            "text/html": [
              "<div>\n",
              "<style scoped>\n",
              "    .dataframe tbody tr th:only-of-type {\n",
              "        vertical-align: middle;\n",
              "    }\n",
              "\n",
              "    .dataframe tbody tr th {\n",
              "        vertical-align: top;\n",
              "    }\n",
              "\n",
              "    .dataframe thead th {\n",
              "        text-align: right;\n",
              "    }\n",
              "</style>\n",
              "<table border=\"1\" class=\"dataframe\">\n",
              "  <thead>\n",
              "    <tr style=\"text-align: right;\">\n",
              "      <th></th>\n",
              "      <th>DateTime</th>\n",
              "      <th>hydro_water_reservoir</th>\n",
              "      <th>Nuclear</th>\n",
              "      <th>Other</th>\n",
              "      <th>Solar</th>\n",
              "      <th>wind_onshore</th>\n",
              "      <th>day_ahead_price</th>\n",
              "      <th>total_load</th>\n",
              "      <th>temperature</th>\n",
              "    </tr>\n",
              "  </thead>\n",
              "  <tbody>\n",
              "    <tr>\n",
              "      <th>0</th>\n",
              "      <td>1672614000000</td>\n",
              "      <td>597.0</td>\n",
              "      <td>5798.0</td>\n",
              "      <td>557.0</td>\n",
              "      <td>0.0</td>\n",
              "      <td>869.0</td>\n",
              "      <td>57.91</td>\n",
              "      <td>9632.0</td>\n",
              "      <td>7.4</td>\n",
              "    </tr>\n",
              "    <tr>\n",
              "      <th>1</th>\n",
              "      <td>1672617600000</td>\n",
              "      <td>578.0</td>\n",
              "      <td>5797.0</td>\n",
              "      <td>583.0</td>\n",
              "      <td>0.0</td>\n",
              "      <td>930.0</td>\n",
              "      <td>51.67</td>\n",
              "      <td>9491.0</td>\n",
              "      <td>7.5</td>\n",
              "    </tr>\n",
              "    <tr>\n",
              "      <th>2</th>\n",
              "      <td>1672621200000</td>\n",
              "      <td>558.0</td>\n",
              "      <td>5796.0</td>\n",
              "      <td>578.0</td>\n",
              "      <td>0.0</td>\n",
              "      <td>926.0</td>\n",
              "      <td>52.86</td>\n",
              "      <td>9388.0</td>\n",
              "      <td>7.4</td>\n",
              "    </tr>\n",
              "    <tr>\n",
              "      <th>3</th>\n",
              "      <td>1672624800000</td>\n",
              "      <td>553.0</td>\n",
              "      <td>5798.0</td>\n",
              "      <td>579.0</td>\n",
              "      <td>0.0</td>\n",
              "      <td>912.0</td>\n",
              "      <td>44.16</td>\n",
              "      <td>9290.0</td>\n",
              "      <td>7.7</td>\n",
              "    </tr>\n",
              "    <tr>\n",
              "      <th>4</th>\n",
              "      <td>1672628400000</td>\n",
              "      <td>552.0</td>\n",
              "      <td>5796.0</td>\n",
              "      <td>585.0</td>\n",
              "      <td>0.0</td>\n",
              "      <td>871.0</td>\n",
              "      <td>50.08</td>\n",
              "      <td>9256.0</td>\n",
              "      <td>7.6</td>\n",
              "    </tr>\n",
              "  </tbody>\n",
              "</table>\n",
              "</div>"
            ],
            "text/plain": [
              "        DateTime  hydro_water_reservoir  Nuclear  Other  Solar  wind_onshore  \\\n",
              "0  1672614000000                  597.0   5798.0  557.0    0.0         869.0   \n",
              "1  1672617600000                  578.0   5797.0  583.0    0.0         930.0   \n",
              "2  1672621200000                  558.0   5796.0  578.0    0.0         926.0   \n",
              "3  1672624800000                  553.0   5798.0  579.0    0.0         912.0   \n",
              "4  1672628400000                  552.0   5796.0  585.0    0.0         871.0   \n",
              "\n",
              "   day_ahead_price  total_load  temperature  \n",
              "0            57.91      9632.0          7.4  \n",
              "1            51.67      9491.0          7.5  \n",
              "2            52.86      9388.0          7.4  \n",
              "3            44.16      9290.0          7.7  \n",
              "4            50.08      9256.0          7.6  "
            ]
          },
          "execution_count": 86,
          "metadata": {},
          "output_type": "execute_result"
        }
      ],
      "source": [
        "df_feature_data = df_entsoe_clean.merge(df_smhi_data, how='inner', on='DateTime')\n",
        "df_feature_data.drop([\"Fossil Gas\", \"index\", \"quality\"], axis=1, inplace=True)\n",
        "df_feature_data[\"value\"] = df_feature_data[\"value\"].astype(float)\n",
        "df_feature_data.rename(columns={\"Hydro Water Reservoir\": \"hydro_water_reservoir\", \n",
        "                                         \"Wind Onshore\": \"wind_onshore\", \n",
        "                                         \"Actual Load\": \"total_load\",\n",
        "                                         \"value\": \"temperature\"}, inplace=True)\n",
        "df_feature_data.head()"
      ]
    },
    {
      "cell_type": "markdown",
      "metadata": {
        "id": "wwHnpxIyfa_j"
      },
      "source": [
        "## Add to feature group"
      ]
    },
    {
      "cell_type": "code",
      "execution_count": 87,
      "metadata": {},
      "outputs": [
        {
          "data": {
            "text/html": [
              "<div>\n",
              "<style scoped>\n",
              "    .dataframe tbody tr th:only-of-type {\n",
              "        vertical-align: middle;\n",
              "    }\n",
              "\n",
              "    .dataframe tbody tr th {\n",
              "        vertical-align: top;\n",
              "    }\n",
              "\n",
              "    .dataframe thead th {\n",
              "        text-align: right;\n",
              "    }\n",
              "</style>\n",
              "<table border=\"1\" class=\"dataframe\">\n",
              "  <thead>\n",
              "    <tr style=\"text-align: right;\">\n",
              "      <th></th>\n",
              "      <th>DateTime</th>\n",
              "      <th>hydro_water_reservoir</th>\n",
              "      <th>Nuclear</th>\n",
              "      <th>Other</th>\n",
              "      <th>Solar</th>\n",
              "      <th>wind_onshore</th>\n",
              "      <th>day_ahead_price</th>\n",
              "      <th>total_load</th>\n",
              "      <th>temperature</th>\n",
              "    </tr>\n",
              "  </thead>\n",
              "  <tbody>\n",
              "    <tr>\n",
              "      <th>0</th>\n",
              "      <td>1672614000000</td>\n",
              "      <td>597.0</td>\n",
              "      <td>5798.0</td>\n",
              "      <td>557.0</td>\n",
              "      <td>0.0</td>\n",
              "      <td>869.0</td>\n",
              "      <td>57.91</td>\n",
              "      <td>9632.0</td>\n",
              "      <td>7.4</td>\n",
              "    </tr>\n",
              "    <tr>\n",
              "      <th>1</th>\n",
              "      <td>1672617600000</td>\n",
              "      <td>578.0</td>\n",
              "      <td>5797.0</td>\n",
              "      <td>583.0</td>\n",
              "      <td>0.0</td>\n",
              "      <td>930.0</td>\n",
              "      <td>51.67</td>\n",
              "      <td>9491.0</td>\n",
              "      <td>7.5</td>\n",
              "    </tr>\n",
              "    <tr>\n",
              "      <th>2</th>\n",
              "      <td>1672621200000</td>\n",
              "      <td>558.0</td>\n",
              "      <td>5796.0</td>\n",
              "      <td>578.0</td>\n",
              "      <td>0.0</td>\n",
              "      <td>926.0</td>\n",
              "      <td>52.86</td>\n",
              "      <td>9388.0</td>\n",
              "      <td>7.4</td>\n",
              "    </tr>\n",
              "    <tr>\n",
              "      <th>3</th>\n",
              "      <td>1672624800000</td>\n",
              "      <td>553.0</td>\n",
              "      <td>5798.0</td>\n",
              "      <td>579.0</td>\n",
              "      <td>0.0</td>\n",
              "      <td>912.0</td>\n",
              "      <td>44.16</td>\n",
              "      <td>9290.0</td>\n",
              "      <td>7.7</td>\n",
              "    </tr>\n",
              "    <tr>\n",
              "      <th>4</th>\n",
              "      <td>1672628400000</td>\n",
              "      <td>552.0</td>\n",
              "      <td>5796.0</td>\n",
              "      <td>585.0</td>\n",
              "      <td>0.0</td>\n",
              "      <td>871.0</td>\n",
              "      <td>50.08</td>\n",
              "      <td>9256.0</td>\n",
              "      <td>7.6</td>\n",
              "    </tr>\n",
              "    <tr>\n",
              "      <th>5</th>\n",
              "      <td>1672632000000</td>\n",
              "      <td>597.0</td>\n",
              "      <td>5796.0</td>\n",
              "      <td>638.0</td>\n",
              "      <td>0.0</td>\n",
              "      <td>830.0</td>\n",
              "      <td>70.73</td>\n",
              "      <td>9402.0</td>\n",
              "      <td>7.5</td>\n",
              "    </tr>\n",
              "    <tr>\n",
              "      <th>6</th>\n",
              "      <td>1672635600000</td>\n",
              "      <td>691.0</td>\n",
              "      <td>5796.0</td>\n",
              "      <td>745.0</td>\n",
              "      <td>0.0</td>\n",
              "      <td>797.0</td>\n",
              "      <td>102.56</td>\n",
              "      <td>10154.0</td>\n",
              "      <td>7.5</td>\n",
              "    </tr>\n",
              "    <tr>\n",
              "      <th>7</th>\n",
              "      <td>1672639200000</td>\n",
              "      <td>840.0</td>\n",
              "      <td>5797.0</td>\n",
              "      <td>794.0</td>\n",
              "      <td>0.0</td>\n",
              "      <td>754.0</td>\n",
              "      <td>138.19</td>\n",
              "      <td>11148.0</td>\n",
              "      <td>7.1</td>\n",
              "    </tr>\n",
              "    <tr>\n",
              "      <th>8</th>\n",
              "      <td>1672642800000</td>\n",
              "      <td>882.0</td>\n",
              "      <td>5795.0</td>\n",
              "      <td>861.0</td>\n",
              "      <td>0.0</td>\n",
              "      <td>638.0</td>\n",
              "      <td>145.98</td>\n",
              "      <td>11597.0</td>\n",
              "      <td>7.2</td>\n",
              "    </tr>\n",
              "    <tr>\n",
              "      <th>9</th>\n",
              "      <td>1672646400000</td>\n",
              "      <td>911.0</td>\n",
              "      <td>5795.0</td>\n",
              "      <td>830.0</td>\n",
              "      <td>0.0</td>\n",
              "      <td>515.0</td>\n",
              "      <td>147.05</td>\n",
              "      <td>11628.0</td>\n",
              "      <td>6.8</td>\n",
              "    </tr>\n",
              "    <tr>\n",
              "      <th>10</th>\n",
              "      <td>1672650000000</td>\n",
              "      <td>956.0</td>\n",
              "      <td>5797.0</td>\n",
              "      <td>841.0</td>\n",
              "      <td>2.0</td>\n",
              "      <td>357.0</td>\n",
              "      <td>145.61</td>\n",
              "      <td>11657.0</td>\n",
              "      <td>6.7</td>\n",
              "    </tr>\n",
              "    <tr>\n",
              "      <th>11</th>\n",
              "      <td>1672653600000</td>\n",
              "      <td>975.0</td>\n",
              "      <td>5799.0</td>\n",
              "      <td>917.0</td>\n",
              "      <td>3.0</td>\n",
              "      <td>256.0</td>\n",
              "      <td>143.35</td>\n",
              "      <td>11828.0</td>\n",
              "      <td>7.0</td>\n",
              "    </tr>\n",
              "    <tr>\n",
              "      <th>12</th>\n",
              "      <td>1672657200000</td>\n",
              "      <td>988.0</td>\n",
              "      <td>5798.0</td>\n",
              "      <td>913.0</td>\n",
              "      <td>3.0</td>\n",
              "      <td>208.0</td>\n",
              "      <td>144.38</td>\n",
              "      <td>11896.0</td>\n",
              "      <td>7.0</td>\n",
              "    </tr>\n",
              "    <tr>\n",
              "      <th>13</th>\n",
              "      <td>1672660800000</td>\n",
              "      <td>1006.0</td>\n",
              "      <td>5797.0</td>\n",
              "      <td>934.0</td>\n",
              "      <td>2.0</td>\n",
              "      <td>194.0</td>\n",
              "      <td>143.76</td>\n",
              "      <td>11804.0</td>\n",
              "      <td>6.8</td>\n",
              "    </tr>\n",
              "    <tr>\n",
              "      <th>14</th>\n",
              "      <td>1672664400000</td>\n",
              "      <td>1102.0</td>\n",
              "      <td>5798.0</td>\n",
              "      <td>915.0</td>\n",
              "      <td>0.0</td>\n",
              "      <td>224.0</td>\n",
              "      <td>148.20</td>\n",
              "      <td>11848.0</td>\n",
              "      <td>6.7</td>\n",
              "    </tr>\n",
              "    <tr>\n",
              "      <th>15</th>\n",
              "      <td>1672668000000</td>\n",
              "      <td>1103.0</td>\n",
              "      <td>5800.0</td>\n",
              "      <td>922.0</td>\n",
              "      <td>0.0</td>\n",
              "      <td>281.0</td>\n",
              "      <td>155.34</td>\n",
              "      <td>11985.0</td>\n",
              "      <td>6.5</td>\n",
              "    </tr>\n",
              "    <tr>\n",
              "      <th>16</th>\n",
              "      <td>1672671600000</td>\n",
              "      <td>1103.0</td>\n",
              "      <td>5800.0</td>\n",
              "      <td>946.0</td>\n",
              "      <td>0.0</td>\n",
              "      <td>333.0</td>\n",
              "      <td>162.89</td>\n",
              "      <td>12076.0</td>\n",
              "      <td>6.2</td>\n",
              "    </tr>\n",
              "    <tr>\n",
              "      <th>17</th>\n",
              "      <td>1672675200000</td>\n",
              "      <td>1104.0</td>\n",
              "      <td>5799.0</td>\n",
              "      <td>950.0</td>\n",
              "      <td>0.0</td>\n",
              "      <td>393.0</td>\n",
              "      <td>170.00</td>\n",
              "      <td>12106.0</td>\n",
              "      <td>6.3</td>\n",
              "    </tr>\n",
              "    <tr>\n",
              "      <th>18</th>\n",
              "      <td>1672678800000</td>\n",
              "      <td>1120.0</td>\n",
              "      <td>5798.0</td>\n",
              "      <td>956.0</td>\n",
              "      <td>0.0</td>\n",
              "      <td>461.0</td>\n",
              "      <td>174.74</td>\n",
              "      <td>11988.0</td>\n",
              "      <td>5.2</td>\n",
              "    </tr>\n",
              "    <tr>\n",
              "      <th>19</th>\n",
              "      <td>1672682400000</td>\n",
              "      <td>1098.0</td>\n",
              "      <td>5798.0</td>\n",
              "      <td>954.0</td>\n",
              "      <td>0.0</td>\n",
              "      <td>504.0</td>\n",
              "      <td>164.46</td>\n",
              "      <td>11650.0</td>\n",
              "      <td>4.2</td>\n",
              "    </tr>\n",
              "    <tr>\n",
              "      <th>20</th>\n",
              "      <td>1672686000000</td>\n",
              "      <td>1072.0</td>\n",
              "      <td>5797.0</td>\n",
              "      <td>941.0</td>\n",
              "      <td>0.0</td>\n",
              "      <td>605.0</td>\n",
              "      <td>153.00</td>\n",
              "      <td>11346.0</td>\n",
              "      <td>4.1</td>\n",
              "    </tr>\n",
              "    <tr>\n",
              "      <th>21</th>\n",
              "      <td>1672689600000</td>\n",
              "      <td>828.0</td>\n",
              "      <td>5799.0</td>\n",
              "      <td>940.0</td>\n",
              "      <td>0.0</td>\n",
              "      <td>682.0</td>\n",
              "      <td>141.67</td>\n",
              "      <td>10959.0</td>\n",
              "      <td>5.0</td>\n",
              "    </tr>\n",
              "    <tr>\n",
              "      <th>22</th>\n",
              "      <td>1672693200000</td>\n",
              "      <td>747.0</td>\n",
              "      <td>5800.0</td>\n",
              "      <td>913.0</td>\n",
              "      <td>0.0</td>\n",
              "      <td>740.0</td>\n",
              "      <td>131.67</td>\n",
              "      <td>10536.0</td>\n",
              "      <td>4.9</td>\n",
              "    </tr>\n",
              "    <tr>\n",
              "      <th>23</th>\n",
              "      <td>1672696800000</td>\n",
              "      <td>713.0</td>\n",
              "      <td>5799.0</td>\n",
              "      <td>884.0</td>\n",
              "      <td>0.0</td>\n",
              "      <td>783.0</td>\n",
              "      <td>118.06</td>\n",
              "      <td>10266.0</td>\n",
              "      <td>4.8</td>\n",
              "    </tr>\n",
              "  </tbody>\n",
              "</table>\n",
              "</div>"
            ],
            "text/plain": [
              "         DateTime  hydro_water_reservoir  Nuclear  Other  Solar  wind_onshore  \\\n",
              "0   1672614000000                  597.0   5798.0  557.0    0.0         869.0   \n",
              "1   1672617600000                  578.0   5797.0  583.0    0.0         930.0   \n",
              "2   1672621200000                  558.0   5796.0  578.0    0.0         926.0   \n",
              "3   1672624800000                  553.0   5798.0  579.0    0.0         912.0   \n",
              "4   1672628400000                  552.0   5796.0  585.0    0.0         871.0   \n",
              "5   1672632000000                  597.0   5796.0  638.0    0.0         830.0   \n",
              "6   1672635600000                  691.0   5796.0  745.0    0.0         797.0   \n",
              "7   1672639200000                  840.0   5797.0  794.0    0.0         754.0   \n",
              "8   1672642800000                  882.0   5795.0  861.0    0.0         638.0   \n",
              "9   1672646400000                  911.0   5795.0  830.0    0.0         515.0   \n",
              "10  1672650000000                  956.0   5797.0  841.0    2.0         357.0   \n",
              "11  1672653600000                  975.0   5799.0  917.0    3.0         256.0   \n",
              "12  1672657200000                  988.0   5798.0  913.0    3.0         208.0   \n",
              "13  1672660800000                 1006.0   5797.0  934.0    2.0         194.0   \n",
              "14  1672664400000                 1102.0   5798.0  915.0    0.0         224.0   \n",
              "15  1672668000000                 1103.0   5800.0  922.0    0.0         281.0   \n",
              "16  1672671600000                 1103.0   5800.0  946.0    0.0         333.0   \n",
              "17  1672675200000                 1104.0   5799.0  950.0    0.0         393.0   \n",
              "18  1672678800000                 1120.0   5798.0  956.0    0.0         461.0   \n",
              "19  1672682400000                 1098.0   5798.0  954.0    0.0         504.0   \n",
              "20  1672686000000                 1072.0   5797.0  941.0    0.0         605.0   \n",
              "21  1672689600000                  828.0   5799.0  940.0    0.0         682.0   \n",
              "22  1672693200000                  747.0   5800.0  913.0    0.0         740.0   \n",
              "23  1672696800000                  713.0   5799.0  884.0    0.0         783.0   \n",
              "\n",
              "    day_ahead_price  total_load  temperature  \n",
              "0             57.91      9632.0          7.4  \n",
              "1             51.67      9491.0          7.5  \n",
              "2             52.86      9388.0          7.4  \n",
              "3             44.16      9290.0          7.7  \n",
              "4             50.08      9256.0          7.6  \n",
              "5             70.73      9402.0          7.5  \n",
              "6            102.56     10154.0          7.5  \n",
              "7            138.19     11148.0          7.1  \n",
              "8            145.98     11597.0          7.2  \n",
              "9            147.05     11628.0          6.8  \n",
              "10           145.61     11657.0          6.7  \n",
              "11           143.35     11828.0          7.0  \n",
              "12           144.38     11896.0          7.0  \n",
              "13           143.76     11804.0          6.8  \n",
              "14           148.20     11848.0          6.7  \n",
              "15           155.34     11985.0          6.5  \n",
              "16           162.89     12076.0          6.2  \n",
              "17           170.00     12106.0          6.3  \n",
              "18           174.74     11988.0          5.2  \n",
              "19           164.46     11650.0          4.2  \n",
              "20           153.00     11346.0          4.1  \n",
              "21           141.67     10959.0          5.0  \n",
              "22           131.67     10536.0          4.9  \n",
              "23           118.06     10266.0          4.8  "
            ]
          },
          "execution_count": 87,
          "metadata": {},
          "output_type": "execute_result"
        }
      ],
      "source": [
        "df_feature_data"
      ]
    },
    {
      "cell_type": "code",
      "execution_count": 72,
      "metadata": {
        "colab": {
          "base_uri": "https://localhost:8080/"
        },
        "id": "mwJ_nFB4fpBQ",
        "outputId": "0819940b-d880-40c7-8549-6187bac88882"
      },
      "outputs": [
        {
          "name": "stdout",
          "output_type": "stream",
          "text": [
            "Connection closed.\n",
            "Connected. Call `.close()` to terminate connection gracefully.\n",
            "\n",
            "Logged in to project, explore it here https://c.app.hopsworks.ai:443/p/4247\n",
            "Connected. Call `.close()` to terminate connection gracefully.\n"
          ]
        }
      ],
      "source": [
        "import hopsworks\n",
        "\n",
        "project = hopsworks.login() \n",
        "fs = project.get_feature_store() "
      ]
    },
    {
      "cell_type": "code",
      "execution_count": 88,
      "metadata": {
        "id": "xYiAiDxci3OW"
      },
      "outputs": [],
      "source": [
        "new_electricity_data_fg = fs.get_or_create_feature_group(name = 'new_electricity_data_fg', version = 1)"
      ]
    },
    {
      "cell_type": "code",
      "execution_count": 89,
      "metadata": {
        "colab": {
          "base_uri": "https://localhost:8080/",
          "height": 136,
          "referenced_widgets": [
            "ca75eb71c7db441da174d5afc1fc724c",
            "6a59d34c5014471988db88fcdf0fb081",
            "07ed996d626c48979b4c78e40110362c",
            "d5a6ec4f17f74827b9e065e8803ee9d3",
            "d77516ac95f545c3a6ca7e41f0a8e2b5",
            "ec66d1eefcb442b2afb9433709b542ec",
            "133d53eb03f143c5ab3d9fd2290bf972",
            "fdca7d9f49d14bc2bcff11beabd8b720",
            "72df3651816d4f4bb8334e8df140f89c",
            "1e25c6cc2ba144df9185cfb5d31c9136",
            "1e2c4eccd3614d35a6afa154d630c4da"
          ]
        },
        "id": "6enNG-b6jbnC",
        "outputId": "7d01faef-0540-4bd4-de08-98935872d9d3"
      },
      "outputs": [
        {
          "name": "stderr",
          "output_type": "stream",
          "text": [
            "FeatureGroupWarning: The ingested dataframe contains upper case letters in feature names: `['DateTime', 'Nuclear', 'Other', 'Solar']`. Feature names are sanitized to lower case in the feature store.\n",
            "Uploading Dataframe: 100.00% |██████████| Rows 24/24 | Elapsed Time: 00:01 | Remaining Time: 00:00\n"
          ]
        },
        {
          "name": "stdout",
          "output_type": "stream",
          "text": [
            "Launching offline feature group backfill job...\n",
            "Backfill Job started successfully, you can follow the progress at \n",
            "https://c.app.hopsworks.ai/p/4247/jobs/named/new_electricity_data_fg_1_offline_fg_backfill/executions\n"
          ]
        },
        {
          "data": {
            "text/plain": [
              "(<hsfs.core.job.Job at 0x7fad00bc7670>, None)"
            ]
          },
          "execution_count": 89,
          "metadata": {},
          "output_type": "execute_result"
        }
      ],
      "source": [
        "new_electricity_data_fg.insert(df_feature_data)"
      ]
    },
    {
      "attachments": {},
      "cell_type": "markdown",
      "metadata": {},
      "source": [
        "### Modal script for future daily features\n",
        "For retrieving daily data through scheduled scripts, Modal is used in which the following function is uploaded and sheduled to run on hourly basis"
      ]
    },
    {
      "cell_type": "code",
      "execution_count": null,
      "metadata": {},
      "outputs": [],
      "source": [
        "import os\n",
        "import modal\n",
        "    \n",
        "LOCAL=False\n",
        "\n",
        "if LOCAL == False:\n",
        "   stub = modal.Stub()\n",
        "   image = modal.Image.debian_slim().pip_install([\"hopsworks==3.0.4\",\"joblib\",\"seaborn\",\"sklearn\",\"dataframe-image\"]) \n",
        "\n",
        "   @stub.function(image=image, schedule=modal.Period(days=1), secret=modal.Secret.from_name(\"abyel-hopsworks-secret\"))\n",
        "   def f():\n",
        "       g()\n",
        "\n",
        "def get_entsoe_data():\n",
        "    # Day price\n",
        "    df_day_price = client.query_day_ahead_prices(country_code, start=start,end=end)\n",
        "    df_generation_per_prod = client.query_generation(country_code, start=start,end=end, psr_type=None)\n",
        "    df_load = client.query_load(country_code, start=start,end=end)\n",
        "    \n",
        "    df_entsoe = df_generation_per_prod.join(df_day_price.rename(\"day_ahead_price\"))\n",
        "    df_entsoe = df_entsoe.join(df_load)\n",
        "    df_entsoe_clean = df_entsoe.reset_index()\n",
        "    df_entsoe_clean = df_entsoe_clean.rename(columns = {'index':'DateTime'})\n",
        "    df_entsoe_clean['DateTime'] = df_entsoe_clean.DateTime.values.astype('int64') // 10 ** 6  ## divide by 10^6 to convert from ns to ms\n",
        "\n",
        "def get_prediction_data():\n",
        "    \"\"\"\n",
        "    Fetches the recent rediction and actual data for electricity price and weather\n",
        "    \"\"\"\n",
        "    import pandas as pd\n",
        "    import random\n",
        "\n",
        "    # random_pclass = random.randint(1, 3)\n",
        "    # random_sex = random.randint(0, 1)\n",
        "    # random_age = random.randint(0, 5) # [0,1,2,3,4,5]\n",
        "    # random_embarked = random.randint(0, 2)\n",
        "\n",
        "    # passenger_df = pd.DataFrame({ \"passengerid\": [passenger_id],\n",
        "    #                             \"pclass\": [random_pclass],\n",
        "    #                             \"sex\": [random_sex],\n",
        "    #                             \"age\": [random_age],\n",
        "    #                             \"embarked\": [random_embarked],\n",
        "    #                   })\n",
        "    # passenger_df['survived'] = survived\n",
        "    \n",
        "    return passenger_df\n",
        "\n",
        "\n",
        "def g():\n",
        "    import hopsworks\n",
        "    import pandas as pd\n",
        "\n",
        "    project = hopsworks.login()\n",
        "    fs = project.get_feature_store()\n",
        "\n",
        "    electricity_data_fg = fs.get_feature_group(name=\"electricity_data_updated_fg\", version=1)    \n",
        "\n",
        "    # date to fetch data\n",
        "\n",
        "\n",
        "    new_electricity_df = get_prediction_data(passenger_id)\n",
        "\n",
        "    print(electricity_data_fg.head(5))\n",
        "   \n",
        "    \n",
        "    electricity_data_fg.insert(electricity_data_fg, write_options={\"wait_for_job\" : False})\n",
        "\n",
        "if __name__ == \"__main__\":\n",
        "    if LOCAL == True :\n",
        "        g()\n",
        "    else:\n",
        "        with stub.run():\n",
        "            f()"
      ]
    },
    {
      "cell_type": "markdown",
      "metadata": {
        "id": "ZuxLyw-1fep-"
      },
      "source": [
        "### Old code for uploading model"
      ]
    },
    {
      "cell_type": "code",
      "execution_count": null,
      "metadata": {
        "colab": {
          "base_uri": "https://localhost:8080/"
        },
        "id": "dOrgGY7zQSpL",
        "outputId": "dd9bf599-a251-4681-d298-02caa94fa83d"
      },
      "outputs": [
        {
          "name": "stdout",
          "output_type": "stream",
          "text": [
            "Copy your Api Key (first register/login): https://c.app.hopsworks.ai/account/api/generated\n",
            "\n",
            "Paste it here: ··········\n",
            "Connected. Call `.close()` to terminate connection gracefully.\n",
            "\n",
            "Logged in to project, explore it here https://c.app.hopsworks.ai:443/p/4247\n",
            "Connected. Call `.close()` to terminate connection gracefully.\n"
          ]
        },
        {
          "name": "stderr",
          "output_type": "stream",
          "text": [
            "DeprecationWarning: Using or importing the ABCs from 'collections' instead of from 'collections.abc' is deprecated since Python 3.3, and in 3.10 it will stop working\n"
          ]
        }
      ],
      "source": [
        "import hopsworks\n",
        "\n",
        "project = hopsworks.login() \n",
        "\n",
        "fs = project.get_feature_store() "
      ]
    },
    {
      "cell_type": "code",
      "execution_count": null,
      "metadata": {
        "colab": {
          "base_uri": "https://localhost:8080/"
        },
        "id": "_8gsjHZMXYNJ",
        "outputId": "9eb5a721-f8d2-4146-c570-3b9549a3ab0c"
      },
      "outputs": [
        {
          "name": "stdout",
          "output_type": "stream",
          "text": [
            "Connected. Call `.close()` to terminate connection gracefully.\n"
          ]
        }
      ],
      "source": []
    },
    {
      "cell_type": "code",
      "execution_count": null,
      "metadata": {
        "id": "59cZ7h0LXmWy"
      },
      "outputs": [],
      "source": [
        "model = mr.sklearn.create_model(\n",
        "    name=\"lstm_model\",\n",
        "    description=\"LSTM test.\",\n",
        ")"
      ]
    },
    {
      "cell_type": "code",
      "execution_count": null,
      "metadata": {
        "colab": {
          "base_uri": "https://localhost:8080/",
          "height": 132,
          "referenced_widgets": [
            "c5f0441644f44f8cb3ee029b9ff9f5c7",
            "e51b645b9e9342fcb8c63311a8a83edd",
            "82d66b0d28d5431cb698d77e04e8ad81",
            "d5e7fc4466384d439e1dde7180071a1c",
            "920bede3584445e6b8307ca3c30baab7",
            "7c709ed392314bd5ad2c7317c56e9e1b",
            "27f5db66d2ee443da39cf1fb933fe278",
            "adc5a8cf0b1a455ca97ecf91877b6bfc",
            "09fdaf348a3349caaa2771b205ef30e1",
            "e0e8729962674c61ae7b162c7a23b0d4",
            "822ee32d5f744a51b7aff63d78565668"
          ]
        },
        "id": "Y2Y05q3hX8h6",
        "outputId": "bee9fe4b-cd06-4ca4-ad90-7bfe332a0a37"
      },
      "outputs": [
        {
          "data": {
            "application/vnd.jupyter.widget-view+json": {
              "model_id": "c5f0441644f44f8cb3ee029b9ff9f5c7",
              "version_major": 2,
              "version_minor": 0
            },
            "text/plain": [
              "  0%|          | 0/6 [00:00<?, ?it/s]"
            ]
          },
          "metadata": {},
          "output_type": "display_data"
        },
        {
          "name": "stdout",
          "output_type": "stream",
          "text": [
            "Model created, explore it at https://c.app.hopsworks.ai:443/p/4247/models/lstm_model/1\n"
          ]
        },
        {
          "data": {
            "text/plain": [
              "Model(name: 'lstm_model', version: 1)"
            ]
          },
          "execution_count": 212,
          "metadata": {},
          "output_type": "execute_result"
        }
      ],
      "source": [
        "model.save('/content/first_model.pickle')"
      ]
    }
  ],
  "metadata": {
    "colab": {
      "provenance": []
    },
    "kernelspec": {
      "display_name": "base",
      "language": "python",
      "name": "python3"
    },
    "language_info": {
      "codemirror_mode": {
        "name": "ipython",
        "version": 3
      },
      "file_extension": ".py",
      "mimetype": "text/x-python",
      "name": "python",
      "nbconvert_exporter": "python",
      "pygments_lexer": "ipython3",
      "version": "3.9.12"
    },
    "vscode": {
      "interpreter": {
        "hash": "335d80310dcdd71c39c5fc237d90b2722202fb6a12e63ce8cbfcb42f72ee81b1"
      }
    },
    "widgets": {
      "application/vnd.jupyter.widget-state+json": {
        "07ed996d626c48979b4c78e40110362c": {
          "model_module": "@jupyter-widgets/controls",
          "model_module_version": "1.5.0",
          "model_name": "FloatProgressModel",
          "state": {
            "_dom_classes": [],
            "_model_module": "@jupyter-widgets/controls",
            "_model_module_version": "1.5.0",
            "_model_name": "FloatProgressModel",
            "_view_count": null,
            "_view_module": "@jupyter-widgets/controls",
            "_view_module_version": "1.5.0",
            "_view_name": "ProgressView",
            "bar_style": "success",
            "description": "",
            "description_tooltip": null,
            "layout": "IPY_MODEL_fdca7d9f49d14bc2bcff11beabd8b720",
            "max": 24,
            "min": 0,
            "orientation": "horizontal",
            "style": "IPY_MODEL_72df3651816d4f4bb8334e8df140f89c",
            "value": 24
          }
        },
        "09fdaf348a3349caaa2771b205ef30e1": {
          "model_module": "@jupyter-widgets/controls",
          "model_module_version": "1.5.0",
          "model_name": "ProgressStyleModel",
          "state": {
            "_model_module": "@jupyter-widgets/controls",
            "_model_module_version": "1.5.0",
            "_model_name": "ProgressStyleModel",
            "_view_count": null,
            "_view_module": "@jupyter-widgets/base",
            "_view_module_version": "1.2.0",
            "_view_name": "StyleView",
            "bar_color": null,
            "description_width": ""
          }
        },
        "133d53eb03f143c5ab3d9fd2290bf972": {
          "model_module": "@jupyter-widgets/controls",
          "model_module_version": "1.5.0",
          "model_name": "DescriptionStyleModel",
          "state": {
            "_model_module": "@jupyter-widgets/controls",
            "_model_module_version": "1.5.0",
            "_model_name": "DescriptionStyleModel",
            "_view_count": null,
            "_view_module": "@jupyter-widgets/base",
            "_view_module_version": "1.2.0",
            "_view_name": "StyleView",
            "description_width": ""
          }
        },
        "1e25c6cc2ba144df9185cfb5d31c9136": {
          "model_module": "@jupyter-widgets/base",
          "model_module_version": "1.2.0",
          "model_name": "LayoutModel",
          "state": {
            "_model_module": "@jupyter-widgets/base",
            "_model_module_version": "1.2.0",
            "_model_name": "LayoutModel",
            "_view_count": null,
            "_view_module": "@jupyter-widgets/base",
            "_view_module_version": "1.2.0",
            "_view_name": "LayoutView",
            "align_content": null,
            "align_items": null,
            "align_self": null,
            "border": null,
            "bottom": null,
            "display": null,
            "flex": null,
            "flex_flow": null,
            "grid_area": null,
            "grid_auto_columns": null,
            "grid_auto_flow": null,
            "grid_auto_rows": null,
            "grid_column": null,
            "grid_gap": null,
            "grid_row": null,
            "grid_template_areas": null,
            "grid_template_columns": null,
            "grid_template_rows": null,
            "height": null,
            "justify_content": null,
            "justify_items": null,
            "left": null,
            "margin": null,
            "max_height": null,
            "max_width": null,
            "min_height": null,
            "min_width": null,
            "object_fit": null,
            "object_position": null,
            "order": null,
            "overflow": null,
            "overflow_x": null,
            "overflow_y": null,
            "padding": null,
            "right": null,
            "top": null,
            "visibility": null,
            "width": null
          }
        },
        "1e2c4eccd3614d35a6afa154d630c4da": {
          "model_module": "@jupyter-widgets/controls",
          "model_module_version": "1.5.0",
          "model_name": "DescriptionStyleModel",
          "state": {
            "_model_module": "@jupyter-widgets/controls",
            "_model_module_version": "1.5.0",
            "_model_name": "DescriptionStyleModel",
            "_view_count": null,
            "_view_module": "@jupyter-widgets/base",
            "_view_module_version": "1.2.0",
            "_view_name": "StyleView",
            "description_width": ""
          }
        },
        "27f5db66d2ee443da39cf1fb933fe278": {
          "model_module": "@jupyter-widgets/controls",
          "model_module_version": "1.5.0",
          "model_name": "DescriptionStyleModel",
          "state": {
            "_model_module": "@jupyter-widgets/controls",
            "_model_module_version": "1.5.0",
            "_model_name": "DescriptionStyleModel",
            "_view_count": null,
            "_view_module": "@jupyter-widgets/base",
            "_view_module_version": "1.2.0",
            "_view_name": "StyleView",
            "description_width": ""
          }
        },
        "6a59d34c5014471988db88fcdf0fb081": {
          "model_module": "@jupyter-widgets/controls",
          "model_module_version": "1.5.0",
          "model_name": "HTMLModel",
          "state": {
            "_dom_classes": [],
            "_model_module": "@jupyter-widgets/controls",
            "_model_module_version": "1.5.0",
            "_model_name": "HTMLModel",
            "_view_count": null,
            "_view_module": "@jupyter-widgets/controls",
            "_view_module_version": "1.5.0",
            "_view_name": "HTMLView",
            "description": "",
            "description_tooltip": null,
            "layout": "IPY_MODEL_ec66d1eefcb442b2afb9433709b542ec",
            "placeholder": "​",
            "style": "IPY_MODEL_133d53eb03f143c5ab3d9fd2290bf972",
            "value": "Uploading Dataframe: 100.00% "
          }
        },
        "72df3651816d4f4bb8334e8df140f89c": {
          "model_module": "@jupyter-widgets/controls",
          "model_module_version": "1.5.0",
          "model_name": "ProgressStyleModel",
          "state": {
            "_model_module": "@jupyter-widgets/controls",
            "_model_module_version": "1.5.0",
            "_model_name": "ProgressStyleModel",
            "_view_count": null,
            "_view_module": "@jupyter-widgets/base",
            "_view_module_version": "1.2.0",
            "_view_name": "StyleView",
            "bar_color": null,
            "description_width": ""
          }
        },
        "7c709ed392314bd5ad2c7317c56e9e1b": {
          "model_module": "@jupyter-widgets/base",
          "model_module_version": "1.2.0",
          "model_name": "LayoutModel",
          "state": {
            "_model_module": "@jupyter-widgets/base",
            "_model_module_version": "1.2.0",
            "_model_name": "LayoutModel",
            "_view_count": null,
            "_view_module": "@jupyter-widgets/base",
            "_view_module_version": "1.2.0",
            "_view_name": "LayoutView",
            "align_content": null,
            "align_items": null,
            "align_self": null,
            "border": null,
            "bottom": null,
            "display": null,
            "flex": null,
            "flex_flow": null,
            "grid_area": null,
            "grid_auto_columns": null,
            "grid_auto_flow": null,
            "grid_auto_rows": null,
            "grid_column": null,
            "grid_gap": null,
            "grid_row": null,
            "grid_template_areas": null,
            "grid_template_columns": null,
            "grid_template_rows": null,
            "height": null,
            "justify_content": null,
            "justify_items": null,
            "left": null,
            "margin": null,
            "max_height": null,
            "max_width": null,
            "min_height": null,
            "min_width": null,
            "object_fit": null,
            "object_position": null,
            "order": null,
            "overflow": null,
            "overflow_x": null,
            "overflow_y": null,
            "padding": null,
            "right": null,
            "top": null,
            "visibility": null,
            "width": null
          }
        },
        "822ee32d5f744a51b7aff63d78565668": {
          "model_module": "@jupyter-widgets/controls",
          "model_module_version": "1.5.0",
          "model_name": "DescriptionStyleModel",
          "state": {
            "_model_module": "@jupyter-widgets/controls",
            "_model_module_version": "1.5.0",
            "_model_name": "DescriptionStyleModel",
            "_view_count": null,
            "_view_module": "@jupyter-widgets/base",
            "_view_module_version": "1.2.0",
            "_view_name": "StyleView",
            "description_width": ""
          }
        },
        "82d66b0d28d5431cb698d77e04e8ad81": {
          "model_module": "@jupyter-widgets/controls",
          "model_module_version": "1.5.0",
          "model_name": "FloatProgressModel",
          "state": {
            "_dom_classes": [],
            "_model_module": "@jupyter-widgets/controls",
            "_model_module_version": "1.5.0",
            "_model_name": "FloatProgressModel",
            "_view_count": null,
            "_view_module": "@jupyter-widgets/controls",
            "_view_module_version": "1.5.0",
            "_view_name": "ProgressView",
            "bar_style": "success",
            "description": "",
            "description_tooltip": null,
            "layout": "IPY_MODEL_adc5a8cf0b1a455ca97ecf91877b6bfc",
            "max": 6,
            "min": 0,
            "orientation": "horizontal",
            "style": "IPY_MODEL_09fdaf348a3349caaa2771b205ef30e1",
            "value": 6
          }
        },
        "920bede3584445e6b8307ca3c30baab7": {
          "model_module": "@jupyter-widgets/base",
          "model_module_version": "1.2.0",
          "model_name": "LayoutModel",
          "state": {
            "_model_module": "@jupyter-widgets/base",
            "_model_module_version": "1.2.0",
            "_model_name": "LayoutModel",
            "_view_count": null,
            "_view_module": "@jupyter-widgets/base",
            "_view_module_version": "1.2.0",
            "_view_name": "LayoutView",
            "align_content": null,
            "align_items": null,
            "align_self": null,
            "border": null,
            "bottom": null,
            "display": null,
            "flex": null,
            "flex_flow": null,
            "grid_area": null,
            "grid_auto_columns": null,
            "grid_auto_flow": null,
            "grid_auto_rows": null,
            "grid_column": null,
            "grid_gap": null,
            "grid_row": null,
            "grid_template_areas": null,
            "grid_template_columns": null,
            "grid_template_rows": null,
            "height": null,
            "justify_content": null,
            "justify_items": null,
            "left": null,
            "margin": null,
            "max_height": null,
            "max_width": null,
            "min_height": null,
            "min_width": null,
            "object_fit": null,
            "object_position": null,
            "order": null,
            "overflow": null,
            "overflow_x": null,
            "overflow_y": null,
            "padding": null,
            "right": null,
            "top": null,
            "visibility": null,
            "width": null
          }
        },
        "adc5a8cf0b1a455ca97ecf91877b6bfc": {
          "model_module": "@jupyter-widgets/base",
          "model_module_version": "1.2.0",
          "model_name": "LayoutModel",
          "state": {
            "_model_module": "@jupyter-widgets/base",
            "_model_module_version": "1.2.0",
            "_model_name": "LayoutModel",
            "_view_count": null,
            "_view_module": "@jupyter-widgets/base",
            "_view_module_version": "1.2.0",
            "_view_name": "LayoutView",
            "align_content": null,
            "align_items": null,
            "align_self": null,
            "border": null,
            "bottom": null,
            "display": null,
            "flex": null,
            "flex_flow": null,
            "grid_area": null,
            "grid_auto_columns": null,
            "grid_auto_flow": null,
            "grid_auto_rows": null,
            "grid_column": null,
            "grid_gap": null,
            "grid_row": null,
            "grid_template_areas": null,
            "grid_template_columns": null,
            "grid_template_rows": null,
            "height": null,
            "justify_content": null,
            "justify_items": null,
            "left": null,
            "margin": null,
            "max_height": null,
            "max_width": null,
            "min_height": null,
            "min_width": null,
            "object_fit": null,
            "object_position": null,
            "order": null,
            "overflow": null,
            "overflow_x": null,
            "overflow_y": null,
            "padding": null,
            "right": null,
            "top": null,
            "visibility": null,
            "width": null
          }
        },
        "c5f0441644f44f8cb3ee029b9ff9f5c7": {
          "model_module": "@jupyter-widgets/controls",
          "model_module_version": "1.5.0",
          "model_name": "HBoxModel",
          "state": {
            "_dom_classes": [],
            "_model_module": "@jupyter-widgets/controls",
            "_model_module_version": "1.5.0",
            "_model_name": "HBoxModel",
            "_view_count": null,
            "_view_module": "@jupyter-widgets/controls",
            "_view_module_version": "1.5.0",
            "_view_name": "HBoxView",
            "box_style": "",
            "children": [
              "IPY_MODEL_e51b645b9e9342fcb8c63311a8a83edd",
              "IPY_MODEL_82d66b0d28d5431cb698d77e04e8ad81",
              "IPY_MODEL_d5e7fc4466384d439e1dde7180071a1c"
            ],
            "layout": "IPY_MODEL_920bede3584445e6b8307ca3c30baab7"
          }
        },
        "ca75eb71c7db441da174d5afc1fc724c": {
          "model_module": "@jupyter-widgets/controls",
          "model_module_version": "1.5.0",
          "model_name": "HBoxModel",
          "state": {
            "_dom_classes": [],
            "_model_module": "@jupyter-widgets/controls",
            "_model_module_version": "1.5.0",
            "_model_name": "HBoxModel",
            "_view_count": null,
            "_view_module": "@jupyter-widgets/controls",
            "_view_module_version": "1.5.0",
            "_view_name": "HBoxView",
            "box_style": "",
            "children": [
              "IPY_MODEL_6a59d34c5014471988db88fcdf0fb081",
              "IPY_MODEL_07ed996d626c48979b4c78e40110362c",
              "IPY_MODEL_d5a6ec4f17f74827b9e065e8803ee9d3"
            ],
            "layout": "IPY_MODEL_d77516ac95f545c3a6ca7e41f0a8e2b5"
          }
        },
        "d5a6ec4f17f74827b9e065e8803ee9d3": {
          "model_module": "@jupyter-widgets/controls",
          "model_module_version": "1.5.0",
          "model_name": "HTMLModel",
          "state": {
            "_dom_classes": [],
            "_model_module": "@jupyter-widgets/controls",
            "_model_module_version": "1.5.0",
            "_model_name": "HTMLModel",
            "_view_count": null,
            "_view_module": "@jupyter-widgets/controls",
            "_view_module_version": "1.5.0",
            "_view_name": "HTMLView",
            "description": "",
            "description_tooltip": null,
            "layout": "IPY_MODEL_1e25c6cc2ba144df9185cfb5d31c9136",
            "placeholder": "​",
            "style": "IPY_MODEL_1e2c4eccd3614d35a6afa154d630c4da",
            "value": " Rows 24/24 | Elapsed Time: 00:00 | Remaining Time: 00:00"
          }
        },
        "d5e7fc4466384d439e1dde7180071a1c": {
          "model_module": "@jupyter-widgets/controls",
          "model_module_version": "1.5.0",
          "model_name": "HTMLModel",
          "state": {
            "_dom_classes": [],
            "_model_module": "@jupyter-widgets/controls",
            "_model_module_version": "1.5.0",
            "_model_name": "HTMLModel",
            "_view_count": null,
            "_view_module": "@jupyter-widgets/controls",
            "_view_module_version": "1.5.0",
            "_view_name": "HTMLView",
            "description": "",
            "description_tooltip": null,
            "layout": "IPY_MODEL_e0e8729962674c61ae7b162c7a23b0d4",
            "placeholder": "​",
            "style": "IPY_MODEL_822ee32d5f744a51b7aff63d78565668",
            "value": " 6/6 [00:19&lt;00:00,  4.06s/it]"
          }
        },
        "d77516ac95f545c3a6ca7e41f0a8e2b5": {
          "model_module": "@jupyter-widgets/base",
          "model_module_version": "1.2.0",
          "model_name": "LayoutModel",
          "state": {
            "_model_module": "@jupyter-widgets/base",
            "_model_module_version": "1.2.0",
            "_model_name": "LayoutModel",
            "_view_count": null,
            "_view_module": "@jupyter-widgets/base",
            "_view_module_version": "1.2.0",
            "_view_name": "LayoutView",
            "align_content": null,
            "align_items": null,
            "align_self": null,
            "border": null,
            "bottom": null,
            "display": null,
            "flex": null,
            "flex_flow": null,
            "grid_area": null,
            "grid_auto_columns": null,
            "grid_auto_flow": null,
            "grid_auto_rows": null,
            "grid_column": null,
            "grid_gap": null,
            "grid_row": null,
            "grid_template_areas": null,
            "grid_template_columns": null,
            "grid_template_rows": null,
            "height": null,
            "justify_content": null,
            "justify_items": null,
            "left": null,
            "margin": null,
            "max_height": null,
            "max_width": null,
            "min_height": null,
            "min_width": null,
            "object_fit": null,
            "object_position": null,
            "order": null,
            "overflow": null,
            "overflow_x": null,
            "overflow_y": null,
            "padding": null,
            "right": null,
            "top": null,
            "visibility": null,
            "width": null
          }
        },
        "e0e8729962674c61ae7b162c7a23b0d4": {
          "model_module": "@jupyter-widgets/base",
          "model_module_version": "1.2.0",
          "model_name": "LayoutModel",
          "state": {
            "_model_module": "@jupyter-widgets/base",
            "_model_module_version": "1.2.0",
            "_model_name": "LayoutModel",
            "_view_count": null,
            "_view_module": "@jupyter-widgets/base",
            "_view_module_version": "1.2.0",
            "_view_name": "LayoutView",
            "align_content": null,
            "align_items": null,
            "align_self": null,
            "border": null,
            "bottom": null,
            "display": null,
            "flex": null,
            "flex_flow": null,
            "grid_area": null,
            "grid_auto_columns": null,
            "grid_auto_flow": null,
            "grid_auto_rows": null,
            "grid_column": null,
            "grid_gap": null,
            "grid_row": null,
            "grid_template_areas": null,
            "grid_template_columns": null,
            "grid_template_rows": null,
            "height": null,
            "justify_content": null,
            "justify_items": null,
            "left": null,
            "margin": null,
            "max_height": null,
            "max_width": null,
            "min_height": null,
            "min_width": null,
            "object_fit": null,
            "object_position": null,
            "order": null,
            "overflow": null,
            "overflow_x": null,
            "overflow_y": null,
            "padding": null,
            "right": null,
            "top": null,
            "visibility": null,
            "width": null
          }
        },
        "e51b645b9e9342fcb8c63311a8a83edd": {
          "model_module": "@jupyter-widgets/controls",
          "model_module_version": "1.5.0",
          "model_name": "HTMLModel",
          "state": {
            "_dom_classes": [],
            "_model_module": "@jupyter-widgets/controls",
            "_model_module_version": "1.5.0",
            "_model_name": "HTMLModel",
            "_view_count": null,
            "_view_module": "@jupyter-widgets/controls",
            "_view_module_version": "1.5.0",
            "_view_name": "HTMLView",
            "description": "",
            "description_tooltip": null,
            "layout": "IPY_MODEL_7c709ed392314bd5ad2c7317c56e9e1b",
            "placeholder": "​",
            "style": "IPY_MODEL_27f5db66d2ee443da39cf1fb933fe278",
            "value": "Model export complete: 100%"
          }
        },
        "ec66d1eefcb442b2afb9433709b542ec": {
          "model_module": "@jupyter-widgets/base",
          "model_module_version": "1.2.0",
          "model_name": "LayoutModel",
          "state": {
            "_model_module": "@jupyter-widgets/base",
            "_model_module_version": "1.2.0",
            "_model_name": "LayoutModel",
            "_view_count": null,
            "_view_module": "@jupyter-widgets/base",
            "_view_module_version": "1.2.0",
            "_view_name": "LayoutView",
            "align_content": null,
            "align_items": null,
            "align_self": null,
            "border": null,
            "bottom": null,
            "display": null,
            "flex": null,
            "flex_flow": null,
            "grid_area": null,
            "grid_auto_columns": null,
            "grid_auto_flow": null,
            "grid_auto_rows": null,
            "grid_column": null,
            "grid_gap": null,
            "grid_row": null,
            "grid_template_areas": null,
            "grid_template_columns": null,
            "grid_template_rows": null,
            "height": null,
            "justify_content": null,
            "justify_items": null,
            "left": null,
            "margin": null,
            "max_height": null,
            "max_width": null,
            "min_height": null,
            "min_width": null,
            "object_fit": null,
            "object_position": null,
            "order": null,
            "overflow": null,
            "overflow_x": null,
            "overflow_y": null,
            "padding": null,
            "right": null,
            "top": null,
            "visibility": null,
            "width": null
          }
        },
        "fdca7d9f49d14bc2bcff11beabd8b720": {
          "model_module": "@jupyter-widgets/base",
          "model_module_version": "1.2.0",
          "model_name": "LayoutModel",
          "state": {
            "_model_module": "@jupyter-widgets/base",
            "_model_module_version": "1.2.0",
            "_model_name": "LayoutModel",
            "_view_count": null,
            "_view_module": "@jupyter-widgets/base",
            "_view_module_version": "1.2.0",
            "_view_name": "LayoutView",
            "align_content": null,
            "align_items": null,
            "align_self": null,
            "border": null,
            "bottom": null,
            "display": null,
            "flex": null,
            "flex_flow": null,
            "grid_area": null,
            "grid_auto_columns": null,
            "grid_auto_flow": null,
            "grid_auto_rows": null,
            "grid_column": null,
            "grid_gap": null,
            "grid_row": null,
            "grid_template_areas": null,
            "grid_template_columns": null,
            "grid_template_rows": null,
            "height": null,
            "justify_content": null,
            "justify_items": null,
            "left": null,
            "margin": null,
            "max_height": null,
            "max_width": null,
            "min_height": null,
            "min_width": null,
            "object_fit": null,
            "object_position": null,
            "order": null,
            "overflow": null,
            "overflow_x": null,
            "overflow_y": null,
            "padding": null,
            "right": null,
            "top": null,
            "visibility": null,
            "width": null
          }
        }
      }
    }
  },
  "nbformat": 4,
  "nbformat_minor": 0
}
