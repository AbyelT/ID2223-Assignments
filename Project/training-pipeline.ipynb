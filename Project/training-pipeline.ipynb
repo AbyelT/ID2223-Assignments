{
  "cells": [
    {
      "attachments": {},
      "cell_type": "markdown",
      "metadata": {},
      "source": [
        "# Training pipeline\n",
        "\n",
        "explanation here"
      ]
    },
    {
      "attachments": {},
      "cell_type": "markdown",
      "metadata": {},
      "source": [
        "### Load imports"
      ]
    },
    {
      "cell_type": "code",
      "execution_count": 1,
      "metadata": {
        "id": "bTuwg_Q6EiPn"
      },
      "outputs": [
        {
          "name": "stderr",
          "output_type": "stream",
          "text": [
            "2023-01-14 17:45:09.761145: I tensorflow/core/platform/cpu_feature_guard.cc:193] This TensorFlow binary is optimized with oneAPI Deep Neural Network Library (oneDNN) to use the following CPU instructions in performance-critical operations:  AVX2 FMA\n",
            "To enable them in other operations, rebuild TensorFlow with the appropriate compiler flags.\n",
            "2023-01-14 17:45:10.443227: W tensorflow/compiler/xla/stream_executor/platform/default/dso_loader.cc:64] Could not load dynamic library 'libcudart.so.11.0'; dlerror: libcudart.so.11.0: cannot open shared object file: No such file or directory\n",
            "2023-01-14 17:45:10.443248: I tensorflow/compiler/xla/stream_executor/cuda/cudart_stub.cc:29] Ignore above cudart dlerror if you do not have a GPU set up on your machine.\n",
            "2023-01-14 17:45:12.407994: W tensorflow/compiler/xla/stream_executor/platform/default/dso_loader.cc:64] Could not load dynamic library 'libnvinfer.so.7'; dlerror: libnvinfer.so.7: cannot open shared object file: No such file or directory\n",
            "2023-01-14 17:45:12.408279: W tensorflow/compiler/xla/stream_executor/platform/default/dso_loader.cc:64] Could not load dynamic library 'libnvinfer_plugin.so.7'; dlerror: libnvinfer_plugin.so.7: cannot open shared object file: No such file or directory\n",
            "2023-01-14 17:45:12.408298: W tensorflow/compiler/tf2tensorrt/utils/py_utils.cc:38] TF-TRT Warning: Cannot dlopen some TensorRT libraries. If you would like to use Nvidia GPU with TensorRT, please make sure the missing libraries mentioned above are installed properly.\n"
          ]
        }
      ],
      "source": [
        "import numpy as np # linear algebra\n",
        "import pandas as pd\n",
        "from sklearn.preprocessing import LabelEncoder, StandardScaler\n",
        "import tensorflow as tf\n",
        "import keras\n",
        "from keras.models import Sequential\n",
        "from keras.layers import Dense\n",
        "from keras.layers import LSTM\n",
        "from keras.layers import Dropout\n",
        "from keras.layers import *\n",
        "from sklearn.preprocessing import MinMaxScaler\n",
        "from sklearn.metrics import mean_squared_error, mean_absolute_error, r2_score \n",
        "from keras.callbacks import EarlyStopping\n",
        "import hopsworks"
      ]
    },
    {
      "cell_type": "code",
      "execution_count": 2,
      "metadata": {
        "colab": {
          "base_uri": "https://localhost:8080/"
        },
        "id": "VAmXJEE6nva9",
        "outputId": "786240ea-84cc-470f-85bf-3dae66e39eb5"
      },
      "outputs": [
        {
          "name": "stdout",
          "output_type": "stream",
          "text": [
            "Connected. Call `.close()` to terminate connection gracefully.\n",
            "\n",
            "Logged in to project, explore it here https://c.app.hopsworks.ai:443/p/4247\n"
          ]
        },
        {
          "name": "stderr",
          "output_type": "stream",
          "text": [
            "DeprecationWarning: the imp module is deprecated in favour of importlib; see the module's documentation for alternative uses\n"
          ]
        },
        {
          "name": "stdout",
          "output_type": "stream",
          "text": [
            "Connected. Call `.close()` to terminate connection gracefully.\n"
          ]
        }
      ],
      "source": [
        "project = hopsworks.login()\n",
        "fs = project.get_feature_store() "
      ]
    },
    {
      "cell_type": "code",
      "execution_count": 3,
      "metadata": {
        "id": "kzlX5Blty-sO"
      },
      "outputs": [],
      "source": [
        "try: \n",
        "    feature_view = fs.get_feature_view(name=\"new_electricity_data_fv\", version=2)\n",
        "except:\n",
        "    electricity_data_fg = fs.get_feature_group('new_electricity_data_fg', version=2)\n",
        "    query = electricity_data_fg.select_all()    \n",
        "    feature_view = fs.create_feature_view(name=\"new_electricity_data_fv\",\n",
        "                                        version=2, # labels: \"day_ahead_price\"\n",
        "                                        description=\"Read from Feature Group new_electricity_data_fg\",\n",
        "                                        query=query)"
      ]
    },
    {
      "cell_type": "code",
      "execution_count": 5,
      "metadata": {
        "colab": {
          "base_uri": "https://localhost:8080/"
        },
        "id": "2v5tuL835PtP",
        "outputId": "73f24985-5be9-4dd1-9767-e706604437eb"
      },
      "outputs": [
        {
          "name": "stdout",
          "output_type": "stream",
          "text": [
            "Training dataset job started successfully, you can follow the progress at \n",
            "https://c.app.hopsworks.ai/p/4247/jobs/named/new_electricity_data_fv_2_1_create_fv_td_14012023131757/executions\n",
            "17589\n"
          ]
        },
        {
          "name": "stderr",
          "output_type": "stream",
          "text": [
            "VersionWarning: Incremented version to `1`.\n"
          ]
        }
      ],
      "source": [
        "version, job = feature_view.create_training_data(\n",
        "    description = 'new electricity price pred train data',\n",
        "    data_format = 'csv',\n",
        "    write_options = {\"wait_for_job\": False}\n",
        ") \n",
        "print(job.id) \n",
        "# By default, it is materialised to HopsFS\n"
      ]
    },
    {
      "cell_type": "code",
      "execution_count": 4,
      "metadata": {
        "id": "eFb6xmqL7BYy"
      },
      "outputs": [
        {
          "data": {
            "text/html": [
              "<div>\n",
              "<style scoped>\n",
              "    .dataframe tbody tr th:only-of-type {\n",
              "        vertical-align: middle;\n",
              "    }\n",
              "\n",
              "    .dataframe tbody tr th {\n",
              "        vertical-align: top;\n",
              "    }\n",
              "\n",
              "    .dataframe thead th {\n",
              "        text-align: right;\n",
              "    }\n",
              "</style>\n",
              "<table border=\"1\" class=\"dataframe\">\n",
              "  <thead>\n",
              "    <tr style=\"text-align: right;\">\n",
              "      <th></th>\n",
              "      <th>total_generation</th>\n",
              "      <th>day_ahead_price</th>\n",
              "      <th>total_load</th>\n",
              "      <th>temperature</th>\n",
              "    </tr>\n",
              "    <tr>\n",
              "      <th>datetime</th>\n",
              "      <th></th>\n",
              "      <th></th>\n",
              "      <th></th>\n",
              "      <th></th>\n",
              "    </tr>\n",
              "  </thead>\n",
              "  <tbody>\n",
              "    <tr>\n",
              "      <th>1640991600000</th>\n",
              "      <td>8619.0</td>\n",
              "      <td>46.60</td>\n",
              "      <td>9685.0</td>\n",
              "      <td>5.3</td>\n",
              "    </tr>\n",
              "    <tr>\n",
              "      <th>1640995200000</th>\n",
              "      <td>8510.0</td>\n",
              "      <td>41.33</td>\n",
              "      <td>9612.0</td>\n",
              "      <td>5.4</td>\n",
              "    </tr>\n",
              "    <tr>\n",
              "      <th>1640998800000</th>\n",
              "      <td>8473.0</td>\n",
              "      <td>42.18</td>\n",
              "      <td>9601.0</td>\n",
              "      <td>5.4</td>\n",
              "    </tr>\n",
              "    <tr>\n",
              "      <th>1641002400000</th>\n",
              "      <td>8424.0</td>\n",
              "      <td>44.37</td>\n",
              "      <td>9552.0</td>\n",
              "      <td>5.7</td>\n",
              "    </tr>\n",
              "    <tr>\n",
              "      <th>1641006000000</th>\n",
              "      <td>8326.0</td>\n",
              "      <td>37.67</td>\n",
              "      <td>9449.0</td>\n",
              "      <td>5.3</td>\n",
              "    </tr>\n",
              "    <tr>\n",
              "      <th>...</th>\n",
              "      <td>...</td>\n",
              "      <td>...</td>\n",
              "      <td>...</td>\n",
              "      <td>...</td>\n",
              "    </tr>\n",
              "    <tr>\n",
              "      <th>1673546400000</th>\n",
              "      <td>8811.0</td>\n",
              "      <td>98.37</td>\n",
              "      <td>11594.0</td>\n",
              "      <td>4.5</td>\n",
              "    </tr>\n",
              "    <tr>\n",
              "      <th>1673550000000</th>\n",
              "      <td>8749.0</td>\n",
              "      <td>74.08</td>\n",
              "      <td>11074.0</td>\n",
              "      <td>5.1</td>\n",
              "    </tr>\n",
              "    <tr>\n",
              "      <th>1673553600000</th>\n",
              "      <td>8708.0</td>\n",
              "      <td>74.50</td>\n",
              "      <td>10720.0</td>\n",
              "      <td>5.1</td>\n",
              "    </tr>\n",
              "    <tr>\n",
              "      <th>1673557200000</th>\n",
              "      <td>8665.0</td>\n",
              "      <td>66.84</td>\n",
              "      <td>10132.0</td>\n",
              "      <td>5.3</td>\n",
              "    </tr>\n",
              "    <tr>\n",
              "      <th>1673560800000</th>\n",
              "      <td>8607.0</td>\n",
              "      <td>42.49</td>\n",
              "      <td>9723.0</td>\n",
              "      <td>5.1</td>\n",
              "    </tr>\n",
              "  </tbody>\n",
              "</table>\n",
              "<p>8994 rows × 4 columns</p>\n",
              "</div>"
            ],
            "text/plain": [
              "               total_generation  day_ahead_price  total_load  temperature\n",
              "datetime                                                                 \n",
              "1640991600000            8619.0            46.60      9685.0          5.3\n",
              "1640995200000            8510.0            41.33      9612.0          5.4\n",
              "1640998800000            8473.0            42.18      9601.0          5.4\n",
              "1641002400000            8424.0            44.37      9552.0          5.7\n",
              "1641006000000            8326.0            37.67      9449.0          5.3\n",
              "...                         ...              ...         ...          ...\n",
              "1673546400000            8811.0            98.37     11594.0          4.5\n",
              "1673550000000            8749.0            74.08     11074.0          5.1\n",
              "1673553600000            8708.0            74.50     10720.0          5.1\n",
              "1673557200000            8665.0            66.84     10132.0          5.3\n",
              "1673560800000            8607.0            42.49      9723.0          5.1\n",
              "\n",
              "[8994 rows x 4 columns]"
            ]
          },
          "execution_count": 4,
          "metadata": {},
          "output_type": "execute_result"
        }
      ],
      "source": [
        "train_data = feature_view.get_training_data(training_dataset_version=1)[0]\n",
        "train_data = train_data.sort_values(by=['datetime'])\n",
        "train_data.set_index('datetime',inplace=True)\n",
        "\n",
        "train_data\n",
        "\n",
        "# train_data, test_data = feature_view.get_training_test_split(training_dataset_version=1)\n",
        "# train_data, test_data = train_data.sort_values(by=['datetime']), test_data.sort_values(by=['datetime'])\n",
        "# train_data"
      ]
    },
    {
      "cell_type": "code",
      "execution_count": 6,
      "metadata": {
        "id": "Rw9QJHR5D6fX"
      },
      "outputs": [],
      "source": [
        "## Split into train & test sets\n",
        "train_size = int(len(train_data) * 0.80)\n",
        "test_size = len(train_data) - train_size\n",
        "train = train_data.iloc[0:train_size,:]\n",
        "test = train_data.iloc[train_size:,:]\n"
      ]
    },
    {
      "cell_type": "code",
      "execution_count": 7,
      "metadata": {
        "colab": {
          "base_uri": "https://localhost:8080/",
          "height": 455
        },
        "id": "HpUdlWXaEEDz",
        "outputId": "7fd8ba04-1e54-4189-d358-2d375b69e752"
      },
      "outputs": [
        {
          "data": {
            "text/html": [
              "<div>\n",
              "<style scoped>\n",
              "    .dataframe tbody tr th:only-of-type {\n",
              "        vertical-align: middle;\n",
              "    }\n",
              "\n",
              "    .dataframe tbody tr th {\n",
              "        vertical-align: top;\n",
              "    }\n",
              "\n",
              "    .dataframe thead th {\n",
              "        text-align: right;\n",
              "    }\n",
              "</style>\n",
              "<table border=\"1\" class=\"dataframe\">\n",
              "  <thead>\n",
              "    <tr style=\"text-align: right;\">\n",
              "      <th></th>\n",
              "      <th>total_generation</th>\n",
              "      <th>day_ahead_price</th>\n",
              "      <th>total_load</th>\n",
              "      <th>temperature</th>\n",
              "    </tr>\n",
              "    <tr>\n",
              "      <th>datetime</th>\n",
              "      <th></th>\n",
              "      <th></th>\n",
              "      <th></th>\n",
              "      <th></th>\n",
              "    </tr>\n",
              "  </thead>\n",
              "  <tbody>\n",
              "    <tr>\n",
              "      <th>1640991600000</th>\n",
              "      <td>8619.0</td>\n",
              "      <td>46.60</td>\n",
              "      <td>9685.0</td>\n",
              "      <td>5.3</td>\n",
              "    </tr>\n",
              "    <tr>\n",
              "      <th>1640995200000</th>\n",
              "      <td>8510.0</td>\n",
              "      <td>41.33</td>\n",
              "      <td>9612.0</td>\n",
              "      <td>5.4</td>\n",
              "    </tr>\n",
              "    <tr>\n",
              "      <th>1640998800000</th>\n",
              "      <td>8473.0</td>\n",
              "      <td>42.18</td>\n",
              "      <td>9601.0</td>\n",
              "      <td>5.4</td>\n",
              "    </tr>\n",
              "    <tr>\n",
              "      <th>1641002400000</th>\n",
              "      <td>8424.0</td>\n",
              "      <td>44.37</td>\n",
              "      <td>9552.0</td>\n",
              "      <td>5.7</td>\n",
              "    </tr>\n",
              "    <tr>\n",
              "      <th>1641006000000</th>\n",
              "      <td>8326.0</td>\n",
              "      <td>37.67</td>\n",
              "      <td>9449.0</td>\n",
              "      <td>5.3</td>\n",
              "    </tr>\n",
              "  </tbody>\n",
              "</table>\n",
              "</div>"
            ],
            "text/plain": [
              "               total_generation  day_ahead_price  total_load  temperature\n",
              "datetime                                                                 \n",
              "1640991600000            8619.0            46.60      9685.0          5.3\n",
              "1640995200000            8510.0            41.33      9612.0          5.4\n",
              "1640998800000            8473.0            42.18      9601.0          5.4\n",
              "1641002400000            8424.0            44.37      9552.0          5.7\n",
              "1641006000000            8326.0            37.67      9449.0          5.3"
            ]
          },
          "execution_count": 7,
          "metadata": {},
          "output_type": "execute_result"
        }
      ],
      "source": [
        "train.head()"
      ]
    },
    {
      "cell_type": "code",
      "execution_count": 8,
      "metadata": {},
      "outputs": [
        {
          "data": {
            "text/html": [
              "<div>\n",
              "<style scoped>\n",
              "    .dataframe tbody tr th:only-of-type {\n",
              "        vertical-align: middle;\n",
              "    }\n",
              "\n",
              "    .dataframe tbody tr th {\n",
              "        vertical-align: top;\n",
              "    }\n",
              "\n",
              "    .dataframe thead th {\n",
              "        text-align: right;\n",
              "    }\n",
              "</style>\n",
              "<table border=\"1\" class=\"dataframe\">\n",
              "  <thead>\n",
              "    <tr style=\"text-align: right;\">\n",
              "      <th></th>\n",
              "      <th>total_generation</th>\n",
              "      <th>day_ahead_price</th>\n",
              "      <th>total_load</th>\n",
              "      <th>temperature</th>\n",
              "    </tr>\n",
              "    <tr>\n",
              "      <th>datetime</th>\n",
              "      <th></th>\n",
              "      <th></th>\n",
              "      <th></th>\n",
              "      <th></th>\n",
              "    </tr>\n",
              "  </thead>\n",
              "  <tbody>\n",
              "    <tr>\n",
              "      <th>1666904400000</th>\n",
              "      <td>7990.0</td>\n",
              "      <td>27.18</td>\n",
              "      <td>7913.0</td>\n",
              "      <td>13.3</td>\n",
              "    </tr>\n",
              "    <tr>\n",
              "      <th>1666908000000</th>\n",
              "      <td>8031.0</td>\n",
              "      <td>25.89</td>\n",
              "      <td>7575.0</td>\n",
              "      <td>13.8</td>\n",
              "    </tr>\n",
              "    <tr>\n",
              "      <th>1666911600000</th>\n",
              "      <td>7992.0</td>\n",
              "      <td>23.71</td>\n",
              "      <td>7292.0</td>\n",
              "      <td>13.7</td>\n",
              "    </tr>\n",
              "    <tr>\n",
              "      <th>1666915200000</th>\n",
              "      <td>7984.0</td>\n",
              "      <td>22.35</td>\n",
              "      <td>7137.0</td>\n",
              "      <td>14.0</td>\n",
              "    </tr>\n",
              "    <tr>\n",
              "      <th>1666918800000</th>\n",
              "      <td>7955.0</td>\n",
              "      <td>20.23</td>\n",
              "      <td>7195.0</td>\n",
              "      <td>14.2</td>\n",
              "    </tr>\n",
              "  </tbody>\n",
              "</table>\n",
              "</div>"
            ],
            "text/plain": [
              "               total_generation  day_ahead_price  total_load  temperature\n",
              "datetime                                                                 \n",
              "1666904400000            7990.0            27.18      7913.0         13.3\n",
              "1666908000000            8031.0            25.89      7575.0         13.8\n",
              "1666911600000            7992.0            23.71      7292.0         13.7\n",
              "1666915200000            7984.0            22.35      7137.0         14.0\n",
              "1666918800000            7955.0            20.23      7195.0         14.2"
            ]
          },
          "execution_count": 8,
          "metadata": {},
          "output_type": "execute_result"
        }
      ],
      "source": [
        "test.head()"
      ]
    },
    {
      "cell_type": "code",
      "execution_count": 9,
      "metadata": {
        "id": "GLV1Gp0mRBuo"
      },
      "outputs": [],
      "source": [
        "# Standard scaler for features and label\n",
        "\n",
        "sc_x=StandardScaler()\n",
        "X_scaled_train=sc_x.fit_transform(train)"
      ]
    },
    {
      "cell_type": "code",
      "execution_count": 10,
      "metadata": {
        "id": "jgZmqGdOFDaI"
      },
      "outputs": [],
      "source": [
        "sc_y=StandardScaler()\n",
        "y_scaled_train=sc_y.fit_transform(train[['day_ahead_price']])"
      ]
    },
    {
      "cell_type": "code",
      "execution_count": 11,
      "metadata": {},
      "outputs": [
        {
          "name": "stdout",
          "output_type": "stream",
          "text": [
            "<class 'pandas.core.frame.DataFrame'>\n",
            "Int64Index: 7195 entries, 1640991600000 to 1666900800000\n",
            "Data columns (total 4 columns):\n",
            " #   Column            Non-Null Count  Dtype  \n",
            "---  ------            --------------  -----  \n",
            " 0   total_generation  7195 non-null   float64\n",
            " 1   day_ahead_price   7195 non-null   float64\n",
            " 2   total_load        7195 non-null   float64\n",
            " 3   temperature       7195 non-null   float64\n",
            "dtypes: float64(4)\n",
            "memory usage: 281.1 KB\n"
          ]
        }
      ],
      "source": [
        "train.info()"
      ]
    },
    {
      "cell_type": "code",
      "execution_count": 12,
      "metadata": {
        "id": "ylgobSXOEOD1"
      },
      "outputs": [],
      "source": [
        "step_back=24\n",
        "no_records=len(train)\n",
        "no_cols=len(train.columns)\n",
        "X_train=[]\n",
        "y_train=[]\n",
        "for i in range(step_back,no_records):\n",
        "    X_train.append(X_scaled_train[i-step_back:i])\n",
        "    y_train.append(y_scaled_train[i][0])\n",
        "X_train,y_train=np.array(X_train),np.array(y_train)"
      ]
    },
    {
      "cell_type": "code",
      "execution_count": 13,
      "metadata": {
        "colab": {
          "base_uri": "https://localhost:8080/"
        },
        "id": "6CDcU0apJKbF",
        "outputId": "eef54356-208d-4438-b68f-ae4fdefa0172"
      },
      "outputs": [
        {
          "name": "stdout",
          "output_type": "stream",
          "text": [
            "(7171, 24, 4)\n",
            "(7171,)\n"
          ]
        }
      ],
      "source": [
        "print(X_train.shape)\n",
        "print(y_train.shape)"
      ]
    },
    {
      "cell_type": "code",
      "execution_count": 14,
      "metadata": {
        "id": "DLzQl9mdJZnG"
      },
      "outputs": [
        {
          "data": {
            "text/plain": [
              "(7171, 24, 4)"
            ]
          },
          "execution_count": 14,
          "metadata": {},
          "output_type": "execute_result"
        }
      ],
      "source": [
        "X_train_shape=np.reshape(X_train,(X_train.shape[0],X_train.shape[1],X_train.shape[2]))\n",
        "X_train_shape.shape"
      ]
    },
    {
      "cell_type": "markdown",
      "metadata": {},
      "source": [
        "### LSTM model No. 1"
      ]
    },
    {
      "cell_type": "code",
      "execution_count": 15,
      "metadata": {},
      "outputs": [
        {
          "name": "stderr",
          "output_type": "stream",
          "text": [
            "2023-01-14 17:46:19.383828: I tensorflow/compiler/xla/stream_executor/cuda/cuda_gpu_executor.cc:981] successful NUMA node read from SysFS had negative value (-1), but there must be at least one NUMA node, so returning NUMA node zero\n",
            "2023-01-14 17:46:19.384095: W tensorflow/compiler/xla/stream_executor/platform/default/dso_loader.cc:64] Could not load dynamic library 'libcudart.so.11.0'; dlerror: libcudart.so.11.0: cannot open shared object file: No such file or directory\n",
            "2023-01-14 17:46:19.384839: W tensorflow/compiler/xla/stream_executor/platform/default/dso_loader.cc:64] Could not load dynamic library 'libcublas.so.11'; dlerror: libcublas.so.11: cannot open shared object file: No such file or directory\n",
            "2023-01-14 17:46:19.385100: W tensorflow/compiler/xla/stream_executor/platform/default/dso_loader.cc:64] Could not load dynamic library 'libcublasLt.so.11'; dlerror: libcublasLt.so.11: cannot open shared object file: No such file or directory\n",
            "2023-01-14 17:46:19.385218: W tensorflow/compiler/xla/stream_executor/platform/default/dso_loader.cc:64] Could not load dynamic library 'libcufft.so.10'; dlerror: libcufft.so.10: cannot open shared object file: No such file or directory\n",
            "2023-01-14 17:46:19.385297: W tensorflow/compiler/xla/stream_executor/platform/default/dso_loader.cc:64] Could not load dynamic library 'libcurand.so.10'; dlerror: libcurand.so.10: cannot open shared object file: No such file or directory\n",
            "2023-01-14 17:46:19.385367: W tensorflow/compiler/xla/stream_executor/platform/default/dso_loader.cc:64] Could not load dynamic library 'libcusolver.so.11'; dlerror: libcusolver.so.11: cannot open shared object file: No such file or directory\n",
            "2023-01-14 17:46:19.385436: W tensorflow/compiler/xla/stream_executor/platform/default/dso_loader.cc:64] Could not load dynamic library 'libcusparse.so.11'; dlerror: libcusparse.so.11: cannot open shared object file: No such file or directory\n",
            "2023-01-14 17:46:19.385502: W tensorflow/compiler/xla/stream_executor/platform/default/dso_loader.cc:64] Could not load dynamic library 'libcudnn.so.8'; dlerror: libcudnn.so.8: cannot open shared object file: No such file or directory\n",
            "2023-01-14 17:46:19.385513: W tensorflow/core/common_runtime/gpu/gpu_device.cc:1934] Cannot dlopen some GPU libraries. Please make sure the missing libraries mentioned above are installed properly if you would like to use GPU. Follow the guide at https://www.tensorflow.org/install/gpu for how to download and setup the required libraries for your platform.\n",
            "Skipping registering GPU devices...\n",
            "2023-01-14 17:46:19.388592: I tensorflow/core/platform/cpu_feature_guard.cc:193] This TensorFlow binary is optimized with oneAPI Deep Neural Network Library (oneDNN) to use the following CPU instructions in performance-critical operations:  AVX2 FMA\n",
            "To enable them in other operations, rebuild TensorFlow with the appropriate compiler flags.\n"
          ]
        }
      ],
      "source": [
        "lstm_model = tf.keras.models.Sequential([\n",
        "    tf.keras.layers.LSTM(units=665,input_shape=(step_back,no_cols),recurrent_dropout=0.2,use_bias=True),\n",
        "    tf.keras.layers.Dense(units=24)\n",
        "])"
      ]
    },
    {
      "cell_type": "code",
      "execution_count": 16,
      "metadata": {},
      "outputs": [
        {
          "name": "stdout",
          "output_type": "stream",
          "text": [
            "Model: \"sequential\"\n",
            "_________________________________________________________________\n",
            " Layer (type)                Output Shape              Param #   \n",
            "=================================================================\n",
            " lstm (LSTM)                 (None, 665)               1782200   \n",
            "                                                                 \n",
            " dense (Dense)               (None, 24)                15984     \n",
            "                                                                 \n",
            "=================================================================\n",
            "Total params: 1,798,184\n",
            "Trainable params: 1,798,184\n",
            "Non-trainable params: 0\n",
            "_________________________________________________________________\n"
          ]
        }
      ],
      "source": [
        "lstm_model.summary()"
      ]
    },
    {
      "cell_type": "code",
      "execution_count": 17,
      "metadata": {},
      "outputs": [],
      "source": [
        "MAX_EPOCHS = 200\n",
        "\n",
        "def compile_and_fit(model, x_train):\n",
        "\n",
        "  model.compile(loss=tf.keras.losses.MeanSquaredError(),\n",
        "                optimizer=tf.keras.optimizers.Adam(),\n",
        "                metrics=[tf.keras.metrics.MeanAbsoluteError()])\n",
        "\n",
        "  history = model.fit(x_train, y_train, epochs=MAX_EPOCHS,batch_size=1000, verbose=1, shuffle=False)\n",
        "  return history"
      ]
    },
    {
      "cell_type": "code",
      "execution_count": 18,
      "metadata": {},
      "outputs": [
        {
          "name": "stdout",
          "output_type": "stream",
          "text": [
            "Epoch 1/200\n",
            "8/8 [==============================] - 26s 3s/step - loss: 0.8137 - mean_absolute_error: 0.6762\n",
            "Epoch 2/200\n",
            "8/8 [==============================] - 20s 3s/step - loss: 0.6322 - mean_absolute_error: 0.5926\n",
            "Epoch 3/200\n",
            "8/8 [==============================] - 20s 3s/step - loss: 0.4822 - mean_absolute_error: 0.4889\n",
            "Epoch 4/200\n",
            "8/8 [==============================] - 21s 3s/step - loss: 0.4216 - mean_absolute_error: 0.4672\n",
            "Epoch 5/200\n",
            "8/8 [==============================] - 21s 3s/step - loss: 0.3498 - mean_absolute_error: 0.4119\n",
            "Epoch 6/200\n",
            "8/8 [==============================] - 19s 2s/step - loss: 0.2988 - mean_absolute_error: 0.3764\n",
            "Epoch 7/200\n",
            "8/8 [==============================] - 21s 3s/step - loss: 0.2854 - mean_absolute_error: 0.3702\n",
            "Epoch 8/200\n",
            "8/8 [==============================] - 20s 2s/step - loss: 0.2704 - mean_absolute_error: 0.3600\n",
            "Epoch 9/200\n",
            "8/8 [==============================] - 19s 2s/step - loss: 0.2203 - mean_absolute_error: 0.3201\n",
            "Epoch 10/200\n",
            "8/8 [==============================] - 20s 3s/step - loss: 0.2180 - mean_absolute_error: 0.3179\n",
            "Epoch 11/200\n",
            "8/8 [==============================] - 20s 2s/step - loss: 0.1790 - mean_absolute_error: 0.2804\n",
            "Epoch 12/200\n",
            "8/8 [==============================] - 20s 2s/step - loss: 0.1710 - mean_absolute_error: 0.2693\n",
            "Epoch 13/200\n",
            "8/8 [==============================] - 21s 3s/step - loss: 0.1603 - mean_absolute_error: 0.2748\n",
            "Epoch 14/200\n",
            "8/8 [==============================] - 20s 2s/step - loss: 0.1451 - mean_absolute_error: 0.2415\n",
            "Epoch 15/200\n",
            "8/8 [==============================] - 20s 2s/step - loss: 0.1500 - mean_absolute_error: 0.2555\n",
            "Epoch 16/200\n",
            "8/8 [==============================] - 22s 3s/step - loss: 0.1600 - mean_absolute_error: 0.2492\n",
            "Epoch 17/200\n",
            "8/8 [==============================] - 20s 2s/step - loss: 0.1396 - mean_absolute_error: 0.2343\n",
            "Epoch 18/200\n",
            "8/8 [==============================] - 20s 2s/step - loss: 0.1278 - mean_absolute_error: 0.2278\n",
            "Epoch 19/200\n",
            "8/8 [==============================] - 22s 3s/step - loss: 0.1212 - mean_absolute_error: 0.2219\n",
            "Epoch 20/200\n",
            "8/8 [==============================] - 20s 2s/step - loss: 0.1150 - mean_absolute_error: 0.2172\n",
            "Epoch 21/200\n",
            "8/8 [==============================] - 20s 2s/step - loss: 0.1161 - mean_absolute_error: 0.2211\n",
            "Epoch 22/200\n",
            "8/8 [==============================] - 22s 3s/step - loss: 0.1167 - mean_absolute_error: 0.2241\n",
            "Epoch 23/200\n",
            "8/8 [==============================] - 20s 3s/step - loss: 0.1181 - mean_absolute_error: 0.2292\n",
            "Epoch 24/200\n",
            "8/8 [==============================] - 20s 3s/step - loss: 0.1187 - mean_absolute_error: 0.2110\n",
            "Epoch 25/200\n",
            "8/8 [==============================] - 21s 3s/step - loss: 0.1131 - mean_absolute_error: 0.2141\n",
            "Epoch 26/200\n",
            "8/8 [==============================] - 20s 3s/step - loss: 0.1293 - mean_absolute_error: 0.2277\n",
            "Epoch 27/200\n",
            "8/8 [==============================] - 21s 3s/step - loss: 0.1139 - mean_absolute_error: 0.1996\n",
            "Epoch 28/200\n",
            "8/8 [==============================] - 21s 3s/step - loss: 0.1183 - mean_absolute_error: 0.2232\n",
            "Epoch 29/200\n",
            "8/8 [==============================] - 20s 2s/step - loss: 0.1091 - mean_absolute_error: 0.1932\n",
            "Epoch 30/200\n",
            "8/8 [==============================] - 22s 3s/step - loss: 0.1072 - mean_absolute_error: 0.2071\n",
            "Epoch 31/200\n",
            "8/8 [==============================] - 21s 3s/step - loss: 0.0968 - mean_absolute_error: 0.1831\n",
            "Epoch 32/200\n",
            "8/8 [==============================] - 20s 2s/step - loss: 0.0963 - mean_absolute_error: 0.1930\n",
            "Epoch 33/200\n",
            "8/8 [==============================] - 21s 3s/step - loss: 0.0936 - mean_absolute_error: 0.1829\n",
            "Epoch 34/200\n",
            "8/8 [==============================] - 21s 2s/step - loss: 0.0925 - mean_absolute_error: 0.1824\n",
            "Epoch 35/200\n",
            "8/8 [==============================] - 20s 2s/step - loss: 0.0906 - mean_absolute_error: 0.1814\n",
            "Epoch 36/200\n",
            "8/8 [==============================] - 22s 3s/step - loss: 0.0896 - mean_absolute_error: 0.1786\n",
            "Epoch 37/200\n",
            "8/8 [==============================] - 21s 2s/step - loss: 0.0891 - mean_absolute_error: 0.1792\n",
            "Epoch 38/200\n",
            "8/8 [==============================] - 21s 3s/step - loss: 0.0901 - mean_absolute_error: 0.1791\n",
            "Epoch 39/200\n",
            "8/8 [==============================] - 22s 3s/step - loss: 0.0902 - mean_absolute_error: 0.1801\n",
            "Epoch 40/200\n",
            "8/8 [==============================] - 20s 2s/step - loss: 0.0930 - mean_absolute_error: 0.1845\n",
            "Epoch 41/200\n",
            "8/8 [==============================] - 20s 2s/step - loss: 0.0933 - mean_absolute_error: 0.1756\n",
            "Epoch 42/200\n",
            "8/8 [==============================] - 22s 3s/step - loss: 0.0891 - mean_absolute_error: 0.1807\n",
            "Epoch 43/200\n",
            "8/8 [==============================] - 20s 2s/step - loss: 0.0885 - mean_absolute_error: 0.1741\n",
            "Epoch 44/200\n",
            "8/8 [==============================] - 20s 2s/step - loss: 0.0879 - mean_absolute_error: 0.1818\n",
            "Epoch 45/200\n",
            "8/8 [==============================] - 22s 3s/step - loss: 0.0870 - mean_absolute_error: 0.1728\n",
            "Epoch 46/200\n",
            "8/8 [==============================] - 20s 2s/step - loss: 0.0879 - mean_absolute_error: 0.1835\n",
            "Epoch 47/200\n",
            "8/8 [==============================] - 21s 3s/step - loss: 0.0867 - mean_absolute_error: 0.1715\n",
            "Epoch 48/200\n",
            "8/8 [==============================] - 21s 3s/step - loss: 0.0915 - mean_absolute_error: 0.1871\n",
            "Epoch 49/200\n",
            "8/8 [==============================] - 20s 2s/step - loss: 0.0908 - mean_absolute_error: 0.1743\n",
            "Epoch 50/200\n",
            "8/8 [==============================] - 23s 3s/step - loss: 0.0954 - mean_absolute_error: 0.1932\n",
            "Epoch 51/200\n",
            "8/8 [==============================] - 22s 3s/step - loss: 0.0929 - mean_absolute_error: 0.1723\n",
            "Epoch 52/200\n",
            "8/8 [==============================] - 21s 3s/step - loss: 0.0916 - mean_absolute_error: 0.1882\n",
            "Epoch 53/200\n",
            "8/8 [==============================] - 24s 3s/step - loss: 0.0877 - mean_absolute_error: 0.1741\n",
            "Epoch 54/200\n",
            "8/8 [==============================] - 21s 3s/step - loss: 0.0899 - mean_absolute_error: 0.1846\n",
            "Epoch 55/200\n",
            "8/8 [==============================] - 21s 3s/step - loss: 0.0876 - mean_absolute_error: 0.1730\n",
            "Epoch 56/200\n",
            "8/8 [==============================] - 23s 3s/step - loss: 0.0868 - mean_absolute_error: 0.1789\n",
            "Epoch 57/200\n",
            "8/8 [==============================] - 20s 3s/step - loss: 0.0834 - mean_absolute_error: 0.1678\n",
            "Epoch 58/200\n",
            "8/8 [==============================] - 22s 3s/step - loss: 0.0859 - mean_absolute_error: 0.1764\n",
            "Epoch 59/200\n",
            "8/8 [==============================] - 22s 3s/step - loss: 0.0865 - mean_absolute_error: 0.1674\n",
            "Epoch 60/200\n",
            "8/8 [==============================] - 21s 3s/step - loss: 0.0886 - mean_absolute_error: 0.1817\n",
            "Epoch 61/200\n",
            "8/8 [==============================] - 23s 3s/step - loss: 0.0899 - mean_absolute_error: 0.1684\n",
            "Epoch 62/200\n",
            "8/8 [==============================] - 22s 3s/step - loss: 0.0876 - mean_absolute_error: 0.1802\n",
            "Epoch 63/200\n",
            "8/8 [==============================] - 21s 3s/step - loss: 0.0870 - mean_absolute_error: 0.1711\n",
            "Epoch 64/200\n",
            "8/8 [==============================] - 24s 3s/step - loss: 0.0879 - mean_absolute_error: 0.1803\n",
            "Epoch 65/200\n",
            "8/8 [==============================] - 21s 3s/step - loss: 0.0859 - mean_absolute_error: 0.1738\n",
            "Epoch 66/200\n",
            "8/8 [==============================] - 21s 3s/step - loss: 0.0858 - mean_absolute_error: 0.1756\n",
            "Epoch 67/200\n",
            "8/8 [==============================] - 21s 3s/step - loss: 0.0843 - mean_absolute_error: 0.1707\n",
            "Epoch 68/200\n",
            "8/8 [==============================] - 20s 2s/step - loss: 0.0872 - mean_absolute_error: 0.1800\n",
            "Epoch 69/200\n",
            "8/8 [==============================] - 23s 3s/step - loss: 0.0845 - mean_absolute_error: 0.1685\n",
            "Epoch 70/200\n",
            "8/8 [==============================] - 21s 3s/step - loss: 0.0867 - mean_absolute_error: 0.1822\n",
            "Epoch 71/200\n",
            "8/8 [==============================] - 21s 3s/step - loss: 0.0875 - mean_absolute_error: 0.1666\n",
            "Epoch 72/200\n",
            "8/8 [==============================] - 24s 3s/step - loss: 0.0840 - mean_absolute_error: 0.1802\n",
            "Epoch 73/200\n",
            "8/8 [==============================] - 21s 3s/step - loss: 0.0833 - mean_absolute_error: 0.1662\n",
            "Epoch 74/200\n",
            "8/8 [==============================] - 22s 3s/step - loss: 0.0852 - mean_absolute_error: 0.1800\n",
            "Epoch 75/200\n",
            "8/8 [==============================] - 22s 3s/step - loss: 0.0845 - mean_absolute_error: 0.1718\n",
            "Epoch 76/200\n",
            "8/8 [==============================] - 21s 3s/step - loss: 0.0837 - mean_absolute_error: 0.1767\n",
            "Epoch 77/200\n",
            "8/8 [==============================] - 24s 3s/step - loss: 0.0821 - mean_absolute_error: 0.1707\n",
            "Epoch 78/200\n",
            "8/8 [==============================] - 23s 3s/step - loss: 0.0846 - mean_absolute_error: 0.1785\n",
            "Epoch 79/200\n",
            "8/8 [==============================] - 20s 3s/step - loss: 0.0839 - mean_absolute_error: 0.1740\n",
            "Epoch 80/200\n",
            "8/8 [==============================] - 22s 3s/step - loss: 0.0843 - mean_absolute_error: 0.1751\n",
            "Epoch 81/200\n",
            "8/8 [==============================] - 20s 2s/step - loss: 0.0815 - mean_absolute_error: 0.1678\n",
            "Epoch 82/200\n",
            "8/8 [==============================] - 21s 3s/step - loss: 0.0815 - mean_absolute_error: 0.1742\n",
            "Epoch 83/200\n",
            "8/8 [==============================] - 22s 3s/step - loss: 0.0843 - mean_absolute_error: 0.1685\n",
            "Epoch 84/200\n",
            "8/8 [==============================] - 21s 3s/step - loss: 0.0852 - mean_absolute_error: 0.1792\n",
            "Epoch 85/200\n",
            "8/8 [==============================] - 24s 3s/step - loss: 0.0849 - mean_absolute_error: 0.1684\n",
            "Epoch 86/200\n",
            "8/8 [==============================] - 22s 3s/step - loss: 0.0828 - mean_absolute_error: 0.1742\n",
            "Epoch 87/200\n",
            "8/8 [==============================] - 22s 3s/step - loss: 0.0875 - mean_absolute_error: 0.1747\n",
            "Epoch 88/200\n",
            "8/8 [==============================] - 21s 3s/step - loss: 0.0899 - mean_absolute_error: 0.1854\n",
            "Epoch 89/200\n",
            "8/8 [==============================] - 19s 2s/step - loss: 0.0887 - mean_absolute_error: 0.1753\n",
            "Epoch 90/200\n",
            "8/8 [==============================] - 20s 2s/step - loss: 0.0883 - mean_absolute_error: 0.1830\n",
            "Epoch 91/200\n",
            "8/8 [==============================] - 22s 3s/step - loss: 0.0828 - mean_absolute_error: 0.1711\n",
            "Epoch 92/200\n",
            "8/8 [==============================] - 20s 2s/step - loss: 0.0836 - mean_absolute_error: 0.1797\n",
            "Epoch 93/200\n",
            "8/8 [==============================] - 22s 3s/step - loss: 0.0807 - mean_absolute_error: 0.1714\n",
            "Epoch 94/200\n",
            "8/8 [==============================] - 23s 3s/step - loss: 0.0817 - mean_absolute_error: 0.1767\n",
            "Epoch 95/200\n",
            "8/8 [==============================] - 22s 3s/step - loss: 0.0795 - mean_absolute_error: 0.1671\n",
            "Epoch 96/200\n",
            "8/8 [==============================] - 25s 3s/step - loss: 0.0776 - mean_absolute_error: 0.1704\n",
            "Epoch 97/200\n",
            "8/8 [==============================] - 22s 3s/step - loss: 0.0752 - mean_absolute_error: 0.1640\n",
            "Epoch 98/200\n",
            "8/8 [==============================] - 21s 3s/step - loss: 0.0756 - mean_absolute_error: 0.1630\n",
            "Epoch 99/200\n",
            "8/8 [==============================] - 23s 3s/step - loss: 0.0750 - mean_absolute_error: 0.1682\n",
            "Epoch 100/200\n",
            "8/8 [==============================] - 21s 3s/step - loss: 0.0771 - mean_absolute_error: 0.1633\n",
            "Epoch 101/200\n",
            "8/8 [==============================] - 22s 3s/step - loss: 0.0749 - mean_absolute_error: 0.1698\n",
            "Epoch 102/200\n",
            "8/8 [==============================] - 23s 3s/step - loss: 0.0740 - mean_absolute_error: 0.1632\n",
            "Epoch 103/200\n",
            "8/8 [==============================] - 21s 3s/step - loss: 0.0750 - mean_absolute_error: 0.1653\n",
            "Epoch 104/200\n",
            "8/8 [==============================] - 22s 3s/step - loss: 0.0750 - mean_absolute_error: 0.1650\n",
            "Epoch 105/200\n",
            "8/8 [==============================] - 21s 3s/step - loss: 0.0750 - mean_absolute_error: 0.1685\n",
            "Epoch 106/200\n",
            "8/8 [==============================] - 21s 3s/step - loss: 0.0753 - mean_absolute_error: 0.1622\n",
            "Epoch 107/200\n",
            "8/8 [==============================] - 24s 3s/step - loss: 0.0759 - mean_absolute_error: 0.1715\n",
            "Epoch 108/200\n",
            "8/8 [==============================] - 22s 3s/step - loss: 0.0790 - mean_absolute_error: 0.1620\n",
            "Epoch 109/200\n",
            "8/8 [==============================] - 20s 3s/step - loss: 0.0763 - mean_absolute_error: 0.1751\n",
            "Epoch 110/200\n",
            "8/8 [==============================] - 22s 3s/step - loss: 0.0747 - mean_absolute_error: 0.1619\n",
            "Epoch 111/200\n",
            "8/8 [==============================] - 20s 3s/step - loss: 0.0756 - mean_absolute_error: 0.1720\n",
            "Epoch 112/200\n",
            "8/8 [==============================] - 20s 3s/step - loss: 0.0795 - mean_absolute_error: 0.1655\n",
            "Epoch 113/200\n",
            "8/8 [==============================] - 22s 3s/step - loss: 0.0817 - mean_absolute_error: 0.1734\n",
            "Epoch 114/200\n",
            "8/8 [==============================] - 21s 3s/step - loss: 0.0805 - mean_absolute_error: 0.1735\n",
            "Epoch 115/200\n",
            "8/8 [==============================] - 21s 3s/step - loss: 0.0821 - mean_absolute_error: 0.1784\n",
            "Epoch 116/200\n",
            "8/8 [==============================] - 23s 3s/step - loss: 0.0780 - mean_absolute_error: 0.1718\n",
            "Epoch 117/200\n",
            "8/8 [==============================] - 20s 2s/step - loss: 0.0799 - mean_absolute_error: 0.1789\n",
            "Epoch 118/200\n",
            "8/8 [==============================] - 22s 3s/step - loss: 0.0787 - mean_absolute_error: 0.1691\n",
            "Epoch 119/200\n",
            "8/8 [==============================] - 20s 2s/step - loss: 0.0787 - mean_absolute_error: 0.1727\n",
            "Epoch 120/200\n",
            "8/8 [==============================] - 20s 3s/step - loss: 0.0823 - mean_absolute_error: 0.1675\n",
            "Epoch 121/200\n",
            "8/8 [==============================] - 23s 3s/step - loss: 0.0841 - mean_absolute_error: 0.1790\n",
            "Epoch 122/200\n",
            "8/8 [==============================] - 22s 3s/step - loss: 0.0887 - mean_absolute_error: 0.1712\n",
            "Epoch 123/200\n",
            "8/8 [==============================] - 23s 3s/step - loss: 0.0812 - mean_absolute_error: 0.1754\n",
            "Epoch 124/200\n",
            "8/8 [==============================] - 24s 3s/step - loss: 0.0778 - mean_absolute_error: 0.1732\n",
            "Epoch 125/200\n",
            "8/8 [==============================] - 21s 3s/step - loss: 0.0778 - mean_absolute_error: 0.1711\n",
            "Epoch 126/200\n",
            "8/8 [==============================] - 26s 3s/step - loss: 0.0752 - mean_absolute_error: 0.1677\n",
            "Epoch 127/200\n",
            "8/8 [==============================] - 22s 3s/step - loss: 0.0756 - mean_absolute_error: 0.1737\n",
            "Epoch 128/200\n",
            "8/8 [==============================] - 21s 3s/step - loss: 0.0740 - mean_absolute_error: 0.1580\n",
            "Epoch 129/200\n",
            "8/8 [==============================] - 23s 3s/step - loss: 0.0732 - mean_absolute_error: 0.1705\n",
            "Epoch 130/200\n",
            "8/8 [==============================] - 21s 3s/step - loss: 0.0727 - mean_absolute_error: 0.1601\n",
            "Epoch 131/200\n",
            "8/8 [==============================] - 22s 3s/step - loss: 0.0705 - mean_absolute_error: 0.1681\n",
            "Epoch 132/200\n",
            "8/8 [==============================] - 23s 3s/step - loss: 0.0696 - mean_absolute_error: 0.1614\n",
            "Epoch 133/200\n",
            "8/8 [==============================] - 21s 3s/step - loss: 0.0703 - mean_absolute_error: 0.1659\n",
            "Epoch 134/200\n",
            "8/8 [==============================] - 23s 3s/step - loss: 0.0708 - mean_absolute_error: 0.1658\n",
            "Epoch 135/200\n",
            "8/8 [==============================] - 21s 3s/step - loss: 0.0714 - mean_absolute_error: 0.1656\n",
            "Epoch 136/200\n",
            "8/8 [==============================] - 22s 3s/step - loss: 0.0683 - mean_absolute_error: 0.1658\n",
            "Epoch 137/200\n",
            "8/8 [==============================] - 23s 3s/step - loss: 0.0684 - mean_absolute_error: 0.1609\n",
            "Epoch 138/200\n",
            "8/8 [==============================] - 20s 3s/step - loss: 0.0661 - mean_absolute_error: 0.1581\n",
            "Epoch 139/200\n",
            "8/8 [==============================] - 21s 3s/step - loss: 0.0657 - mean_absolute_error: 0.1599\n",
            "Epoch 140/200\n",
            "8/8 [==============================] - 23s 3s/step - loss: 0.0659 - mean_absolute_error: 0.1626\n",
            "Epoch 141/200\n",
            "8/8 [==============================] - 21s 3s/step - loss: 0.0705 - mean_absolute_error: 0.1595\n",
            "Epoch 142/200\n",
            "8/8 [==============================] - 23s 3s/step - loss: 0.0676 - mean_absolute_error: 0.1578\n",
            "Epoch 143/200\n",
            "8/8 [==============================] - 23s 3s/step - loss: 0.0680 - mean_absolute_error: 0.1638\n",
            "Epoch 144/200\n",
            "8/8 [==============================] - 21s 3s/step - loss: 0.0667 - mean_absolute_error: 0.1581\n",
            "Epoch 145/200\n",
            "8/8 [==============================] - 24s 3s/step - loss: 0.0661 - mean_absolute_error: 0.1625\n",
            "Epoch 146/200\n",
            "8/8 [==============================] - 21s 3s/step - loss: 0.0710 - mean_absolute_error: 0.1649\n",
            "Epoch 147/200\n",
            "8/8 [==============================] - 25s 3s/step - loss: 0.0689 - mean_absolute_error: 0.1641\n",
            "Epoch 148/200\n",
            "8/8 [==============================] - 27s 3s/step - loss: 0.0698 - mean_absolute_error: 0.1667\n",
            "Epoch 149/200\n",
            "8/8 [==============================] - 22s 3s/step - loss: 0.0649 - mean_absolute_error: 0.1587\n",
            "Epoch 150/200\n",
            "8/8 [==============================] - 25s 3s/step - loss: 0.0676 - mean_absolute_error: 0.1609\n",
            "Epoch 151/200\n",
            "8/8 [==============================] - 21s 3s/step - loss: 0.0659 - mean_absolute_error: 0.1571\n",
            "Epoch 152/200\n",
            "8/8 [==============================] - 24s 3s/step - loss: 0.0655 - mean_absolute_error: 0.1601\n",
            "Epoch 153/200\n",
            "8/8 [==============================] - 24s 3s/step - loss: 0.0650 - mean_absolute_error: 0.1577\n",
            "Epoch 154/200\n",
            "8/8 [==============================] - 22s 3s/step - loss: 0.0722 - mean_absolute_error: 0.1667\n",
            "Epoch 155/200\n",
            "8/8 [==============================] - 24s 3s/step - loss: 0.0702 - mean_absolute_error: 0.1657\n",
            "Epoch 156/200\n",
            "8/8 [==============================] - 21s 3s/step - loss: 0.0748 - mean_absolute_error: 0.1742\n",
            "Epoch 157/200\n",
            "8/8 [==============================] - 22s 3s/step - loss: 0.0747 - mean_absolute_error: 0.1736\n",
            "Epoch 158/200\n",
            "8/8 [==============================] - 23s 3s/step - loss: 0.0758 - mean_absolute_error: 0.1828\n",
            "Epoch 159/200\n",
            "8/8 [==============================] - 22s 3s/step - loss: 0.0743 - mean_absolute_error: 0.1772\n",
            "Epoch 160/200\n",
            "8/8 [==============================] - 24s 3s/step - loss: 0.0753 - mean_absolute_error: 0.1775\n",
            "Epoch 161/200\n",
            "8/8 [==============================] - 22s 3s/step - loss: 0.0723 - mean_absolute_error: 0.1716\n",
            "Epoch 162/200\n",
            "8/8 [==============================] - 21s 3s/step - loss: 0.0742 - mean_absolute_error: 0.1703\n",
            "Epoch 163/200\n",
            "8/8 [==============================] - 24s 3s/step - loss: 0.0711 - mean_absolute_error: 0.1628\n",
            "Epoch 164/200\n",
            "8/8 [==============================] - 20s 2s/step - loss: 0.0689 - mean_absolute_error: 0.1634\n",
            "Epoch 165/200\n",
            "8/8 [==============================] - 21s 3s/step - loss: 0.0648 - mean_absolute_error: 0.1562\n",
            "Epoch 166/200\n",
            "8/8 [==============================] - 22s 3s/step - loss: 0.0619 - mean_absolute_error: 0.1516\n",
            "Epoch 167/200\n",
            "8/8 [==============================] - 21s 3s/step - loss: 0.0601 - mean_absolute_error: 0.1562\n",
            "Epoch 168/200\n",
            "8/8 [==============================] - 25s 3s/step - loss: 0.0608 - mean_absolute_error: 0.1517\n",
            "Epoch 169/200\n",
            "8/8 [==============================] - 22s 3s/step - loss: 0.0605 - mean_absolute_error: 0.1549\n",
            "Epoch 170/200\n",
            "8/8 [==============================] - 23s 3s/step - loss: 0.0607 - mean_absolute_error: 0.1527\n",
            "Epoch 171/200\n",
            "8/8 [==============================] - 24s 3s/step - loss: 0.0593 - mean_absolute_error: 0.1542\n",
            "Epoch 172/200\n",
            "8/8 [==============================] - 21s 3s/step - loss: 0.0583 - mean_absolute_error: 0.1516\n",
            "Epoch 173/200\n",
            "8/8 [==============================] - 24s 3s/step - loss: 0.0580 - mean_absolute_error: 0.1541\n",
            "Epoch 174/200\n",
            "8/8 [==============================] - 22s 3s/step - loss: 0.0614 - mean_absolute_error: 0.1528\n",
            "Epoch 175/200\n",
            "8/8 [==============================] - 22s 3s/step - loss: 0.0617 - mean_absolute_error: 0.1574\n",
            "Epoch 176/200\n",
            "8/8 [==============================] - 24s 3s/step - loss: 0.0644 - mean_absolute_error: 0.1564\n",
            "Epoch 177/200\n",
            "8/8 [==============================] - 20s 2s/step - loss: 0.0617 - mean_absolute_error: 0.1610\n",
            "Epoch 178/200\n",
            "8/8 [==============================] - 20s 2s/step - loss: 0.0603 - mean_absolute_error: 0.1587\n",
            "Epoch 179/200\n",
            "8/8 [==============================] - 21s 3s/step - loss: 0.0602 - mean_absolute_error: 0.1612\n",
            "Epoch 180/200\n",
            "8/8 [==============================] - 19s 2s/step - loss: 0.0618 - mean_absolute_error: 0.1556\n",
            "Epoch 181/200\n",
            "8/8 [==============================] - 20s 2s/step - loss: 0.0597 - mean_absolute_error: 0.1550\n",
            "Epoch 182/200\n",
            "8/8 [==============================] - 21s 3s/step - loss: 0.0611 - mean_absolute_error: 0.1590\n",
            "Epoch 183/200\n",
            "8/8 [==============================] - 19s 2s/step - loss: 0.0596 - mean_absolute_error: 0.1553\n",
            "Epoch 184/200\n",
            "8/8 [==============================] - 20s 3s/step - loss: 0.0658 - mean_absolute_error: 0.1589\n",
            "Epoch 185/200\n",
            "8/8 [==============================] - 21s 3s/step - loss: 0.0636 - mean_absolute_error: 0.1578\n",
            "Epoch 186/200\n",
            "8/8 [==============================] - 19s 2s/step - loss: 0.0611 - mean_absolute_error: 0.1527\n",
            "Epoch 187/200\n",
            "8/8 [==============================] - 21s 3s/step - loss: 0.0577 - mean_absolute_error: 0.1513\n",
            "Epoch 188/200\n",
            "8/8 [==============================] - 20s 2s/step - loss: 0.0613 - mean_absolute_error: 0.1567\n",
            "Epoch 189/200\n",
            "8/8 [==============================] - 20s 2s/step - loss: 0.0590 - mean_absolute_error: 0.1533\n",
            "Epoch 190/200\n",
            "8/8 [==============================] - 21s 3s/step - loss: 0.0631 - mean_absolute_error: 0.1619\n",
            "Epoch 191/200\n",
            "8/8 [==============================] - 20s 2s/step - loss: 0.0615 - mean_absolute_error: 0.1542\n",
            "Epoch 192/200\n",
            "8/8 [==============================] - 19s 2s/step - loss: 0.0653 - mean_absolute_error: 0.1665\n",
            "Epoch 193/200\n",
            "8/8 [==============================] - 21s 3s/step - loss: 0.0647 - mean_absolute_error: 0.1571\n",
            "Epoch 194/200\n",
            "8/8 [==============================] - 20s 2s/step - loss: 0.0673 - mean_absolute_error: 0.1692\n",
            "Epoch 195/200\n",
            "8/8 [==============================] - 19s 2s/step - loss: 0.0680 - mean_absolute_error: 0.1659\n",
            "Epoch 196/200\n",
            "8/8 [==============================] - 21s 3s/step - loss: 0.0709 - mean_absolute_error: 0.1746\n",
            "Epoch 197/200\n",
            "8/8 [==============================] - 20s 2s/step - loss: 0.0670 - mean_absolute_error: 0.1650\n",
            "Epoch 198/200\n",
            "8/8 [==============================] - 19s 2s/step - loss: 0.0693 - mean_absolute_error: 0.1748\n",
            "Epoch 199/200\n",
            "8/8 [==============================] - 22s 3s/step - loss: 0.0638 - mean_absolute_error: 0.1611\n",
            "Epoch 200/200\n",
            "8/8 [==============================] - 20s 2s/step - loss: 0.0626 - mean_absolute_error: 0.1649\n"
          ]
        }
      ],
      "source": [
        "history = compile_and_fit(lstm_model, X_train_shape)"
      ]
    },
    {
      "attachments": {},
      "cell_type": "markdown",
      "metadata": {},
      "source": [
        "### LSTM model"
      ]
    },
    {
      "cell_type": "code",
      "execution_count": 31,
      "metadata": {
        "id": "zDSaWVsJJn_O"
      },
      "outputs": [
        {
          "name": "stderr",
          "output_type": "stream",
          "text": [
            "2023-01-13 16:44:17.854913: I tensorflow/compiler/xla/stream_executor/cuda/cuda_gpu_executor.cc:981] successful NUMA node read from SysFS had negative value (-1), but there must be at least one NUMA node, so returning NUMA node zero\n",
            "2023-01-13 16:44:17.855409: W tensorflow/compiler/xla/stream_executor/platform/default/dso_loader.cc:64] Could not load dynamic library 'libcudart.so.11.0'; dlerror: libcudart.so.11.0: cannot open shared object file: No such file or directory\n",
            "2023-01-13 16:44:17.856003: W tensorflow/compiler/xla/stream_executor/platform/default/dso_loader.cc:64] Could not load dynamic library 'libcublas.so.11'; dlerror: libcublas.so.11: cannot open shared object file: No such file or directory\n",
            "2023-01-13 16:44:17.856099: W tensorflow/compiler/xla/stream_executor/platform/default/dso_loader.cc:64] Could not load dynamic library 'libcublasLt.so.11'; dlerror: libcublasLt.so.11: cannot open shared object file: No such file or directory\n",
            "2023-01-13 16:44:17.856183: W tensorflow/compiler/xla/stream_executor/platform/default/dso_loader.cc:64] Could not load dynamic library 'libcufft.so.10'; dlerror: libcufft.so.10: cannot open shared object file: No such file or directory\n",
            "2023-01-13 16:44:17.856267: W tensorflow/compiler/xla/stream_executor/platform/default/dso_loader.cc:64] Could not load dynamic library 'libcurand.so.10'; dlerror: libcurand.so.10: cannot open shared object file: No such file or directory\n",
            "2023-01-13 16:44:17.856602: W tensorflow/compiler/xla/stream_executor/platform/default/dso_loader.cc:64] Could not load dynamic library 'libcusolver.so.11'; dlerror: libcusolver.so.11: cannot open shared object file: No such file or directory\n",
            "2023-01-13 16:44:17.856700: W tensorflow/compiler/xla/stream_executor/platform/default/dso_loader.cc:64] Could not load dynamic library 'libcusparse.so.11'; dlerror: libcusparse.so.11: cannot open shared object file: No such file or directory\n",
            "2023-01-13 16:44:17.856797: W tensorflow/compiler/xla/stream_executor/platform/default/dso_loader.cc:64] Could not load dynamic library 'libcudnn.so.8'; dlerror: libcudnn.so.8: cannot open shared object file: No such file or directory\n",
            "2023-01-13 16:44:17.856812: W tensorflow/core/common_runtime/gpu/gpu_device.cc:1934] Cannot dlopen some GPU libraries. Please make sure the missing libraries mentioned above are installed properly if you would like to use GPU. Follow the guide at https://www.tensorflow.org/install/gpu for how to download and setup the required libraries for your platform.\n",
            "Skipping registering GPU devices...\n",
            "2023-01-13 16:44:17.858851: I tensorflow/core/platform/cpu_feature_guard.cc:193] This TensorFlow binary is optimized with oneAPI Deep Neural Network Library (oneDNN) to use the following CPU instructions in performance-critical operations:  AVX2 FMA\n",
            "To enable them in other operations, rebuild TensorFlow with the appropriate compiler flags.\n"
          ]
        }
      ],
      "source": [
        "#model_lstm = Sequential()\n",
        "#model_lstm.add(LSTM(100, input_shape=(step_back,no_cols)))\n",
        "#model_lstm.add(Dropout(0.2))\n",
        "#model_lstm.add(Dense(1))\n",
        "#model_lstm.compile(loss='mean_squared_error', optimizer='adam')"
      ]
    },
    {
      "cell_type": "code",
      "execution_count": 32,
      "metadata": {
        "colab": {
          "base_uri": "https://localhost:8080/"
        },
        "id": "gVhCQt1DVDey",
        "outputId": "2af74fe5-fa01-4bd3-8da2-0e1520991d56"
      },
      "outputs": [
        {
          "name": "stdout",
          "output_type": "stream",
          "text": [
            "Model: \"sequential\"\n",
            "_________________________________________________________________\n",
            " Layer (type)                Output Shape              Param #   \n",
            "=================================================================\n",
            " lstm (LSTM)                 (None, 100)               43600     \n",
            "                                                                 \n",
            " dropout (Dropout)           (None, 100)               0         \n",
            "                                                                 \n",
            " dense (Dense)               (None, 1)                 101       \n",
            "                                                                 \n",
            "=================================================================\n",
            "Total params: 43,701\n",
            "Trainable params: 43,701\n",
            "Non-trainable params: 0\n",
            "_________________________________________________________________\n"
          ]
        }
      ],
      "source": [
        "#model_lstm.summary()"
      ]
    },
    {
      "cell_type": "code",
      "execution_count": 33,
      "metadata": {
        "colab": {
          "base_uri": "https://localhost:8080/",
          "height": 1000
        },
        "id": "hJsJF6B2J-9-",
        "outputId": "55ba17d7-9f73-4925-8172-afd908478e1e"
      },
      "outputs": [
        {
          "name": "stdout",
          "output_type": "stream",
          "text": [
            "Epoch 1/200\n",
            "27/27 [==============================] - 4s 49ms/step - loss: 0.8187\n",
            "Epoch 2/200\n",
            "27/27 [==============================] - 1s 47ms/step - loss: 0.4697\n",
            "Epoch 3/200\n",
            "27/27 [==============================] - 2s 75ms/step - loss: 0.3567\n",
            "Epoch 4/200\n",
            "27/27 [==============================] - 1s 55ms/step - loss: 0.2888\n",
            "Epoch 5/200\n",
            "27/27 [==============================] - 1s 48ms/step - loss: 0.2406\n",
            "Epoch 6/200\n",
            "27/27 [==============================] - 1s 49ms/step - loss: 0.2105\n",
            "Epoch 7/200\n",
            "27/27 [==============================] - 1s 50ms/step - loss: 0.1849\n",
            "Epoch 8/200\n",
            "27/27 [==============================] - 1s 53ms/step - loss: 0.1626\n",
            "Epoch 9/200\n",
            "27/27 [==============================] - 1s 48ms/step - loss: 0.1490\n",
            "Epoch 10/200\n",
            "27/27 [==============================] - 1s 50ms/step - loss: 0.1400\n",
            "Epoch 11/200\n",
            "27/27 [==============================] - 1s 55ms/step - loss: 0.1365\n",
            "Epoch 12/200\n",
            "27/27 [==============================] - 1s 52ms/step - loss: 0.1292\n",
            "Epoch 13/200\n",
            "27/27 [==============================] - 1s 52ms/step - loss: 0.1236\n",
            "Epoch 14/200\n",
            "27/27 [==============================] - 1s 54ms/step - loss: 0.1230\n",
            "Epoch 15/200\n",
            "27/27 [==============================] - 1s 56ms/step - loss: 0.1245\n",
            "Epoch 16/200\n",
            "27/27 [==============================] - 2s 56ms/step - loss: 0.1196\n",
            "Epoch 17/200\n",
            "27/27 [==============================] - 2s 79ms/step - loss: 0.1161\n",
            "Epoch 18/200\n",
            "27/27 [==============================] - 2s 55ms/step - loss: 0.1100\n",
            "Epoch 19/200\n",
            "27/27 [==============================] - 1s 54ms/step - loss: 0.1083\n",
            "Epoch 20/200\n",
            "27/27 [==============================] - 1s 54ms/step - loss: 0.1036\n",
            "Epoch 21/200\n",
            "27/27 [==============================] - 1s 53ms/step - loss: 0.1034\n",
            "Epoch 22/200\n",
            "27/27 [==============================] - 1s 53ms/step - loss: 0.1031\n",
            "Epoch 23/200\n",
            "27/27 [==============================] - 1s 53ms/step - loss: 0.1019\n",
            "Epoch 24/200\n",
            "27/27 [==============================] - 1s 54ms/step - loss: 0.1013\n",
            "Epoch 25/200\n",
            "27/27 [==============================] - 2s 57ms/step - loss: 0.0986\n",
            "Epoch 26/200\n",
            "27/27 [==============================] - 1s 53ms/step - loss: 0.0965\n",
            "Epoch 27/200\n",
            "27/27 [==============================] - 1s 54ms/step - loss: 0.0935\n",
            "Epoch 28/200\n",
            "27/27 [==============================] - 2s 64ms/step - loss: 0.0912\n",
            "Epoch 29/200\n",
            "27/27 [==============================] - 2s 63ms/step - loss: 0.0913\n",
            "Epoch 30/200\n",
            "27/27 [==============================] - 2s 64ms/step - loss: 0.0894\n",
            "Epoch 31/200\n",
            "27/27 [==============================] - 2s 65ms/step - loss: 0.0900\n",
            "Epoch 32/200\n",
            "27/27 [==============================] - 2s 65ms/step - loss: 0.0885\n",
            "Epoch 33/200\n",
            "27/27 [==============================] - 2s 66ms/step - loss: 0.0902\n",
            "Epoch 34/200\n",
            "27/27 [==============================] - 2s 64ms/step - loss: 0.0902\n",
            "Epoch 35/200\n",
            "27/27 [==============================] - 2s 90ms/step - loss: 0.0885\n",
            "Epoch 36/200\n",
            "27/27 [==============================] - 2s 55ms/step - loss: 0.0874\n",
            "Epoch 37/200\n",
            "27/27 [==============================] - 1s 52ms/step - loss: 0.0876\n",
            "Epoch 38/200\n",
            "27/27 [==============================] - 1s 52ms/step - loss: 0.0900\n",
            "Epoch 39/200\n",
            "27/27 [==============================] - 1s 53ms/step - loss: 0.0876\n",
            "Epoch 40/200\n",
            "27/27 [==============================] - 1s 52ms/step - loss: 0.0883\n",
            "Epoch 41/200\n",
            "27/27 [==============================] - 1s 53ms/step - loss: 0.0831\n",
            "Epoch 42/200\n",
            "27/27 [==============================] - 1s 52ms/step - loss: 0.0836\n",
            "Epoch 43/200\n",
            "27/27 [==============================] - 1s 53ms/step - loss: 0.0836\n",
            "Epoch 44/200\n",
            "27/27 [==============================] - 1s 54ms/step - loss: 0.0838\n",
            "Epoch 45/200\n",
            "27/27 [==============================] - 1s 54ms/step - loss: 0.0834\n",
            "Epoch 46/200\n",
            "27/27 [==============================] - 1s 52ms/step - loss: 0.0829\n",
            "Epoch 47/200\n",
            "27/27 [==============================] - 1s 53ms/step - loss: 0.0797\n",
            "Epoch 48/200\n",
            "27/27 [==============================] - 2s 67ms/step - loss: 0.0825\n",
            "Epoch 49/200\n",
            "27/27 [==============================] - 2s 68ms/step - loss: 0.0798\n",
            "Epoch 50/200\n",
            "27/27 [==============================] - 2s 57ms/step - loss: 0.0804\n",
            "Epoch 51/200\n",
            "27/27 [==============================] - 1s 52ms/step - loss: 0.0811\n",
            "Epoch 52/200\n",
            "27/27 [==============================] - 1s 52ms/step - loss: 0.0832\n",
            "Epoch 53/200\n",
            "27/27 [==============================] - 1s 52ms/step - loss: 0.0816\n",
            "Epoch 54/200\n",
            "27/27 [==============================] - 1s 53ms/step - loss: 0.0802\n",
            "Epoch 55/200\n",
            "27/27 [==============================] - 1s 54ms/step - loss: 0.0815\n",
            "Epoch 56/200\n",
            "27/27 [==============================] - 1s 54ms/step - loss: 0.0800\n",
            "Epoch 57/200\n",
            "27/27 [==============================] - 1s 51ms/step - loss: 0.0787\n",
            "Epoch 58/200\n",
            "27/27 [==============================] - 1s 54ms/step - loss: 0.0784\n",
            "Epoch 59/200\n",
            "27/27 [==============================] - 2s 56ms/step - loss: 0.0783\n",
            "Epoch 60/200\n",
            "27/27 [==============================] - 2s 56ms/step - loss: 0.0760\n",
            "Epoch 61/200\n",
            "27/27 [==============================] - 2s 61ms/step - loss: 0.0777\n",
            "Epoch 62/200\n",
            "27/27 [==============================] - 2s 81ms/step - loss: 0.0788\n",
            "Epoch 63/200\n",
            "27/27 [==============================] - 2s 65ms/step - loss: 0.0767\n",
            "Epoch 64/200\n",
            "27/27 [==============================] - 2s 65ms/step - loss: 0.0750\n",
            "Epoch 65/200\n",
            "27/27 [==============================] - 2s 66ms/step - loss: 0.0748\n",
            "Epoch 66/200\n",
            "27/27 [==============================] - 2s 65ms/step - loss: 0.0733\n",
            "Epoch 67/200\n",
            "27/27 [==============================] - 2s 68ms/step - loss: 0.0721\n",
            "Epoch 68/200\n",
            "27/27 [==============================] - 2s 65ms/step - loss: 0.0743\n",
            "Epoch 69/200\n",
            "27/27 [==============================] - 2s 66ms/step - loss: 0.0783\n",
            "Epoch 70/200\n",
            "27/27 [==============================] - 2s 90ms/step - loss: 0.0772\n",
            "Epoch 71/200\n",
            "27/27 [==============================] - 1s 52ms/step - loss: 0.0796\n",
            "Epoch 72/200\n",
            "27/27 [==============================] - 1s 52ms/step - loss: 0.0769\n",
            "Epoch 73/200\n",
            "27/27 [==============================] - 1s 53ms/step - loss: 0.0751\n",
            "Epoch 74/200\n",
            "27/27 [==============================] - 1s 52ms/step - loss: 0.0734\n",
            "Epoch 75/200\n",
            "27/27 [==============================] - 1s 52ms/step - loss: 0.0728\n",
            "Epoch 76/200\n",
            "27/27 [==============================] - 1s 53ms/step - loss: 0.0728\n",
            "Epoch 77/200\n",
            "27/27 [==============================] - 1s 52ms/step - loss: 0.0733\n",
            "Epoch 78/200\n",
            "27/27 [==============================] - 1s 52ms/step - loss: 0.0759\n",
            "Epoch 79/200\n",
            "27/27 [==============================] - 1s 54ms/step - loss: 0.0752\n",
            "Epoch 80/200\n",
            "27/27 [==============================] - 1s 51ms/step - loss: 0.0763\n",
            "Epoch 81/200\n",
            "27/27 [==============================] - 1s 52ms/step - loss: 0.0745\n",
            "Epoch 82/200\n",
            "27/27 [==============================] - 2s 56ms/step - loss: 0.0738\n",
            "Epoch 83/200\n",
            "27/27 [==============================] - 2s 76ms/step - loss: 0.0753\n",
            "Epoch 84/200\n",
            "27/27 [==============================] - 2s 58ms/step - loss: 0.0721\n",
            "Epoch 85/200\n",
            "27/27 [==============================] - 2s 75ms/step - loss: 0.0697\n",
            "Epoch 86/200\n",
            "27/27 [==============================] - 1s 55ms/step - loss: 0.0698\n",
            "Epoch 87/200\n",
            "27/27 [==============================] - 2s 59ms/step - loss: 0.0697\n",
            "Epoch 88/200\n",
            "27/27 [==============================] - 1s 55ms/step - loss: 0.0725\n",
            "Epoch 89/200\n",
            "27/27 [==============================] - 1s 53ms/step - loss: 0.0708\n",
            "Epoch 90/200\n",
            "27/27 [==============================] - 2s 57ms/step - loss: 0.0680\n",
            "Epoch 91/200\n",
            "27/27 [==============================] - 1s 52ms/step - loss: 0.0684\n",
            "Epoch 92/200\n",
            "27/27 [==============================] - 1s 53ms/step - loss: 0.0686\n",
            "Epoch 93/200\n",
            "27/27 [==============================] - 1s 53ms/step - loss: 0.0684\n",
            "Epoch 94/200\n",
            "27/27 [==============================] - 1s 53ms/step - loss: 0.0701\n",
            "Epoch 95/200\n",
            "27/27 [==============================] - 1s 56ms/step - loss: 0.0672\n",
            "Epoch 96/200\n",
            "27/27 [==============================] - 2s 81ms/step - loss: 0.0682\n",
            "Epoch 97/200\n",
            "27/27 [==============================] - 2s 67ms/step - loss: 0.0655\n",
            "Epoch 98/200\n",
            "27/27 [==============================] - 2s 67ms/step - loss: 0.0678\n",
            "Epoch 99/200\n",
            "27/27 [==============================] - 2s 65ms/step - loss: 0.0644\n",
            "Epoch 100/200\n",
            "27/27 [==============================] - 2s 66ms/step - loss: 0.0685\n",
            "Epoch 101/200\n",
            "27/27 [==============================] - 2s 67ms/step - loss: 0.0716\n",
            "Epoch 102/200\n",
            "27/27 [==============================] - 2s 66ms/step - loss: 0.0655\n",
            "Epoch 103/200\n",
            "27/27 [==============================] - 2s 74ms/step - loss: 0.0639\n",
            "Epoch 104/200\n",
            "27/27 [==============================] - 2s 81ms/step - loss: 0.0627\n",
            "Epoch 105/200\n",
            "27/27 [==============================] - 1s 54ms/step - loss: 0.0608\n",
            "Epoch 106/200\n",
            "27/27 [==============================] - 1s 53ms/step - loss: 0.0663\n",
            "Epoch 107/200\n",
            "27/27 [==============================] - 2s 59ms/step - loss: 0.0665\n",
            "Epoch 108/200\n",
            "27/27 [==============================] - 1s 53ms/step - loss: 0.0634\n",
            "Epoch 109/200\n",
            "27/27 [==============================] - 1s 54ms/step - loss: 0.0645\n",
            "Epoch 110/200\n",
            "27/27 [==============================] - 1s 54ms/step - loss: 0.0607\n",
            "Epoch 111/200\n",
            "27/27 [==============================] - 1s 54ms/step - loss: 0.0616\n",
            "Epoch 112/200\n",
            "27/27 [==============================] - 1s 54ms/step - loss: 0.0598\n",
            "Epoch 113/200\n",
            "27/27 [==============================] - 1s 53ms/step - loss: 0.0641\n",
            "Epoch 114/200\n",
            "27/27 [==============================] - 1s 55ms/step - loss: 0.0600\n",
            "Epoch 115/200\n",
            "27/27 [==============================] - 1s 54ms/step - loss: 0.0596\n",
            "Epoch 116/200\n",
            "27/27 [==============================] - 2s 62ms/step - loss: 0.0589\n",
            "Epoch 117/200\n",
            "27/27 [==============================] - 2s 75ms/step - loss: 0.0618\n",
            "Epoch 118/200\n",
            "27/27 [==============================] - 1s 55ms/step - loss: 0.0632\n",
            "Epoch 119/200\n",
            "27/27 [==============================] - 2s 66ms/step - loss: 0.0579\n",
            "Epoch 120/200\n",
            "27/27 [==============================] - 1s 54ms/step - loss: 0.0571\n",
            "Epoch 121/200\n",
            "27/27 [==============================] - 1s 55ms/step - loss: 0.0560\n",
            "Epoch 122/200\n",
            "27/27 [==============================] - 2s 57ms/step - loss: 0.0610\n",
            "Epoch 123/200\n",
            "27/27 [==============================] - 2s 68ms/step - loss: 0.0616\n",
            "Epoch 124/200\n",
            "27/27 [==============================] - 2s 56ms/step - loss: 0.0635\n",
            "Epoch 125/200\n",
            "27/27 [==============================] - 2s 59ms/step - loss: 0.0613\n",
            "Epoch 126/200\n",
            "27/27 [==============================] - 1s 55ms/step - loss: 0.0616\n",
            "Epoch 127/200\n",
            "27/27 [==============================] - 2s 56ms/step - loss: 0.0605\n",
            "Epoch 128/200\n",
            "27/27 [==============================] - 2s 56ms/step - loss: 0.0564\n",
            "Epoch 129/200\n",
            "27/27 [==============================] - 2s 79ms/step - loss: 0.0555\n",
            "Epoch 130/200\n",
            "27/27 [==============================] - 2s 69ms/step - loss: 0.0564\n",
            "Epoch 131/200\n",
            "27/27 [==============================] - 2s 65ms/step - loss: 0.0552\n",
            "Epoch 132/200\n",
            "27/27 [==============================] - 2s 67ms/step - loss: 0.0565\n",
            "Epoch 133/200\n",
            "27/27 [==============================] - 2s 66ms/step - loss: 0.0524\n",
            "Epoch 134/200\n",
            "27/27 [==============================] - 2s 67ms/step - loss: 0.0527\n",
            "Epoch 135/200\n",
            "27/27 [==============================] - 2s 66ms/step - loss: 0.0546\n",
            "Epoch 136/200\n",
            "27/27 [==============================] - 2s 70ms/step - loss: 0.0538\n",
            "Epoch 137/200\n",
            "27/27 [==============================] - 2s 85ms/step - loss: 0.0538\n",
            "Epoch 138/200\n",
            "27/27 [==============================] - 2s 65ms/step - loss: 0.0621\n",
            "Epoch 139/200\n",
            "27/27 [==============================] - 2s 59ms/step - loss: 0.0579\n",
            "Epoch 140/200\n",
            "27/27 [==============================] - 1s 55ms/step - loss: 0.0591\n",
            "Epoch 141/200\n",
            "27/27 [==============================] - 1s 55ms/step - loss: 0.0587\n",
            "Epoch 142/200\n",
            "27/27 [==============================] - 1s 54ms/step - loss: 0.0577\n",
            "Epoch 143/200\n",
            "27/27 [==============================] - 1s 53ms/step - loss: 0.0507\n",
            "Epoch 144/200\n",
            "27/27 [==============================] - 2s 55ms/step - loss: 0.0500\n",
            "Epoch 145/200\n",
            "27/27 [==============================] - 1s 54ms/step - loss: 0.0531\n",
            "Epoch 146/200\n",
            "27/27 [==============================] - 2s 57ms/step - loss: 0.0545\n",
            "Epoch 147/200\n",
            "27/27 [==============================] - 2s 57ms/step - loss: 0.0587\n",
            "Epoch 148/200\n",
            "27/27 [==============================] - 1s 53ms/step - loss: 0.0561\n",
            "Epoch 149/200\n",
            "27/27 [==============================] - 2s 68ms/step - loss: 0.0524\n",
            "Epoch 150/200\n",
            "27/27 [==============================] - 2s 73ms/step - loss: 0.0548\n",
            "Epoch 151/200\n",
            "27/27 [==============================] - 1s 55ms/step - loss: 0.0552\n",
            "Epoch 152/200\n",
            "27/27 [==============================] - 2s 56ms/step - loss: 0.0536\n",
            "Epoch 153/200\n",
            "27/27 [==============================] - 2s 60ms/step - loss: 0.0511\n",
            "Epoch 154/200\n",
            "27/27 [==============================] - 1s 53ms/step - loss: 0.0500\n",
            "Epoch 155/200\n",
            "27/27 [==============================] - 1s 56ms/step - loss: 0.0526\n",
            "Epoch 156/200\n",
            "27/27 [==============================] - 1s 55ms/step - loss: 0.0485\n",
            "Epoch 157/200\n",
            "27/27 [==============================] - 1s 54ms/step - loss: 0.0469\n",
            "Epoch 158/200\n",
            "27/27 [==============================] - 1s 53ms/step - loss: 0.0485\n",
            "Epoch 159/200\n",
            "27/27 [==============================] - 2s 57ms/step - loss: 0.0465\n",
            "Epoch 160/200\n",
            "27/27 [==============================] - 2s 62ms/step - loss: 0.0473\n",
            "Epoch 161/200\n",
            "27/27 [==============================] - 2s 63ms/step - loss: 0.0475\n",
            "Epoch 162/200\n",
            "27/27 [==============================] - 2s 76ms/step - loss: 0.0472\n",
            "Epoch 163/200\n",
            "27/27 [==============================] - 2s 69ms/step - loss: 0.0493\n",
            "Epoch 164/200\n",
            "27/27 [==============================] - 2s 62ms/step - loss: 0.0482\n",
            "Epoch 165/200\n",
            "27/27 [==============================] - 2s 63ms/step - loss: 0.0491\n",
            "Epoch 166/200\n",
            "27/27 [==============================] - 2s 69ms/step - loss: 0.0495\n",
            "Epoch 167/200\n",
            "27/27 [==============================] - 2s 70ms/step - loss: 0.0485\n",
            "Epoch 168/200\n",
            "27/27 [==============================] - 2s 65ms/step - loss: 0.0483\n",
            "Epoch 169/200\n",
            "27/27 [==============================] - 2s 64ms/step - loss: 0.0494\n",
            "Epoch 170/200\n",
            "27/27 [==============================] - 2s 69ms/step - loss: 0.0503\n",
            "Epoch 171/200\n",
            "27/27 [==============================] - 2s 77ms/step - loss: 0.0536\n",
            "Epoch 172/200\n",
            "27/27 [==============================] - 2s 89ms/step - loss: 0.0480\n",
            "Epoch 173/200\n",
            "27/27 [==============================] - 1s 54ms/step - loss: 0.0449\n",
            "Epoch 174/200\n",
            "27/27 [==============================] - 1s 52ms/step - loss: 0.0429\n",
            "Epoch 175/200\n",
            "27/27 [==============================] - 2s 56ms/step - loss: 0.0455\n",
            "Epoch 176/200\n",
            "27/27 [==============================] - 1s 53ms/step - loss: 0.0453\n",
            "Epoch 177/200\n",
            "27/27 [==============================] - 2s 58ms/step - loss: 0.0477\n",
            "Epoch 178/200\n",
            "27/27 [==============================] - 1s 52ms/step - loss: 0.0478\n",
            "Epoch 179/200\n",
            "27/27 [==============================] - 1s 52ms/step - loss: 0.0473\n",
            "Epoch 180/200\n",
            "27/27 [==============================] - 1s 55ms/step - loss: 0.0464\n",
            "Epoch 181/200\n",
            "27/27 [==============================] - 1s 54ms/step - loss: 0.0444\n",
            "Epoch 182/200\n",
            "27/27 [==============================] - 1s 52ms/step - loss: 0.0446\n",
            "Epoch 183/200\n",
            "27/27 [==============================] - 1s 53ms/step - loss: 0.0452\n",
            "Epoch 184/200\n",
            "27/27 [==============================] - 2s 58ms/step - loss: 0.0456\n",
            "Epoch 185/200\n",
            "27/27 [==============================] - 2s 74ms/step - loss: 0.0461\n",
            "Epoch 186/200\n",
            "27/27 [==============================] - 2s 90ms/step - loss: 0.0461\n",
            "Epoch 187/200\n",
            "27/27 [==============================] - 2s 57ms/step - loss: 0.0443\n",
            "Epoch 188/200\n",
            "27/27 [==============================] - 2s 59ms/step - loss: 0.0451\n",
            "Epoch 189/200\n",
            "27/27 [==============================] - 2s 81ms/step - loss: 0.0475\n",
            "Epoch 190/200\n",
            "27/27 [==============================] - 2s 79ms/step - loss: 0.0457\n",
            "Epoch 191/200\n",
            "27/27 [==============================] - 2s 82ms/step - loss: 0.0428\n",
            "Epoch 192/200\n",
            "27/27 [==============================] - 2s 82ms/step - loss: 0.0406\n",
            "Epoch 193/200\n",
            "27/27 [==============================] - 2s 83ms/step - loss: 0.0402\n",
            "Epoch 194/200\n",
            "27/27 [==============================] - 19s 731ms/step - loss: 0.0399\n",
            "Epoch 195/200\n",
            "27/27 [==============================] - 2s 65ms/step - loss: 0.0399\n",
            "Epoch 196/200\n",
            "27/27 [==============================] - 2s 64ms/step - loss: 0.0390\n",
            "Epoch 197/200\n",
            "27/27 [==============================] - 2s 75ms/step - loss: 0.0405\n",
            "Epoch 198/200\n",
            "27/27 [==============================] - 2s 65ms/step - loss: 0.0463\n",
            "Epoch 199/200\n",
            "27/27 [==============================] - 2s 63ms/step - loss: 0.0460\n",
            "Epoch 200/200\n",
            "27/27 [==============================] - 2s 66ms/step - loss: 0.0471\n"
          ]
        },
        {
          "data": {
            "text/plain": [
              "<keras.callbacks.History at 0x7f0272ee2790>"
            ]
          },
          "execution_count": 33,
          "metadata": {},
          "output_type": "execute_result"
        }
      ],
      "source": [
        "#model_lstm.fit(X_train_shape, y_train, epochs=200, batch_size=265, verbose=1, shuffle=False)"
      ]
    },
    {
      "attachments": {},
      "cell_type": "markdown",
      "metadata": {},
      "source": [
        "### Evaluate model"
      ]
    },
    {
      "cell_type": "code",
      "execution_count": 19,
      "metadata": {
        "colab": {
          "base_uri": "https://localhost:8080/",
          "height": 255
        },
        "id": "AxklYOCiK2e0",
        "outputId": "94231fa0-0c75-4780-d95b-9dc258d42a69"
      },
      "outputs": [
        {
          "name": "stdout",
          "output_type": "stream",
          "text": [
            "(1823, 4)\n"
          ]
        },
        {
          "data": {
            "text/html": [
              "<div>\n",
              "<style scoped>\n",
              "    .dataframe tbody tr th:only-of-type {\n",
              "        vertical-align: middle;\n",
              "    }\n",
              "\n",
              "    .dataframe tbody tr th {\n",
              "        vertical-align: top;\n",
              "    }\n",
              "\n",
              "    .dataframe thead th {\n",
              "        text-align: right;\n",
              "    }\n",
              "</style>\n",
              "<table border=\"1\" class=\"dataframe\">\n",
              "  <thead>\n",
              "    <tr style=\"text-align: right;\">\n",
              "      <th></th>\n",
              "      <th>total_generation</th>\n",
              "      <th>day_ahead_price</th>\n",
              "      <th>total_load</th>\n",
              "      <th>temperature</th>\n",
              "    </tr>\n",
              "    <tr>\n",
              "      <th>datetime</th>\n",
              "      <th></th>\n",
              "      <th></th>\n",
              "      <th></th>\n",
              "      <th></th>\n",
              "    </tr>\n",
              "  </thead>\n",
              "  <tbody>\n",
              "    <tr>\n",
              "      <th>1666818000000</th>\n",
              "      <td>7628.0</td>\n",
              "      <td>55.18</td>\n",
              "      <td>8321.0</td>\n",
              "      <td>13.1</td>\n",
              "    </tr>\n",
              "    <tr>\n",
              "      <th>1666821600000</th>\n",
              "      <td>7635.0</td>\n",
              "      <td>63.60</td>\n",
              "      <td>8038.0</td>\n",
              "      <td>12.8</td>\n",
              "    </tr>\n",
              "    <tr>\n",
              "      <th>1666825200000</th>\n",
              "      <td>7716.0</td>\n",
              "      <td>54.81</td>\n",
              "      <td>7861.0</td>\n",
              "      <td>13.2</td>\n",
              "    </tr>\n",
              "    <tr>\n",
              "      <th>1666828800000</th>\n",
              "      <td>7791.0</td>\n",
              "      <td>43.26</td>\n",
              "      <td>7686.0</td>\n",
              "      <td>13.4</td>\n",
              "    </tr>\n",
              "    <tr>\n",
              "      <th>1666832400000</th>\n",
              "      <td>7859.0</td>\n",
              "      <td>34.98</td>\n",
              "      <td>7462.0</td>\n",
              "      <td>13.3</td>\n",
              "    </tr>\n",
              "  </tbody>\n",
              "</table>\n",
              "</div>"
            ],
            "text/plain": [
              "               total_generation  day_ahead_price  total_load  temperature\n",
              "datetime                                                                 \n",
              "1666818000000            7628.0            55.18      8321.0         13.1\n",
              "1666821600000            7635.0            63.60      8038.0         12.8\n",
              "1666825200000            7716.0            54.81      7861.0         13.2\n",
              "1666828800000            7791.0            43.26      7686.0         13.4\n",
              "1666832400000            7859.0            34.98      7462.0         13.3"
            ]
          },
          "execution_count": 19,
          "metadata": {},
          "output_type": "execute_result"
        }
      ],
      "source": [
        "last_24=train.iloc[-step_back:]\n",
        "full_df= pd.concat((last_24,test),axis=0)\n",
        "print(full_df.shape)\n",
        "full_df.head()"
      ]
    },
    {
      "cell_type": "code",
      "execution_count": 20,
      "metadata": {
        "colab": {
          "base_uri": "https://localhost:8080/"
        },
        "id": "BBuuXJzER_PG",
        "outputId": "e329701d-5db8-469f-d190-a2feb0de5485"
      },
      "outputs": [
        {
          "data": {
            "text/plain": [
              "(1823, 4)"
            ]
          },
          "execution_count": 20,
          "metadata": {},
          "output_type": "execute_result"
        }
      ],
      "source": [
        "full_df=sc_x.transform(full_df)\n",
        "full_df.shape"
      ]
    },
    {
      "cell_type": "code",
      "execution_count": 21,
      "metadata": {
        "colab": {
          "base_uri": "https://localhost:8080/"
        },
        "id": "Qn4iTJ9_Lv2X",
        "outputId": "4e710477-3255-4ffc-94aa-7859e4730d6f"
      },
      "outputs": [
        {
          "name": "stdout",
          "output_type": "stream",
          "text": [
            "(1799, 24, 4)\n"
          ]
        }
      ],
      "source": [
        "step_back=step_back\n",
        "no_records=len(full_df)\n",
        "no_cols=no_cols\n",
        "X_train_shape_pred=[]\n",
        "for i in range(step_back,no_records):\n",
        "    X_train_shape_pred.append(full_df[i-step_back:i])\n",
        "X_train_shape_pred=np.array(X_train_shape_pred)\n",
        "print(X_train_shape_pred.shape)"
      ]
    },
    {
      "cell_type": "code",
      "execution_count": 22,
      "metadata": {
        "colab": {
          "base_uri": "https://localhost:8080/"
        },
        "id": "Qx4TMjDVMEHU",
        "outputId": "e1164692-ef3f-4890-a674-003fd6f21a17"
      },
      "outputs": [
        {
          "name": "stdout",
          "output_type": "stream",
          "text": [
            "57/57 [==============================] - 7s 104ms/step\n"
          ]
        }
      ],
      "source": [
        "y_test=lstm_model.predict(X_train_shape_pred)"
      ]
    },
    {
      "cell_type": "code",
      "execution_count": 39,
      "metadata": {
        "colab": {
          "base_uri": "https://localhost:8080/"
        },
        "id": "lJiwKC9_MJTZ",
        "outputId": "2815510d-5034-4bea-f165-7a3fb9156b4e"
      },
      "outputs": [
        {
          "data": {
            "text/plain": [
              "array([[45.819168, 42.48201 , 46.226837, ..., 45.362785, 44.09099 ,\n",
              "        44.25379 ],\n",
              "       [46.460335, 42.766533, 46.349373, ..., 46.752518, 45.320656,\n",
              "        44.933884],\n",
              "       [40.341873, 37.244614, 39.504463, ..., 41.126816, 39.00254 ,\n",
              "        38.969055],\n",
              "       ...,\n",
              "       [66.74877 , 63.57779 , 67.748474, ..., 66.219955, 62.954586,\n",
              "        63.80565 ],\n",
              "       [70.29362 , 67.33605 , 70.86142 , ..., 70.40072 , 67.45894 ,\n",
              "        68.454796],\n",
              "       [64.44323 , 61.49853 , 64.77788 , ..., 64.7546  , 62.304863,\n",
              "        63.54052 ]], dtype=float32)"
            ]
          },
          "execution_count": 39,
          "metadata": {},
          "output_type": "execute_result"
        }
      ],
      "source": [
        "y_final_pred=sc_y.inverse_transform(y_test)\n",
        "y_final_pred"
      ]
    },
    {
      "cell_type": "code",
      "execution_count": 44,
      "metadata": {},
      "outputs": [],
      "source": [
        "y_final_pred = [i[0] for i in y_final_pred]"
      ]
    },
    {
      "cell_type": "code",
      "execution_count": 31,
      "metadata": {
        "colab": {
          "base_uri": "https://localhost:8080/",
          "height": 424
        },
        "id": "Ax12yUoXOCGy",
        "outputId": "65208f27-51f6-436a-bda9-d06b9c7afd39"
      },
      "outputs": [
        {
          "data": {
            "text/html": [
              "<div>\n",
              "<style scoped>\n",
              "    .dataframe tbody tr th:only-of-type {\n",
              "        vertical-align: middle;\n",
              "    }\n",
              "\n",
              "    .dataframe tbody tr th {\n",
              "        vertical-align: top;\n",
              "    }\n",
              "\n",
              "    .dataframe thead th {\n",
              "        text-align: right;\n",
              "    }\n",
              "</style>\n",
              "<table border=\"1\" class=\"dataframe\">\n",
              "  <thead>\n",
              "    <tr style=\"text-align: right;\">\n",
              "      <th></th>\n",
              "      <th>final_pred</th>\n",
              "    </tr>\n",
              "  </thead>\n",
              "  <tbody>\n",
              "    <tr>\n",
              "      <th>0</th>\n",
              "      <td>45.819168</td>\n",
              "    </tr>\n",
              "    <tr>\n",
              "      <th>1</th>\n",
              "      <td>46.460335</td>\n",
              "    </tr>\n",
              "    <tr>\n",
              "      <th>2</th>\n",
              "      <td>40.341873</td>\n",
              "    </tr>\n",
              "    <tr>\n",
              "      <th>3</th>\n",
              "      <td>25.111641</td>\n",
              "    </tr>\n",
              "    <tr>\n",
              "      <th>4</th>\n",
              "      <td>14.313446</td>\n",
              "    </tr>\n",
              "  </tbody>\n",
              "</table>\n",
              "</div>"
            ],
            "text/plain": [
              "   final_pred\n",
              "0   45.819168\n",
              "1   46.460335\n",
              "2   40.341873\n",
              "3   25.111641\n",
              "4   14.313446"
            ]
          },
          "execution_count": 31,
          "metadata": {},
          "output_type": "execute_result"
        }
      ],
      "source": [
        "final_pred=pd.DataFrame(y_final_pred)\n",
        "final_pred.columns=['final_pred']\n",
        "final_pred.head()"
      ]
    },
    {
      "cell_type": "code",
      "execution_count": 32,
      "metadata": {
        "id": "a7Iu7TQ4OMaA"
      },
      "outputs": [],
      "source": [
        "test.reset_index(inplace=True)"
      ]
    },
    {
      "cell_type": "code",
      "execution_count": 33,
      "metadata": {
        "colab": {
          "base_uri": "https://localhost:8080/",
          "height": 424
        },
        "id": "Oo1JNv9dOO6X",
        "outputId": "e55a0a9a-95f6-4d18-97e2-be4495781174"
      },
      "outputs": [
        {
          "data": {
            "text/html": [
              "<div>\n",
              "<style scoped>\n",
              "    .dataframe tbody tr th:only-of-type {\n",
              "        vertical-align: middle;\n",
              "    }\n",
              "\n",
              "    .dataframe tbody tr th {\n",
              "        vertical-align: top;\n",
              "    }\n",
              "\n",
              "    .dataframe thead th {\n",
              "        text-align: right;\n",
              "    }\n",
              "</style>\n",
              "<table border=\"1\" class=\"dataframe\">\n",
              "  <thead>\n",
              "    <tr style=\"text-align: right;\">\n",
              "      <th></th>\n",
              "      <th>final_pred</th>\n",
              "      <th>datetime</th>\n",
              "      <th>total_generation</th>\n",
              "      <th>day_ahead_price</th>\n",
              "      <th>total_load</th>\n",
              "      <th>temperature</th>\n",
              "    </tr>\n",
              "  </thead>\n",
              "  <tbody>\n",
              "    <tr>\n",
              "      <th>0</th>\n",
              "      <td>45.819168</td>\n",
              "      <td>1666904400000</td>\n",
              "      <td>7990.0</td>\n",
              "      <td>27.18</td>\n",
              "      <td>7913.0</td>\n",
              "      <td>13.3</td>\n",
              "    </tr>\n",
              "    <tr>\n",
              "      <th>1</th>\n",
              "      <td>46.460335</td>\n",
              "      <td>1666908000000</td>\n",
              "      <td>8031.0</td>\n",
              "      <td>25.89</td>\n",
              "      <td>7575.0</td>\n",
              "      <td>13.8</td>\n",
              "    </tr>\n",
              "    <tr>\n",
              "      <th>2</th>\n",
              "      <td>40.341873</td>\n",
              "      <td>1666911600000</td>\n",
              "      <td>7992.0</td>\n",
              "      <td>23.71</td>\n",
              "      <td>7292.0</td>\n",
              "      <td>13.7</td>\n",
              "    </tr>\n",
              "    <tr>\n",
              "      <th>3</th>\n",
              "      <td>25.111641</td>\n",
              "      <td>1666915200000</td>\n",
              "      <td>7984.0</td>\n",
              "      <td>22.35</td>\n",
              "      <td>7137.0</td>\n",
              "      <td>14.0</td>\n",
              "    </tr>\n",
              "    <tr>\n",
              "      <th>4</th>\n",
              "      <td>14.313446</td>\n",
              "      <td>1666918800000</td>\n",
              "      <td>7955.0</td>\n",
              "      <td>20.23</td>\n",
              "      <td>7195.0</td>\n",
              "      <td>14.2</td>\n",
              "    </tr>\n",
              "    <tr>\n",
              "      <th>...</th>\n",
              "      <td>...</td>\n",
              "      <td>...</td>\n",
              "      <td>...</td>\n",
              "      <td>...</td>\n",
              "      <td>...</td>\n",
              "      <td>...</td>\n",
              "    </tr>\n",
              "    <tr>\n",
              "      <th>1794</th>\n",
              "      <td>98.766457</td>\n",
              "      <td>1673546400000</td>\n",
              "      <td>8811.0</td>\n",
              "      <td>98.37</td>\n",
              "      <td>11594.0</td>\n",
              "      <td>4.5</td>\n",
              "    </tr>\n",
              "    <tr>\n",
              "      <th>1795</th>\n",
              "      <td>83.662010</td>\n",
              "      <td>1673550000000</td>\n",
              "      <td>8749.0</td>\n",
              "      <td>74.08</td>\n",
              "      <td>11074.0</td>\n",
              "      <td>5.1</td>\n",
              "    </tr>\n",
              "    <tr>\n",
              "      <th>1796</th>\n",
              "      <td>66.748772</td>\n",
              "      <td>1673553600000</td>\n",
              "      <td>8708.0</td>\n",
              "      <td>74.50</td>\n",
              "      <td>10720.0</td>\n",
              "      <td>5.1</td>\n",
              "    </tr>\n",
              "    <tr>\n",
              "      <th>1797</th>\n",
              "      <td>70.293617</td>\n",
              "      <td>1673557200000</td>\n",
              "      <td>8665.0</td>\n",
              "      <td>66.84</td>\n",
              "      <td>10132.0</td>\n",
              "      <td>5.3</td>\n",
              "    </tr>\n",
              "    <tr>\n",
              "      <th>1798</th>\n",
              "      <td>64.443230</td>\n",
              "      <td>1673560800000</td>\n",
              "      <td>8607.0</td>\n",
              "      <td>42.49</td>\n",
              "      <td>9723.0</td>\n",
              "      <td>5.1</td>\n",
              "    </tr>\n",
              "  </tbody>\n",
              "</table>\n",
              "<p>1799 rows × 6 columns</p>\n",
              "</div>"
            ],
            "text/plain": [
              "      final_pred       datetime  total_generation  day_ahead_price  \\\n",
              "0      45.819168  1666904400000            7990.0            27.18   \n",
              "1      46.460335  1666908000000            8031.0            25.89   \n",
              "2      40.341873  1666911600000            7992.0            23.71   \n",
              "3      25.111641  1666915200000            7984.0            22.35   \n",
              "4      14.313446  1666918800000            7955.0            20.23   \n",
              "...          ...            ...               ...              ...   \n",
              "1794   98.766457  1673546400000            8811.0            98.37   \n",
              "1795   83.662010  1673550000000            8749.0            74.08   \n",
              "1796   66.748772  1673553600000            8708.0            74.50   \n",
              "1797   70.293617  1673557200000            8665.0            66.84   \n",
              "1798   64.443230  1673560800000            8607.0            42.49   \n",
              "\n",
              "      total_load  temperature  \n",
              "0         7913.0         13.3  \n",
              "1         7575.0         13.8  \n",
              "2         7292.0         13.7  \n",
              "3         7137.0         14.0  \n",
              "4         7195.0         14.2  \n",
              "...          ...          ...  \n",
              "1794     11594.0          4.5  \n",
              "1795     11074.0          5.1  \n",
              "1796     10720.0          5.1  \n",
              "1797     10132.0          5.3  \n",
              "1798      9723.0          5.1  \n",
              "\n",
              "[1799 rows x 6 columns]"
            ]
          },
          "execution_count": 33,
          "metadata": {},
          "output_type": "execute_result"
        }
      ],
      "source": [
        "fully_final=pd.concat((final_pred,test),axis=1)\n",
        "fully_final"
      ]
    },
    {
      "cell_type": "code",
      "execution_count": 34,
      "metadata": {
        "colab": {
          "base_uri": "https://localhost:8080/",
          "height": 352
        },
        "id": "axlE-m9mOU7s",
        "outputId": "f47035b4-30b2-4f64-e4df-bb2570e4ab74"
      },
      "outputs": [
        {
          "data": {
            "image/png": "[encoded data removed]",
            "text/plain": [
              "<Figure size 1400x400 with 1 Axes>"
            ]
          },
          "metadata": {},
          "output_type": "display_data"
        }
      ],
      "source": [
        "import matplotlib.pyplot as plt\n",
        "import seaborn as sns\n",
        "aa=[x for x in range(1799)]\n",
        "plt.figure(figsize=(14,4))\n",
        "plt.plot(aa, fully_final['day_ahead_price'], marker='.', label=\"actual\")\n",
        "plt.plot(aa, fully_final['final_pred'], 'r', label=\"prediction\")\n",
        "# plt.tick_params(left=False, labelleft=True) #remove ticks\n",
        "plt.tight_layout()\n",
        "sns.despine(top=True)\n",
        "plt.subplots_adjust(left=0.07)\n",
        "plt.ylabel('Electricity Day Ahead Price [EUR/MWh]', size=15)\n",
        "plt.xlabel('Time step [Hour]', size=30)\n",
        "plt.legend(fontsize=15)\n",
        "plt.show();"
      ]
    },
    {
      "attachments": {},
      "cell_type": "markdown",
      "metadata": {},
      "source": [
        "### Upload model to hopsworks"
      ]
    },
    {
      "cell_type": "code",
      "execution_count": 35,
      "metadata": {},
      "outputs": [
        {
          "name": "stdout",
          "output_type": "stream",
          "text": [
            "Connection closed.\n",
            "Connected. Call `.close()` to terminate connection gracefully.\n",
            "\n",
            "Logged in to project, explore it here https://c.app.hopsworks.ai:443/p/4247\n",
            "Connected. Call `.close()` to terminate connection gracefully.\n"
          ]
        }
      ],
      "source": [
        "project = hopsworks.login() \n",
        "mr = project.get_model_registry()"
      ]
    },
    {
      "cell_type": "code",
      "execution_count": 36,
      "metadata": {},
      "outputs": [],
      "source": [
        "import os\n",
        "import joblib\n",
        "model_dir = \"model\"\n",
        "if not os.path.isdir(model_dir):\n",
        "    os.mkdir(model_dir)"
      ]
    },
    {
      "cell_type": "code",
      "execution_count": 41,
      "metadata": {},
      "outputs": [
        {
          "data": {
            "text/plain": [
              "{'input_schema': {'tensor_schema': {'shape': '(7171, 24, 4)',\n",
              "   'type': 'float64'}},\n",
              " 'output_schema': {'tensor_schema': {'shape': '(7171, 24)',\n",
              "   'type': 'float64'}}}"
            ]
          },
          "execution_count": 41,
          "metadata": {},
          "output_type": "execute_result"
        }
      ],
      "source": [
        "from hsml.schema import Schema\n",
        "from hsml.model_schema import ModelSchema\n",
        "\n",
        "input_schema = Schema(X_train_shape)\n",
        "output_schema = Schema(y_train)\n",
        "\n",
        "model_schema = ModelSchema(input_schema=input_schema, output_schema=output_schema)\n",
        "model_schema.to_dict()"
      ]
    },
    {
      "cell_type": "code",
      "execution_count": 42,
      "metadata": {},
      "outputs": [
        {
          "name": "stdout",
          "output_type": "stream",
          "text": [
            "Keras weights file (<HDF5 file \"variables.h5\" (mode r+)>) saving:\n",
            "...layers\n",
            "......dense\n",
            ".........vars\n",
            "............0\n",
            "............1\n",
            "......lstm\n",
            ".........cell\n",
            "............vars\n",
            "...............0\n",
            "...............1\n",
            "...............2\n",
            ".........vars\n",
            "...metrics\n",
            "......mean\n",
            ".........vars\n",
            "............0\n",
            "............1\n",
            "......mean_absolute_error\n",
            ".........vars\n",
            "............0\n",
            "............1\n",
            "...optimizer\n",
            "......vars\n",
            ".........0\n",
            ".........1\n",
            ".........10\n",
            ".........2\n",
            ".........3\n",
            ".........4\n",
            ".........5\n",
            ".........6\n",
            ".........7\n",
            ".........8\n",
            ".........9\n",
            "...vars\n",
            "Keras model archive saving:\n",
            "File Name                                             Modified             Size\n",
            "variables.h5                                   2023-01-14 19:44:57     21602040\n",
            "config.json                                    2023-01-14 19:44:57         2525\n",
            "metadata.json                                  2023-01-14 19:44:57           64\n"
          ]
        },
        {
          "data": {
            "text/plain": [
              "['model/electricity_price.pkl']"
            ]
          },
          "execution_count": 42,
          "metadata": {},
          "output_type": "execute_result"
        }
      ],
      "source": [
        "joblib.dump(lstm_model, model_dir + \"/electricity_price.pkl\")"
      ]
    },
    {
      "cell_type": "code",
      "execution_count": 45,
      "metadata": {},
      "outputs": [
        {
          "name": "stdout",
          "output_type": "stream",
          "text": [
            "R2 Score:  0.9061913088289225\n",
            "MAE:  21.056529778880233\n",
            "mean_squared_error testing :  39.661306325931136\n"
          ]
        }
      ],
      "source": [
        "print('R2 Score: ', r2_score(fully_final['day_ahead_price'], y_final_pred)) \n",
        "print('MAE: ', mean_absolute_error(fully_final['day_ahead_price'], y_final_pred)) \n",
        "print('mean_squared_error testing : ', mean_squared_error(fully_final['day_ahead_price'], y_final_pred, squared=False))\n"
      ]
    },
    {
      "cell_type": "code",
      "execution_count": 46,
      "metadata": {},
      "outputs": [
        {
          "name": "stderr",
          "output_type": "stream",
          "text": [
            "Model export complete: 100%|██████████| 6/6 [00:32<00:00,  5.42s/it]                   "
          ]
        },
        {
          "name": "stdout",
          "output_type": "stream",
          "text": [
            "Model created, explore it at https://c.app.hopsworks.ai:443/p/4247/models/SE3_elec_price_model/4\n"
          ]
        },
        {
          "name": "stderr",
          "output_type": "stream",
          "text": [
            "\n"
          ]
        },
        {
          "data": {
            "text/plain": [
              "Model(name: 'SE3_elec_price_model', version: 4)"
            ]
          },
          "execution_count": 46,
          "metadata": {},
          "output_type": "execute_result"
        }
      ],
      "source": [
        "model = mr.sklearn.create_model(\n",
        "    name=\"SE3_elec_price_model\",\n",
        "    metrics={\"mae\": \"21.05\"},\n",
        "    description=\"SE3 electricity price prediction\",\n",
        "    model_schema=model_schema,\n",
        "    version=4\n",
        ")\n",
        "\n",
        "model.save('model/electricity_price.pkl')"
      ]
    },
    {
      "cell_type": "code",
      "execution_count": null,
      "metadata": {},
      "outputs": [],
      "source": []
    }
  ],
  "metadata": {
    "colab": {
      "provenance": []
    },
    "kernelspec": {
      "display_name": "base",
      "language": "python",
      "name": "python3"
    },
    "language_info": {
      "codemirror_mode": {
        "name": "ipython",
        "version": 3
      },
      "file_extension": ".py",
      "mimetype": "text/x-python",
      "name": "python",
      "nbconvert_exporter": "python",
      "pygments_lexer": "ipython3",
      "version": "3.9.12 (main, Apr  5 2022, 06:56:58) \n[GCC 7.5.0]"
    },
    "vscode": {
      "interpreter": {
        "hash": "335d80310dcdd71c39c5fc237d90b2722202fb6a12e63ce8cbfcb42f72ee81b1"
      }
    }
  },
  "nbformat": 4,
  "nbformat_minor": 0
}
