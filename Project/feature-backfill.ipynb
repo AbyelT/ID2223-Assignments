{
  "cells": [
    {
      "attachments": {},
      "cell_type": "markdown",
      "metadata": {},
      "source": [
        "# Feature Backfill\n",
        "\n",
        "explanation here"
      ]
    },
    {
      "attachments": {},
      "cell_type": "markdown",
      "metadata": {
        "id": "E1uOV0VCFu6x"
      },
      "source": [
        "### Load imports"
      ]
    },
    {
      "cell_type": "code",
      "execution_count": 1,
      "metadata": {
        "_cell_guid": "b1076dfc-b9ad-4769-8c92-a6c4dae69d19",
        "_uuid": "8f2839f25d086af736a60e9eeb907d3b93b6e0e5",
        "execution": {
          "iopub.execute_input": "2023-01-03T16:52:16.328812Z",
          "iopub.status.busy": "2023-01-03T16:52:16.328395Z",
          "iopub.status.idle": "2023-01-03T16:52:16.334635Z",
          "shell.execute_reply": "2023-01-03T16:52:16.333237Z",
          "shell.execute_reply.started": "2023-01-03T16:52:16.328777Z"
        },
        "id": "9z7fE9zAkM1Z",
        "trusted": true
      },
      "outputs": [],
      "source": [
        "import numpy as np # linear algebra\n",
        "import pandas as pd # data processing, CSV file I/O (e.g. pd.read_csv)\n",
        "import hopsworks\n",
        "import matplotlib.pyplot as plt\n",
        "from datetime import datetime, timedelta"
      ]
    },
    {
      "attachments": {},
      "cell_type": "markdown",
      "metadata": {
        "id": "mWqrna-YGSIr"
      },
      "source": [
        "#### Helper functions"
      ]
    },
    {
      "cell_type": "code",
      "execution_count": 2,
      "metadata": {
        "execution": {
          "iopub.execute_input": "2023-01-03T16:52:17.529361Z",
          "iopub.status.busy": "2023-01-03T16:52:17.528424Z",
          "iopub.status.idle": "2023-01-03T16:52:17.535668Z",
          "shell.execute_reply": "2023-01-03T16:52:17.534728Z",
          "shell.execute_reply.started": "2023-01-03T16:52:17.529326Z"
        },
        "id": "v1Ol3mTBkM1q",
        "trusted": true
      },
      "outputs": [],
      "source": [
        "# functions for replacing date and time with timestamp (seconds since 1970-01-01)\n",
        "\n",
        "def energy_timestamp_2_time(x):\n",
        "    dt_obj = datetime.strptime(str(x), '%d.%m.%Y %H:%M')\n",
        "    dt_obj = dt_obj.timestamp() * 1000\n",
        "    return int(dt_obj)\n",
        "\n",
        "def weather_timestamp_2_time(x):\n",
        "    dt_obj = datetime.strptime(str(x), '%Y-%m-%d %H:%M:%S')\n",
        "    dt_obj = dt_obj.timestamp() * 1000\n",
        "\n",
        "    return int(dt_obj)"
      ]
    },
    {
      "attachments": {},
      "cell_type": "markdown",
      "metadata": {
        "id": "UPNGAV-QkM1d"
      },
      "source": [
        "#### Load all datasets"
      ]
    },
    {
      "cell_type": "code",
      "execution_count": 39,
      "metadata": {
        "execution": {
          "iopub.execute_input": "2023-01-03T16:52:16.353903Z",
          "iopub.status.busy": "2023-01-03T16:52:16.353245Z",
          "iopub.status.idle": "2023-01-03T16:52:16.462196Z",
          "shell.execute_reply": "2023-01-03T16:52:16.460839Z",
          "shell.execute_reply.started": "2023-01-03T16:52:16.353867Z"
        },
        "id": "2temylTPkM1h",
        "trusted": true
      },
      "outputs": [],
      "source": [
        "day_ahead_prices = pd.read_csv(\"data/Day-ahead Prices_202201010000-202301010000.csv\")\n",
        "gbg = pd.read_csv(\"data/smhi-opendata_2022_goteborg_temperatur.csv\")\n",
        "act_gen_per_prodtype = pd.read_csv(\"data/Actual Generation per Production Type_202201010000-202301010000.csv\")\n",
        "total_load = pd.read_csv(\"data/Total Load - Day Ahead _ Actual_202201010000-202301010000.csv\")"
      ]
    },
    {
      "cell_type": "markdown",
      "metadata": {
        "id": "FlXO6Y3P8afq"
      },
      "source": [
        "## Data preparation"
      ]
    },
    {
      "cell_type": "markdown",
      "metadata": {
        "id": "F8SzN_dnGooh"
      },
      "source": [
        "### Total load (consumption)"
      ]
    },
    {
      "cell_type": "code",
      "execution_count": 40,
      "metadata": {
        "colab": {
          "base_uri": "https://localhost:8080/",
          "height": 206
        },
        "execution": {
          "iopub.execute_input": "2023-01-03T16:52:16.465048Z",
          "iopub.status.busy": "2023-01-03T16:52:16.464558Z",
          "iopub.status.idle": "2023-01-03T16:52:16.497446Z",
          "shell.execute_reply": "2023-01-03T16:52:16.496234Z",
          "shell.execute_reply.started": "2023-01-03T16:52:16.465002Z"
        },
        "id": "wIrjzk3rkM1k",
        "outputId": "e7cbfd0f-ffb7-4a96-b71d-4520d663359a",
        "trusted": true
      },
      "outputs": [
        {
          "name": "stdout",
          "output_type": "stream",
          "text": [
            "<class 'pandas.core.frame.DataFrame'>\n",
            "RangeIndex: 8761 entries, 0 to 8760\n",
            "Data columns (total 3 columns):\n",
            " #   Column                                        Non-Null Count  Dtype  \n",
            "---  ------                                        --------------  -----  \n",
            " 0   Time (CET/CEST)                               8761 non-null   object \n",
            " 1   Day-ahead Total Load Forecast [MW] - BZN|SE3  8760 non-null   float64\n",
            " 2   Actual Total Load [MW] - BZN|SE3              8760 non-null   float64\n",
            "dtypes: float64(2), object(1)\n",
            "memory usage: 205.5+ KB\n"
          ]
        }
      ],
      "source": [
        "total_load.info()"
      ]
    },
    {
      "cell_type": "code",
      "execution_count": 41,
      "metadata": {
        "execution": {
          "iopub.execute_input": "2023-01-03T16:52:16.500360Z",
          "iopub.status.busy": "2023-01-03T16:52:16.499052Z",
          "iopub.status.idle": "2023-01-03T16:52:17.525717Z",
          "shell.execute_reply": "2023-01-03T16:52:17.524773Z",
          "shell.execute_reply.started": "2023-01-03T16:52:16.500311Z"
        },
        "id": "CJt9a2zDkM1n",
        "trusted": true
      },
      "outputs": [
        {
          "data": {
            "text/html": [
              "<div>\n",
              "<style scoped>\n",
              "    .dataframe tbody tr th:only-of-type {\n",
              "        vertical-align: middle;\n",
              "    }\n",
              "\n",
              "    .dataframe tbody tr th {\n",
              "        vertical-align: top;\n",
              "    }\n",
              "\n",
              "    .dataframe thead th {\n",
              "        text-align: right;\n",
              "    }\n",
              "</style>\n",
              "<table border=\"1\" class=\"dataframe\">\n",
              "  <thead>\n",
              "    <tr style=\"text-align: right;\">\n",
              "      <th></th>\n",
              "      <th>Actual Total Load [MW] - BZN|SE3</th>\n",
              "      <th>DateTime</th>\n",
              "    </tr>\n",
              "  </thead>\n",
              "  <tbody>\n",
              "    <tr>\n",
              "      <th>0</th>\n",
              "      <td>9685.0</td>\n",
              "      <td>2022-01-01 00:00:00</td>\n",
              "    </tr>\n",
              "    <tr>\n",
              "      <th>1</th>\n",
              "      <td>9612.0</td>\n",
              "      <td>2022-01-01 01:00:00</td>\n",
              "    </tr>\n",
              "    <tr>\n",
              "      <th>2</th>\n",
              "      <td>9601.0</td>\n",
              "      <td>2022-01-01 02:00:00</td>\n",
              "    </tr>\n",
              "    <tr>\n",
              "      <th>3</th>\n",
              "      <td>9552.0</td>\n",
              "      <td>2022-01-01 03:00:00</td>\n",
              "    </tr>\n",
              "    <tr>\n",
              "      <th>4</th>\n",
              "      <td>9449.0</td>\n",
              "      <td>2022-01-01 04:00:00</td>\n",
              "    </tr>\n",
              "  </tbody>\n",
              "</table>\n",
              "</div>"
            ],
            "text/plain": [
              "   Actual Total Load [MW] - BZN|SE3            DateTime\n",
              "0                            9685.0 2022-01-01 00:00:00\n",
              "1                            9612.0 2022-01-01 01:00:00\n",
              "2                            9601.0 2022-01-01 02:00:00\n",
              "3                            9552.0 2022-01-01 03:00:00\n",
              "4                            9449.0 2022-01-01 04:00:00"
            ]
          },
          "execution_count": 41,
          "metadata": {},
          "output_type": "execute_result"
        }
      ],
      "source": [
        "total_load[['DateTime', 'dt_end']] = total_load['Time (CET/CEST)'].str.split(' - ', expand = True)\n",
        "#total_load[['date', 'time']] = total_load['DateTime'].str.split(' ', expand = True)\n",
        "total_load.drop(['dt_end','Time (CET/CEST)','Day-ahead Total Load Forecast [MW] - BZN|SE3'],axis=1, inplace=True)\n",
        "total_load['DateTime'] = pd.to_datetime(total_load['DateTime'], infer_datetime_format=True)\n",
        "#total_load['DateTime'] = total_load['DateTime'].apply(energy_timestamp_2_time)\n",
        "total_load.head()"
      ]
    },
    {
      "cell_type": "markdown",
      "metadata": {
        "id": "B3kq4J5xHStz"
      },
      "source": [
        "### Day-price data"
      ]
    },
    {
      "cell_type": "code",
      "execution_count": 42,
      "metadata": {
        "colab": {
          "base_uri": "https://localhost:8080/",
          "height": 206
        },
        "id": "XjPWJAQgHXs_",
        "outputId": "64861195-db19-4ffc-9cc6-a82f4ddb6df9"
      },
      "outputs": [
        {
          "name": "stdout",
          "output_type": "stream",
          "text": [
            "<class 'pandas.core.frame.DataFrame'>\n",
            "RangeIndex: 8761 entries, 0 to 8760\n",
            "Data columns (total 4 columns):\n",
            " #   Column                     Non-Null Count  Dtype  \n",
            "---  ------                     --------------  -----  \n",
            " 0   MTU (CET/CEST)             8761 non-null   object \n",
            " 1   Day-ahead Price [EUR/MWh]  8760 non-null   float64\n",
            " 2   Currency                   8760 non-null   object \n",
            " 3   BZN|SE3                    0 non-null      float64\n",
            "dtypes: float64(2), object(2)\n",
            "memory usage: 273.9+ KB\n"
          ]
        }
      ],
      "source": [
        "day_ahead_prices.info()"
      ]
    },
    {
      "cell_type": "code",
      "execution_count": 43,
      "metadata": {
        "id": "F0yByTvZHh4M"
      },
      "outputs": [
        {
          "data": {
            "text/html": [
              "<div>\n",
              "<style scoped>\n",
              "    .dataframe tbody tr th:only-of-type {\n",
              "        vertical-align: middle;\n",
              "    }\n",
              "\n",
              "    .dataframe tbody tr th {\n",
              "        vertical-align: top;\n",
              "    }\n",
              "\n",
              "    .dataframe thead th {\n",
              "        text-align: right;\n",
              "    }\n",
              "</style>\n",
              "<table border=\"1\" class=\"dataframe\">\n",
              "  <thead>\n",
              "    <tr style=\"text-align: right;\">\n",
              "      <th></th>\n",
              "      <th>Day-ahead Price [EUR/MWh]</th>\n",
              "      <th>DateTime</th>\n",
              "    </tr>\n",
              "  </thead>\n",
              "  <tbody>\n",
              "    <tr>\n",
              "      <th>0</th>\n",
              "      <td>46.60</td>\n",
              "      <td>2022-01-01 00:00:00</td>\n",
              "    </tr>\n",
              "    <tr>\n",
              "      <th>1</th>\n",
              "      <td>41.33</td>\n",
              "      <td>2022-01-01 01:00:00</td>\n",
              "    </tr>\n",
              "    <tr>\n",
              "      <th>2</th>\n",
              "      <td>42.18</td>\n",
              "      <td>2022-01-01 02:00:00</td>\n",
              "    </tr>\n",
              "    <tr>\n",
              "      <th>3</th>\n",
              "      <td>44.37</td>\n",
              "      <td>2022-01-01 03:00:00</td>\n",
              "    </tr>\n",
              "    <tr>\n",
              "      <th>4</th>\n",
              "      <td>37.67</td>\n",
              "      <td>2022-01-01 04:00:00</td>\n",
              "    </tr>\n",
              "  </tbody>\n",
              "</table>\n",
              "</div>"
            ],
            "text/plain": [
              "   Day-ahead Price [EUR/MWh]            DateTime\n",
              "0                      46.60 2022-01-01 00:00:00\n",
              "1                      41.33 2022-01-01 01:00:00\n",
              "2                      42.18 2022-01-01 02:00:00\n",
              "3                      44.37 2022-01-01 03:00:00\n",
              "4                      37.67 2022-01-01 04:00:00"
            ]
          },
          "execution_count": 43,
          "metadata": {},
          "output_type": "execute_result"
        }
      ],
      "source": [
        "day_ahead_prices[['DateTime', 'dt_end']] = day_ahead_prices['MTU (CET/CEST)'].str.split(' - ', expand = True)\n",
        "#day_ahead_prices[['date', 'time']] = day_ahead_prices['DateTime'].str.split(' ', expand = True)\n",
        "day_ahead_prices.drop(['dt_end','MTU (CET/CEST)', 'Currency', 'BZN|SE3'],axis=1, inplace=True)\n",
        "#day_ahead_prices['DateTime'] = day_ahead_prices['DateTime'].apply(energy_timestamp_2_time)\n",
        "day_ahead_prices['DateTime'] = pd.to_datetime(day_ahead_prices['DateTime'], infer_datetime_format=True)\n",
        "day_ahead_prices.head()"
      ]
    },
    {
      "cell_type": "markdown",
      "metadata": {
        "id": "-BHC65ejkM1r"
      },
      "source": [
        "### Electricity data"
      ]
    },
    {
      "cell_type": "code",
      "execution_count": 44,
      "metadata": {
        "colab": {
          "base_uri": "https://localhost:8080/"
        },
        "execution": {
          "iopub.execute_input": "2023-01-03T16:52:17.566377Z",
          "iopub.status.busy": "2023-01-03T16:52:17.565052Z",
          "iopub.status.idle": "2023-01-03T16:52:17.590471Z",
          "shell.execute_reply": "2023-01-03T16:52:17.589128Z",
          "shell.execute_reply.started": "2023-01-03T16:52:17.566324Z"
        },
        "id": "xF68ji2wkM1t",
        "outputId": "4f9830b8-c9f6-4091-b104-b1443734c67d",
        "trusted": true
      },
      "outputs": [
        {
          "name": "stdout",
          "output_type": "stream",
          "text": [
            "<class 'pandas.core.frame.DataFrame'>\n",
            "RangeIndex: 8761 entries, 0 to 8760\n",
            "Data columns (total 8 columns):\n",
            " #   Column                                           Non-Null Count  Dtype  \n",
            "---  ------                                           --------------  -----  \n",
            " 0   Area                                             8761 non-null   object \n",
            " 1   MTU                                              8761 non-null   object \n",
            " 2   Fossil Gas  - Actual Aggregated [MW]             8759 non-null   float64\n",
            " 3   Hydro Water Reservoir  - Actual Aggregated [MW]  8759 non-null   float64\n",
            " 4   Nuclear  - Actual Aggregated [MW]                8759 non-null   float64\n",
            " 5   Other  - Actual Aggregated [MW]                  8759 non-null   float64\n",
            " 6   Solar  - Actual Aggregated [MW]                  8759 non-null   float64\n",
            " 7   Wind Onshore  - Actual Aggregated [MW]           8759 non-null   float64\n",
            "dtypes: float64(6), object(2)\n",
            "memory usage: 547.7+ KB\n"
          ]
        }
      ],
      "source": [
        "act_gen_per_prodtype.info(3)"
      ]
    },
    {
      "cell_type": "code",
      "execution_count": 45,
      "metadata": {
        "colab": {
          "base_uri": "https://localhost:8080/"
        },
        "execution": {
          "iopub.execute_input": "2023-01-03T16:52:17.592505Z",
          "iopub.status.busy": "2023-01-03T16:52:17.592145Z",
          "iopub.status.idle": "2023-01-03T16:52:17.611457Z",
          "shell.execute_reply": "2023-01-03T16:52:17.610104Z",
          "shell.execute_reply.started": "2023-01-03T16:52:17.592472Z"
        },
        "id": "tzptr0h5kM1u",
        "outputId": "8a411a01-9c8f-464c-a591-9cf081b5cca9",
        "trusted": true
      },
      "outputs": [
        {
          "data": {
            "text/html": [
              "<div>\n",
              "<style scoped>\n",
              "    .dataframe tbody tr th:only-of-type {\n",
              "        vertical-align: middle;\n",
              "    }\n",
              "\n",
              "    .dataframe tbody tr th {\n",
              "        vertical-align: top;\n",
              "    }\n",
              "\n",
              "    .dataframe thead th {\n",
              "        text-align: right;\n",
              "    }\n",
              "</style>\n",
              "<table border=\"1\" class=\"dataframe\">\n",
              "  <thead>\n",
              "    <tr style=\"text-align: right;\">\n",
              "      <th></th>\n",
              "      <th>hydro_water_reservoir</th>\n",
              "      <th>nuclear</th>\n",
              "      <th>other</th>\n",
              "      <th>solar</th>\n",
              "      <th>wind_onshore</th>\n",
              "      <th>DateTime</th>\n",
              "    </tr>\n",
              "  </thead>\n",
              "  <tbody>\n",
              "    <tr>\n",
              "      <th>0</th>\n",
              "      <td>824.0</td>\n",
              "      <td>5841.0</td>\n",
              "      <td>892.0</td>\n",
              "      <td>0.0</td>\n",
              "      <td>1062.0</td>\n",
              "      <td>2022-01-01 00:00:00</td>\n",
              "    </tr>\n",
              "    <tr>\n",
              "      <th>1</th>\n",
              "      <td>818.0</td>\n",
              "      <td>5842.0</td>\n",
              "      <td>851.0</td>\n",
              "      <td>0.0</td>\n",
              "      <td>999.0</td>\n",
              "      <td>2022-01-01 01:00:00</td>\n",
              "    </tr>\n",
              "    <tr>\n",
              "      <th>2</th>\n",
              "      <td>818.0</td>\n",
              "      <td>5839.0</td>\n",
              "      <td>858.0</td>\n",
              "      <td>0.0</td>\n",
              "      <td>958.0</td>\n",
              "      <td>2022-01-01 02:00:00</td>\n",
              "    </tr>\n",
              "  </tbody>\n",
              "</table>\n",
              "</div>"
            ],
            "text/plain": [
              "   hydro_water_reservoir  nuclear  other  solar  wind_onshore  \\\n",
              "0                  824.0   5841.0  892.0    0.0        1062.0   \n",
              "1                  818.0   5842.0  851.0    0.0         999.0   \n",
              "2                  818.0   5839.0  858.0    0.0         958.0   \n",
              "\n",
              "             DateTime  \n",
              "0 2022-01-01 00:00:00  \n",
              "1 2022-01-01 01:00:00  \n",
              "2 2022-01-01 02:00:00  "
            ]
          },
          "execution_count": 45,
          "metadata": {},
          "output_type": "execute_result"
        }
      ],
      "source": [
        "## remove non-informative or weak columns\n",
        "act_gen_per_prodtype[['DateTime', 'dt_end']] = act_gen_per_prodtype['MTU'].str.split(' - ', expand = True)\n",
        "#act_gen_per_prodtype[['date', 'time']] = act_gen_per_prodtype['DateTime'].str.split(' ', expand = True)\n",
        "act_gen_per_prodtype = act_gen_per_prodtype.drop(['dt_end', 'MTU', 'Area', 'Fossil Gas  - Actual Aggregated [MW]'], axis=1)\n",
        "act_gen_per_prodtype.rename(columns={\n",
        "                                \"Hydro Water Reservoir  - Actual Aggregated [MW]\": \"hydro_water_reservoir\",\n",
        "                                \"Nuclear  - Actual Aggregated [MW]\": \"nuclear\",\n",
        "                                \"Other  - Actual Aggregated [MW]\": \"other\",\n",
        "                                \"Solar  - Actual Aggregated [MW]\": \"solar\",\n",
        "                                \"Wind Onshore  - Actual Aggregated [MW]\": \"wind_onshore\"}, inplace=True)\n",
        "#act_gen_per_prodtype['DateTime'] = act_gen_per_prodtype['DateTime'].apply(energy_timestamp_2_time)   \n",
        "act_gen_per_prodtype['DateTime'] = pd.to_datetime(act_gen_per_prodtype['DateTime'], infer_datetime_format=True)\n",
        "act_gen_per_prodtype.head(3)\n"
      ]
    },
    {
      "cell_type": "markdown",
      "metadata": {
        "id": "JDnp2KTuIZyn"
      },
      "source": [
        "### Weather temperature"
      ]
    },
    {
      "cell_type": "code",
      "execution_count": 46,
      "metadata": {},
      "outputs": [
        {
          "name": "stdout",
          "output_type": "stream",
          "text": [
            "<class 'pandas.core.frame.DataFrame'>\n",
            "RangeIndex: 8755 entries, 0 to 8754\n",
            "Data columns (total 4 columns):\n",
            " #   Column          Non-Null Count  Dtype  \n",
            "---  ------          --------------  -----  \n",
            " 0   Datum           8755 non-null   object \n",
            " 1   Tid (UTC)       8755 non-null   object \n",
            " 2   Lufttemperatur  8755 non-null   float64\n",
            " 3   Kvalitet        8755 non-null   object \n",
            "dtypes: float64(1), object(3)\n",
            "memory usage: 273.7+ KB\n"
          ]
        }
      ],
      "source": [
        "gbg.info()"
      ]
    },
    {
      "cell_type": "code",
      "execution_count": 47,
      "metadata": {
        "execution": {
          "iopub.execute_input": "2023-01-03T16:52:18.691474Z",
          "iopub.status.busy": "2023-01-03T16:52:18.690450Z",
          "iopub.status.idle": "2023-01-03T16:52:19.151700Z",
          "shell.execute_reply": "2023-01-03T16:52:19.150549Z",
          "shell.execute_reply.started": "2023-01-03T16:52:18.691435Z"
        },
        "id": "kKef83K2kM1x",
        "trusted": true
      },
      "outputs": [
        {
          "data": {
            "text/html": [
              "<div>\n",
              "<style scoped>\n",
              "    .dataframe tbody tr th:only-of-type {\n",
              "        vertical-align: middle;\n",
              "    }\n",
              "\n",
              "    .dataframe tbody tr th {\n",
              "        vertical-align: top;\n",
              "    }\n",
              "\n",
              "    .dataframe thead th {\n",
              "        text-align: right;\n",
              "    }\n",
              "</style>\n",
              "<table border=\"1\" class=\"dataframe\">\n",
              "  <thead>\n",
              "    <tr style=\"text-align: right;\">\n",
              "      <th></th>\n",
              "      <th>Lufttemperatur</th>\n",
              "      <th>DateTime</th>\n",
              "    </tr>\n",
              "  </thead>\n",
              "  <tbody>\n",
              "    <tr>\n",
              "      <th>0</th>\n",
              "      <td>5.3</td>\n",
              "      <td>2022-01-01 00:00:00</td>\n",
              "    </tr>\n",
              "    <tr>\n",
              "      <th>1</th>\n",
              "      <td>5.4</td>\n",
              "      <td>2022-01-01 01:00:00</td>\n",
              "    </tr>\n",
              "    <tr>\n",
              "      <th>2</th>\n",
              "      <td>5.4</td>\n",
              "      <td>2022-01-01 02:00:00</td>\n",
              "    </tr>\n",
              "    <tr>\n",
              "      <th>3</th>\n",
              "      <td>5.7</td>\n",
              "      <td>2022-01-01 03:00:00</td>\n",
              "    </tr>\n",
              "    <tr>\n",
              "      <th>4</th>\n",
              "      <td>5.3</td>\n",
              "      <td>2022-01-01 04:00:00</td>\n",
              "    </tr>\n",
              "  </tbody>\n",
              "</table>\n",
              "</div>"
            ],
            "text/plain": [
              "   Lufttemperatur            DateTime\n",
              "0             5.3 2022-01-01 00:00:00\n",
              "1             5.4 2022-01-01 01:00:00\n",
              "2             5.4 2022-01-01 02:00:00\n",
              "3             5.7 2022-01-01 03:00:00\n",
              "4             5.3 2022-01-01 04:00:00"
            ]
          },
          "execution_count": 47,
          "metadata": {},
          "output_type": "execute_result"
        }
      ],
      "source": [
        "gbg_temp = gbg.copy()\n",
        "gbg_temp['DateTime'] = gbg_temp.agg('{0[Datum]} {0[Tid (UTC)]}'.format, axis=1)\n",
        "gbg_temp['DateTime'] = pd.to_datetime(gbg_temp['DateTime'], infer_datetime_format=True)\n",
        "# #gbg_temp['DateTime'] = gbg_temp['DateTime'].apply(weather_timestamp_2_time) \n",
        "#gbg_temp['Datum'] = pd.to_datetime(gbg_temp['Datum'], infer_datetime_format=True)\n",
        "#gbg_temp['Tid (UTC)'] = pd.to_datetime(gbg_temp['Tid (UTC)'], infer_datetime_format=True)\n",
        "gbg_temp = gbg_temp.drop(['Kvalitet', 'Datum', 'Tid (UTC)'],axis=1)\n",
        "gbg_temp.head()"
      ]
    },
    {
      "attachments": {},
      "cell_type": "markdown",
      "metadata": {
        "id": "X5cKQdKfNCzJ"
      },
      "source": [
        "### Combine datasets"
      ]
    },
    {
      "cell_type": "code",
      "execution_count": 48,
      "metadata": {
        "colab": {
          "base_uri": "https://localhost:8080/",
          "height": 389
        },
        "id": "n0-8RVNrNWkK",
        "outputId": "d23a59f2-bff8-4009-9d8b-27a9351491e5"
      },
      "outputs": [
        {
          "data": {
            "text/html": [
              "<div>\n",
              "<style scoped>\n",
              "    .dataframe tbody tr th:only-of-type {\n",
              "        vertical-align: middle;\n",
              "    }\n",
              "\n",
              "    .dataframe tbody tr th {\n",
              "        vertical-align: top;\n",
              "    }\n",
              "\n",
              "    .dataframe thead th {\n",
              "        text-align: right;\n",
              "    }\n",
              "</style>\n",
              "<table border=\"1\" class=\"dataframe\">\n",
              "  <thead>\n",
              "    <tr style=\"text-align: right;\">\n",
              "      <th></th>\n",
              "      <th>hydro_water_reservoir</th>\n",
              "      <th>nuclear</th>\n",
              "      <th>other</th>\n",
              "      <th>solar</th>\n",
              "      <th>wind_onshore</th>\n",
              "      <th>DateTime</th>\n",
              "      <th>Day-ahead Price [EUR/MWh]</th>\n",
              "      <th>Actual Total Load [MW] - BZN|SE3</th>\n",
              "      <th>Lufttemperatur</th>\n",
              "    </tr>\n",
              "  </thead>\n",
              "  <tbody>\n",
              "    <tr>\n",
              "      <th>0</th>\n",
              "      <td>824.0</td>\n",
              "      <td>5841.0</td>\n",
              "      <td>892.0</td>\n",
              "      <td>0.0</td>\n",
              "      <td>1062.0</td>\n",
              "      <td>2022-01-01 00:00:00</td>\n",
              "      <td>46.60</td>\n",
              "      <td>9685.0</td>\n",
              "      <td>5.3</td>\n",
              "    </tr>\n",
              "    <tr>\n",
              "      <th>1</th>\n",
              "      <td>818.0</td>\n",
              "      <td>5842.0</td>\n",
              "      <td>851.0</td>\n",
              "      <td>0.0</td>\n",
              "      <td>999.0</td>\n",
              "      <td>2022-01-01 01:00:00</td>\n",
              "      <td>41.33</td>\n",
              "      <td>9612.0</td>\n",
              "      <td>5.4</td>\n",
              "    </tr>\n",
              "    <tr>\n",
              "      <th>2</th>\n",
              "      <td>818.0</td>\n",
              "      <td>5839.0</td>\n",
              "      <td>858.0</td>\n",
              "      <td>0.0</td>\n",
              "      <td>958.0</td>\n",
              "      <td>2022-01-01 02:00:00</td>\n",
              "      <td>42.18</td>\n",
              "      <td>9601.0</td>\n",
              "      <td>5.4</td>\n",
              "    </tr>\n",
              "    <tr>\n",
              "      <th>3</th>\n",
              "      <td>838.0</td>\n",
              "      <td>5839.0</td>\n",
              "      <td>859.0</td>\n",
              "      <td>0.0</td>\n",
              "      <td>888.0</td>\n",
              "      <td>2022-01-01 03:00:00</td>\n",
              "      <td>44.37</td>\n",
              "      <td>9552.0</td>\n",
              "      <td>5.7</td>\n",
              "    </tr>\n",
              "    <tr>\n",
              "      <th>4</th>\n",
              "      <td>842.0</td>\n",
              "      <td>5840.0</td>\n",
              "      <td>856.0</td>\n",
              "      <td>0.0</td>\n",
              "      <td>788.0</td>\n",
              "      <td>2022-01-01 04:00:00</td>\n",
              "      <td>37.67</td>\n",
              "      <td>9449.0</td>\n",
              "      <td>5.3</td>\n",
              "    </tr>\n",
              "  </tbody>\n",
              "</table>\n",
              "</div>"
            ],
            "text/plain": [
              "   hydro_water_reservoir  nuclear  other  solar  wind_onshore  \\\n",
              "0                  824.0   5841.0  892.0    0.0        1062.0   \n",
              "1                  818.0   5842.0  851.0    0.0         999.0   \n",
              "2                  818.0   5839.0  858.0    0.0         958.0   \n",
              "3                  838.0   5839.0  859.0    0.0         888.0   \n",
              "4                  842.0   5840.0  856.0    0.0         788.0   \n",
              "\n",
              "             DateTime  Day-ahead Price [EUR/MWh]  \\\n",
              "0 2022-01-01 00:00:00                      46.60   \n",
              "1 2022-01-01 01:00:00                      41.33   \n",
              "2 2022-01-01 02:00:00                      42.18   \n",
              "3 2022-01-01 03:00:00                      44.37   \n",
              "4 2022-01-01 04:00:00                      37.67   \n",
              "\n",
              "   Actual Total Load [MW] - BZN|SE3  Lufttemperatur  \n",
              "0                            9685.0             5.3  \n",
              "1                            9612.0             5.4  \n",
              "2                            9601.0             5.4  \n",
              "3                            9552.0             5.7  \n",
              "4                            9449.0             5.3  "
            ]
          },
          "execution_count": 48,
          "metadata": {},
          "output_type": "execute_result"
        }
      ],
      "source": [
        "act_gen_per_prodtype_price = act_gen_per_prodtype.merge(day_ahead_prices, how='inner', on='DateTime')\n",
        "act_gen_per_prodtype_price = act_gen_per_prodtype_price.merge(total_load, how='inner', on='DateTime')\n",
        "act_gen_per_prodtype_price = act_gen_per_prodtype_price.merge(gbg_temp, how='inner', on='DateTime')\n",
        "act_gen_per_prodtype_price.head()"
      ]
    },
    {
      "cell_type": "code",
      "execution_count": 49,
      "metadata": {
        "colab": {
          "base_uri": "https://localhost:8080/",
          "height": 206
        },
        "execution": {
          "iopub.execute_input": "2023-01-03T16:53:02.676959Z",
          "iopub.status.busy": "2023-01-03T16:53:02.676554Z",
          "iopub.status.idle": "2023-01-03T16:53:02.683973Z",
          "shell.execute_reply": "2023-01-03T16:53:02.682471Z",
          "shell.execute_reply.started": "2023-01-03T16:53:02.676926Z"
        },
        "id": "AHWipga5kM1z",
        "outputId": "a386f5a6-8ede-44e4-9aed-d6c89cb58c0e",
        "trusted": true
      },
      "outputs": [
        {
          "data": {
            "text/html": [
              "<div>\n",
              "<style scoped>\n",
              "    .dataframe tbody tr th:only-of-type {\n",
              "        vertical-align: middle;\n",
              "    }\n",
              "\n",
              "    .dataframe tbody tr th {\n",
              "        vertical-align: top;\n",
              "    }\n",
              "\n",
              "    .dataframe thead th {\n",
              "        text-align: right;\n",
              "    }\n",
              "</style>\n",
              "<table border=\"1\" class=\"dataframe\">\n",
              "  <thead>\n",
              "    <tr style=\"text-align: right;\">\n",
              "      <th></th>\n",
              "      <th>hydro_water_reservoir</th>\n",
              "      <th>nuclear</th>\n",
              "      <th>other</th>\n",
              "      <th>solar</th>\n",
              "      <th>wind_onshore</th>\n",
              "      <th>DateTime</th>\n",
              "      <th>day_ahead_price</th>\n",
              "      <th>total_load</th>\n",
              "      <th>temperature</th>\n",
              "    </tr>\n",
              "  </thead>\n",
              "  <tbody>\n",
              "    <tr>\n",
              "      <th>0</th>\n",
              "      <td>824.0</td>\n",
              "      <td>5841.0</td>\n",
              "      <td>892.0</td>\n",
              "      <td>0.0</td>\n",
              "      <td>1062.0</td>\n",
              "      <td>2022-01-01 00:00:00</td>\n",
              "      <td>46.60</td>\n",
              "      <td>9685.0</td>\n",
              "      <td>5.3</td>\n",
              "    </tr>\n",
              "    <tr>\n",
              "      <th>1</th>\n",
              "      <td>818.0</td>\n",
              "      <td>5842.0</td>\n",
              "      <td>851.0</td>\n",
              "      <td>0.0</td>\n",
              "      <td>999.0</td>\n",
              "      <td>2022-01-01 01:00:00</td>\n",
              "      <td>41.33</td>\n",
              "      <td>9612.0</td>\n",
              "      <td>5.4</td>\n",
              "    </tr>\n",
              "    <tr>\n",
              "      <th>2</th>\n",
              "      <td>818.0</td>\n",
              "      <td>5839.0</td>\n",
              "      <td>858.0</td>\n",
              "      <td>0.0</td>\n",
              "      <td>958.0</td>\n",
              "      <td>2022-01-01 02:00:00</td>\n",
              "      <td>42.18</td>\n",
              "      <td>9601.0</td>\n",
              "      <td>5.4</td>\n",
              "    </tr>\n",
              "    <tr>\n",
              "      <th>3</th>\n",
              "      <td>838.0</td>\n",
              "      <td>5839.0</td>\n",
              "      <td>859.0</td>\n",
              "      <td>0.0</td>\n",
              "      <td>888.0</td>\n",
              "      <td>2022-01-01 03:00:00</td>\n",
              "      <td>44.37</td>\n",
              "      <td>9552.0</td>\n",
              "      <td>5.7</td>\n",
              "    </tr>\n",
              "    <tr>\n",
              "      <th>4</th>\n",
              "      <td>842.0</td>\n",
              "      <td>5840.0</td>\n",
              "      <td>856.0</td>\n",
              "      <td>0.0</td>\n",
              "      <td>788.0</td>\n",
              "      <td>2022-01-01 04:00:00</td>\n",
              "      <td>37.67</td>\n",
              "      <td>9449.0</td>\n",
              "      <td>5.3</td>\n",
              "    </tr>\n",
              "  </tbody>\n",
              "</table>\n",
              "</div>"
            ],
            "text/plain": [
              "   hydro_water_reservoir  nuclear  other  solar  wind_onshore  \\\n",
              "0                  824.0   5841.0  892.0    0.0        1062.0   \n",
              "1                  818.0   5842.0  851.0    0.0         999.0   \n",
              "2                  818.0   5839.0  858.0    0.0         958.0   \n",
              "3                  838.0   5839.0  859.0    0.0         888.0   \n",
              "4                  842.0   5840.0  856.0    0.0         788.0   \n",
              "\n",
              "             DateTime  day_ahead_price  total_load  temperature  \n",
              "0 2022-01-01 00:00:00            46.60      9685.0          5.3  \n",
              "1 2022-01-01 01:00:00            41.33      9612.0          5.4  \n",
              "2 2022-01-01 02:00:00            42.18      9601.0          5.4  \n",
              "3 2022-01-01 03:00:00            44.37      9552.0          5.7  \n",
              "4 2022-01-01 04:00:00            37.67      9449.0          5.3  "
            ]
          },
          "execution_count": 49,
          "metadata": {},
          "output_type": "execute_result"
        }
      ],
      "source": [
        "# final adjustments\n",
        "act_gen_per_prodtype_price.rename(columns={\"Day-ahead Price [EUR/MWh]\" : \"day_ahead_price\", \n",
        "                                        \"Actual Total Load [MW] - BZN|SE3\" : \"total_load\" , \n",
        "                                        \"Lufttemperatur\" : \"temperature\"}, inplace=True)\n",
        "act_gen_per_prodtype_price.head()"
      ]
    },
    {
      "attachments": {},
      "cell_type": "markdown",
      "metadata": {
        "id": "-YmDcgQgIj1s"
      },
      "source": [
        "### Check for Nan or zeroes"
      ]
    },
    {
      "cell_type": "code",
      "execution_count": 50,
      "metadata": {
        "colab": {
          "base_uri": "https://localhost:8080/"
        },
        "execution": {
          "iopub.execute_input": "2023-01-03T16:52:19.214167Z",
          "iopub.status.busy": "2023-01-03T16:52:19.213809Z",
          "iopub.status.idle": "2023-01-03T16:52:19.233061Z",
          "shell.execute_reply": "2023-01-03T16:52:19.231634Z",
          "shell.execute_reply.started": "2023-01-03T16:52:19.214133Z"
        },
        "id": "1dgrU7tskM1z",
        "outputId": "75ffc027-9a46-4867-bd23-5ddbede7bafe",
        "trusted": true
      },
      "outputs": [
        {
          "name": "stdout",
          "output_type": "stream",
          "text": [
            "There are 12 missing values or NaNs in df_energy.\n",
            "There are 0 duplicate rows in df_energy based on all columns.\n"
          ]
        }
      ],
      "source": [
        "print('There are {} missing values or NaNs in df_energy.'\n",
        "      .format(act_gen_per_prodtype_price.isnull().values.sum()))\n",
        "\n",
        "temp_energy = act_gen_per_prodtype_price.duplicated(keep='first').sum()\n",
        "\n",
        "print('There are {} duplicate rows in df_energy based on all columns.'\n",
        "      .format(temp_energy))"
      ]
    },
    {
      "cell_type": "code",
      "execution_count": 51,
      "metadata": {},
      "outputs": [
        {
          "data": {
            "text/html": [
              "<div>\n",
              "<style scoped>\n",
              "    .dataframe tbody tr th:only-of-type {\n",
              "        vertical-align: middle;\n",
              "    }\n",
              "\n",
              "    .dataframe tbody tr th {\n",
              "        vertical-align: top;\n",
              "    }\n",
              "\n",
              "    .dataframe thead th {\n",
              "        text-align: right;\n",
              "    }\n",
              "</style>\n",
              "<table border=\"1\" class=\"dataframe\">\n",
              "  <thead>\n",
              "    <tr style=\"text-align: right;\">\n",
              "      <th></th>\n",
              "      <th>hydro_water_reservoir</th>\n",
              "      <th>nuclear</th>\n",
              "      <th>other</th>\n",
              "      <th>solar</th>\n",
              "      <th>wind_onshore</th>\n",
              "      <th>DateTime</th>\n",
              "      <th>day_ahead_price</th>\n",
              "      <th>total_load</th>\n",
              "      <th>temperature</th>\n",
              "    </tr>\n",
              "  </thead>\n",
              "  <tbody>\n",
              "  </tbody>\n",
              "</table>\n",
              "</div>"
            ],
            "text/plain": [
              "Empty DataFrame\n",
              "Columns: [hydro_water_reservoir, nuclear, other, solar, wind_onshore, DateTime, day_ahead_price, total_load, temperature]\n",
              "Index: []"
            ]
          },
          "execution_count": 51,
          "metadata": {},
          "output_type": "execute_result"
        }
      ],
      "source": [
        "# check for duplicate rows\n",
        "act_gen_per_prodtype_price.loc[act_gen_per_prodtype_price.duplicated]"
      ]
    },
    {
      "cell_type": "code",
      "execution_count": 52,
      "metadata": {
        "colab": {
          "base_uri": "https://localhost:8080/"
        },
        "execution": {
          "iopub.execute_input": "2023-01-03T16:52:19.235234Z",
          "iopub.status.busy": "2023-01-03T16:52:19.234781Z",
          "iopub.status.idle": "2023-01-03T16:52:19.245234Z",
          "shell.execute_reply": "2023-01-03T16:52:19.243862Z",
          "shell.execute_reply.started": "2023-01-03T16:52:19.235201Z"
        },
        "id": "rQkI0d_EkM11",
        "outputId": "e11ade8a-436a-43a8-fab1-d5af10f95a05",
        "trusted": true
      },
      "outputs": [
        {
          "data": {
            "text/html": [
              "<div>\n",
              "<style scoped>\n",
              "    .dataframe tbody tr th:only-of-type {\n",
              "        vertical-align: middle;\n",
              "    }\n",
              "\n",
              "    .dataframe tbody tr th {\n",
              "        vertical-align: top;\n",
              "    }\n",
              "\n",
              "    .dataframe thead th {\n",
              "        text-align: right;\n",
              "    }\n",
              "</style>\n",
              "<table border=\"1\" class=\"dataframe\">\n",
              "  <thead>\n",
              "    <tr style=\"text-align: right;\">\n",
              "      <th></th>\n",
              "      <th>hydro_water_reservoir</th>\n",
              "      <th>nuclear</th>\n",
              "      <th>other</th>\n",
              "      <th>solar</th>\n",
              "      <th>wind_onshore</th>\n",
              "      <th>DateTime</th>\n",
              "      <th>day_ahead_price</th>\n",
              "      <th>total_load</th>\n",
              "      <th>temperature</th>\n",
              "    </tr>\n",
              "  </thead>\n",
              "  <tbody>\n",
              "    <tr>\n",
              "      <th>2042</th>\n",
              "      <td>NaN</td>\n",
              "      <td>NaN</td>\n",
              "      <td>NaN</td>\n",
              "      <td>NaN</td>\n",
              "      <td>NaN</td>\n",
              "      <td>2022-03-27 02:00:00</td>\n",
              "      <td>NaN</td>\n",
              "      <td>NaN</td>\n",
              "      <td>3.8</td>\n",
              "    </tr>\n",
              "    <tr>\n",
              "      <th>2063</th>\n",
              "      <td>NaN</td>\n",
              "      <td>NaN</td>\n",
              "      <td>NaN</td>\n",
              "      <td>NaN</td>\n",
              "      <td>NaN</td>\n",
              "      <td>2022-03-27 23:00:00</td>\n",
              "      <td>11.6</td>\n",
              "      <td>9190.0</td>\n",
              "      <td>6.9</td>\n",
              "    </tr>\n",
              "  </tbody>\n",
              "</table>\n",
              "</div>"
            ],
            "text/plain": [
              "      hydro_water_reservoir  nuclear  other  solar  wind_onshore  \\\n",
              "2042                    NaN      NaN    NaN    NaN           NaN   \n",
              "2063                    NaN      NaN    NaN    NaN           NaN   \n",
              "\n",
              "                DateTime  day_ahead_price  total_load  temperature  \n",
              "2042 2022-03-27 02:00:00              NaN         NaN          3.8  \n",
              "2063 2022-03-27 23:00:00             11.6      9190.0          6.9  "
            ]
          },
          "execution_count": 52,
          "metadata": {},
          "output_type": "execute_result"
        }
      ],
      "source": [
        "# check for null/undef values\n",
        "act_gen_per_prodtype_price.loc[act_gen_per_prodtype_price.isna().any(axis=1)]"
      ]
    },
    {
      "cell_type": "code",
      "execution_count": 53,
      "metadata": {},
      "outputs": [],
      "source": [
        "# Since its only a few rows, use linear interpolation on each column that contains nan/null values.\n",
        "col = act_gen_per_prodtype_price.columns[act_gen_per_prodtype_price.isna().any()]\n",
        "for i in col:\n",
        "    act_gen_per_prodtype_price[i].interpolate(method='linear', limit_direction='forward', axis=0, inplace=True)\n",
        "    \n",
        "# Also remove duplicate rows\n",
        "act_gen_per_prodtype_price.drop_duplicates(inplace=True)\n"
      ]
    },
    {
      "cell_type": "code",
      "execution_count": 38,
      "metadata": {},
      "outputs": [
        {
          "name": "stdout",
          "output_type": "stream",
          "text": [
            "There are 0 missing values or NaNs in df_energy.\n",
            "There are 0 duplicate rows in df_energy based on all columns.\n",
            "<class 'pandas.core.frame.DataFrame'>\n",
            "Int64Index: 8762 entries, 0 to 8761\n",
            "Data columns (total 9 columns):\n",
            " #   Column                 Non-Null Count  Dtype         \n",
            "---  ------                 --------------  -----         \n",
            " 0   hydro_water_reservoir  8762 non-null   float64       \n",
            " 1   nuclear                8762 non-null   float64       \n",
            " 2   other                  8762 non-null   float64       \n",
            " 3   solar                  8762 non-null   float64       \n",
            " 4   wind_onshore           8762 non-null   float64       \n",
            " 5   DateTime               8762 non-null   datetime64[ns]\n",
            " 6   day_ahead_price        8762 non-null   float64       \n",
            " 7   total_load             8762 non-null   float64       \n",
            " 8   temperature            8762 non-null   float64       \n",
            "dtypes: datetime64[ns](1), float64(8)\n",
            "memory usage: 684.5 KB\n"
          ]
        }
      ],
      "source": [
        "# Final check\n",
        "print('There are {} missing values or NaNs in df_energy.'\n",
        "      .format(act_gen_per_prodtype_price.isnull().values.sum()))\n",
        "\n",
        "temp_energy = act_gen_per_prodtype_price.duplicated(keep='first').sum()\n",
        "\n",
        "print('There are {} duplicate rows in df_energy based on all columns.'\n",
        "      .format(temp_energy))\n",
        "act_gen_per_prodtype_price.info()"
      ]
    },
    {
      "cell_type": "code",
      "execution_count": 76,
      "metadata": {},
      "outputs": [
        {
          "data": {
            "text/html": [
              "<div>\n",
              "<style scoped>\n",
              "    .dataframe tbody tr th:only-of-type {\n",
              "        vertical-align: middle;\n",
              "    }\n",
              "\n",
              "    .dataframe tbody tr th {\n",
              "        vertical-align: top;\n",
              "    }\n",
              "\n",
              "    .dataframe thead th {\n",
              "        text-align: right;\n",
              "    }\n",
              "</style>\n",
              "<table border=\"1\" class=\"dataframe\">\n",
              "  <thead>\n",
              "    <tr style=\"text-align: right;\">\n",
              "      <th></th>\n",
              "      <th>hydro_water_reservoir</th>\n",
              "      <th>nuclear</th>\n",
              "      <th>other</th>\n",
              "      <th>solar</th>\n",
              "      <th>wind_onshore</th>\n",
              "      <th>DateTime</th>\n",
              "      <th>day_ahead_price</th>\n",
              "      <th>total_load</th>\n",
              "      <th>temperature</th>\n",
              "    </tr>\n",
              "  </thead>\n",
              "  <tbody>\n",
              "    <tr>\n",
              "      <th>0</th>\n",
              "      <td>824.0</td>\n",
              "      <td>5841.0</td>\n",
              "      <td>892.0</td>\n",
              "      <td>0.0</td>\n",
              "      <td>1062.0</td>\n",
              "      <td>1640991600000</td>\n",
              "      <td>46.60</td>\n",
              "      <td>9685.0</td>\n",
              "      <td>5.3</td>\n",
              "    </tr>\n",
              "    <tr>\n",
              "      <th>1</th>\n",
              "      <td>818.0</td>\n",
              "      <td>5842.0</td>\n",
              "      <td>851.0</td>\n",
              "      <td>0.0</td>\n",
              "      <td>999.0</td>\n",
              "      <td>1640995200000</td>\n",
              "      <td>41.33</td>\n",
              "      <td>9612.0</td>\n",
              "      <td>5.4</td>\n",
              "    </tr>\n",
              "    <tr>\n",
              "      <th>2</th>\n",
              "      <td>818.0</td>\n",
              "      <td>5839.0</td>\n",
              "      <td>858.0</td>\n",
              "      <td>0.0</td>\n",
              "      <td>958.0</td>\n",
              "      <td>1640998800000</td>\n",
              "      <td>42.18</td>\n",
              "      <td>9601.0</td>\n",
              "      <td>5.4</td>\n",
              "    </tr>\n",
              "    <tr>\n",
              "      <th>3</th>\n",
              "      <td>838.0</td>\n",
              "      <td>5839.0</td>\n",
              "      <td>859.0</td>\n",
              "      <td>0.0</td>\n",
              "      <td>888.0</td>\n",
              "      <td>1641002400000</td>\n",
              "      <td>44.37</td>\n",
              "      <td>9552.0</td>\n",
              "      <td>5.7</td>\n",
              "    </tr>\n",
              "    <tr>\n",
              "      <th>4</th>\n",
              "      <td>842.0</td>\n",
              "      <td>5840.0</td>\n",
              "      <td>856.0</td>\n",
              "      <td>0.0</td>\n",
              "      <td>788.0</td>\n",
              "      <td>1641006000000</td>\n",
              "      <td>37.67</td>\n",
              "      <td>9449.0</td>\n",
              "      <td>5.3</td>\n",
              "    </tr>\n",
              "    <tr>\n",
              "      <th>5</th>\n",
              "      <td>841.0</td>\n",
              "      <td>5839.0</td>\n",
              "      <td>880.0</td>\n",
              "      <td>0.0</td>\n",
              "      <td>734.0</td>\n",
              "      <td>1641009600000</td>\n",
              "      <td>39.70</td>\n",
              "      <td>9614.0</td>\n",
              "      <td>4.4</td>\n",
              "    </tr>\n",
              "    <tr>\n",
              "      <th>6</th>\n",
              "      <td>868.0</td>\n",
              "      <td>5839.0</td>\n",
              "      <td>913.0</td>\n",
              "      <td>0.0</td>\n",
              "      <td>646.0</td>\n",
              "      <td>1641013200000</td>\n",
              "      <td>40.59</td>\n",
              "      <td>9920.0</td>\n",
              "      <td>4.7</td>\n",
              "    </tr>\n",
              "  </tbody>\n",
              "</table>\n",
              "</div>"
            ],
            "text/plain": [
              "   hydro_water_reservoir  nuclear  other  solar  wind_onshore       DateTime  \\\n",
              "0                  824.0   5841.0  892.0    0.0        1062.0  1640991600000   \n",
              "1                  818.0   5842.0  851.0    0.0         999.0  1640995200000   \n",
              "2                  818.0   5839.0  858.0    0.0         958.0  1640998800000   \n",
              "3                  838.0   5839.0  859.0    0.0         888.0  1641002400000   \n",
              "4                  842.0   5840.0  856.0    0.0         788.0  1641006000000   \n",
              "5                  841.0   5839.0  880.0    0.0         734.0  1641009600000   \n",
              "6                  868.0   5839.0  913.0    0.0         646.0  1641013200000   \n",
              "\n",
              "   day_ahead_price  total_load  temperature  \n",
              "0            46.60      9685.0          5.3  \n",
              "1            41.33      9612.0          5.4  \n",
              "2            42.18      9601.0          5.4  \n",
              "3            44.37      9552.0          5.7  \n",
              "4            37.67      9449.0          5.3  \n",
              "5            39.70      9614.0          4.4  \n",
              "6            40.59      9920.0          4.7  "
            ]
          },
          "execution_count": 76,
          "metadata": {},
          "output_type": "execute_result"
        }
      ],
      "source": [
        "act_gen_per_prodtype_price['DateTime'] = act_gen_per_prodtype_price['DateTime'].apply(weather_timestamp_2_time)\n",
        "act_gen_per_prodtype_price.head(7)"
      ]
    },
    {
      "cell_type": "markdown",
      "metadata": {
        "id": "rJCixBZFItKM"
      },
      "source": [
        "## Create feature groups on Hopsworks"
      ]
    },
    {
      "cell_type": "code",
      "execution_count": 78,
      "metadata": {
        "colab": {
          "base_uri": "https://localhost:8080/"
        },
        "execution": {
          "iopub.execute_input": "2023-01-03T16:55:28.861792Z",
          "iopub.status.busy": "2023-01-03T16:55:28.861310Z",
          "iopub.status.idle": "2023-01-03T16:55:28.905875Z",
          "shell.execute_reply": "2023-01-03T16:55:28.904236Z",
          "shell.execute_reply.started": "2023-01-03T16:55:28.861738Z"
        },
        "id": "k5fcI7jCkM14",
        "outputId": "3cb55e7f-13b3-4ca6-d811-2b40e5fcf9cc",
        "trusted": true
      },
      "outputs": [
        {
          "name": "stdout",
          "output_type": "stream",
          "text": [
            "Connection closed.\n",
            "Connected. Call `.close()` to terminate connection gracefully.\n",
            "\n",
            "Logged in to project, explore it here https://c.app.hopsworks.ai:443/p/4247\n",
            "Connected. Call `.close()` to terminate connection gracefully.\n"
          ]
        }
      ],
      "source": [
        "import hopsworks\n",
        "\n",
        "project = hopsworks.login()\n",
        "\n",
        "fs = project.get_feature_store()"
      ]
    },
    {
      "cell_type": "code",
      "execution_count": 80,
      "metadata": {
        "colab": {
          "base_uri": "https://localhost:8080/",
          "height": 153,
          "referenced_widgets": [
            "fdc403c7aa744a57b404c3eb5a313826",
            "94d19411b80d40d488d7754098ecd728",
            "b4461d6f82f84bc09985b6b2c369fb8f",
            "8b597364910645e3a21f3d6cfba7c354",
            "b6a7278b58c3403fa3155e6fec736949",
            "147765377db846ca9dc1e699739f233c",
            "c9aa0890f2cb477ba88295aa936efe13",
            "692caade09694eac8a620036bb535e65",
            "a6baaf72b3f44cecbe47d4b03bf0d69b",
            "356996619f134850b1017548d30a85a6",
            "5411ae8766bb45509aa3beda5e393bcf"
          ]
        },
        "id": "KwYWKpmTnr-t",
        "outputId": "bf4cce59-17fa-456c-a810-0d17f38ee280"
      },
      "outputs": [
        {
          "name": "stderr",
          "output_type": "stream",
          "text": [
            "FeatureGroupWarning: The ingested dataframe contains upper case letters in feature names: `['DateTime']`. Feature names are sanitized to lower case in the feature store.\n"
          ]
        },
        {
          "name": "stdout",
          "output_type": "stream",
          "text": [
            "Feature Group created successfully, explore it at \n",
            "https://c.app.hopsworks.ai:443/p/4247/fs/4192/fg/14993\n"
          ]
        },
        {
          "name": "stderr",
          "output_type": "stream",
          "text": [
            "Uploading Dataframe: 100.00% |██████████| Rows 8762/8762 | Elapsed Time: 00:03 | Remaining Time: 00:00\n"
          ]
        },
        {
          "name": "stdout",
          "output_type": "stream",
          "text": [
            "Launching offline feature group backfill job...\n",
            "Backfill Job started successfully, you can follow the progress at \n",
            "https://c.app.hopsworks.ai/p/4247/jobs/named/new_electricity_data_fg_1_offline_fg_backfill/executions\n"
          ]
        },
        {
          "data": {
            "text/plain": [
              "(<hsfs.core.job.Job at 0x7f017d672130>, None)"
            ]
          },
          "execution_count": 80,
          "metadata": {},
          "output_type": "execute_result"
        },
        {
          "name": "stderr",
          "output_type": "stream",
          "text": [
            "%6|1673612056.721|FAIL|Abyel-PC#producer-2| [thrd:ssl://52.14.58.146:9092/bootstrap]: ssl://52.14.58.146:9092/1: Disconnected (after 3881134ms in state UP)\n",
            "%6|1673612200.872|FAIL|Abyel-PC#producer-1| [thrd:ssl://3.138.67.216:9092/bootstrap]: ssl://3.138.67.216:9092/2: Disconnected (after 3899384ms in state UP, 1 identical error(s) suppressed)\n"
          ]
        }
      ],
      "source": [
        "new_electricity_data_fg = fs.get_or_create_feature_group(\n",
        "        name = 'new_electricity_data_fg', ## UPDATED\n",
        "        description = 'Dataset of Electricity production, consumption and price in SE3 area, with hourly weather temperature',\n",
        "        version = 1,\n",
        "        primary_key = ['DateTime'],\n",
        "    )    \n",
        "\n",
        "new_electricity_data_fg.insert(act_gen_per_prodtype_price, write_options={\"wait_for_job\": False})"
      ]
    }
  ],
  "metadata": {
    "colab": {
      "provenance": []
    },
    "kernelspec": {
      "display_name": "base",
      "language": "python",
      "name": "python3"
    },
    "language_info": {
      "codemirror_mode": {
        "name": "ipython",
        "version": 3
      },
      "file_extension": ".py",
      "mimetype": "text/x-python",
      "name": "python",
      "nbconvert_exporter": "python",
      "pygments_lexer": "ipython3",
      "version": "3.9.12 (main, Apr  5 2022, 06:56:58) \n[GCC 7.5.0]"
    },
    "vscode": {
      "interpreter": {
        "hash": "335d80310dcdd71c39c5fc237d90b2722202fb6a12e63ce8cbfcb42f72ee81b1"
      }
    },
    "widgets": {
      "application/vnd.jupyter.widget-state+json": {
        "147765377db846ca9dc1e699739f233c": {
          "model_module": "@jupyter-widgets/base",
          "model_module_version": "1.2.0",
          "model_name": "LayoutModel",
          "state": {
            "_model_module": "@jupyter-widgets/base",
            "_model_module_version": "1.2.0",
            "_model_name": "LayoutModel",
            "_view_count": null,
            "_view_module": "@jupyter-widgets/base",
            "_view_module_version": "1.2.0",
            "_view_name": "LayoutView",
            "align_content": null,
            "align_items": null,
            "align_self": null,
            "border": null,
            "bottom": null,
            "display": null,
            "flex": null,
            "flex_flow": null,
            "grid_area": null,
            "grid_auto_columns": null,
            "grid_auto_flow": null,
            "grid_auto_rows": null,
            "grid_column": null,
            "grid_gap": null,
            "grid_row": null,
            "grid_template_areas": null,
            "grid_template_columns": null,
            "grid_template_rows": null,
            "height": null,
            "justify_content": null,
            "justify_items": null,
            "left": null,
            "margin": null,
            "max_height": null,
            "max_width": null,
            "min_height": null,
            "min_width": null,
            "object_fit": null,
            "object_position": null,
            "order": null,
            "overflow": null,
            "overflow_x": null,
            "overflow_y": null,
            "padding": null,
            "right": null,
            "top": null,
            "visibility": null,
            "width": null
          }
        },
        "356996619f134850b1017548d30a85a6": {
          "model_module": "@jupyter-widgets/base",
          "model_module_version": "1.2.0",
          "model_name": "LayoutModel",
          "state": {
            "_model_module": "@jupyter-widgets/base",
            "_model_module_version": "1.2.0",
            "_model_name": "LayoutModel",
            "_view_count": null,
            "_view_module": "@jupyter-widgets/base",
            "_view_module_version": "1.2.0",
            "_view_name": "LayoutView",
            "align_content": null,
            "align_items": null,
            "align_self": null,
            "border": null,
            "bottom": null,
            "display": null,
            "flex": null,
            "flex_flow": null,
            "grid_area": null,
            "grid_auto_columns": null,
            "grid_auto_flow": null,
            "grid_auto_rows": null,
            "grid_column": null,
            "grid_gap": null,
            "grid_row": null,
            "grid_template_areas": null,
            "grid_template_columns": null,
            "grid_template_rows": null,
            "height": null,
            "justify_content": null,
            "justify_items": null,
            "left": null,
            "margin": null,
            "max_height": null,
            "max_width": null,
            "min_height": null,
            "min_width": null,
            "object_fit": null,
            "object_position": null,
            "order": null,
            "overflow": null,
            "overflow_x": null,
            "overflow_y": null,
            "padding": null,
            "right": null,
            "top": null,
            "visibility": null,
            "width": null
          }
        },
        "5411ae8766bb45509aa3beda5e393bcf": {
          "model_module": "@jupyter-widgets/controls",
          "model_module_version": "1.5.0",
          "model_name": "DescriptionStyleModel",
          "state": {
            "_model_module": "@jupyter-widgets/controls",
            "_model_module_version": "1.5.0",
            "_model_name": "DescriptionStyleModel",
            "_view_count": null,
            "_view_module": "@jupyter-widgets/base",
            "_view_module_version": "1.2.0",
            "_view_name": "StyleView",
            "description_width": ""
          }
        },
        "692caade09694eac8a620036bb535e65": {
          "model_module": "@jupyter-widgets/base",
          "model_module_version": "1.2.0",
          "model_name": "LayoutModel",
          "state": {
            "_model_module": "@jupyter-widgets/base",
            "_model_module_version": "1.2.0",
            "_model_name": "LayoutModel",
            "_view_count": null,
            "_view_module": "@jupyter-widgets/base",
            "_view_module_version": "1.2.0",
            "_view_name": "LayoutView",
            "align_content": null,
            "align_items": null,
            "align_self": null,
            "border": null,
            "bottom": null,
            "display": null,
            "flex": null,
            "flex_flow": null,
            "grid_area": null,
            "grid_auto_columns": null,
            "grid_auto_flow": null,
            "grid_auto_rows": null,
            "grid_column": null,
            "grid_gap": null,
            "grid_row": null,
            "grid_template_areas": null,
            "grid_template_columns": null,
            "grid_template_rows": null,
            "height": null,
            "justify_content": null,
            "justify_items": null,
            "left": null,
            "margin": null,
            "max_height": null,
            "max_width": null,
            "min_height": null,
            "min_width": null,
            "object_fit": null,
            "object_position": null,
            "order": null,
            "overflow": null,
            "overflow_x": null,
            "overflow_y": null,
            "padding": null,
            "right": null,
            "top": null,
            "visibility": null,
            "width": null
          }
        },
        "8b597364910645e3a21f3d6cfba7c354": {
          "model_module": "@jupyter-widgets/controls",
          "model_module_version": "1.5.0",
          "model_name": "HTMLModel",
          "state": {
            "_dom_classes": [],
            "_model_module": "@jupyter-widgets/controls",
            "_model_module_version": "1.5.0",
            "_model_name": "HTMLModel",
            "_view_count": null,
            "_view_module": "@jupyter-widgets/controls",
            "_view_module_version": "1.5.0",
            "_view_name": "HTMLView",
            "description": "",
            "description_tooltip": null,
            "layout": "IPY_MODEL_356996619f134850b1017548d30a85a6",
            "placeholder": "​",
            "style": "IPY_MODEL_5411ae8766bb45509aa3beda5e393bcf",
            "value": " Rows 6554/6554 | Elapsed Time: 00:02 | Remaining Time: 00:00"
          }
        },
        "94d19411b80d40d488d7754098ecd728": {
          "model_module": "@jupyter-widgets/controls",
          "model_module_version": "1.5.0",
          "model_name": "HTMLModel",
          "state": {
            "_dom_classes": [],
            "_model_module": "@jupyter-widgets/controls",
            "_model_module_version": "1.5.0",
            "_model_name": "HTMLModel",
            "_view_count": null,
            "_view_module": "@jupyter-widgets/controls",
            "_view_module_version": "1.5.0",
            "_view_name": "HTMLView",
            "description": "",
            "description_tooltip": null,
            "layout": "IPY_MODEL_147765377db846ca9dc1e699739f233c",
            "placeholder": "​",
            "style": "IPY_MODEL_c9aa0890f2cb477ba88295aa936efe13",
            "value": "Uploading Dataframe: 100.00% "
          }
        },
        "a6baaf72b3f44cecbe47d4b03bf0d69b": {
          "model_module": "@jupyter-widgets/controls",
          "model_module_version": "1.5.0",
          "model_name": "ProgressStyleModel",
          "state": {
            "_model_module": "@jupyter-widgets/controls",
            "_model_module_version": "1.5.0",
            "_model_name": "ProgressStyleModel",
            "_view_count": null,
            "_view_module": "@jupyter-widgets/base",
            "_view_module_version": "1.2.0",
            "_view_name": "StyleView",
            "bar_color": null,
            "description_width": ""
          }
        },
        "b4461d6f82f84bc09985b6b2c369fb8f": {
          "model_module": "@jupyter-widgets/controls",
          "model_module_version": "1.5.0",
          "model_name": "FloatProgressModel",
          "state": {
            "_dom_classes": [],
            "_model_module": "@jupyter-widgets/controls",
            "_model_module_version": "1.5.0",
            "_model_name": "FloatProgressModel",
            "_view_count": null,
            "_view_module": "@jupyter-widgets/controls",
            "_view_module_version": "1.5.0",
            "_view_name": "ProgressView",
            "bar_style": "success",
            "description": "",
            "description_tooltip": null,
            "layout": "IPY_MODEL_692caade09694eac8a620036bb535e65",
            "max": 6554,
            "min": 0,
            "orientation": "horizontal",
            "style": "IPY_MODEL_a6baaf72b3f44cecbe47d4b03bf0d69b",
            "value": 6554
          }
        },
        "b6a7278b58c3403fa3155e6fec736949": {
          "model_module": "@jupyter-widgets/base",
          "model_module_version": "1.2.0",
          "model_name": "LayoutModel",
          "state": {
            "_model_module": "@jupyter-widgets/base",
            "_model_module_version": "1.2.0",
            "_model_name": "LayoutModel",
            "_view_count": null,
            "_view_module": "@jupyter-widgets/base",
            "_view_module_version": "1.2.0",
            "_view_name": "LayoutView",
            "align_content": null,
            "align_items": null,
            "align_self": null,
            "border": null,
            "bottom": null,
            "display": null,
            "flex": null,
            "flex_flow": null,
            "grid_area": null,
            "grid_auto_columns": null,
            "grid_auto_flow": null,
            "grid_auto_rows": null,
            "grid_column": null,
            "grid_gap": null,
            "grid_row": null,
            "grid_template_areas": null,
            "grid_template_columns": null,
            "grid_template_rows": null,
            "height": null,
            "justify_content": null,
            "justify_items": null,
            "left": null,
            "margin": null,
            "max_height": null,
            "max_width": null,
            "min_height": null,
            "min_width": null,
            "object_fit": null,
            "object_position": null,
            "order": null,
            "overflow": null,
            "overflow_x": null,
            "overflow_y": null,
            "padding": null,
            "right": null,
            "top": null,
            "visibility": null,
            "width": null
          }
        },
        "c9aa0890f2cb477ba88295aa936efe13": {
          "model_module": "@jupyter-widgets/controls",
          "model_module_version": "1.5.0",
          "model_name": "DescriptionStyleModel",
          "state": {
            "_model_module": "@jupyter-widgets/controls",
            "_model_module_version": "1.5.0",
            "_model_name": "DescriptionStyleModel",
            "_view_count": null,
            "_view_module": "@jupyter-widgets/base",
            "_view_module_version": "1.2.0",
            "_view_name": "StyleView",
            "description_width": ""
          }
        },
        "fdc403c7aa744a57b404c3eb5a313826": {
          "model_module": "@jupyter-widgets/controls",
          "model_module_version": "1.5.0",
          "model_name": "HBoxModel",
          "state": {
            "_dom_classes": [],
            "_model_module": "@jupyter-widgets/controls",
            "_model_module_version": "1.5.0",
            "_model_name": "HBoxModel",
            "_view_count": null,
            "_view_module": "@jupyter-widgets/controls",
            "_view_module_version": "1.5.0",
            "_view_name": "HBoxView",
            "box_style": "",
            "children": [
              "IPY_MODEL_94d19411b80d40d488d7754098ecd728",
              "IPY_MODEL_b4461d6f82f84bc09985b6b2c369fb8f",
              "IPY_MODEL_8b597364910645e3a21f3d6cfba7c354"
            ],
            "layout": "IPY_MODEL_b6a7278b58c3403fa3155e6fec736949"
          }
        }
      }
    }
  },
  "nbformat": 4,
  "nbformat_minor": 0
}
