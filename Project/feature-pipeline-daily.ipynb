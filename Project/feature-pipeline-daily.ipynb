{
  "cells": [
    {
      "attachments": {},
      "cell_type": "markdown",
      "metadata": {},
      "source": [
        "# Feature pipeline (daily)\n",
        "\n",
        "explanation here"
      ]
    },
    {
      "attachments": {},
      "cell_type": "markdown",
      "metadata": {
        "id": "MtIJ1mhmRmHz"
      },
      "source": [
        "### Load imports"
      ]
    },
    {
      "cell_type": "code",
      "execution_count": 1,
      "metadata": {
        "id": "FtjjfVPIRuBd"
      },
      "outputs": [],
      "source": [
        "import numpy as np # linear algebra\n",
        "import pandas as pd # data processing, CSV file I/O (e.g. pd.read_csv)\n",
        "import hopsworks\n",
        "from datetime import datetime, timedelta, date\n",
        "from entsoe import EntsoePandasClient\n",
        "import time"
      ]
    },
    {
      "attachments": {},
      "cell_type": "markdown",
      "metadata": {
        "id": "mWqrna-YGSIr"
      },
      "source": [
        "#### Helper functions (timestamp)"
      ]
    },
    {
      "cell_type": "code",
      "execution_count": 48,
      "metadata": {
        "execution": {
          "iopub.execute_input": "2023-01-03T16:52:17.529361Z",
          "iopub.status.busy": "2023-01-03T16:52:17.528424Z",
          "iopub.status.idle": "2023-01-03T16:52:17.535668Z",
          "shell.execute_reply": "2023-01-03T16:52:17.534728Z",
          "shell.execute_reply.started": "2023-01-03T16:52:17.529326Z"
        },
        "id": "v1Ol3mTBkM1q",
        "trusted": true
      },
      "outputs": [],
      "source": [
        "# # functions for replacing date and time with timestamp (seconds since 1970-01-01)\n",
        "\n",
        "# def entsoe_timestamp_2_time(x):\n",
        "#     dt_obj = datetime.strptime(str(x), '%Y-%m-%d %H:%M:%S')\n",
        "#     dt_obj = dt_obj.timestamp() * 1000\n",
        "#     return int(dt_obj)\n",
        "\n",
        "# def weather_timestamp_2_time(x, i):\n",
        "#     dt_obj = datetime.strptime(str(x), '%Y-%m-%d %H:%M:%S')\n",
        "#     dt_obj = dt_obj + timedelta(hours=i)\n",
        "#     dt_obj = dt_obj.timestamp() * 1000\n",
        "\n",
        "#     return int(dt_obj)"
      ]
    },
    {
      "cell_type": "markdown",
      "metadata": {
        "id": "vNVhPyH1RzR-"
      },
      "source": [
        "## Fetch & Parse data"
      ]
    },
    {
      "cell_type": "code",
      "execution_count": 3,
      "metadata": {
        "colab": {
          "base_uri": "https://localhost:8080/"
        },
        "id": "KS4b2U35JJzz",
        "outputId": "e48d1411-c7fc-4511-d1b9-439b2fab535e"
      },
      "outputs": [
        {
          "data": {
            "text/plain": [
              "('20230103', '20230110')"
            ]
          },
          "execution_count": 3,
          "metadata": {},
          "output_type": "execute_result"
        }
      ],
      "source": [
        "## Get current date and time for prediction, prediction and actual data is available \n",
        "\n",
        "#used to retrieve earlier dates\n",
        "date_from = \"20230103\"\n",
        "\n",
        "# date_from = datetime.now() - timedelta(days=1)\n",
        "# date_from = date_from.date().strftime('%Y%m%d')\n",
        "date_to = (datetime.strptime(date_from, '%Y%m%d') + timedelta(days=7)).strftime('%Y%m%d')\n",
        "\n",
        "# time\n",
        "# time = datetime.now().time().strftime('%H')\n",
        "date_from, date_to"
      ]
    },
    {
      "cell_type": "markdown",
      "metadata": {
        "id": "H3KMVQDNiU1N"
      },
      "source": [
        "### Entsoe API"
      ]
    },
    {
      "cell_type": "code",
      "execution_count": 4,
      "metadata": {
        "id": "vcQ7bnX1R6iz"
      },
      "outputs": [],
      "source": [
        "# Client\n",
        "client = EntsoePandasClient(api_key=\"cb3a29b2-3276-4a4c-aba3-6507120d99be\")\n",
        "\n",
        "# Date and country\n",
        "start = pd.Timestamp(date_from, tz='Europe/Stockholm')\n",
        "end = pd.Timestamp(date_to, tz='Europe/Stockholm')\n",
        "country_code = 'SE_3'  "
      ]
    },
    {
      "cell_type": "code",
      "execution_count": 9,
      "metadata": {
        "id": "5TuWBy0KU2LS"
      },
      "outputs": [],
      "source": [
        "## Query entsoe\n",
        "\n",
        "# Day price\n",
        "df_day_price = client.query_day_ahead_prices(country_code, start=start,end=end)\n",
        "\n",
        "# Generation per production type\n",
        "df_generation_per_prod = client.query_generation(country_code, start=start,end=end, psr_type=None)\n",
        "\n",
        "# Actual load (consumption)\n",
        "df_load = client.query_load(country_code, start=start,end=end)"
      ]
    },
    {
      "cell_type": "code",
      "execution_count": 10,
      "metadata": {},
      "outputs": [
        {
          "data": {
            "text/html": [
              "<div>\n",
              "<style scoped>\n",
              "    .dataframe tbody tr th:only-of-type {\n",
              "        vertical-align: middle;\n",
              "    }\n",
              "\n",
              "    .dataframe tbody tr th {\n",
              "        vertical-align: top;\n",
              "    }\n",
              "\n",
              "    .dataframe thead th {\n",
              "        text-align: right;\n",
              "    }\n",
              "</style>\n",
              "<table border=\"1\" class=\"dataframe\">\n",
              "  <thead>\n",
              "    <tr style=\"text-align: right;\">\n",
              "      <th></th>\n",
              "      <th>Fossil Gas</th>\n",
              "      <th>Hydro Water Reservoir</th>\n",
              "      <th>Nuclear</th>\n",
              "      <th>Other</th>\n",
              "      <th>Solar</th>\n",
              "      <th>Wind Onshore</th>\n",
              "    </tr>\n",
              "  </thead>\n",
              "  <tbody>\n",
              "    <tr>\n",
              "      <th>2023-01-03 00:00:00+01:00</th>\n",
              "      <td>0.0</td>\n",
              "      <td>689.0</td>\n",
              "      <td>5798.0</td>\n",
              "      <td>832.0</td>\n",
              "      <td>0.0</td>\n",
              "      <td>814.0</td>\n",
              "    </tr>\n",
              "    <tr>\n",
              "      <th>2023-01-03 01:00:00+01:00</th>\n",
              "      <td>0.0</td>\n",
              "      <td>671.0</td>\n",
              "      <td>5797.0</td>\n",
              "      <td>825.0</td>\n",
              "      <td>0.0</td>\n",
              "      <td>839.0</td>\n",
              "    </tr>\n",
              "    <tr>\n",
              "      <th>2023-01-03 02:00:00+01:00</th>\n",
              "      <td>0.0</td>\n",
              "      <td>672.0</td>\n",
              "      <td>5797.0</td>\n",
              "      <td>837.0</td>\n",
              "      <td>0.0</td>\n",
              "      <td>893.0</td>\n",
              "    </tr>\n",
              "    <tr>\n",
              "      <th>2023-01-03 03:00:00+01:00</th>\n",
              "      <td>0.0</td>\n",
              "      <td>666.0</td>\n",
              "      <td>5797.0</td>\n",
              "      <td>845.0</td>\n",
              "      <td>0.0</td>\n",
              "      <td>926.0</td>\n",
              "    </tr>\n",
              "    <tr>\n",
              "      <th>2023-01-03 04:00:00+01:00</th>\n",
              "      <td>0.0</td>\n",
              "      <td>662.0</td>\n",
              "      <td>5798.0</td>\n",
              "      <td>878.0</td>\n",
              "      <td>0.0</td>\n",
              "      <td>935.0</td>\n",
              "    </tr>\n",
              "  </tbody>\n",
              "</table>\n",
              "</div>"
            ],
            "text/plain": [
              "                           Fossil Gas  Hydro Water Reservoir  Nuclear  Other  \\\n",
              "2023-01-03 00:00:00+01:00         0.0                  689.0   5798.0  832.0   \n",
              "2023-01-03 01:00:00+01:00         0.0                  671.0   5797.0  825.0   \n",
              "2023-01-03 02:00:00+01:00         0.0                  672.0   5797.0  837.0   \n",
              "2023-01-03 03:00:00+01:00         0.0                  666.0   5797.0  845.0   \n",
              "2023-01-03 04:00:00+01:00         0.0                  662.0   5798.0  878.0   \n",
              "\n",
              "                           Solar  Wind Onshore  \n",
              "2023-01-03 00:00:00+01:00    0.0         814.0  \n",
              "2023-01-03 01:00:00+01:00    0.0         839.0  \n",
              "2023-01-03 02:00:00+01:00    0.0         893.0  \n",
              "2023-01-03 03:00:00+01:00    0.0         926.0  \n",
              "2023-01-03 04:00:00+01:00    0.0         935.0  "
            ]
          },
          "execution_count": 10,
          "metadata": {},
          "output_type": "execute_result"
        }
      ],
      "source": [
        "df_generation_per_prod.head()"
      ]
    },
    {
      "cell_type": "code",
      "execution_count": 32,
      "metadata": {
        "id": "E8m5vlqhiLCm"
      },
      "outputs": [],
      "source": [
        "# Combine entsoe data\n",
        "df_entsoe = df_generation_per_prod.join(df_day_price.rename(\"day_ahead_price\"))\n",
        "df_entsoe = df_entsoe.join(df_load)\n"
      ]
    },
    {
      "cell_type": "code",
      "execution_count": 33,
      "metadata": {
        "id": "fEAXFNXvRIDl"
      },
      "outputs": [],
      "source": [
        "# convert current index (date) into column, rename and convert into timestamp (as int64)\n",
        "df_entsoe_clean = df_entsoe.reset_index()\n",
        "df_entsoe_clean = df_entsoe_clean.rename(columns = {'index':'DateTime'})\n",
        "df_entsoe_clean['DateTime'] = df_entsoe_clean.DateTime.values.astype('int64') // 10 ** 6  ## divide by 10^6 to convert from ns to ms\n"
      ]
    },
    {
      "cell_type": "code",
      "execution_count": 34,
      "metadata": {
        "colab": {
          "base_uri": "https://localhost:8080/",
          "height": 206
        },
        "id": "kd2simSKPn2K",
        "outputId": "d7c1f7c4-5f22-4cc0-c565-55fed096e0a8"
      },
      "outputs": [
        {
          "data": {
            "text/html": [
              "<div>\n",
              "<style scoped>\n",
              "    .dataframe tbody tr th:only-of-type {\n",
              "        vertical-align: middle;\n",
              "    }\n",
              "\n",
              "    .dataframe tbody tr th {\n",
              "        vertical-align: top;\n",
              "    }\n",
              "\n",
              "    .dataframe thead th {\n",
              "        text-align: right;\n",
              "    }\n",
              "</style>\n",
              "<table border=\"1\" class=\"dataframe\">\n",
              "  <thead>\n",
              "    <tr style=\"text-align: right;\">\n",
              "      <th></th>\n",
              "      <th>DateTime</th>\n",
              "      <th>Fossil Gas</th>\n",
              "      <th>Hydro Water Reservoir</th>\n",
              "      <th>Nuclear</th>\n",
              "      <th>Other</th>\n",
              "      <th>Solar</th>\n",
              "      <th>Wind Onshore</th>\n",
              "      <th>day_ahead_price</th>\n",
              "      <th>Actual Load</th>\n",
              "    </tr>\n",
              "  </thead>\n",
              "  <tbody>\n",
              "    <tr>\n",
              "      <th>0</th>\n",
              "      <td>1672700400000</td>\n",
              "      <td>0.0</td>\n",
              "      <td>689.0</td>\n",
              "      <td>5798.0</td>\n",
              "      <td>832.0</td>\n",
              "      <td>0.0</td>\n",
              "      <td>814.0</td>\n",
              "      <td>78.81</td>\n",
              "      <td>10026.0</td>\n",
              "    </tr>\n",
              "    <tr>\n",
              "      <th>1</th>\n",
              "      <td>1672704000000</td>\n",
              "      <td>0.0</td>\n",
              "      <td>671.0</td>\n",
              "      <td>5797.0</td>\n",
              "      <td>825.0</td>\n",
              "      <td>0.0</td>\n",
              "      <td>839.0</td>\n",
              "      <td>73.93</td>\n",
              "      <td>9951.0</td>\n",
              "    </tr>\n",
              "    <tr>\n",
              "      <th>2</th>\n",
              "      <td>1672707600000</td>\n",
              "      <td>0.0</td>\n",
              "      <td>672.0</td>\n",
              "      <td>5797.0</td>\n",
              "      <td>837.0</td>\n",
              "      <td>0.0</td>\n",
              "      <td>893.0</td>\n",
              "      <td>73.94</td>\n",
              "      <td>9940.0</td>\n",
              "    </tr>\n",
              "    <tr>\n",
              "      <th>3</th>\n",
              "      <td>1672711200000</td>\n",
              "      <td>0.0</td>\n",
              "      <td>666.0</td>\n",
              "      <td>5797.0</td>\n",
              "      <td>845.0</td>\n",
              "      <td>0.0</td>\n",
              "      <td>926.0</td>\n",
              "      <td>71.44</td>\n",
              "      <td>9933.0</td>\n",
              "    </tr>\n",
              "    <tr>\n",
              "      <th>4</th>\n",
              "      <td>1672714800000</td>\n",
              "      <td>0.0</td>\n",
              "      <td>662.0</td>\n",
              "      <td>5798.0</td>\n",
              "      <td>878.0</td>\n",
              "      <td>0.0</td>\n",
              "      <td>935.0</td>\n",
              "      <td>72.33</td>\n",
              "      <td>9898.0</td>\n",
              "    </tr>\n",
              "    <tr>\n",
              "      <th>...</th>\n",
              "      <td>...</td>\n",
              "      <td>...</td>\n",
              "      <td>...</td>\n",
              "      <td>...</td>\n",
              "      <td>...</td>\n",
              "      <td>...</td>\n",
              "      <td>...</td>\n",
              "      <td>...</td>\n",
              "      <td>...</td>\n",
              "    </tr>\n",
              "    <tr>\n",
              "      <th>163</th>\n",
              "      <td>1673287200000</td>\n",
              "      <td>0.0</td>\n",
              "      <td>1509.0</td>\n",
              "      <td>5793.0</td>\n",
              "      <td>864.0</td>\n",
              "      <td>0.0</td>\n",
              "      <td>709.0</td>\n",
              "      <td>157.70</td>\n",
              "      <td>11754.0</td>\n",
              "    </tr>\n",
              "    <tr>\n",
              "      <th>164</th>\n",
              "      <td>1673290800000</td>\n",
              "      <td>0.0</td>\n",
              "      <td>1473.0</td>\n",
              "      <td>5795.0</td>\n",
              "      <td>876.0</td>\n",
              "      <td>0.0</td>\n",
              "      <td>626.0</td>\n",
              "      <td>145.07</td>\n",
              "      <td>11381.0</td>\n",
              "    </tr>\n",
              "    <tr>\n",
              "      <th>165</th>\n",
              "      <td>1673294400000</td>\n",
              "      <td>0.0</td>\n",
              "      <td>1422.0</td>\n",
              "      <td>5795.0</td>\n",
              "      <td>814.0</td>\n",
              "      <td>0.0</td>\n",
              "      <td>550.0</td>\n",
              "      <td>134.62</td>\n",
              "      <td>10835.0</td>\n",
              "    </tr>\n",
              "    <tr>\n",
              "      <th>166</th>\n",
              "      <td>1673298000000</td>\n",
              "      <td>0.0</td>\n",
              "      <td>1126.0</td>\n",
              "      <td>5796.0</td>\n",
              "      <td>784.0</td>\n",
              "      <td>0.0</td>\n",
              "      <td>512.0</td>\n",
              "      <td>83.84</td>\n",
              "      <td>10257.0</td>\n",
              "    </tr>\n",
              "    <tr>\n",
              "      <th>167</th>\n",
              "      <td>1673301600000</td>\n",
              "      <td>0.0</td>\n",
              "      <td>1037.0</td>\n",
              "      <td>5796.0</td>\n",
              "      <td>806.0</td>\n",
              "      <td>0.0</td>\n",
              "      <td>502.0</td>\n",
              "      <td>80.59</td>\n",
              "      <td>9853.0</td>\n",
              "    </tr>\n",
              "  </tbody>\n",
              "</table>\n",
              "<p>168 rows × 9 columns</p>\n",
              "</div>"
            ],
            "text/plain": [
              "          DateTime  Fossil Gas  Hydro Water Reservoir  Nuclear  Other  Solar  \\\n",
              "0    1672700400000         0.0                  689.0   5798.0  832.0    0.0   \n",
              "1    1672704000000         0.0                  671.0   5797.0  825.0    0.0   \n",
              "2    1672707600000         0.0                  672.0   5797.0  837.0    0.0   \n",
              "3    1672711200000         0.0                  666.0   5797.0  845.0    0.0   \n",
              "4    1672714800000         0.0                  662.0   5798.0  878.0    0.0   \n",
              "..             ...         ...                    ...      ...    ...    ...   \n",
              "163  1673287200000         0.0                 1509.0   5793.0  864.0    0.0   \n",
              "164  1673290800000         0.0                 1473.0   5795.0  876.0    0.0   \n",
              "165  1673294400000         0.0                 1422.0   5795.0  814.0    0.0   \n",
              "166  1673298000000         0.0                 1126.0   5796.0  784.0    0.0   \n",
              "167  1673301600000         0.0                 1037.0   5796.0  806.0    0.0   \n",
              "\n",
              "     Wind Onshore  day_ahead_price  Actual Load  \n",
              "0           814.0            78.81      10026.0  \n",
              "1           839.0            73.93       9951.0  \n",
              "2           893.0            73.94       9940.0  \n",
              "3           926.0            71.44       9933.0  \n",
              "4           935.0            72.33       9898.0  \n",
              "..            ...              ...          ...  \n",
              "163         709.0           157.70      11754.0  \n",
              "164         626.0           145.07      11381.0  \n",
              "165         550.0           134.62      10835.0  \n",
              "166         512.0            83.84      10257.0  \n",
              "167         502.0            80.59       9853.0  \n",
              "\n",
              "[168 rows x 9 columns]"
            ]
          },
          "execution_count": 34,
          "metadata": {},
          "output_type": "execute_result"
        }
      ],
      "source": [
        "df_entsoe_clean # gmt + 1"
      ]
    },
    {
      "cell_type": "markdown",
      "metadata": {
        "id": "P0vYDdZJiYxY"
      },
      "source": [
        "### SMHI"
      ]
    },
    {
      "cell_type": "code",
      "execution_count": 35,
      "metadata": {
        "id": "LzlFZSM3o0Xm"
      },
      "outputs": [],
      "source": [
        "import json\n",
        "from urllib.request import urlopen\n",
        "from pandas import json_normalize"
      ]
    },
    {
      "cell_type": "code",
      "execution_count": 36,
      "metadata": {
        "id": "r_nh5VtCiaZo"
      },
      "outputs": [],
      "source": [
        "## fetch data\n",
        "url = \"https://opendata-download-metobs.smhi.se/api/version/latest/parameter/1/station/71420/period/latest-months/data.json\"\n",
        "response = urlopen(url)\n",
        "\n",
        "# convert response to json, to dataframe\n",
        "data_json = json.loads(response.read())\n",
        "df_smhi_data = json_normalize(data_json['value']) \n",
        "\n",
        "# get timestamps the specified day (or latest)\n",
        "timeseries_from = df_entsoe_clean[\"DateTime\"].iloc[0]\n",
        "timeseries_to = df_entsoe_clean[\"DateTime\"].iloc[-1]\n",
        "\n",
        "# #extract only the temperature in the time stamp interval\n",
        "df_smhi_data = df_smhi_data.loc[(df_smhi_data['date'] >= timeseries_from) & (df_smhi_data['date'] <= timeseries_to)]\n",
        "df_smhi_data = df_smhi_data.reset_index().rename(columns = {'date':'DateTime'})\n"
      ]
    },
    {
      "cell_type": "code",
      "execution_count": 37,
      "metadata": {
        "colab": {
          "base_uri": "https://localhost:8080/"
        },
        "id": "u3S_53YXMbzb",
        "outputId": "e6e1f937-060b-4a16-ce73-48e35749111e"
      },
      "outputs": [
        {
          "data": {
            "text/html": [
              "<div>\n",
              "<style scoped>\n",
              "    .dataframe tbody tr th:only-of-type {\n",
              "        vertical-align: middle;\n",
              "    }\n",
              "\n",
              "    .dataframe tbody tr th {\n",
              "        vertical-align: top;\n",
              "    }\n",
              "\n",
              "    .dataframe thead th {\n",
              "        text-align: right;\n",
              "    }\n",
              "</style>\n",
              "<table border=\"1\" class=\"dataframe\">\n",
              "  <thead>\n",
              "    <tr style=\"text-align: right;\">\n",
              "      <th></th>\n",
              "      <th>index</th>\n",
              "      <th>DateTime</th>\n",
              "      <th>value</th>\n",
              "      <th>quality</th>\n",
              "    </tr>\n",
              "  </thead>\n",
              "  <tbody>\n",
              "    <tr>\n",
              "      <th>0</th>\n",
              "      <td>2852</td>\n",
              "      <td>1672700400000</td>\n",
              "      <td>3.6</td>\n",
              "      <td>G</td>\n",
              "    </tr>\n",
              "    <tr>\n",
              "      <th>1</th>\n",
              "      <td>2853</td>\n",
              "      <td>1672704000000</td>\n",
              "      <td>1.9</td>\n",
              "      <td>G</td>\n",
              "    </tr>\n",
              "    <tr>\n",
              "      <th>2</th>\n",
              "      <td>2854</td>\n",
              "      <td>1672707600000</td>\n",
              "      <td>0.8</td>\n",
              "      <td>G</td>\n",
              "    </tr>\n",
              "    <tr>\n",
              "      <th>3</th>\n",
              "      <td>2855</td>\n",
              "      <td>1672711200000</td>\n",
              "      <td>0.3</td>\n",
              "      <td>G</td>\n",
              "    </tr>\n",
              "    <tr>\n",
              "      <th>4</th>\n",
              "      <td>2856</td>\n",
              "      <td>1672714800000</td>\n",
              "      <td>0.6</td>\n",
              "      <td>G</td>\n",
              "    </tr>\n",
              "  </tbody>\n",
              "</table>\n",
              "</div>"
            ],
            "text/plain": [
              "   index       DateTime value quality\n",
              "0   2852  1672700400000   3.6       G\n",
              "1   2853  1672704000000   1.9       G\n",
              "2   2854  1672707600000   0.8       G\n",
              "3   2855  1672711200000   0.3       G\n",
              "4   2856  1672714800000   0.6       G"
            ]
          },
          "execution_count": 37,
          "metadata": {},
          "output_type": "execute_result"
        }
      ],
      "source": [
        "df_smhi_data.head()"
      ]
    },
    {
      "cell_type": "markdown",
      "metadata": {
        "id": "cYMK4hSeP-9O"
      },
      "source": [
        "## Combine & clean final data"
      ]
    },
    {
      "cell_type": "code",
      "execution_count": 38,
      "metadata": {
        "colab": {
          "base_uri": "https://localhost:8080/"
        },
        "id": "U8XHnIaHQBXY",
        "outputId": "6245d14f-21fb-4433-a85e-092826389f2b"
      },
      "outputs": [
        {
          "data": {
            "text/html": [
              "<div>\n",
              "<style scoped>\n",
              "    .dataframe tbody tr th:only-of-type {\n",
              "        vertical-align: middle;\n",
              "    }\n",
              "\n",
              "    .dataframe tbody tr th {\n",
              "        vertical-align: top;\n",
              "    }\n",
              "\n",
              "    .dataframe thead th {\n",
              "        text-align: right;\n",
              "    }\n",
              "</style>\n",
              "<table border=\"1\" class=\"dataframe\">\n",
              "  <thead>\n",
              "    <tr style=\"text-align: right;\">\n",
              "      <th></th>\n",
              "      <th>datetime</th>\n",
              "      <th>day_ahead_price</th>\n",
              "      <th>total_load</th>\n",
              "      <th>temperature</th>\n",
              "      <th>total_generation</th>\n",
              "    </tr>\n",
              "  </thead>\n",
              "  <tbody>\n",
              "    <tr>\n",
              "      <th>0</th>\n",
              "      <td>1672700400000</td>\n",
              "      <td>78.81</td>\n",
              "      <td>10026.0</td>\n",
              "      <td>3.6</td>\n",
              "      <td>8133.0</td>\n",
              "    </tr>\n",
              "    <tr>\n",
              "      <th>1</th>\n",
              "      <td>1672704000000</td>\n",
              "      <td>73.93</td>\n",
              "      <td>9951.0</td>\n",
              "      <td>1.9</td>\n",
              "      <td>8132.0</td>\n",
              "    </tr>\n",
              "    <tr>\n",
              "      <th>2</th>\n",
              "      <td>1672707600000</td>\n",
              "      <td>73.94</td>\n",
              "      <td>9940.0</td>\n",
              "      <td>0.8</td>\n",
              "      <td>8199.0</td>\n",
              "    </tr>\n",
              "    <tr>\n",
              "      <th>3</th>\n",
              "      <td>1672711200000</td>\n",
              "      <td>71.44</td>\n",
              "      <td>9933.0</td>\n",
              "      <td>0.3</td>\n",
              "      <td>8234.0</td>\n",
              "    </tr>\n",
              "    <tr>\n",
              "      <th>4</th>\n",
              "      <td>1672714800000</td>\n",
              "      <td>72.33</td>\n",
              "      <td>9898.0</td>\n",
              "      <td>0.6</td>\n",
              "      <td>8273.0</td>\n",
              "    </tr>\n",
              "  </tbody>\n",
              "</table>\n",
              "</div>"
            ],
            "text/plain": [
              "        datetime  day_ahead_price  total_load  temperature  total_generation\n",
              "0  1672700400000            78.81     10026.0          3.6            8133.0\n",
              "1  1672704000000            73.93      9951.0          1.9            8132.0\n",
              "2  1672707600000            73.94      9940.0          0.8            8199.0\n",
              "3  1672711200000            71.44      9933.0          0.3            8234.0\n",
              "4  1672714800000            72.33      9898.0          0.6            8273.0"
            ]
          },
          "execution_count": 38,
          "metadata": {},
          "output_type": "execute_result"
        }
      ],
      "source": [
        "# combine Entsoe and SMHI data\n",
        "df_feature_data = df_entsoe_clean.merge(df_smhi_data, how='inner', on='DateTime')\n",
        "\n",
        "# create column total_generation, the sum of all production types                       \n",
        "col_list = [\"Hydro Water Reservoir\", \"Nuclear\", \"Other\", \"Solar\", \"Wind Onshore\"]\n",
        "df_feature_data['total_generation'] = df_feature_data[list(col_list)].sum(axis=1)\n",
        "\n",
        "# drop redundant/irrelevant columns\n",
        "df_feature_data.drop(col_list + [\"Fossil Gas\", \"index\", \"quality\"], axis=1, inplace=True)\n",
        "\n",
        "# Convert into float type\n",
        "df_feature_data[\"value\"] = df_feature_data[\"value\"].astype(float)\n",
        "\n",
        "# rename to matching columns names\n",
        "df_feature_data.rename(columns={\"Actual Load\": \"total_load\", \"value\": \"temperature\", \"DateTime\":\"datetime\"}, inplace=True)\n",
        "\n",
        "df_feature_data.head()"
      ]
    },
    {
      "cell_type": "markdown",
      "metadata": {
        "id": "wwHnpxIyfa_j"
      },
      "source": [
        "## Add to feature group"
      ]
    },
    {
      "cell_type": "code",
      "execution_count": 39,
      "metadata": {
        "colab": {
          "base_uri": "https://localhost:8080/"
        },
        "id": "mwJ_nFB4fpBQ",
        "outputId": "0819940b-d880-40c7-8549-6187bac88882"
      },
      "outputs": [
        {
          "name": "stdout",
          "output_type": "stream",
          "text": [
            "Connected. Call `.close()` to terminate connection gracefully.\n",
            "\n",
            "Logged in to project, explore it here https://c.app.hopsworks.ai:443/p/4247\n"
          ]
        },
        {
          "name": "stderr",
          "output_type": "stream",
          "text": [
            "DeprecationWarning: the imp module is deprecated in favour of importlib; see the module's documentation for alternative uses\n"
          ]
        },
        {
          "name": "stdout",
          "output_type": "stream",
          "text": [
            "Connected. Call `.close()` to terminate connection gracefully.\n"
          ]
        }
      ],
      "source": [
        "import hopsworks\n",
        "\n",
        "project = hopsworks.login() \n",
        "fs = project.get_feature_store() "
      ]
    },
    {
      "cell_type": "code",
      "execution_count": 88,
      "metadata": {
        "id": "xYiAiDxci3OW"
      },
      "outputs": [],
      "source": [
        "new_electricity_data_fg = fs.get_or_create_feature_group(name = 'new_electricity_data_fg', version = 2)"
      ]
    },
    {
      "cell_type": "code",
      "execution_count": 89,
      "metadata": {
        "colab": {
          "base_uri": "https://localhost:8080/",
          "height": 136,
          "referenced_widgets": [
            "ca75eb71c7db441da174d5afc1fc724c",
            "6a59d34c5014471988db88fcdf0fb081",
            "07ed996d626c48979b4c78e40110362c",
            "d5a6ec4f17f74827b9e065e8803ee9d3",
            "d77516ac95f545c3a6ca7e41f0a8e2b5",
            "ec66d1eefcb442b2afb9433709b542ec",
            "133d53eb03f143c5ab3d9fd2290bf972",
            "fdca7d9f49d14bc2bcff11beabd8b720",
            "72df3651816d4f4bb8334e8df140f89c",
            "1e25c6cc2ba144df9185cfb5d31c9136",
            "1e2c4eccd3614d35a6afa154d630c4da"
          ]
        },
        "id": "6enNG-b6jbnC",
        "outputId": "7d01faef-0540-4bd4-de08-98935872d9d3"
      },
      "outputs": [
        {
          "name": "stderr",
          "output_type": "stream",
          "text": [
            "FeatureGroupWarning: The ingested dataframe contains upper case letters in feature names: `['DateTime', 'Nuclear', 'Other', 'Solar']`. Feature names are sanitized to lower case in the feature store.\n",
            "Uploading Dataframe: 100.00% |██████████| Rows 24/24 | Elapsed Time: 00:01 | Remaining Time: 00:00\n"
          ]
        },
        {
          "name": "stdout",
          "output_type": "stream",
          "text": [
            "Launching offline feature group backfill job...\n",
            "Backfill Job started successfully, you can follow the progress at \n",
            "https://c.app.hopsworks.ai/p/4247/jobs/named/new_electricity_data_fg_1_offline_fg_backfill/executions\n"
          ]
        },
        {
          "data": {
            "text/plain": [
              "(<hsfs.core.job.Job at 0x7fad00bc7670>, None)"
            ]
          },
          "execution_count": 89,
          "metadata": {},
          "output_type": "execute_result"
        }
      ],
      "source": [
        "new_electricity_data_fg.insert(df_feature_data)"
      ]
    },
    {
      "attachments": {},
      "cell_type": "markdown",
      "metadata": {},
      "source": [
        "### Modal script for future daily features\n",
        "For retrieving daily data through scheduled scripts, Modal is used in which the following function is uploaded and sheduled to run on hourly basis"
      ]
    },
    {
      "cell_type": "code",
      "execution_count": null,
      "metadata": {},
      "outputs": [],
      "source": [
        "import os\n",
        "import modal\n",
        "    \n",
        "LOCAL=False\n",
        "\n",
        "if LOCAL == False:\n",
        "   stub = modal.Stub()\n",
        "   image = modal.Image.debian_slim().pip_install([\"hopsworks==3.0.4\",\"joblib\",\"seaborn\",\"sklearn\",\"dataframe-image\"]) \n",
        "\n",
        "   @stub.function(image=image, schedule=modal.Period(days=1), secret=modal.Secret.from_name(\"abyel-hopsworks-secret\"))\n",
        "   def f():\n",
        "       g()\n",
        "\n",
        "def get_entsoe_data():\n",
        "    # Day price\n",
        "    df_day_price = client.query_day_ahead_prices(country_code, start=start,end=end)\n",
        "    df_generation_per_prod = client.query_generation(country_code, start=start,end=end, psr_type=None)\n",
        "    df_load = client.query_load(country_code, start=start,end=end)\n",
        "    \n",
        "    df_entsoe = df_generation_per_prod.join(df_day_price.rename(\"day_ahead_price\"))\n",
        "    df_entsoe = df_entsoe.join(df_load)\n",
        "    df_entsoe_clean = df_entsoe.reset_index()\n",
        "    df_entsoe_clean = df_entsoe_clean.rename(columns = {'index':'DateTime'})\n",
        "    df_entsoe_clean['DateTime'] = df_entsoe_clean.DateTime.values.astype('int64') // 10 ** 6  ## divide by 10^6 to convert from ns to ms\n",
        "\n",
        "def get_prediction_data():\n",
        "    \"\"\"\n",
        "    Fetches the recent rediction and actual data for electricity price and weather\n",
        "    \"\"\"\n",
        "    import pandas as pd\n",
        "    import random\n",
        "\n",
        "    # random_pclass = random.randint(1, 3)\n",
        "    # random_sex = random.randint(0, 1)\n",
        "    # random_age = random.randint(0, 5) # [0,1,2,3,4,5]\n",
        "    # random_embarked = random.randint(0, 2)\n",
        "\n",
        "    # passenger_df = pd.DataFrame({ \"passengerid\": [passenger_id],\n",
        "    #                             \"pclass\": [random_pclass],\n",
        "    #                             \"sex\": [random_sex],\n",
        "    #                             \"age\": [random_age],\n",
        "    #                             \"embarked\": [random_embarked],\n",
        "    #                   })\n",
        "    # passenger_df['survived'] = survived\n",
        "    \n",
        "    return passenger_df\n",
        "\n",
        "\n",
        "def g():\n",
        "    import hopsworks\n",
        "    import pandas as pd\n",
        "\n",
        "    project = hopsworks.login()\n",
        "    fs = project.get_feature_store()\n",
        "\n",
        "    electricity_data_fg = fs.get_feature_group(name=\"electricity_data_updated_fg\", version=1)    \n",
        "\n",
        "    # date to fetch data\n",
        "\n",
        "\n",
        "    new_electricity_df = get_prediction_data(passenger_id)\n",
        "\n",
        "    print(electricity_data_fg.head(5))\n",
        "   \n",
        "    \n",
        "    electricity_data_fg.insert(electricity_data_fg, write_options={\"wait_for_job\" : False})\n",
        "\n",
        "if __name__ == \"__main__\":\n",
        "    if LOCAL == True :\n",
        "        g()\n",
        "    else:\n",
        "        with stub.run():\n",
        "            f()"
      ]
    }
  ],
  "metadata": {
    "colab": {
      "provenance": []
    },
    "kernelspec": {
      "display_name": "base",
      "language": "python",
      "name": "python3"
    },
    "language_info": {
      "codemirror_mode": {
        "name": "ipython",
        "version": 3
      },
      "file_extension": ".py",
      "mimetype": "text/x-python",
      "name": "python",
      "nbconvert_exporter": "python",
      "pygments_lexer": "ipython3",
      "version": "3.9.12"
    },
    "vscode": {
      "interpreter": {
        "hash": "335d80310dcdd71c39c5fc237d90b2722202fb6a12e63ce8cbfcb42f72ee81b1"
      }
    },
    "widgets": {
      "application/vnd.jupyter.widget-state+json": {
        "07ed996d626c48979b4c78e40110362c": {
          "model_module": "@jupyter-widgets/controls",
          "model_module_version": "1.5.0",
          "model_name": "FloatProgressModel",
          "state": {
            "_dom_classes": [],
            "_model_module": "@jupyter-widgets/controls",
            "_model_module_version": "1.5.0",
            "_model_name": "FloatProgressModel",
            "_view_count": null,
            "_view_module": "@jupyter-widgets/controls",
            "_view_module_version": "1.5.0",
            "_view_name": "ProgressView",
            "bar_style": "success",
            "description": "",
            "description_tooltip": null,
            "layout": "IPY_MODEL_fdca7d9f49d14bc2bcff11beabd8b720",
            "max": 24,
            "min": 0,
            "orientation": "horizontal",
            "style": "IPY_MODEL_72df3651816d4f4bb8334e8df140f89c",
            "value": 24
          }
        },
        "09fdaf348a3349caaa2771b205ef30e1": {
          "model_module": "@jupyter-widgets/controls",
          "model_module_version": "1.5.0",
          "model_name": "ProgressStyleModel",
          "state": {
            "_model_module": "@jupyter-widgets/controls",
            "_model_module_version": "1.5.0",
            "_model_name": "ProgressStyleModel",
            "_view_count": null,
            "_view_module": "@jupyter-widgets/base",
            "_view_module_version": "1.2.0",
            "_view_name": "StyleView",
            "bar_color": null,
            "description_width": ""
          }
        },
        "133d53eb03f143c5ab3d9fd2290bf972": {
          "model_module": "@jupyter-widgets/controls",
          "model_module_version": "1.5.0",
          "model_name": "DescriptionStyleModel",
          "state": {
            "_model_module": "@jupyter-widgets/controls",
            "_model_module_version": "1.5.0",
            "_model_name": "DescriptionStyleModel",
            "_view_count": null,
            "_view_module": "@jupyter-widgets/base",
            "_view_module_version": "1.2.0",
            "_view_name": "StyleView",
            "description_width": ""
          }
        },
        "1e25c6cc2ba144df9185cfb5d31c9136": {
          "model_module": "@jupyter-widgets/base",
          "model_module_version": "1.2.0",
          "model_name": "LayoutModel",
          "state": {
            "_model_module": "@jupyter-widgets/base",
            "_model_module_version": "1.2.0",
            "_model_name": "LayoutModel",
            "_view_count": null,
            "_view_module": "@jupyter-widgets/base",
            "_view_module_version": "1.2.0",
            "_view_name": "LayoutView",
            "align_content": null,
            "align_items": null,
            "align_self": null,
            "border": null,
            "bottom": null,
            "display": null,
            "flex": null,
            "flex_flow": null,
            "grid_area": null,
            "grid_auto_columns": null,
            "grid_auto_flow": null,
            "grid_auto_rows": null,
            "grid_column": null,
            "grid_gap": null,
            "grid_row": null,
            "grid_template_areas": null,
            "grid_template_columns": null,
            "grid_template_rows": null,
            "height": null,
            "justify_content": null,
            "justify_items": null,
            "left": null,
            "margin": null,
            "max_height": null,
            "max_width": null,
            "min_height": null,
            "min_width": null,
            "object_fit": null,
            "object_position": null,
            "order": null,
            "overflow": null,
            "overflow_x": null,
            "overflow_y": null,
            "padding": null,
            "right": null,
            "top": null,
            "visibility": null,
            "width": null
          }
        },
        "1e2c4eccd3614d35a6afa154d630c4da": {
          "model_module": "@jupyter-widgets/controls",
          "model_module_version": "1.5.0",
          "model_name": "DescriptionStyleModel",
          "state": {
            "_model_module": "@jupyter-widgets/controls",
            "_model_module_version": "1.5.0",
            "_model_name": "DescriptionStyleModel",
            "_view_count": null,
            "_view_module": "@jupyter-widgets/base",
            "_view_module_version": "1.2.0",
            "_view_name": "StyleView",
            "description_width": ""
          }
        },
        "27f5db66d2ee443da39cf1fb933fe278": {
          "model_module": "@jupyter-widgets/controls",
          "model_module_version": "1.5.0",
          "model_name": "DescriptionStyleModel",
          "state": {
            "_model_module": "@jupyter-widgets/controls",
            "_model_module_version": "1.5.0",
            "_model_name": "DescriptionStyleModel",
            "_view_count": null,
            "_view_module": "@jupyter-widgets/base",
            "_view_module_version": "1.2.0",
            "_view_name": "StyleView",
            "description_width": ""
          }
        },
        "6a59d34c5014471988db88fcdf0fb081": {
          "model_module": "@jupyter-widgets/controls",
          "model_module_version": "1.5.0",
          "model_name": "HTMLModel",
          "state": {
            "_dom_classes": [],
            "_model_module": "@jupyter-widgets/controls",
            "_model_module_version": "1.5.0",
            "_model_name": "HTMLModel",
            "_view_count": null,
            "_view_module": "@jupyter-widgets/controls",
            "_view_module_version": "1.5.0",
            "_view_name": "HTMLView",
            "description": "",
            "description_tooltip": null,
            "layout": "IPY_MODEL_ec66d1eefcb442b2afb9433709b542ec",
            "placeholder": "​",
            "style": "IPY_MODEL_133d53eb03f143c5ab3d9fd2290bf972",
            "value": "Uploading Dataframe: 100.00% "
          }
        },
        "72df3651816d4f4bb8334e8df140f89c": {
          "model_module": "@jupyter-widgets/controls",
          "model_module_version": "1.5.0",
          "model_name": "ProgressStyleModel",
          "state": {
            "_model_module": "@jupyter-widgets/controls",
            "_model_module_version": "1.5.0",
            "_model_name": "ProgressStyleModel",
            "_view_count": null,
            "_view_module": "@jupyter-widgets/base",
            "_view_module_version": "1.2.0",
            "_view_name": "StyleView",
            "bar_color": null,
            "description_width": ""
          }
        },
        "7c709ed392314bd5ad2c7317c56e9e1b": {
          "model_module": "@jupyter-widgets/base",
          "model_module_version": "1.2.0",
          "model_name": "LayoutModel",
          "state": {
            "_model_module": "@jupyter-widgets/base",
            "_model_module_version": "1.2.0",
            "_model_name": "LayoutModel",
            "_view_count": null,
            "_view_module": "@jupyter-widgets/base",
            "_view_module_version": "1.2.0",
            "_view_name": "LayoutView",
            "align_content": null,
            "align_items": null,
            "align_self": null,
            "border": null,
            "bottom": null,
            "display": null,
            "flex": null,
            "flex_flow": null,
            "grid_area": null,
            "grid_auto_columns": null,
            "grid_auto_flow": null,
            "grid_auto_rows": null,
            "grid_column": null,
            "grid_gap": null,
            "grid_row": null,
            "grid_template_areas": null,
            "grid_template_columns": null,
            "grid_template_rows": null,
            "height": null,
            "justify_content": null,
            "justify_items": null,
            "left": null,
            "margin": null,
            "max_height": null,
            "max_width": null,
            "min_height": null,
            "min_width": null,
            "object_fit": null,
            "object_position": null,
            "order": null,
            "overflow": null,
            "overflow_x": null,
            "overflow_y": null,
            "padding": null,
            "right": null,
            "top": null,
            "visibility": null,
            "width": null
          }
        },
        "822ee32d5f744a51b7aff63d78565668": {
          "model_module": "@jupyter-widgets/controls",
          "model_module_version": "1.5.0",
          "model_name": "DescriptionStyleModel",
          "state": {
            "_model_module": "@jupyter-widgets/controls",
            "_model_module_version": "1.5.0",
            "_model_name": "DescriptionStyleModel",
            "_view_count": null,
            "_view_module": "@jupyter-widgets/base",
            "_view_module_version": "1.2.0",
            "_view_name": "StyleView",
            "description_width": ""
          }
        },
        "82d66b0d28d5431cb698d77e04e8ad81": {
          "model_module": "@jupyter-widgets/controls",
          "model_module_version": "1.5.0",
          "model_name": "FloatProgressModel",
          "state": {
            "_dom_classes": [],
            "_model_module": "@jupyter-widgets/controls",
            "_model_module_version": "1.5.0",
            "_model_name": "FloatProgressModel",
            "_view_count": null,
            "_view_module": "@jupyter-widgets/controls",
            "_view_module_version": "1.5.0",
            "_view_name": "ProgressView",
            "bar_style": "success",
            "description": "",
            "description_tooltip": null,
            "layout": "IPY_MODEL_adc5a8cf0b1a455ca97ecf91877b6bfc",
            "max": 6,
            "min": 0,
            "orientation": "horizontal",
            "style": "IPY_MODEL_09fdaf348a3349caaa2771b205ef30e1",
            "value": 6
          }
        },
        "920bede3584445e6b8307ca3c30baab7": {
          "model_module": "@jupyter-widgets/base",
          "model_module_version": "1.2.0",
          "model_name": "LayoutModel",
          "state": {
            "_model_module": "@jupyter-widgets/base",
            "_model_module_version": "1.2.0",
            "_model_name": "LayoutModel",
            "_view_count": null,
            "_view_module": "@jupyter-widgets/base",
            "_view_module_version": "1.2.0",
            "_view_name": "LayoutView",
            "align_content": null,
            "align_items": null,
            "align_self": null,
            "border": null,
            "bottom": null,
            "display": null,
            "flex": null,
            "flex_flow": null,
            "grid_area": null,
            "grid_auto_columns": null,
            "grid_auto_flow": null,
            "grid_auto_rows": null,
            "grid_column": null,
            "grid_gap": null,
            "grid_row": null,
            "grid_template_areas": null,
            "grid_template_columns": null,
            "grid_template_rows": null,
            "height": null,
            "justify_content": null,
            "justify_items": null,
            "left": null,
            "margin": null,
            "max_height": null,
            "max_width": null,
            "min_height": null,
            "min_width": null,
            "object_fit": null,
            "object_position": null,
            "order": null,
            "overflow": null,
            "overflow_x": null,
            "overflow_y": null,
            "padding": null,
            "right": null,
            "top": null,
            "visibility": null,
            "width": null
          }
        },
        "adc5a8cf0b1a455ca97ecf91877b6bfc": {
          "model_module": "@jupyter-widgets/base",
          "model_module_version": "1.2.0",
          "model_name": "LayoutModel",
          "state": {
            "_model_module": "@jupyter-widgets/base",
            "_model_module_version": "1.2.0",
            "_model_name": "LayoutModel",
            "_view_count": null,
            "_view_module": "@jupyter-widgets/base",
            "_view_module_version": "1.2.0",
            "_view_name": "LayoutView",
            "align_content": null,
            "align_items": null,
            "align_self": null,
            "border": null,
            "bottom": null,
            "display": null,
            "flex": null,
            "flex_flow": null,
            "grid_area": null,
            "grid_auto_columns": null,
            "grid_auto_flow": null,
            "grid_auto_rows": null,
            "grid_column": null,
            "grid_gap": null,
            "grid_row": null,
            "grid_template_areas": null,
            "grid_template_columns": null,
            "grid_template_rows": null,
            "height": null,
            "justify_content": null,
            "justify_items": null,
            "left": null,
            "margin": null,
            "max_height": null,
            "max_width": null,
            "min_height": null,
            "min_width": null,
            "object_fit": null,
            "object_position": null,
            "order": null,
            "overflow": null,
            "overflow_x": null,
            "overflow_y": null,
            "padding": null,
            "right": null,
            "top": null,
            "visibility": null,
            "width": null
          }
        },
        "c5f0441644f44f8cb3ee029b9ff9f5c7": {
          "model_module": "@jupyter-widgets/controls",
          "model_module_version": "1.5.0",
          "model_name": "HBoxModel",
          "state": {
            "_dom_classes": [],
            "_model_module": "@jupyter-widgets/controls",
            "_model_module_version": "1.5.0",
            "_model_name": "HBoxModel",
            "_view_count": null,
            "_view_module": "@jupyter-widgets/controls",
            "_view_module_version": "1.5.0",
            "_view_name": "HBoxView",
            "box_style": "",
            "children": [
              "IPY_MODEL_e51b645b9e9342fcb8c63311a8a83edd",
              "IPY_MODEL_82d66b0d28d5431cb698d77e04e8ad81",
              "IPY_MODEL_d5e7fc4466384d439e1dde7180071a1c"
            ],
            "layout": "IPY_MODEL_920bede3584445e6b8307ca3c30baab7"
          }
        },
        "ca75eb71c7db441da174d5afc1fc724c": {
          "model_module": "@jupyter-widgets/controls",
          "model_module_version": "1.5.0",
          "model_name": "HBoxModel",
          "state": {
            "_dom_classes": [],
            "_model_module": "@jupyter-widgets/controls",
            "_model_module_version": "1.5.0",
            "_model_name": "HBoxModel",
            "_view_count": null,
            "_view_module": "@jupyter-widgets/controls",
            "_view_module_version": "1.5.0",
            "_view_name": "HBoxView",
            "box_style": "",
            "children": [
              "IPY_MODEL_6a59d34c5014471988db88fcdf0fb081",
              "IPY_MODEL_07ed996d626c48979b4c78e40110362c",
              "IPY_MODEL_d5a6ec4f17f74827b9e065e8803ee9d3"
            ],
            "layout": "IPY_MODEL_d77516ac95f545c3a6ca7e41f0a8e2b5"
          }
        },
        "d5a6ec4f17f74827b9e065e8803ee9d3": {
          "model_module": "@jupyter-widgets/controls",
          "model_module_version": "1.5.0",
          "model_name": "HTMLModel",
          "state": {
            "_dom_classes": [],
            "_model_module": "@jupyter-widgets/controls",
            "_model_module_version": "1.5.0",
            "_model_name": "HTMLModel",
            "_view_count": null,
            "_view_module": "@jupyter-widgets/controls",
            "_view_module_version": "1.5.0",
            "_view_name": "HTMLView",
            "description": "",
            "description_tooltip": null,
            "layout": "IPY_MODEL_1e25c6cc2ba144df9185cfb5d31c9136",
            "placeholder": "​",
            "style": "IPY_MODEL_1e2c4eccd3614d35a6afa154d630c4da",
            "value": " Rows 24/24 | Elapsed Time: 00:00 | Remaining Time: 00:00"
          }
        },
        "d5e7fc4466384d439e1dde7180071a1c": {
          "model_module": "@jupyter-widgets/controls",
          "model_module_version": "1.5.0",
          "model_name": "HTMLModel",
          "state": {
            "_dom_classes": [],
            "_model_module": "@jupyter-widgets/controls",
            "_model_module_version": "1.5.0",
            "_model_name": "HTMLModel",
            "_view_count": null,
            "_view_module": "@jupyter-widgets/controls",
            "_view_module_version": "1.5.0",
            "_view_name": "HTMLView",
            "description": "",
            "description_tooltip": null,
            "layout": "IPY_MODEL_e0e8729962674c61ae7b162c7a23b0d4",
            "placeholder": "​",
            "style": "IPY_MODEL_822ee32d5f744a51b7aff63d78565668",
            "value": " 6/6 [00:19&lt;00:00,  4.06s/it]"
          }
        },
        "d77516ac95f545c3a6ca7e41f0a8e2b5": {
          "model_module": "@jupyter-widgets/base",
          "model_module_version": "1.2.0",
          "model_name": "LayoutModel",
          "state": {
            "_model_module": "@jupyter-widgets/base",
            "_model_module_version": "1.2.0",
            "_model_name": "LayoutModel",
            "_view_count": null,
            "_view_module": "@jupyter-widgets/base",
            "_view_module_version": "1.2.0",
            "_view_name": "LayoutView",
            "align_content": null,
            "align_items": null,
            "align_self": null,
            "border": null,
            "bottom": null,
            "display": null,
            "flex": null,
            "flex_flow": null,
            "grid_area": null,
            "grid_auto_columns": null,
            "grid_auto_flow": null,
            "grid_auto_rows": null,
            "grid_column": null,
            "grid_gap": null,
            "grid_row": null,
            "grid_template_areas": null,
            "grid_template_columns": null,
            "grid_template_rows": null,
            "height": null,
            "justify_content": null,
            "justify_items": null,
            "left": null,
            "margin": null,
            "max_height": null,
            "max_width": null,
            "min_height": null,
            "min_width": null,
            "object_fit": null,
            "object_position": null,
            "order": null,
            "overflow": null,
            "overflow_x": null,
            "overflow_y": null,
            "padding": null,
            "right": null,
            "top": null,
            "visibility": null,
            "width": null
          }
        },
        "e0e8729962674c61ae7b162c7a23b0d4": {
          "model_module": "@jupyter-widgets/base",
          "model_module_version": "1.2.0",
          "model_name": "LayoutModel",
          "state": {
            "_model_module": "@jupyter-widgets/base",
            "_model_module_version": "1.2.0",
            "_model_name": "LayoutModel",
            "_view_count": null,
            "_view_module": "@jupyter-widgets/base",
            "_view_module_version": "1.2.0",
            "_view_name": "LayoutView",
            "align_content": null,
            "align_items": null,
            "align_self": null,
            "border": null,
            "bottom": null,
            "display": null,
            "flex": null,
            "flex_flow": null,
            "grid_area": null,
            "grid_auto_columns": null,
            "grid_auto_flow": null,
            "grid_auto_rows": null,
            "grid_column": null,
            "grid_gap": null,
            "grid_row": null,
            "grid_template_areas": null,
            "grid_template_columns": null,
            "grid_template_rows": null,
            "height": null,
            "justify_content": null,
            "justify_items": null,
            "left": null,
            "margin": null,
            "max_height": null,
            "max_width": null,
            "min_height": null,
            "min_width": null,
            "object_fit": null,
            "object_position": null,
            "order": null,
            "overflow": null,
            "overflow_x": null,
            "overflow_y": null,
            "padding": null,
            "right": null,
            "top": null,
            "visibility": null,
            "width": null
          }
        },
        "e51b645b9e9342fcb8c63311a8a83edd": {
          "model_module": "@jupyter-widgets/controls",
          "model_module_version": "1.5.0",
          "model_name": "HTMLModel",
          "state": {
            "_dom_classes": [],
            "_model_module": "@jupyter-widgets/controls",
            "_model_module_version": "1.5.0",
            "_model_name": "HTMLModel",
            "_view_count": null,
            "_view_module": "@jupyter-widgets/controls",
            "_view_module_version": "1.5.0",
            "_view_name": "HTMLView",
            "description": "",
            "description_tooltip": null,
            "layout": "IPY_MODEL_7c709ed392314bd5ad2c7317c56e9e1b",
            "placeholder": "​",
            "style": "IPY_MODEL_27f5db66d2ee443da39cf1fb933fe278",
            "value": "Model export complete: 100%"
          }
        },
        "ec66d1eefcb442b2afb9433709b542ec": {
          "model_module": "@jupyter-widgets/base",
          "model_module_version": "1.2.0",
          "model_name": "LayoutModel",
          "state": {
            "_model_module": "@jupyter-widgets/base",
            "_model_module_version": "1.2.0",
            "_model_name": "LayoutModel",
            "_view_count": null,
            "_view_module": "@jupyter-widgets/base",
            "_view_module_version": "1.2.0",
            "_view_name": "LayoutView",
            "align_content": null,
            "align_items": null,
            "align_self": null,
            "border": null,
            "bottom": null,
            "display": null,
            "flex": null,
            "flex_flow": null,
            "grid_area": null,
            "grid_auto_columns": null,
            "grid_auto_flow": null,
            "grid_auto_rows": null,
            "grid_column": null,
            "grid_gap": null,
            "grid_row": null,
            "grid_template_areas": null,
            "grid_template_columns": null,
            "grid_template_rows": null,
            "height": null,
            "justify_content": null,
            "justify_items": null,
            "left": null,
            "margin": null,
            "max_height": null,
            "max_width": null,
            "min_height": null,
            "min_width": null,
            "object_fit": null,
            "object_position": null,
            "order": null,
            "overflow": null,
            "overflow_x": null,
            "overflow_y": null,
            "padding": null,
            "right": null,
            "top": null,
            "visibility": null,
            "width": null
          }
        },
        "fdca7d9f49d14bc2bcff11beabd8b720": {
          "model_module": "@jupyter-widgets/base",
          "model_module_version": "1.2.0",
          "model_name": "LayoutModel",
          "state": {
            "_model_module": "@jupyter-widgets/base",
            "_model_module_version": "1.2.0",
            "_model_name": "LayoutModel",
            "_view_count": null,
            "_view_module": "@jupyter-widgets/base",
            "_view_module_version": "1.2.0",
            "_view_name": "LayoutView",
            "align_content": null,
            "align_items": null,
            "align_self": null,
            "border": null,
            "bottom": null,
            "display": null,
            "flex": null,
            "flex_flow": null,
            "grid_area": null,
            "grid_auto_columns": null,
            "grid_auto_flow": null,
            "grid_auto_rows": null,
            "grid_column": null,
            "grid_gap": null,
            "grid_row": null,
            "grid_template_areas": null,
            "grid_template_columns": null,
            "grid_template_rows": null,
            "height": null,
            "justify_content": null,
            "justify_items": null,
            "left": null,
            "margin": null,
            "max_height": null,
            "max_width": null,
            "min_height": null,
            "min_width": null,
            "object_fit": null,
            "object_position": null,
            "order": null,
            "overflow": null,
            "overflow_x": null,
            "overflow_y": null,
            "padding": null,
            "right": null,
            "top": null,
            "visibility": null,
            "width": null
          }
        }
      }
    }
  },
  "nbformat": 4,
  "nbformat_minor": 0
}
