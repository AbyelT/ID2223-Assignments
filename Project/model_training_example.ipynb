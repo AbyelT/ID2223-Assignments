{
 "cells": [
  {
   "cell_type": "code",
   "execution_count": 1,
   "id": "542d3c3c-5129-4915-a41f-e5bbc5f5d1d9",
   "metadata": {},
   "outputs": [
    {
     "name": "stdout",
     "output_type": "stream",
     "text": [
      "Connected. Call `.close()` to terminate connection gracefully.\n",
      "\n",
      "Logged in to project, explore it here https://c.app.hopsworks.ai:443/p/5419\n",
      "Connected. Call `.close()` to terminate connection gracefully.\n"
     ]
    }
   ],
   "source": [
    "import hopsworks\n",
    "\n",
    "project = hopsworks.login() \n",
    "\n",
    "fs = project.get_feature_store() "
   ]
  },
  {
   "cell_type": "code",
   "execution_count": 2,
   "id": "14fb10cb-a329-47a2-989e-8ca5ac2bd1dd",
   "metadata": {},
   "outputs": [
    {
     "name": "stderr",
     "output_type": "stream",
     "text": [
      "DeprecationWarning: `np.typeDict` is a deprecated alias for `np.sctypeDict`.\n"
     ]
    }
   ],
   "source": [
    "import os\n",
    "import pandas as pd\n",
    "import numpy as np\n",
    "import matplotlib.pyplot as plt\n",
    "import seaborn as sns\n",
    "#import statsmodels.api as sm\n",
    "import tensorflow as tf\n",
    "\n",
    "#import os\n",
    "#import warnings\n",
    "from tensorflow.keras import Sequential\n",
    "from tensorflow.keras.optimizers import RMSprop\n",
    "from tensorflow.keras.layers import Dense, LSTM, Conv1D, MaxPooling1D, TimeDistributed, Flatten, Dropout, RepeatVector,Bidirectional\n",
    "#from statsmodels.graphics.tsaplots import plot_acf, plot_pacf\n",
    "#from statsmodels.tsa.stattools import adfuller, kpss, ccf\n",
    "from sklearn.metrics import mean_squared_error, r2_score\n",
    "from sklearn.preprocessing import LabelEncoder, StandardScaler, MinMaxScaler"
   ]
  },
  {
   "cell_type": "code",
   "execution_count": 3,
   "id": "81da4615-d9f5-47e2-853d-9a3e2f791305",
   "metadata": {},
   "outputs": [],
   "source": [
    "import pandas as pd\n",
    "\n",
    "from sklearn.ensemble import GradientBoostingRegressor\n",
    "from sklearn.metrics import f1_score\n",
    "from sklearn.metrics import mean_absolute_error,r2_score,mean_squared_error\n",
    "import numpy as np\n",
    "from datetime import timedelta, datetime\n",
    "import warnings\n",
    "warnings.filterwarnings(\"ignore\")"
   ]
  },
  {
   "cell_type": "code",
   "execution_count": 4,
   "id": "5e298be7-ede4-4799-9ee9-6ac0ade46d4b",
   "metadata": {},
   "outputs": [],
   "source": [
    "feature_view = fs.get_feature_view(\n",
    "    name = 'air_quality_fv',\n",
    "    version = 1\n",
    ")"
   ]
  },
  {
   "cell_type": "code",
   "execution_count": 4,
   "id": "85bb2043-8719-4c0b-8645-88c313fb1a3b",
   "metadata": {},
   "outputs": [],
   "source": [
    "X_train, X_val, X_test, y_train, y_val, y_test = feature_view.get_train_validation_test_split(training_dataset_version=4)"
   ]
  },
  {
   "cell_type": "code",
   "execution_count": 8,
   "id": "f45fa20f-fe7c-446a-bbfe-f58eb0e75441",
   "metadata": {},
   "outputs": [],
   "source": [
    "X_train.to_csv('X_train.csv')\n"
   ]
  },
  {
   "cell_type": "code",
   "execution_count": 9,
   "id": "892621ed-1c68-4e5b-8c63-680aad728c34",
   "metadata": {},
   "outputs": [],
   "source": [
    "X_test.to_csv('X_test.csv')\n",
    "X_val.to_csv('X_val.csv')\n"
   ]
  },
  {
   "cell_type": "code",
   "execution_count": 6,
   "id": "7a070b65-6947-4d30-a81b-4d7b555756db",
   "metadata": {},
   "outputs": [],
   "source": [
    "np.save('X_train.npy',X_train)"
   ]
  },
  {
   "cell_type": "code",
   "execution_count": 7,
   "id": "eab570b9-bf84-46ce-8e8c-e533a1bdbb76",
   "metadata": {},
   "outputs": [],
   "source": [
    "np.save('X_test.npy',X_test)\n",
    "np.save('X_val.npy',X_val)\n",
    "np.save('y_train.npy',y_train)\n",
    "np.save('y_test.npy',y_test)\n",
    "np.save('y_val.npy',y_val)"
   ]
  },
  {
   "cell_type": "code",
   "execution_count": 54,
   "id": "18b85325-1c81-4fec-9106-dea5b65fcd5e",
   "metadata": {},
   "outputs": [],
   "source": [
    "i,j,k=X_train, X_val, X_test"
   ]
  },
  {
   "cell_type": "code",
   "execution_count": 56,
   "id": "6b7e055f-ce4d-46bc-bb4e-988eae3f803e",
   "metadata": {},
   "outputs": [],
   "source": [
    "X_train = X_train.sort_values(by=[\"date\"], ascending=[False]).reset_index(drop=True)\n"
   ]
  },
  {
   "cell_type": "code",
   "execution_count": 57,
   "id": "0d2630dd-eba3-4072-aaee-0c06d4af34b8",
   "metadata": {},
   "outputs": [],
   "source": [
    "X_val = X_val.sort_values(by=[\"date\"], ascending=[False]).reset_index(drop=True)\n"
   ]
  },
  {
   "cell_type": "code",
   "execution_count": 58,
   "id": "6dea8847-7e21-44c3-b931-8a65b88f398d",
   "metadata": {},
   "outputs": [],
   "source": [
    "X_test = X_test.sort_values(by=[\"date\"], ascending=[False]).reset_index(drop=True)\n",
    "\n"
   ]
  },
  {
   "cell_type": "code",
   "execution_count": 59,
   "id": "493f9722-8326-44f1-963b-4b0a4a05602a",
   "metadata": {},
   "outputs": [],
   "source": [
    "X_train[\"aqi_next_day\"] = X_train['aqi'].shift(1)\n",
    "X_val[\"aqi_next_day\"] = X_val['aqi'].shift(1)\n",
    "X_test[\"aqi_next_day\"] = X_test['aqi'].shift(1)"
   ]
  },
  {
   "cell_type": "code",
   "execution_count": 60,
   "id": "56ab11e3-2f6b-4844-943c-79dfdde0b562",
   "metadata": {},
   "outputs": [],
   "source": [
    "X_train = X_train.drop(columns=[\"date\"]).fillna(0)\n",
    "y_train = X_train.pop(\"aqi_next_day\")"
   ]
  },
  {
   "cell_type": "code",
   "execution_count": 61,
   "id": "8932384f-40ea-4d0b-bddc-34a96ab75979",
   "metadata": {},
   "outputs": [],
   "source": [
    "X_val = X_val.drop(columns=[\"date\"]).fillna(0)\n",
    "y_val = X_val.pop(\"aqi_next_day\")"
   ]
  },
  {
   "cell_type": "code",
   "execution_count": 62,
   "id": "5ad46f92-f77f-464c-90ed-957fbbbed00c",
   "metadata": {},
   "outputs": [],
   "source": [
    "X_test = X_test.drop(columns=[\"date\"]).fillna(0)\n",
    "y_test = X_test.pop(\"aqi_next_day\")"
   ]
  },
  {
   "cell_type": "code",
   "execution_count": 63,
   "id": "c8eeff3a-53ba-4ccd-afeb-bbceb9141c56",
   "metadata": {},
   "outputs": [
    {
     "data": {
      "text/html": [
       "<div>\n",
       "<style scoped>\n",
       "    .dataframe tbody tr th:only-of-type {\n",
       "        vertical-align: middle;\n",
       "    }\n",
       "\n",
       "    .dataframe tbody tr th {\n",
       "        vertical-align: top;\n",
       "    }\n",
       "\n",
       "    .dataframe thead th {\n",
       "        text-align: right;\n",
       "    }\n",
       "</style>\n",
       "<table border=\"1\" class=\"dataframe\">\n",
       "  <thead>\n",
       "    <tr style=\"text-align: right;\">\n",
       "      <th></th>\n",
       "      <th>pm25</th>\n",
       "      <th>pm10</th>\n",
       "      <th>o3</th>\n",
       "      <th>no2</th>\n",
       "      <th>so2</th>\n",
       "      <th>co</th>\n",
       "      <th>aqi</th>\n",
       "      <th>tempmax</th>\n",
       "      <th>tempmin</th>\n",
       "      <th>temp</th>\n",
       "      <th>...</th>\n",
       "      <th>windgust</th>\n",
       "      <th>windspeed</th>\n",
       "      <th>winddir</th>\n",
       "      <th>sealevelpressure</th>\n",
       "      <th>cloudcover</th>\n",
       "      <th>visibility</th>\n",
       "      <th>solarradiation</th>\n",
       "      <th>solarenergy</th>\n",
       "      <th>uvindex</th>\n",
       "      <th>conditions</th>\n",
       "    </tr>\n",
       "  </thead>\n",
       "  <tbody>\n",
       "  </tbody>\n",
       "</table>\n",
       "<p>0 rows × 28 columns</p>\n",
       "</div>"
      ],
      "text/plain": [
       "Empty DataFrame\n",
       "Columns: [pm25, pm10, o3, no2, so2, co, aqi, tempmax, tempmin, temp, feelslikemax, feelslikemin, feelslike, dew, humidity, precip, precipprob, precipcover, windgust, windspeed, winddir, sealevelpressure, cloudcover, visibility, solarradiation, solarenergy, uvindex, conditions]\n",
       "Index: []\n",
       "\n",
       "[0 rows x 28 columns]"
      ]
     },
     "execution_count": 63,
     "metadata": {},
     "output_type": "execute_result"
    }
   ],
   "source": [
    "X_train[X_train.isna().any(axis=1)]"
   ]
  },
  {
   "cell_type": "code",
   "execution_count": 64,
   "id": "144d353e-6f75-425a-a22a-535325b1508b",
   "metadata": {},
   "outputs": [
    {
     "data": {
      "text/html": [
       "<div>\n",
       "<style scoped>\n",
       "    .dataframe tbody tr th:only-of-type {\n",
       "        vertical-align: middle;\n",
       "    }\n",
       "\n",
       "    .dataframe tbody tr th {\n",
       "        vertical-align: top;\n",
       "    }\n",
       "\n",
       "    .dataframe thead th {\n",
       "        text-align: right;\n",
       "    }\n",
       "</style>\n",
       "<table border=\"1\" class=\"dataframe\">\n",
       "  <thead>\n",
       "    <tr style=\"text-align: right;\">\n",
       "      <th></th>\n",
       "      <th>pm25</th>\n",
       "      <th>pm10</th>\n",
       "      <th>o3</th>\n",
       "      <th>no2</th>\n",
       "      <th>so2</th>\n",
       "      <th>co</th>\n",
       "      <th>aqi</th>\n",
       "      <th>tempmax</th>\n",
       "      <th>tempmin</th>\n",
       "      <th>temp</th>\n",
       "      <th>...</th>\n",
       "      <th>windgust</th>\n",
       "      <th>windspeed</th>\n",
       "      <th>winddir</th>\n",
       "      <th>sealevelpressure</th>\n",
       "      <th>cloudcover</th>\n",
       "      <th>visibility</th>\n",
       "      <th>solarradiation</th>\n",
       "      <th>solarenergy</th>\n",
       "      <th>uvindex</th>\n",
       "      <th>conditions</th>\n",
       "    </tr>\n",
       "  </thead>\n",
       "  <tbody>\n",
       "  </tbody>\n",
       "</table>\n",
       "<p>0 rows × 28 columns</p>\n",
       "</div>"
      ],
      "text/plain": [
       "Empty DataFrame\n",
       "Columns: [pm25, pm10, o3, no2, so2, co, aqi, tempmax, tempmin, temp, feelslikemax, feelslikemin, feelslike, dew, humidity, precip, precipprob, precipcover, windgust, windspeed, winddir, sealevelpressure, cloudcover, visibility, solarradiation, solarenergy, uvindex, conditions]\n",
       "Index: []\n",
       "\n",
       "[0 rows x 28 columns]"
      ]
     },
     "execution_count": 64,
     "metadata": {},
     "output_type": "execute_result"
    }
   ],
   "source": [
    "X_val[X_val.isna().any(axis=1)]"
   ]
  },
  {
   "cell_type": "code",
   "execution_count": 65,
   "id": "45227820-5fe6-449a-9365-985b1e8deabb",
   "metadata": {},
   "outputs": [
    {
     "data": {
      "text/html": [
       "<div>\n",
       "<style scoped>\n",
       "    .dataframe tbody tr th:only-of-type {\n",
       "        vertical-align: middle;\n",
       "    }\n",
       "\n",
       "    .dataframe tbody tr th {\n",
       "        vertical-align: top;\n",
       "    }\n",
       "\n",
       "    .dataframe thead th {\n",
       "        text-align: right;\n",
       "    }\n",
       "</style>\n",
       "<table border=\"1\" class=\"dataframe\">\n",
       "  <thead>\n",
       "    <tr style=\"text-align: right;\">\n",
       "      <th></th>\n",
       "      <th>pm25</th>\n",
       "      <th>pm10</th>\n",
       "      <th>o3</th>\n",
       "      <th>no2</th>\n",
       "      <th>so2</th>\n",
       "      <th>co</th>\n",
       "      <th>aqi</th>\n",
       "      <th>tempmax</th>\n",
       "      <th>tempmin</th>\n",
       "      <th>temp</th>\n",
       "      <th>...</th>\n",
       "      <th>windgust</th>\n",
       "      <th>windspeed</th>\n",
       "      <th>winddir</th>\n",
       "      <th>sealevelpressure</th>\n",
       "      <th>cloudcover</th>\n",
       "      <th>visibility</th>\n",
       "      <th>solarradiation</th>\n",
       "      <th>solarenergy</th>\n",
       "      <th>uvindex</th>\n",
       "      <th>conditions</th>\n",
       "    </tr>\n",
       "  </thead>\n",
       "  <tbody>\n",
       "  </tbody>\n",
       "</table>\n",
       "<p>0 rows × 28 columns</p>\n",
       "</div>"
      ],
      "text/plain": [
       "Empty DataFrame\n",
       "Columns: [pm25, pm10, o3, no2, so2, co, aqi, tempmax, tempmin, temp, feelslikemax, feelslikemin, feelslike, dew, humidity, precip, precipprob, precipcover, windgust, windspeed, winddir, sealevelpressure, cloudcover, visibility, solarradiation, solarenergy, uvindex, conditions]\n",
       "Index: []\n",
       "\n",
       "[0 rows x 28 columns]"
      ]
     },
     "execution_count": 65,
     "metadata": {},
     "output_type": "execute_result"
    }
   ],
   "source": [
    "X_test[X_test.isna().any(axis=1)]"
   ]
  },
  {
   "cell_type": "code",
   "execution_count": 66,
   "id": "592cd9cb-26a0-458a-ac49-f71c7ca5a180",
   "metadata": {},
   "outputs": [
    {
     "data": {
      "text/html": [
       "<style>#sk-container-id-1 {color: black;background-color: white;}#sk-container-id-1 pre{padding: 0;}#sk-container-id-1 div.sk-toggleable {background-color: white;}#sk-container-id-1 label.sk-toggleable__label {cursor: pointer;display: block;width: 100%;margin-bottom: 0;padding: 0.3em;box-sizing: border-box;text-align: center;}#sk-container-id-1 label.sk-toggleable__label-arrow:before {content: \"▸\";float: left;margin-right: 0.25em;color: #696969;}#sk-container-id-1 label.sk-toggleable__label-arrow:hover:before {color: black;}#sk-container-id-1 div.sk-estimator:hover label.sk-toggleable__label-arrow:before {color: black;}#sk-container-id-1 div.sk-toggleable__content {max-height: 0;max-width: 0;overflow: hidden;text-align: left;background-color: #f0f8ff;}#sk-container-id-1 div.sk-toggleable__content pre {margin: 0.2em;color: black;border-radius: 0.25em;background-color: #f0f8ff;}#sk-container-id-1 input.sk-toggleable__control:checked~div.sk-toggleable__content {max-height: 200px;max-width: 100%;overflow: auto;}#sk-container-id-1 input.sk-toggleable__control:checked~label.sk-toggleable__label-arrow:before {content: \"▾\";}#sk-container-id-1 div.sk-estimator input.sk-toggleable__control:checked~label.sk-toggleable__label {background-color: #d4ebff;}#sk-container-id-1 div.sk-label input.sk-toggleable__control:checked~label.sk-toggleable__label {background-color: #d4ebff;}#sk-container-id-1 input.sk-hidden--visually {border: 0;clip: rect(1px 1px 1px 1px);clip: rect(1px, 1px, 1px, 1px);height: 1px;margin: -1px;overflow: hidden;padding: 0;position: absolute;width: 1px;}#sk-container-id-1 div.sk-estimator {font-family: monospace;background-color: #f0f8ff;border: 1px dotted black;border-radius: 0.25em;box-sizing: border-box;margin-bottom: 0.5em;}#sk-container-id-1 div.sk-estimator:hover {background-color: #d4ebff;}#sk-container-id-1 div.sk-parallel-item::after {content: \"\";width: 100%;border-bottom: 1px solid gray;flex-grow: 1;}#sk-container-id-1 div.sk-label:hover label.sk-toggleable__label {background-color: #d4ebff;}#sk-container-id-1 div.sk-serial::before {content: \"\";position: absolute;border-left: 1px solid gray;box-sizing: border-box;top: 0;bottom: 0;left: 50%;z-index: 0;}#sk-container-id-1 div.sk-serial {display: flex;flex-direction: column;align-items: center;background-color: white;padding-right: 0.2em;padding-left: 0.2em;position: relative;}#sk-container-id-1 div.sk-item {position: relative;z-index: 1;}#sk-container-id-1 div.sk-parallel {display: flex;align-items: stretch;justify-content: center;background-color: white;position: relative;}#sk-container-id-1 div.sk-item::before, #sk-container-id-1 div.sk-parallel-item::before {content: \"\";position: absolute;border-left: 1px solid gray;box-sizing: border-box;top: 0;bottom: 0;left: 50%;z-index: -1;}#sk-container-id-1 div.sk-parallel-item {display: flex;flex-direction: column;z-index: 1;position: relative;background-color: white;}#sk-container-id-1 div.sk-parallel-item:first-child::after {align-self: flex-end;width: 50%;}#sk-container-id-1 div.sk-parallel-item:last-child::after {align-self: flex-start;width: 50%;}#sk-container-id-1 div.sk-parallel-item:only-child::after {width: 0;}#sk-container-id-1 div.sk-dashed-wrapped {border: 1px dashed gray;margin: 0 0.4em 0.5em 0.4em;box-sizing: border-box;padding-bottom: 0.4em;background-color: white;}#sk-container-id-1 div.sk-label label {font-family: monospace;font-weight: bold;display: inline-block;line-height: 1.2em;}#sk-container-id-1 div.sk-label-container {text-align: center;}#sk-container-id-1 div.sk-container {/* jupyter's `normalize.less` sets `[hidden] { display: none; }` but bootstrap.min.css set `[hidden] { display: none !important; }` so we also need the `!important` here to be able to override the default hidden behavior on the sphinx rendered scikit-learn.org. See: https://github.com/scikit-learn/scikit-learn/issues/21755 */display: inline-block !important;position: relative;}#sk-container-id-1 div.sk-text-repr-fallback {display: none;}</style><div id=\"sk-container-id-1\" class=\"sk-top-container\"><div class=\"sk-text-repr-fallback\"><pre>GradientBoostingRegressor()</pre><b>In a Jupyter environment, please rerun this cell to show the HTML representation or trust the notebook. <br />On GitHub, the HTML representation is unable to render, please try loading this page with nbviewer.org.</b></div><div class=\"sk-container\" hidden><div class=\"sk-item\"><div class=\"sk-estimator sk-toggleable\"><input class=\"sk-toggleable__control sk-hidden--visually\" id=\"sk-estimator-id-1\" type=\"checkbox\" checked><label for=\"sk-estimator-id-1\" class=\"sk-toggleable__label sk-toggleable__label-arrow\">GradientBoostingRegressor</label><div class=\"sk-toggleable__content\"><pre>GradientBoostingRegressor()</pre></div></div></div></div></div>"
      ],
      "text/plain": [
       "GradientBoostingRegressor()"
      ]
     },
     "execution_count": 66,
     "metadata": {},
     "output_type": "execute_result"
    }
   ],
   "source": [
    "gb = GradientBoostingRegressor()\n",
    "gb.fit(X_train, y_train)"
   ]
  },
  {
   "cell_type": "code",
   "execution_count": 81,
   "id": "c9899d28-829e-423b-a008-5fe412a9297b",
   "metadata": {},
   "outputs": [
    {
     "name": "stdout",
     "output_type": "stream",
     "text": [
      "mean_absolute_error training:  11.548652457460609\n",
      "mean_absolute_error testing :  15.751024448587\n",
      "mean_absolute_error validation:  16.266101056551353\n"
     ]
    }
   ],
   "source": [
    "print('mean_absolute_error training: ', mean_absolute_error(y_train, gb.predict(X_train)))\n",
    "print('mean_absolute_error testing : ', mean_absolute_error(y_test, gb.predict(X_test)))\n",
    "print('mean_absolute_error validation: ', mean_absolute_error(y_val, gb.predict(X_val)))"
   ]
  },
  {
   "cell_type": "code",
   "execution_count": 86,
   "id": "87012530-6067-492c-9e34-cc2d483c3720",
   "metadata": {},
   "outputs": [
    {
     "name": "stdout",
     "output_type": "stream",
     "text": [
      "root mean_squared_error training:  15.819418114170666\n",
      "root mean_squared_error testing :  21.495621800677302\n",
      "root mean_squared_error validation:  21.99227515031484\n"
     ]
    }
   ],
   "source": [
    "print('root mean_squared_error training: ', mean_squared_error(y_train, gb.predict(X_train), squared=False))\n",
    "print('root mean_squared_error testing : ', mean_squared_error(y_test, gb.predict(X_test), squared=False))\n",
    "print('root mean_squared_error validation: ', mean_squared_error(y_val, gb.predict(X_val), squared=False))"
   ]
  },
  {
   "cell_type": "code",
   "execution_count": 90,
   "id": "4a389f01-2aec-4e74-bc2c-d5bc1f147066",
   "metadata": {},
   "outputs": [
    {
     "data": {
      "text/plain": [
       "array([36., 33.,  9.,  9., 60., 58.])"
      ]
     },
     "execution_count": 90,
     "metadata": {},
     "output_type": "execute_result"
    }
   ],
   "source": [
    "y_train.iloc[4:10].values"
   ]
  },
  {
   "cell_type": "code",
   "execution_count": 5,
   "id": "5fe62777-b981-4d9d-9e0e-a5410600eefa",
   "metadata": {},
   "outputs": [
    {
     "data": {
      "text/html": [
       "<div>\n",
       "<style scoped>\n",
       "    .dataframe tbody tr th:only-of-type {\n",
       "        vertical-align: middle;\n",
       "    }\n",
       "\n",
       "    .dataframe tbody tr th {\n",
       "        vertical-align: top;\n",
       "    }\n",
       "\n",
       "    .dataframe thead th {\n",
       "        text-align: right;\n",
       "    }\n",
       "</style>\n",
       "<table border=\"1\" class=\"dataframe\">\n",
       "  <thead>\n",
       "    <tr style=\"text-align: right;\">\n",
       "      <th></th>\n",
       "      <th>date</th>\n",
       "      <th>pm25</th>\n",
       "      <th>pm10</th>\n",
       "      <th>o3</th>\n",
       "      <th>no2</th>\n",
       "      <th>so2</th>\n",
       "      <th>co</th>\n",
       "      <th>aqi</th>\n",
       "      <th>tempmax</th>\n",
       "      <th>tempmin</th>\n",
       "      <th>...</th>\n",
       "      <th>windgust</th>\n",
       "      <th>windspeed</th>\n",
       "      <th>winddir</th>\n",
       "      <th>sealevelpressure</th>\n",
       "      <th>cloudcover</th>\n",
       "      <th>visibility</th>\n",
       "      <th>solarradiation</th>\n",
       "      <th>solarenergy</th>\n",
       "      <th>uvindex</th>\n",
       "      <th>conditions</th>\n",
       "    </tr>\n",
       "  </thead>\n",
       "  <tbody>\n",
       "    <tr>\n",
       "      <th>0</th>\n",
       "      <td>1515279600000</td>\n",
       "      <td>-0.532729</td>\n",
       "      <td>-0.809162</td>\n",
       "      <td>-0.715625</td>\n",
       "      <td>-0.873710</td>\n",
       "      <td>-0.444202</td>\n",
       "      <td>0.348340</td>\n",
       "      <td>34</td>\n",
       "      <td>-1.585277</td>\n",
       "      <td>-1.448301</td>\n",
       "      <td>...</td>\n",
       "      <td>0.371375</td>\n",
       "      <td>0.626569</td>\n",
       "      <td>-1.500504</td>\n",
       "      <td>1.076506</td>\n",
       "      <td>-1.379511</td>\n",
       "      <td>-0.070776</td>\n",
       "      <td>-0.899876</td>\n",
       "      <td>-0.902254</td>\n",
       "      <td>-0.934410</td>\n",
       "      <td>1</td>\n",
       "    </tr>\n",
       "    <tr>\n",
       "      <th>1</th>\n",
       "      <td>1555192800000</td>\n",
       "      <td>0.506534</td>\n",
       "      <td>0.460144</td>\n",
       "      <td>0.278439</td>\n",
       "      <td>0.379906</td>\n",
       "      <td>-0.444202</td>\n",
       "      <td>1.016424</td>\n",
       "      <td>64</td>\n",
       "      <td>-0.620217</td>\n",
       "      <td>-1.304209</td>\n",
       "      <td>...</td>\n",
       "      <td>-0.237814</td>\n",
       "      <td>-0.277285</td>\n",
       "      <td>-1.459160</td>\n",
       "      <td>1.096930</td>\n",
       "      <td>-1.455272</td>\n",
       "      <td>0.457024</td>\n",
       "      <td>0.482606</td>\n",
       "      <td>0.476382</td>\n",
       "      <td>0.900146</td>\n",
       "      <td>5</td>\n",
       "    </tr>\n",
       "    <tr>\n",
       "      <th>2</th>\n",
       "      <td>1555365600000</td>\n",
       "      <td>0.610460</td>\n",
       "      <td>0.369479</td>\n",
       "      <td>0.112762</td>\n",
       "      <td>1.758883</td>\n",
       "      <td>-0.444202</td>\n",
       "      <td>1.684508</td>\n",
       "      <td>67</td>\n",
       "      <td>0.389384</td>\n",
       "      <td>-0.241532</td>\n",
       "      <td>...</td>\n",
       "      <td>0.022289</td>\n",
       "      <td>-0.096514</td>\n",
       "      <td>-1.295962</td>\n",
       "      <td>0.177833</td>\n",
       "      <td>-0.565079</td>\n",
       "      <td>1.157167</td>\n",
       "      <td>0.716857</td>\n",
       "      <td>0.742841</td>\n",
       "      <td>0.900146</td>\n",
       "      <td>1</td>\n",
       "    </tr>\n",
       "    <tr>\n",
       "      <th>3</th>\n",
       "      <td>1597528800000</td>\n",
       "      <td>0.714386</td>\n",
       "      <td>0.188150</td>\n",
       "      <td>0.609794</td>\n",
       "      <td>0.003821</td>\n",
       "      <td>-0.444202</td>\n",
       "      <td>1.016424</td>\n",
       "      <td>70</td>\n",
       "      <td>2.171033</td>\n",
       "      <td>1.847801</td>\n",
       "      <td>...</td>\n",
       "      <td>0.590409</td>\n",
       "      <td>0.044086</td>\n",
       "      <td>-1.412377</td>\n",
       "      <td>-0.455324</td>\n",
       "      <td>0.889535</td>\n",
       "      <td>-0.167719</td>\n",
       "      <td>2.274526</td>\n",
       "      <td>2.248914</td>\n",
       "      <td>1.267057</td>\n",
       "      <td>2</td>\n",
       "    </tr>\n",
       "    <tr>\n",
       "      <th>4</th>\n",
       "      <td>1609369200000</td>\n",
       "      <td>0.749028</td>\n",
       "      <td>7.078666</td>\n",
       "      <td>-1.212657</td>\n",
       "      <td>0.755990</td>\n",
       "      <td>-0.444202</td>\n",
       "      <td>3.020676</td>\n",
       "      <td>71</td>\n",
       "      <td>-1.377418</td>\n",
       "      <td>-1.394267</td>\n",
       "      <td>...</td>\n",
       "      <td>-0.737487</td>\n",
       "      <td>-0.899940</td>\n",
       "      <td>0.066202</td>\n",
       "      <td>-1.313148</td>\n",
       "      <td>0.294810</td>\n",
       "      <td>-0.835547</td>\n",
       "      <td>-0.807778</td>\n",
       "      <td>-0.786402</td>\n",
       "      <td>-0.934410</td>\n",
       "      <td>5</td>\n",
       "    </tr>\n",
       "    <tr>\n",
       "      <th>...</th>\n",
       "      <td>...</td>\n",
       "      <td>...</td>\n",
       "      <td>...</td>\n",
       "      <td>...</td>\n",
       "      <td>...</td>\n",
       "      <td>...</td>\n",
       "      <td>...</td>\n",
       "      <td>...</td>\n",
       "      <td>...</td>\n",
       "      <td>...</td>\n",
       "      <td>...</td>\n",
       "      <td>...</td>\n",
       "      <td>...</td>\n",
       "      <td>...</td>\n",
       "      <td>...</td>\n",
       "      <td>...</td>\n",
       "      <td>...</td>\n",
       "      <td>...</td>\n",
       "      <td>...</td>\n",
       "      <td>...</td>\n",
       "      <td>...</td>\n",
       "    </tr>\n",
       "    <tr>\n",
       "      <th>1537</th>\n",
       "      <td>1648677600000</td>\n",
       "      <td>-0.636655</td>\n",
       "      <td>-0.990491</td>\n",
       "      <td>0.526955</td>\n",
       "      <td>-0.999071</td>\n",
       "      <td>-0.444202</td>\n",
       "      <td>-0.319745</td>\n",
       "      <td>32</td>\n",
       "      <td>-1.481347</td>\n",
       "      <td>-1.268186</td>\n",
       "      <td>...</td>\n",
       "      <td>1.226978</td>\n",
       "      <td>1.028282</td>\n",
       "      <td>-1.821461</td>\n",
       "      <td>-1.353997</td>\n",
       "      <td>1.222884</td>\n",
       "      <td>-0.103090</td>\n",
       "      <td>-0.785754</td>\n",
       "      <td>-0.763232</td>\n",
       "      <td>-0.567499</td>\n",
       "      <td>3</td>\n",
       "    </tr>\n",
       "    <tr>\n",
       "      <th>1538</th>\n",
       "      <td>1408312800000</td>\n",
       "      <td>-1.710560</td>\n",
       "      <td>-0.537168</td>\n",
       "      <td>0.029923</td>\n",
       "      <td>0.254544</td>\n",
       "      <td>-0.444202</td>\n",
       "      <td>-1.655913</td>\n",
       "      <td>26</td>\n",
       "      <td>0.463620</td>\n",
       "      <td>0.659043</td>\n",
       "      <td>...</td>\n",
       "      <td>0.501427</td>\n",
       "      <td>1.339610</td>\n",
       "      <td>0.765780</td>\n",
       "      <td>-1.057843</td>\n",
       "      <td>-0.924944</td>\n",
       "      <td>-0.544719</td>\n",
       "      <td>0.760904</td>\n",
       "      <td>0.777597</td>\n",
       "      <td>0.533235</td>\n",
       "      <td>2</td>\n",
       "    </tr>\n",
       "    <tr>\n",
       "      <th>1539</th>\n",
       "      <td>1468792800000</td>\n",
       "      <td>0.610460</td>\n",
       "      <td>1.004132</td>\n",
       "      <td>3.343470</td>\n",
       "      <td>1.758883</td>\n",
       "      <td>1.145032</td>\n",
       "      <td>1.016424</td>\n",
       "      <td>67</td>\n",
       "      <td>1.488068</td>\n",
       "      <td>1.163365</td>\n",
       "      <td>...</td>\n",
       "      <td>-0.929142</td>\n",
       "      <td>-0.909983</td>\n",
       "      <td>1.174865</td>\n",
       "      <td>0.627169</td>\n",
       "      <td>-1.697708</td>\n",
       "      <td>0.338539</td>\n",
       "      <td>2.000232</td>\n",
       "      <td>1.970870</td>\n",
       "      <td>1.633968</td>\n",
       "      <td>6</td>\n",
       "    </tr>\n",
       "    <tr>\n",
       "      <th>1540</th>\n",
       "      <td>1561500000000</td>\n",
       "      <td>0.818313</td>\n",
       "      <td>-0.537168</td>\n",
       "      <td>0.361278</td>\n",
       "      <td>-1.249795</td>\n",
       "      <td>-0.444202</td>\n",
       "      <td>-0.319745</td>\n",
       "      <td>73</td>\n",
       "      <td>1.102044</td>\n",
       "      <td>1.559618</td>\n",
       "      <td>...</td>\n",
       "      <td>-0.313107</td>\n",
       "      <td>-0.237114</td>\n",
       "      <td>1.744972</td>\n",
       "      <td>0.953960</td>\n",
       "      <td>-0.519622</td>\n",
       "      <td>-0.372376</td>\n",
       "      <td>0.583714</td>\n",
       "      <td>0.615404</td>\n",
       "      <td>1.267057</td>\n",
       "      <td>1</td>\n",
       "    </tr>\n",
       "    <tr>\n",
       "      <th>1541</th>\n",
       "      <td>1584486000000</td>\n",
       "      <td>-0.324876</td>\n",
       "      <td>-0.446503</td>\n",
       "      <td>0.029923</td>\n",
       "      <td>-0.372264</td>\n",
       "      <td>-0.444202</td>\n",
       "      <td>0.348340</td>\n",
       "      <td>40</td>\n",
       "      <td>-0.352969</td>\n",
       "      <td>-0.151474</td>\n",
       "      <td>...</td>\n",
       "      <td>0.405599</td>\n",
       "      <td>0.747083</td>\n",
       "      <td>0.364312</td>\n",
       "      <td>0.994808</td>\n",
       "      <td>0.969084</td>\n",
       "      <td>1.534167</td>\n",
       "      <td>0.367482</td>\n",
       "      <td>0.360530</td>\n",
       "      <td>-0.567499</td>\n",
       "      <td>12</td>\n",
       "    </tr>\n",
       "  </tbody>\n",
       "</table>\n",
       "<p>1542 rows × 29 columns</p>\n",
       "</div>"
      ],
      "text/plain": [
       "               date      pm25      pm10        o3       no2       so2  \\\n",
       "0     1515279600000 -0.532729 -0.809162 -0.715625 -0.873710 -0.444202   \n",
       "1     1555192800000  0.506534  0.460144  0.278439  0.379906 -0.444202   \n",
       "2     1555365600000  0.610460  0.369479  0.112762  1.758883 -0.444202   \n",
       "3     1597528800000  0.714386  0.188150  0.609794  0.003821 -0.444202   \n",
       "4     1609369200000  0.749028  7.078666 -1.212657  0.755990 -0.444202   \n",
       "...             ...       ...       ...       ...       ...       ...   \n",
       "1537  1648677600000 -0.636655 -0.990491  0.526955 -0.999071 -0.444202   \n",
       "1538  1408312800000 -1.710560 -0.537168  0.029923  0.254544 -0.444202   \n",
       "1539  1468792800000  0.610460  1.004132  3.343470  1.758883  1.145032   \n",
       "1540  1561500000000  0.818313 -0.537168  0.361278 -1.249795 -0.444202   \n",
       "1541  1584486000000 -0.324876 -0.446503  0.029923 -0.372264 -0.444202   \n",
       "\n",
       "            co  aqi   tempmax   tempmin  ...  windgust  windspeed   winddir  \\\n",
       "0     0.348340   34 -1.585277 -1.448301  ...  0.371375   0.626569 -1.500504   \n",
       "1     1.016424   64 -0.620217 -1.304209  ... -0.237814  -0.277285 -1.459160   \n",
       "2     1.684508   67  0.389384 -0.241532  ...  0.022289  -0.096514 -1.295962   \n",
       "3     1.016424   70  2.171033  1.847801  ...  0.590409   0.044086 -1.412377   \n",
       "4     3.020676   71 -1.377418 -1.394267  ... -0.737487  -0.899940  0.066202   \n",
       "...        ...  ...       ...       ...  ...       ...        ...       ...   \n",
       "1537 -0.319745   32 -1.481347 -1.268186  ...  1.226978   1.028282 -1.821461   \n",
       "1538 -1.655913   26  0.463620  0.659043  ...  0.501427   1.339610  0.765780   \n",
       "1539  1.016424   67  1.488068  1.163365  ... -0.929142  -0.909983  1.174865   \n",
       "1540 -0.319745   73  1.102044  1.559618  ... -0.313107  -0.237114  1.744972   \n",
       "1541  0.348340   40 -0.352969 -0.151474  ...  0.405599   0.747083  0.364312   \n",
       "\n",
       "      sealevelpressure  cloudcover  visibility  solarradiation  solarenergy  \\\n",
       "0             1.076506   -1.379511   -0.070776       -0.899876    -0.902254   \n",
       "1             1.096930   -1.455272    0.457024        0.482606     0.476382   \n",
       "2             0.177833   -0.565079    1.157167        0.716857     0.742841   \n",
       "3            -0.455324    0.889535   -0.167719        2.274526     2.248914   \n",
       "4            -1.313148    0.294810   -0.835547       -0.807778    -0.786402   \n",
       "...                ...         ...         ...             ...          ...   \n",
       "1537         -1.353997    1.222884   -0.103090       -0.785754    -0.763232   \n",
       "1538         -1.057843   -0.924944   -0.544719        0.760904     0.777597   \n",
       "1539          0.627169   -1.697708    0.338539        2.000232     1.970870   \n",
       "1540          0.953960   -0.519622   -0.372376        0.583714     0.615404   \n",
       "1541          0.994808    0.969084    1.534167        0.367482     0.360530   \n",
       "\n",
       "       uvindex  conditions  \n",
       "0    -0.934410           1  \n",
       "1     0.900146           5  \n",
       "2     0.900146           1  \n",
       "3     1.267057           2  \n",
       "4    -0.934410           5  \n",
       "...        ...         ...  \n",
       "1537 -0.567499           3  \n",
       "1538  0.533235           2  \n",
       "1539  1.633968           6  \n",
       "1540  1.267057           1  \n",
       "1541 -0.567499          12  \n",
       "\n",
       "[1542 rows x 29 columns]"
      ]
     },
     "execution_count": 5,
     "metadata": {},
     "output_type": "execute_result"
    }
   ],
   "source": [
    "X_train"
   ]
  },
  {
   "cell_type": "code",
   "execution_count": 5,
   "id": "b1df7458-b13c-40cb-bfc2-31b9cd3dba37",
   "metadata": {},
   "outputs": [],
   "source": [
    "training=pd.read_csv('X_train.csv')\n",
    "testing=pd.read_csv('X_test.csv')\n",
    "val=pd.read_csv('X_val.csv')"
   ]
  },
  {
   "cell_type": "code",
   "execution_count": 6,
   "id": "828aa0c2-bf02-4e6b-8fa2-172d33f0b886",
   "metadata": {},
   "outputs": [],
   "source": [
    "training = training.sort_values(by=[\"date\"], ascending=[False]).reset_index(drop=True)\n",
    "testing = testing.sort_values(by=[\"date\"], ascending=[False]).reset_index(drop=True)\n",
    "val = val.sort_values(by=[\"date\"], ascending=[False]).reset_index(drop=True)"
   ]
  },
  {
   "cell_type": "code",
   "execution_count": 7,
   "id": "32de5b85-bf75-4da1-a926-4efbeb35f100",
   "metadata": {},
   "outputs": [
    {
     "data": {
      "text/html": [
       "<div>\n",
       "<style scoped>\n",
       "    .dataframe tbody tr th:only-of-type {\n",
       "        vertical-align: middle;\n",
       "    }\n",
       "\n",
       "    .dataframe tbody tr th {\n",
       "        vertical-align: top;\n",
       "    }\n",
       "\n",
       "    .dataframe thead th {\n",
       "        text-align: right;\n",
       "    }\n",
       "</style>\n",
       "<table border=\"1\" class=\"dataframe\">\n",
       "  <thead>\n",
       "    <tr style=\"text-align: right;\">\n",
       "      <th></th>\n",
       "      <th>Unnamed: 0</th>\n",
       "      <th>date</th>\n",
       "      <th>pm25</th>\n",
       "      <th>pm10</th>\n",
       "      <th>o3</th>\n",
       "      <th>no2</th>\n",
       "      <th>so2</th>\n",
       "      <th>co</th>\n",
       "      <th>aqi</th>\n",
       "      <th>tempmax</th>\n",
       "      <th>...</th>\n",
       "      <th>windgust</th>\n",
       "      <th>windspeed</th>\n",
       "      <th>winddir</th>\n",
       "      <th>sealevelpressure</th>\n",
       "      <th>cloudcover</th>\n",
       "      <th>visibility</th>\n",
       "      <th>solarradiation</th>\n",
       "      <th>solarenergy</th>\n",
       "      <th>uvindex</th>\n",
       "      <th>conditions</th>\n",
       "    </tr>\n",
       "  </thead>\n",
       "  <tbody>\n",
       "    <tr>\n",
       "      <th>0</th>\n",
       "      <td>1197</td>\n",
       "      <td>1672700400000</td>\n",
       "      <td>-0.186308</td>\n",
       "      <td>-2.259797</td>\n",
       "      <td>-2.123882</td>\n",
       "      <td>-2.754133</td>\n",
       "      <td>-0.444202</td>\n",
       "      <td>-1.655913</td>\n",
       "      <td>44</td>\n",
       "      <td>-0.932005</td>\n",
       "      <td>...</td>\n",
       "      <td>1.350185</td>\n",
       "      <td>0.024000</td>\n",
       "      <td>-0.085028</td>\n",
       "      <td>0.810989</td>\n",
       "      <td>-0.076420</td>\n",
       "      <td>-1.040204</td>\n",
       "      <td>-1.247249</td>\n",
       "      <td>-1.261394</td>\n",
       "      <td>-1.668232</td>\n",
       "      <td>2</td>\n",
       "    </tr>\n",
       "    <tr>\n",
       "      <th>1</th>\n",
       "      <td>349</td>\n",
       "      <td>1672527600000</td>\n",
       "      <td>0.610460</td>\n",
       "      <td>-0.809162</td>\n",
       "      <td>-0.052916</td>\n",
       "      <td>-0.748348</td>\n",
       "      <td>-0.444202</td>\n",
       "      <td>-0.319745</td>\n",
       "      <td>67</td>\n",
       "      <td>0.092443</td>\n",
       "      <td>...</td>\n",
       "      <td>1.719806</td>\n",
       "      <td>2.132993</td>\n",
       "      <td>0.231577</td>\n",
       "      <td>-0.577870</td>\n",
       "      <td>-0.224154</td>\n",
       "      <td>-1.040204</td>\n",
       "      <td>-1.128121</td>\n",
       "      <td>-1.122372</td>\n",
       "      <td>-1.301321</td>\n",
       "      <td>2</td>\n",
       "    </tr>\n",
       "    <tr>\n",
       "      <th>2</th>\n",
       "      <td>1173</td>\n",
       "      <td>1672441200000</td>\n",
       "      <td>-0.428803</td>\n",
       "      <td>1.094797</td>\n",
       "      <td>0.112762</td>\n",
       "      <td>-1.249795</td>\n",
       "      <td>-0.444202</td>\n",
       "      <td>-0.987829</td>\n",
       "      <td>37</td>\n",
       "      <td>0.107290</td>\n",
       "      <td>...</td>\n",
       "      <td>2.780754</td>\n",
       "      <td>2.313764</td>\n",
       "      <td>0.296856</td>\n",
       "      <td>-1.343785</td>\n",
       "      <td>0.446332</td>\n",
       "      <td>-1.115604</td>\n",
       "      <td>-1.273277</td>\n",
       "      <td>-1.284565</td>\n",
       "      <td>-1.668232</td>\n",
       "      <td>2</td>\n",
       "    </tr>\n",
       "    <tr>\n",
       "      <th>3</th>\n",
       "      <td>663</td>\n",
       "      <td>1672354800000</td>\n",
       "      <td>-0.463445</td>\n",
       "      <td>-0.809162</td>\n",
       "      <td>0.029923</td>\n",
       "      <td>-1.375156</td>\n",
       "      <td>-0.444202</td>\n",
       "      <td>-0.987829</td>\n",
       "      <td>36</td>\n",
       "      <td>-0.352969</td>\n",
       "      <td>...</td>\n",
       "      <td>1.843013</td>\n",
       "      <td>1.831709</td>\n",
       "      <td>0.034651</td>\n",
       "      <td>-1.353997</td>\n",
       "      <td>-0.262034</td>\n",
       "      <td>-1.126376</td>\n",
       "      <td>-1.248250</td>\n",
       "      <td>-1.249809</td>\n",
       "      <td>-1.668232</td>\n",
       "      <td>2</td>\n",
       "    </tr>\n",
       "    <tr>\n",
       "      <th>4</th>\n",
       "      <td>291</td>\n",
       "      <td>1672268400000</td>\n",
       "      <td>-0.567371</td>\n",
       "      <td>-0.718497</td>\n",
       "      <td>0.029923</td>\n",
       "      <td>-1.249795</td>\n",
       "      <td>-0.444202</td>\n",
       "      <td>-0.987829</td>\n",
       "      <td>33</td>\n",
       "      <td>-0.486593</td>\n",
       "      <td>...</td>\n",
       "      <td>1.596599</td>\n",
       "      <td>1.570595</td>\n",
       "      <td>0.302296</td>\n",
       "      <td>-1.517392</td>\n",
       "      <td>1.044845</td>\n",
       "      <td>0.209281</td>\n",
       "      <td>-1.217217</td>\n",
       "      <td>-1.215054</td>\n",
       "      <td>-1.301321</td>\n",
       "      <td>4</td>\n",
       "    </tr>\n",
       "    <tr>\n",
       "      <th>5</th>\n",
       "      <td>627</td>\n",
       "      <td>1672182000000</td>\n",
       "      <td>-0.532729</td>\n",
       "      <td>-0.899826</td>\n",
       "      <td>0.112762</td>\n",
       "      <td>-1.625879</td>\n",
       "      <td>-0.444202</td>\n",
       "      <td>-0.987829</td>\n",
       "      <td>9</td>\n",
       "      <td>-0.516287</td>\n",
       "      <td>...</td>\n",
       "      <td>1.637668</td>\n",
       "      <td>1.660980</td>\n",
       "      <td>0.121690</td>\n",
       "      <td>-0.894448</td>\n",
       "      <td>1.310010</td>\n",
       "      <td>0.004624</td>\n",
       "      <td>-1.263266</td>\n",
       "      <td>-1.249809</td>\n",
       "      <td>-1.668232</td>\n",
       "      <td>4</td>\n",
       "    </tr>\n",
       "    <tr>\n",
       "      <th>6</th>\n",
       "      <td>317</td>\n",
       "      <td>1672095600000</td>\n",
       "      <td>-0.740581</td>\n",
       "      <td>-1.171821</td>\n",
       "      <td>-0.301432</td>\n",
       "      <td>-1.625879</td>\n",
       "      <td>-0.444202</td>\n",
       "      <td>-0.319745</td>\n",
       "      <td>9</td>\n",
       "      <td>-1.035935</td>\n",
       "      <td>...</td>\n",
       "      <td>0.590409</td>\n",
       "      <td>0.988111</td>\n",
       "      <td>0.294680</td>\n",
       "      <td>0.555684</td>\n",
       "      <td>0.381935</td>\n",
       "      <td>1.081767</td>\n",
       "      <td>-1.032018</td>\n",
       "      <td>-1.029691</td>\n",
       "      <td>-0.567499</td>\n",
       "      <td>2</td>\n",
       "    </tr>\n",
       "    <tr>\n",
       "      <th>7</th>\n",
       "      <td>302</td>\n",
       "      <td>1671922800000</td>\n",
       "      <td>0.367965</td>\n",
       "      <td>-0.899826</td>\n",
       "      <td>0.112762</td>\n",
       "      <td>-1.500518</td>\n",
       "      <td>-0.444202</td>\n",
       "      <td>-0.987829</td>\n",
       "      <td>60</td>\n",
       "      <td>-0.738993</td>\n",
       "      <td>...</td>\n",
       "      <td>-0.840159</td>\n",
       "      <td>-0.899940</td>\n",
       "      <td>-0.190563</td>\n",
       "      <td>-0.475748</td>\n",
       "      <td>1.260765</td>\n",
       "      <td>-1.417204</td>\n",
       "      <td>-1.264267</td>\n",
       "      <td>-1.261394</td>\n",
       "      <td>-1.668232</td>\n",
       "      <td>4</td>\n",
       "    </tr>\n",
       "    <tr>\n",
       "      <th>8</th>\n",
       "      <td>62</td>\n",
       "      <td>1671836400000</td>\n",
       "      <td>0.298681</td>\n",
       "      <td>-0.174509</td>\n",
       "      <td>-0.964141</td>\n",
       "      <td>-0.246902</td>\n",
       "      <td>-0.444202</td>\n",
       "      <td>0.348340</td>\n",
       "      <td>58</td>\n",
       "      <td>-0.590523</td>\n",
       "      <td>...</td>\n",
       "      <td>1.055858</td>\n",
       "      <td>1.078497</td>\n",
       "      <td>0.439383</td>\n",
       "      <td>-0.557446</td>\n",
       "      <td>0.828926</td>\n",
       "      <td>-1.050976</td>\n",
       "      <td>-1.184181</td>\n",
       "      <td>-1.191883</td>\n",
       "      <td>-1.301321</td>\n",
       "      <td>2</td>\n",
       "    </tr>\n",
       "    <tr>\n",
       "      <th>9</th>\n",
       "      <td>1381</td>\n",
       "      <td>1671663600000</td>\n",
       "      <td>0.471892</td>\n",
       "      <td>-0.718497</td>\n",
       "      <td>-0.384270</td>\n",
       "      <td>0.254544</td>\n",
       "      <td>-0.444202</td>\n",
       "      <td>0.348340</td>\n",
       "      <td>63</td>\n",
       "      <td>-0.679605</td>\n",
       "      <td>...</td>\n",
       "      <td>-0.299418</td>\n",
       "      <td>-0.106557</td>\n",
       "      <td>0.220697</td>\n",
       "      <td>-1.241663</td>\n",
       "      <td>0.813774</td>\n",
       "      <td>-1.363347</td>\n",
       "      <td>-1.048035</td>\n",
       "      <td>-1.052861</td>\n",
       "      <td>-0.934410</td>\n",
       "      <td>2</td>\n",
       "    </tr>\n",
       "  </tbody>\n",
       "</table>\n",
       "<p>10 rows × 30 columns</p>\n",
       "</div>"
      ],
      "text/plain": [
       "   Unnamed: 0           date      pm25      pm10        o3       no2  \\\n",
       "0        1197  1672700400000 -0.186308 -2.259797 -2.123882 -2.754133   \n",
       "1         349  1672527600000  0.610460 -0.809162 -0.052916 -0.748348   \n",
       "2        1173  1672441200000 -0.428803  1.094797  0.112762 -1.249795   \n",
       "3         663  1672354800000 -0.463445 -0.809162  0.029923 -1.375156   \n",
       "4         291  1672268400000 -0.567371 -0.718497  0.029923 -1.249795   \n",
       "5         627  1672182000000 -0.532729 -0.899826  0.112762 -1.625879   \n",
       "6         317  1672095600000 -0.740581 -1.171821 -0.301432 -1.625879   \n",
       "7         302  1671922800000  0.367965 -0.899826  0.112762 -1.500518   \n",
       "8          62  1671836400000  0.298681 -0.174509 -0.964141 -0.246902   \n",
       "9        1381  1671663600000  0.471892 -0.718497 -0.384270  0.254544   \n",
       "\n",
       "        so2        co  aqi   tempmax  ...  windgust  windspeed   winddir  \\\n",
       "0 -0.444202 -1.655913   44 -0.932005  ...  1.350185   0.024000 -0.085028   \n",
       "1 -0.444202 -0.319745   67  0.092443  ...  1.719806   2.132993  0.231577   \n",
       "2 -0.444202 -0.987829   37  0.107290  ...  2.780754   2.313764  0.296856   \n",
       "3 -0.444202 -0.987829   36 -0.352969  ...  1.843013   1.831709  0.034651   \n",
       "4 -0.444202 -0.987829   33 -0.486593  ...  1.596599   1.570595  0.302296   \n",
       "5 -0.444202 -0.987829    9 -0.516287  ...  1.637668   1.660980  0.121690   \n",
       "6 -0.444202 -0.319745    9 -1.035935  ...  0.590409   0.988111  0.294680   \n",
       "7 -0.444202 -0.987829   60 -0.738993  ... -0.840159  -0.899940 -0.190563   \n",
       "8 -0.444202  0.348340   58 -0.590523  ...  1.055858   1.078497  0.439383   \n",
       "9 -0.444202  0.348340   63 -0.679605  ... -0.299418  -0.106557  0.220697   \n",
       "\n",
       "   sealevelpressure  cloudcover  visibility  solarradiation  solarenergy  \\\n",
       "0          0.810989   -0.076420   -1.040204       -1.247249    -1.261394   \n",
       "1         -0.577870   -0.224154   -1.040204       -1.128121    -1.122372   \n",
       "2         -1.343785    0.446332   -1.115604       -1.273277    -1.284565   \n",
       "3         -1.353997   -0.262034   -1.126376       -1.248250    -1.249809   \n",
       "4         -1.517392    1.044845    0.209281       -1.217217    -1.215054   \n",
       "5         -0.894448    1.310010    0.004624       -1.263266    -1.249809   \n",
       "6          0.555684    0.381935    1.081767       -1.032018    -1.029691   \n",
       "7         -0.475748    1.260765   -1.417204       -1.264267    -1.261394   \n",
       "8         -0.557446    0.828926   -1.050976       -1.184181    -1.191883   \n",
       "9         -1.241663    0.813774   -1.363347       -1.048035    -1.052861   \n",
       "\n",
       "    uvindex  conditions  \n",
       "0 -1.668232           2  \n",
       "1 -1.301321           2  \n",
       "2 -1.668232           2  \n",
       "3 -1.668232           2  \n",
       "4 -1.301321           4  \n",
       "5 -1.668232           4  \n",
       "6 -0.567499           2  \n",
       "7 -1.668232           4  \n",
       "8 -1.301321           2  \n",
       "9 -0.934410           2  \n",
       "\n",
       "[10 rows x 30 columns]"
      ]
     },
     "execution_count": 7,
     "metadata": {},
     "output_type": "execute_result"
    }
   ],
   "source": [
    "training.head(10)"
   ]
  },
  {
   "cell_type": "code",
   "execution_count": 8,
   "id": "c8d52217-43f3-4454-9edf-c032c5dde7e5",
   "metadata": {},
   "outputs": [],
   "source": [
    "def give_y(df):\n",
    "    y=[]\n",
    "    for i in range(7,len(df)):\n",
    "        next7days=np.flip(df['aqi'].iloc[i-7:i])\n",
    "        y.append(next7days)\n",
    "    return y\n",
    "\n",
    "y_train=np.array(give_y(training))\n",
    "y_test=np.array(give_y(testing))\n",
    "y_val=np.array(give_y(val))"
   ]
  },
  {
   "cell_type": "code",
   "execution_count": 9,
   "id": "5297b1ff-958f-4dab-bfe8-4c8775ac75a1",
   "metadata": {},
   "outputs": [],
   "source": [
    "X_train=training.iloc[7:,2:]\n",
    "X_train.fillna(X_train.mean(),inplace=True)\n",
    "X_train=np.reshape(np.array(X_train),(len(X_train),1,len(X_train.columns)))\n",
    "\n",
    "X_test=testing.iloc[7:,2:]\n",
    "X_test.fillna(X_test.mean(),inplace=True)\n",
    "X_test=np.reshape(np.array(X_test),(len(X_test),1,len(X_test.columns)))\n",
    "\n",
    "X_val=val.iloc[7:,2:]\n",
    "X_val.fillna(X_val.mean(),inplace=True)\n",
    "X_val=np.reshape(np.array(X_val),(len(X_val),1,len(X_val.columns)))"
   ]
  },
  {
   "cell_type": "code",
   "execution_count": 10,
   "id": "92a2320d-5aee-480e-b158-12f2c7e684ec",
   "metadata": {},
   "outputs": [],
   "source": [
    "# define model\n",
    "model = Sequential()\n",
    "model.add(LSTM(256, return_sequences=True, input_shape=(1, 28)))\n",
    "model.add(LSTM(128,dropout=0.5))\n",
    "model.add(Dense(7))\n",
    "\n",
    "opt=RMSprop(lr=0.01)\n",
    "model.compile(optimizer=opt, loss='mse')"
   ]
  },
  {
   "cell_type": "code",
   "execution_count": 14,
   "id": "f1de4b8e-83c3-4d37-8fc8-261950d88e21",
   "metadata": {},
   "outputs": [
    {
     "name": "stdout",
     "output_type": "stream",
     "text": [
      "Epoch 1/100\n",
      "48/48 [==============================] - 4s 22ms/step - loss: 952.0828 - val_loss: 557.3653\n",
      "Epoch 2/100\n",
      "48/48 [==============================] - 0s 8ms/step - loss: 482.1422 - val_loss: 510.1601\n",
      "Epoch 3/100\n",
      "48/48 [==============================] - 0s 8ms/step - loss: 457.5989 - val_loss: 513.2217\n",
      "Epoch 4/100\n",
      "48/48 [==============================] - 0s 8ms/step - loss: 449.6489 - val_loss: 499.5789\n",
      "Epoch 5/100\n",
      "48/48 [==============================] - 0s 8ms/step - loss: 445.2910 - val_loss: 502.7179\n",
      "Epoch 6/100\n",
      "48/48 [==============================] - 0s 8ms/step - loss: 443.2769 - val_loss: 498.4206\n",
      "Epoch 7/100\n",
      "48/48 [==============================] - 0s 8ms/step - loss: 438.9772 - val_loss: 503.6880\n",
      "Epoch 8/100\n",
      "48/48 [==============================] - 1s 11ms/step - loss: 438.0992 - val_loss: 499.5209\n",
      "Epoch 9/100\n",
      "48/48 [==============================] - 1s 10ms/step - loss: 437.3380 - val_loss: 495.4371\n",
      "Epoch 10/100\n",
      "48/48 [==============================] - 1s 14ms/step - loss: 434.6505 - val_loss: 496.2066\n",
      "Epoch 11/100\n",
      "48/48 [==============================] - 1s 12ms/step - loss: 433.8849 - val_loss: 489.8483\n",
      "Epoch 12/100\n",
      "48/48 [==============================] - 0s 10ms/step - loss: 434.2696 - val_loss: 499.0269\n",
      "Epoch 13/100\n",
      "48/48 [==============================] - 0s 8ms/step - loss: 430.8281 - val_loss: 497.5574\n",
      "Epoch 14/100\n",
      "48/48 [==============================] - 0s 9ms/step - loss: 428.5101 - val_loss: 504.2065\n",
      "Epoch 15/100\n",
      "48/48 [==============================] - 1s 11ms/step - loss: 430.6338 - val_loss: 492.1628\n",
      "Epoch 16/100\n",
      "48/48 [==============================] - 0s 8ms/step - loss: 427.7936 - val_loss: 489.6386\n",
      "Epoch 17/100\n",
      "48/48 [==============================] - 0s 8ms/step - loss: 426.8144 - val_loss: 495.9253\n",
      "Epoch 18/100\n",
      "48/48 [==============================] - 0s 9ms/step - loss: 426.2889 - val_loss: 491.6863\n",
      "Epoch 19/100\n",
      "48/48 [==============================] - 0s 9ms/step - loss: 424.2818 - val_loss: 496.1738\n",
      "Epoch 20/100\n",
      "48/48 [==============================] - 0s 8ms/step - loss: 421.3252 - val_loss: 493.1821\n",
      "Epoch 21/100\n",
      "48/48 [==============================] - 0s 9ms/step - loss: 422.7534 - val_loss: 494.8177\n",
      "Epoch 22/100\n",
      "48/48 [==============================] - 0s 8ms/step - loss: 423.6023 - val_loss: 493.9121\n",
      "Epoch 23/100\n",
      "48/48 [==============================] - 0s 10ms/step - loss: 422.8182 - val_loss: 502.6707\n",
      "Epoch 24/100\n",
      "48/48 [==============================] - 0s 9ms/step - loss: 416.4973 - val_loss: 490.8515\n",
      "Epoch 25/100\n",
      "48/48 [==============================] - 0s 10ms/step - loss: 421.6677 - val_loss: 492.0434\n",
      "Epoch 26/100\n",
      "48/48 [==============================] - 0s 9ms/step - loss: 418.3100 - val_loss: 493.8329\n",
      "Epoch 27/100\n",
      "48/48 [==============================] - 0s 9ms/step - loss: 418.0252 - val_loss: 503.0075\n",
      "Epoch 28/100\n",
      "48/48 [==============================] - 1s 11ms/step - loss: 415.1662 - val_loss: 492.5806\n",
      "Epoch 29/100\n",
      "48/48 [==============================] - 0s 8ms/step - loss: 415.6559 - val_loss: 495.2088\n",
      "Epoch 30/100\n",
      "48/48 [==============================] - 0s 8ms/step - loss: 415.0296 - val_loss: 493.1724\n",
      "Epoch 31/100\n",
      "48/48 [==============================] - 0s 8ms/step - loss: 414.1286 - val_loss: 500.5824\n",
      "Epoch 32/100\n",
      "48/48 [==============================] - 0s 8ms/step - loss: 411.6368 - val_loss: 495.1722\n",
      "Epoch 33/100\n",
      "48/48 [==============================] - 0s 8ms/step - loss: 413.1494 - val_loss: 490.4323\n",
      "Epoch 34/100\n",
      "48/48 [==============================] - 0s 8ms/step - loss: 410.2967 - val_loss: 493.2347\n",
      "Epoch 35/100\n",
      "48/48 [==============================] - 0s 10ms/step - loss: 413.5362 - val_loss: 493.6734\n",
      "Epoch 36/100\n",
      "48/48 [==============================] - 0s 8ms/step - loss: 413.2252 - val_loss: 491.1211\n",
      "Epoch 37/100\n",
      "48/48 [==============================] - 0s 8ms/step - loss: 411.7705 - val_loss: 500.1721\n",
      "Epoch 38/100\n",
      "48/48 [==============================] - 0s 8ms/step - loss: 406.9181 - val_loss: 493.2508\n",
      "Epoch 39/100\n",
      "48/48 [==============================] - 0s 10ms/step - loss: 409.5550 - val_loss: 496.3348\n",
      "Epoch 40/100\n",
      "48/48 [==============================] - 0s 9ms/step - loss: 406.2048 - val_loss: 503.5753\n",
      "Epoch 41/100\n",
      "48/48 [==============================] - 0s 9ms/step - loss: 405.6062 - val_loss: 502.1706\n",
      "Epoch 42/100\n",
      "48/48 [==============================] - 0s 9ms/step - loss: 406.7522 - val_loss: 495.6230\n",
      "Epoch 43/100\n",
      "48/48 [==============================] - 1s 12ms/step - loss: 402.4098 - val_loss: 501.7526\n",
      "Epoch 44/100\n",
      "48/48 [==============================] - 1s 12ms/step - loss: 404.8042 - val_loss: 493.4881\n",
      "Epoch 45/100\n",
      "48/48 [==============================] - 1s 14ms/step - loss: 402.6740 - val_loss: 500.5556\n",
      "Epoch 46/100\n",
      "48/48 [==============================] - 1s 11ms/step - loss: 402.6564 - val_loss: 498.5850\n",
      "Epoch 47/100\n",
      "48/48 [==============================] - 0s 9ms/step - loss: 400.9629 - val_loss: 494.9792\n",
      "Epoch 48/100\n",
      "48/48 [==============================] - 0s 10ms/step - loss: 401.7058 - val_loss: 501.5304\n",
      "Epoch 49/100\n",
      "48/48 [==============================] - 0s 10ms/step - loss: 398.1812 - val_loss: 500.5871\n",
      "Epoch 50/100\n",
      "48/48 [==============================] - 0s 9ms/step - loss: 396.0214 - val_loss: 504.5533\n",
      "Epoch 51/100\n",
      "48/48 [==============================] - 0s 10ms/step - loss: 397.1075 - val_loss: 503.1626\n",
      "Epoch 52/100\n",
      "48/48 [==============================] - 1s 11ms/step - loss: 393.9735 - val_loss: 503.7068\n",
      "Epoch 53/100\n",
      "48/48 [==============================] - 0s 10ms/step - loss: 394.9598 - val_loss: 505.3984\n",
      "Epoch 54/100\n",
      "48/48 [==============================] - 0s 9ms/step - loss: 393.2961 - val_loss: 504.0276\n",
      "Epoch 55/100\n",
      "48/48 [==============================] - 0s 9ms/step - loss: 390.6964 - val_loss: 513.7617\n",
      "Epoch 56/100\n",
      "48/48 [==============================] - 1s 12ms/step - loss: 390.8248 - val_loss: 510.9522\n",
      "Epoch 57/100\n",
      "48/48 [==============================] - 0s 10ms/step - loss: 393.3787 - val_loss: 506.1904\n",
      "Epoch 58/100\n",
      "48/48 [==============================] - 1s 12ms/step - loss: 392.2243 - val_loss: 505.4153\n",
      "Epoch 59/100\n",
      "48/48 [==============================] - 0s 10ms/step - loss: 390.8819 - val_loss: 504.0169\n",
      "Epoch 60/100\n",
      "48/48 [==============================] - 1s 12ms/step - loss: 390.6013 - val_loss: 500.8480\n",
      "Epoch 61/100\n",
      "48/48 [==============================] - 1s 14ms/step - loss: 391.9734 - val_loss: 507.0482\n",
      "Epoch 62/100\n",
      "48/48 [==============================] - 1s 13ms/step - loss: 386.7177 - val_loss: 504.0754\n",
      "Epoch 63/100\n",
      "48/48 [==============================] - 1s 16ms/step - loss: 386.2625 - val_loss: 505.5491\n",
      "Epoch 64/100\n",
      "48/48 [==============================] - 1s 13ms/step - loss: 381.0486 - val_loss: 504.7141\n",
      "Epoch 65/100\n",
      "48/48 [==============================] - 1s 13ms/step - loss: 383.2231 - val_loss: 508.5002\n",
      "Epoch 66/100\n",
      "48/48 [==============================] - 1s 12ms/step - loss: 384.6641 - val_loss: 502.5934\n",
      "Epoch 67/100\n",
      "48/48 [==============================] - 1s 11ms/step - loss: 382.0247 - val_loss: 501.4306\n",
      "Epoch 68/100\n",
      "48/48 [==============================] - 1s 11ms/step - loss: 381.3902 - val_loss: 509.6883\n",
      "Epoch 69/100\n",
      "48/48 [==============================] - 1s 12ms/step - loss: 381.1347 - val_loss: 512.0308\n",
      "Epoch 70/100\n",
      "48/48 [==============================] - 1s 17ms/step - loss: 379.0930 - val_loss: 512.9153\n",
      "Epoch 71/100\n",
      "48/48 [==============================] - 1s 13ms/step - loss: 376.4272 - val_loss: 513.3583\n",
      "Epoch 72/100\n",
      "48/48 [==============================] - 1s 15ms/step - loss: 379.8365 - val_loss: 508.4335\n",
      "Epoch 73/100\n",
      "48/48 [==============================] - 1s 14ms/step - loss: 378.1713 - val_loss: 513.2891\n",
      "Epoch 74/100\n",
      "48/48 [==============================] - 1s 13ms/step - loss: 375.8028 - val_loss: 509.8646\n",
      "Epoch 75/100\n",
      "48/48 [==============================] - 1s 13ms/step - loss: 374.7333 - val_loss: 512.3983\n",
      "Epoch 76/100\n",
      "48/48 [==============================] - 1s 11ms/step - loss: 375.1623 - val_loss: 514.0344\n",
      "Epoch 77/100\n",
      "48/48 [==============================] - 1s 11ms/step - loss: 372.4066 - val_loss: 516.0712\n",
      "Epoch 78/100\n",
      "48/48 [==============================] - 1s 13ms/step - loss: 372.8736 - val_loss: 512.1392\n",
      "Epoch 79/100\n",
      "48/48 [==============================] - 0s 10ms/step - loss: 370.1069 - val_loss: 514.4813\n",
      "Epoch 80/100\n",
      "48/48 [==============================] - 0s 10ms/step - loss: 372.0529 - val_loss: 513.0910\n",
      "Epoch 81/100\n",
      "48/48 [==============================] - 0s 10ms/step - loss: 369.2011 - val_loss: 511.9033\n",
      "Epoch 82/100\n",
      "48/48 [==============================] - 0s 10ms/step - loss: 366.9019 - val_loss: 515.5874\n",
      "Epoch 83/100\n",
      "48/48 [==============================] - 0s 10ms/step - loss: 367.1218 - val_loss: 519.5696\n",
      "Epoch 84/100\n",
      "48/48 [==============================] - 0s 10ms/step - loss: 365.5191 - val_loss: 519.6212\n",
      "Epoch 85/100\n",
      "48/48 [==============================] - 1s 12ms/step - loss: 367.4956 - val_loss: 516.0859\n",
      "Epoch 86/100\n",
      "48/48 [==============================] - 1s 11ms/step - loss: 368.2358 - val_loss: 522.3325\n",
      "Epoch 87/100\n",
      "48/48 [==============================] - 0s 9ms/step - loss: 363.8006 - val_loss: 515.4838\n",
      "Epoch 88/100\n",
      "48/48 [==============================] - 1s 11ms/step - loss: 365.6664 - val_loss: 520.8903\n",
      "Epoch 89/100\n",
      "48/48 [==============================] - 1s 12ms/step - loss: 362.1211 - val_loss: 517.4521\n",
      "Epoch 90/100\n",
      "48/48 [==============================] - 0s 9ms/step - loss: 362.8525 - val_loss: 518.9674\n",
      "Epoch 91/100\n",
      "48/48 [==============================] - 0s 10ms/step - loss: 365.6213 - val_loss: 521.0878\n",
      "Epoch 92/100\n",
      "48/48 [==============================] - 0s 10ms/step - loss: 361.5753 - val_loss: 517.1859\n",
      "Epoch 93/100\n",
      "48/48 [==============================] - 0s 10ms/step - loss: 360.0756 - val_loss: 519.0311\n",
      "Epoch 94/100\n",
      "48/48 [==============================] - 1s 11ms/step - loss: 359.4053 - val_loss: 530.0342\n",
      "Epoch 95/100\n",
      "48/48 [==============================] - 0s 9ms/step - loss: 359.9585 - val_loss: 524.8492\n",
      "Epoch 96/100\n",
      "48/48 [==============================] - 0s 9ms/step - loss: 356.3466 - val_loss: 522.7477\n",
      "Epoch 97/100\n",
      "48/48 [==============================] - 0s 9ms/step - loss: 360.2171 - val_loss: 521.1479\n",
      "Epoch 98/100\n",
      "48/48 [==============================] - 0s 9ms/step - loss: 353.0447 - val_loss: 528.6365\n",
      "Epoch 99/100\n",
      "48/48 [==============================] - 0s 9ms/step - loss: 356.0200 - val_loss: 522.9065\n",
      "Epoch 100/100\n",
      "48/48 [==============================] - 0s 9ms/step - loss: 358.6341 - val_loss: 519.7563\n"
     ]
    }
   ],
   "source": [
    "history=model.fit(X_train, y_train, validation_data=(X_val,y_val), epochs=100, verbose=1)"
   ]
  },
  {
   "cell_type": "code",
   "execution_count": 15,
   "id": "3d21c7de-15b4-4b9f-9287-26f9b698076c",
   "metadata": {},
   "outputs": [
    {
     "data": {
      "image/png": "[encoded data removed]",
      "text/plain": [
       "<Figure size 432x288 with 1 Axes>"
      ]
     },
     "metadata": {
      "needs_background": "light"
     },
     "output_type": "display_data"
    }
   ],
   "source": [
    "plt.plot(history.history['loss'])\n",
    "plt.plot(history.history['val_loss'])\n",
    "plt.title('model loss')\n",
    "plt.ylabel('loss')\n",
    "plt.xlabel('epoch')\n",
    "plt.legend(['train', 'validation'], loc='upper left')\n",
    "plt.show()"
   ]
  },
  {
   "cell_type": "code",
   "execution_count": 11,
   "id": "e1487a97-06b3-47e7-9c86-ade604867513",
   "metadata": {},
   "outputs": [
    {
     "name": "stdout",
     "output_type": "stream",
     "text": [
      "Epoch 1/20\n",
      "48/48 [==============================] - 4s 24ms/step - loss: 970.6830 - val_loss: 556.4267\n",
      "Epoch 2/20\n",
      "48/48 [==============================] - 0s 8ms/step - loss: 483.4117 - val_loss: 510.3499\n",
      "Epoch 3/20\n",
      "48/48 [==============================] - 0s 7ms/step - loss: 457.8203 - val_loss: 502.6936\n",
      "Epoch 4/20\n",
      "48/48 [==============================] - 0s 7ms/step - loss: 450.3755 - val_loss: 507.5117\n",
      "Epoch 5/20\n",
      "48/48 [==============================] - 0s 7ms/step - loss: 447.5017 - val_loss: 499.0786\n",
      "Epoch 6/20\n",
      "48/48 [==============================] - 0s 8ms/step - loss: 442.8739 - val_loss: 495.3546\n",
      "Epoch 7/20\n",
      "48/48 [==============================] - 0s 8ms/step - loss: 440.0240 - val_loss: 500.3824\n",
      "Epoch 8/20\n",
      "48/48 [==============================] - 0s 8ms/step - loss: 439.5208 - val_loss: 496.3983\n",
      "Epoch 9/20\n",
      "48/48 [==============================] - 0s 8ms/step - loss: 438.1268 - val_loss: 497.3081\n",
      "Epoch 10/20\n",
      "48/48 [==============================] - 0s 8ms/step - loss: 436.2890 - val_loss: 513.5828\n",
      "Epoch 11/20\n",
      "48/48 [==============================] - 0s 7ms/step - loss: 435.0044 - val_loss: 503.0576\n",
      "Epoch 12/20\n",
      "48/48 [==============================] - 0s 7ms/step - loss: 430.6808 - val_loss: 492.2957\n",
      "Epoch 13/20\n",
      "48/48 [==============================] - 0s 8ms/step - loss: 430.9678 - val_loss: 498.9232\n",
      "Epoch 14/20\n",
      "48/48 [==============================] - 0s 7ms/step - loss: 433.7603 - val_loss: 498.2696\n",
      "Epoch 15/20\n",
      "48/48 [==============================] - 0s 7ms/step - loss: 430.2924 - val_loss: 492.5369\n",
      "Epoch 16/20\n",
      "48/48 [==============================] - 0s 8ms/step - loss: 427.2204 - val_loss: 498.6523\n",
      "Epoch 17/20\n",
      "48/48 [==============================] - 0s 8ms/step - loss: 427.7678 - val_loss: 497.1501\n",
      "Epoch 18/20\n",
      "48/48 [==============================] - 0s 9ms/step - loss: 425.5710 - val_loss: 498.8928\n",
      "Epoch 19/20\n",
      "48/48 [==============================] - 0s 10ms/step - loss: 425.6613 - val_loss: 498.5363\n",
      "Epoch 20/20\n",
      "48/48 [==============================] - 0s 8ms/step - loss: 424.0928 - val_loss: 498.7423\n"
     ]
    }
   ],
   "source": [
    "history=model.fit(X_train, y_train, validation_data=(X_val,y_val), epochs=20, verbose=1)"
   ]
  },
  {
   "cell_type": "code",
   "execution_count": 12,
   "id": "361b63fe-b878-4eb6-89cf-bb5d5342d346",
   "metadata": {},
   "outputs": [
    {
     "data": {
      "image/png": "[encoded data removed]",
      "text/plain": [
       "<Figure size 432x288 with 1 Axes>"
      ]
     },
     "metadata": {
      "needs_background": "light"
     },
     "output_type": "display_data"
    }
   ],
   "source": [
    "plt.plot(history.history['loss'])\n",
    "plt.plot(history.history['val_loss'])\n",
    "plt.title('model loss')\n",
    "plt.ylabel('loss')\n",
    "plt.xlabel('epoch')\n",
    "plt.legend(['train', 'validation'], loc='upper left')\n",
    "plt.show()"
   ]
  },
  {
   "cell_type": "code",
   "execution_count": 13,
   "id": "937f3b79-2687-4771-8815-0fac52a89bea",
   "metadata": {},
   "outputs": [
    {
     "name": "stdout",
     "output_type": "stream",
     "text": [
      "20/20 [==============================] - 1s 2ms/step\n",
      "root mean_squared_error testing :  21.240189533431618\n"
     ]
    }
   ],
   "source": [
    "print('root mean_squared_error testing : ', mean_squared_error(y_test, model.predict(X_test), squared=False))"
   ]
  },
  {
   "cell_type": "code",
   "execution_count": 21,
   "id": "5817e3e8-2f3c-40cb-8fb5-37a5be2d9168",
   "metadata": {},
   "outputs": [
    {
     "name": "stdout",
     "output_type": "stream",
     "text": [
      "20/20 [==============================] - 0s 2ms/step\n"
     ]
    },
    {
     "data": {
      "image/png": "[encoded data removed]",
      "text/plain": [
       "<Figure size 576x288 with 1 Axes>"
      ]
     },
     "metadata": {
      "needs_background": "light"
     },
     "output_type": "display_data"
    }
   ],
   "source": [
    "test_predict=model.predict(X_test)\n",
    "\n",
    "idx = 7\n",
    "aa=[x for x in range(idx)]\n",
    "plt.figure(figsize=(8,4))\n",
    "plt.plot(aa, y_test[77], marker='.', label=\"actual\")\n",
    "plt.plot(aa, test_predict[77], 'r', label=\"prediction\")\n",
    "# plt.tick_params(left=False, labelleft=True) #remove ticks\n",
    "plt.tight_layout()\n",
    "sns.despine(top=True)\n",
    "plt.subplots_adjust(left=0.07)\n",
    "plt.ylabel('AQI', size=15)\n",
    "plt.xlabel('Upcoming days', size=15)\n",
    "plt.legend(fontsize=15)\n",
    "plt.show();"
   ]
  },
  {
   "cell_type": "code",
   "execution_count": 22,
   "id": "156d912b-8ae4-4b2e-8420-133a4ad0dad3",
   "metadata": {},
   "outputs": [
    {
     "name": "stdout",
     "output_type": "stream",
     "text": [
      "Connected. Call `.close()` to terminate connection gracefully.\n"
     ]
    }
   ],
   "source": [
    "mr = project.get_model_registry()"
   ]
  },
  {
   "cell_type": "code",
   "execution_count": 23,
   "id": "a7c1eb33-decf-4179-98d7-336dc19d75a0",
   "metadata": {},
   "outputs": [
    {
     "data": {
      "text/plain": [
       "{'input_schema': {'tensor_schema': {'shape': '(1535, 1, 28)',\n",
       "   'type': 'float64'}},\n",
       " 'output_schema': {'tensor_schema': {'shape': '(1535, 7)', 'type': 'int64'}}}"
      ]
     },
     "execution_count": 23,
     "metadata": {},
     "output_type": "execute_result"
    }
   ],
   "source": [
    "from hsml.schema import Schema\n",
    "from hsml.model_schema import ModelSchema\n",
    "\n",
    "input_schema = Schema(X_train)\n",
    "output_schema = Schema(y_train)\n",
    "model_schema = ModelSchema(input_schema=input_schema, output_schema=output_schema)\n",
    "\n",
    "model_schema.to_dict()"
   ]
  },
  {
   "cell_type": "code",
   "execution_count": 25,
   "id": "f320a408-e299-4645-8e61-8d6ec267b7d4",
   "metadata": {},
   "outputs": [
    {
     "name": "stdout",
     "output_type": "stream",
     "text": [
      "2023-01-12 17:43:56,835 WARNING: Found untraced functions such as lstm_cell_4_layer_call_fn, lstm_cell_4_layer_call_and_return_conditional_losses, lstm_cell_5_layer_call_fn, lstm_cell_5_layer_call_and_return_conditional_losses while saving (showing 4 of 4). These functions will not be directly callable after loading.\n",
      "2023-01-12 17:43:57,863 INFO: Assets written to: ram://d5f3de6a-efda-43a1-99d1-22e2511505b9/assets\n"
     ]
    },
    {
     "data": {
      "text/plain": [
       "['model.pkl']"
      ]
     },
     "execution_count": 25,
     "metadata": {},
     "output_type": "execute_result"
    }
   ],
   "source": [
    "import joblib\n",
    "\n",
    "joblib.dump(model, 'model.pkl')"
   ]
  },
  {
   "cell_type": "code",
   "execution_count": 27,
   "id": "bff28419-785b-4767-9c47-ad7d0ac628ab",
   "metadata": {},
   "outputs": [
    {
     "data": {
      "application/vnd.jupyter.widget-view+json": {
       "model_id": "1312481afd6543d2a1b3bfe36d9b48c3",
       "version_major": 2,
       "version_minor": 0
      },
      "text/plain": [
       "  0%|          | 0/6 [00:00<?, ?it/s]"
      ]
     },
     "metadata": {},
     "output_type": "display_data"
    },
    {
     "name": "stdout",
     "output_type": "stream",
     "text": [
      "Model created, explore it at https://c.app.hopsworks.ai:443/p/5419/models/LSTM_model/1\n"
     ]
    },
    {
     "data": {
      "text/plain": [
       "Model(name: 'LSTM_model', version: 1)"
      ]
     },
     "execution_count": 27,
     "metadata": {},
     "output_type": "execute_result"
    }
   ],
   "source": [
    "model = mr.sklearn.create_model(\n",
    "    name=\"LSTM_model\",\n",
    "    metrics={\"rmse\": \"21.27\"},\n",
    "    description=\"LSTM model\",\n",
    "    input_example=None,\n",
    "    model_schema=model_schema\n",
    ")\n",
    "\n",
    "model.save('model.pkl')"
   ]
  },
  {
   "cell_type": "code",
   "execution_count": null,
   "id": "faae2aaa-f861-4467-a4b8-65fcf496aeec",
   "metadata": {},
   "outputs": [],
   "source": []
  },
  {
   "cell_type": "code",
   "execution_count": 22,
   "id": "2d45c3cf-90e0-4513-ad01-2892f9e5954c",
   "metadata": {},
   "outputs": [],
   "source": [
    "feature_view.init_batch_scoring(training_dataset_version=4)\n"
   ]
  },
  {
   "cell_type": "code",
   "execution_count": 112,
   "id": "530a0074-43bf-43fd-988a-3cdb37190e1c",
   "metadata": {},
   "outputs": [
    {
     "name": "stdout",
     "output_type": "stream",
     "text": [
      "2023-01-13 03:10:23,519 INFO: USE `lab1xtitanic_featurestore`\n",
      "2023-01-13 03:10:24,050 INFO: WITH right_fg0 AS (SELECT *\n",
      "FROM (SELECT `fg1`.`date` `date`, `fg1`.`pm25` `pm25`, `fg1`.`pm10` `pm10`, `fg1`.`o3` `o3`, `fg1`.`no2` `no2`, `fg1`.`so2` `so2`, `fg1`.`co` `co`, `fg1`.`aqi` `aqi`, `fg1`.`date` `join_pk_date`, `fg1`.`date` `join_evt_date`, `fg0`.`tempmax` `tempmax`, `fg0`.`tempmin` `tempmin`, `fg0`.`temp` `temp`, `fg0`.`feelslikemax` `feelslikemax`, `fg0`.`feelslikemin` `feelslikemin`, `fg0`.`feelslike` `feelslike`, `fg0`.`dew` `dew`, `fg0`.`humidity` `humidity`, `fg0`.`precip` `precip`, `fg0`.`precipprob` `precipprob`, `fg0`.`precipcover` `precipcover`, `fg0`.`windgust` `windgust`, `fg0`.`windspeed` `windspeed`, `fg0`.`winddir` `winddir`, `fg0`.`sealevelpressure` `sealevelpressure`, `fg0`.`cloudcover` `cloudcover`, `fg0`.`visibility` `visibility`, `fg0`.`solarradiation` `solarradiation`, `fg0`.`solarenergy` `solarenergy`, `fg0`.`uvindex` `uvindex`, `fg0`.`conditions` `conditions`, RANK() OVER (PARTITION BY `fg1`.`date`, `fg1`.`date` ORDER BY `fg0`.`date` DESC) pit_rank_hopsworks\n",
      "FROM `lab1xtitanic_featurestore`.`air_quality_fg_1` `fg1`\n",
      "INNER JOIN `lab1xtitanic_featurestore`.`weather_fg_1` `fg0` ON `fg1`.`date` = `fg0`.`date` AND `fg1`.`date` >= `fg0`.`date`\n",
      "WHERE `fg1`.`date` >= 1673403017000) NA\n",
      "WHERE `pit_rank_hopsworks` = 1) (SELECT `right_fg0`.`date` `date`, `right_fg0`.`pm25` `pm25`, `right_fg0`.`pm10` `pm10`, `right_fg0`.`o3` `o3`, `right_fg0`.`no2` `no2`, `right_fg0`.`so2` `so2`, `right_fg0`.`co` `co`, `right_fg0`.`aqi` `aqi`, `right_fg0`.`tempmax` `tempmax`, `right_fg0`.`tempmin` `tempmin`, `right_fg0`.`temp` `temp`, `right_fg0`.`feelslikemax` `feelslikemax`, `right_fg0`.`feelslikemin` `feelslikemin`, `right_fg0`.`feelslike` `feelslike`, `right_fg0`.`dew` `dew`, `right_fg0`.`humidity` `humidity`, `right_fg0`.`precip` `precip`, `right_fg0`.`precipprob` `precipprob`, `right_fg0`.`precipcover` `precipcover`, `right_fg0`.`windgust` `windgust`, `right_fg0`.`windspeed` `windspeed`, `right_fg0`.`winddir` `winddir`, `right_fg0`.`sealevelpressure` `sealevelpressure`, `right_fg0`.`cloudcover` `cloudcover`, `right_fg0`.`visibility` `visibility`, `right_fg0`.`solarradiation` `solarradiation`, `right_fg0`.`solarenergy` `solarenergy`, `right_fg0`.`uvindex` `uvindex`, `right_fg0`.`conditions` `conditions`\n",
      "FROM right_fg0)\n"
     ]
    }
   ],
   "source": [
    "\n",
    "\n",
    "start_date = datetime.now() - timedelta(days=2)\n",
    "start_time = int(start_date.timestamp()) * 1000\n",
    "\n",
    "X = feature_view.get_batch_data(start_time=start_time)"
   ]
  },
  {
   "cell_type": "code",
   "execution_count": 113,
   "id": "91775f39-6bad-4685-ba72-c20d471e4a14",
   "metadata": {},
   "outputs": [
    {
     "data": {
      "text/html": [
       "<div>\n",
       "<style scoped>\n",
       "    .dataframe tbody tr th:only-of-type {\n",
       "        vertical-align: middle;\n",
       "    }\n",
       "\n",
       "    .dataframe tbody tr th {\n",
       "        vertical-align: top;\n",
       "    }\n",
       "\n",
       "    .dataframe thead th {\n",
       "        text-align: right;\n",
       "    }\n",
       "</style>\n",
       "<table border=\"1\" class=\"dataframe\">\n",
       "  <thead>\n",
       "    <tr style=\"text-align: right;\">\n",
       "      <th></th>\n",
       "      <th>date</th>\n",
       "      <th>pm25</th>\n",
       "      <th>pm10</th>\n",
       "      <th>o3</th>\n",
       "      <th>no2</th>\n",
       "      <th>so2</th>\n",
       "      <th>co</th>\n",
       "      <th>aqi</th>\n",
       "      <th>tempmax</th>\n",
       "      <th>tempmin</th>\n",
       "      <th>...</th>\n",
       "      <th>windgust</th>\n",
       "      <th>windspeed</th>\n",
       "      <th>winddir</th>\n",
       "      <th>sealevelpressure</th>\n",
       "      <th>cloudcover</th>\n",
       "      <th>visibility</th>\n",
       "      <th>solarradiation</th>\n",
       "      <th>solarenergy</th>\n",
       "      <th>uvindex</th>\n",
       "      <th>conditions</th>\n",
       "    </tr>\n",
       "  </thead>\n",
       "  <tbody>\n",
       "    <tr>\n",
       "      <th>0</th>\n",
       "      <td>1673478000000</td>\n",
       "      <td>-1.294855</td>\n",
       "      <td>-1.897138</td>\n",
       "      <td>-0.0612</td>\n",
       "      <td>-2.265223</td>\n",
       "      <td>-0.285279</td>\n",
       "      <td>-0.052511</td>\n",
       "      <td>25</td>\n",
       "      <td>-0.352969</td>\n",
       "      <td>0.208756</td>\n",
       "      <td>...</td>\n",
       "      <td>2.73284</td>\n",
       "      <td>2.474449</td>\n",
       "      <td>0.425239</td>\n",
       "      <td>-1.333573</td>\n",
       "      <td>0.878171</td>\n",
       "      <td>-0.846319</td>\n",
       "      <td>-1.244246</td>\n",
       "      <td>-1.249809</td>\n",
       "      <td>-1.301321</td>\n",
       "      <td>2</td>\n",
       "    </tr>\n",
       "  </tbody>\n",
       "</table>\n",
       "<p>1 rows × 29 columns</p>\n",
       "</div>"
      ],
      "text/plain": [
       "            date      pm25      pm10      o3       no2       so2        co  \\\n",
       "0  1673478000000 -1.294855 -1.897138 -0.0612 -2.265223 -0.285279 -0.052511   \n",
       "\n",
       "   aqi   tempmax   tempmin  ...  windgust  windspeed   winddir  \\\n",
       "0   25 -0.352969  0.208756  ...   2.73284   2.474449  0.425239   \n",
       "\n",
       "   sealevelpressure  cloudcover  visibility  solarradiation  solarenergy  \\\n",
       "0         -1.333573    0.878171   -0.846319       -1.244246    -1.249809   \n",
       "\n",
       "    uvindex  conditions  \n",
       "0 -1.301321           2  \n",
       "\n",
       "[1 rows x 29 columns]"
      ]
     },
     "execution_count": 113,
     "metadata": {},
     "output_type": "execute_result"
    }
   ],
   "source": [
    "X"
   ]
  },
  {
   "cell_type": "code",
   "execution_count": 102,
   "id": "787093d8-b7d9-409e-a4e3-4f609ac94d21",
   "metadata": {},
   "outputs": [
    {
     "name": "stdout",
     "output_type": "stream",
     "text": [
      "2023-01-13 00:40:59,001 INFO: NumExpr defaulting to 8 threads.\n"
     ]
    },
    {
     "data": {
      "text/html": [
       "<div>\n",
       "<style scoped>\n",
       "    .dataframe tbody tr th:only-of-type {\n",
       "        vertical-align: middle;\n",
       "    }\n",
       "\n",
       "    .dataframe tbody tr th {\n",
       "        vertical-align: top;\n",
       "    }\n",
       "\n",
       "    .dataframe thead th {\n",
       "        text-align: right;\n",
       "    }\n",
       "</style>\n",
       "<table border=\"1\" class=\"dataframe\">\n",
       "  <thead>\n",
       "    <tr style=\"text-align: right;\">\n",
       "      <th></th>\n",
       "      <th>date</th>\n",
       "      <th>pm25</th>\n",
       "      <th>pm10</th>\n",
       "      <th>o3</th>\n",
       "      <th>no2</th>\n",
       "      <th>so2</th>\n",
       "      <th>co</th>\n",
       "      <th>aqi</th>\n",
       "      <th>tempmax</th>\n",
       "      <th>tempmin</th>\n",
       "      <th>...</th>\n",
       "      <th>windgust</th>\n",
       "      <th>windspeed</th>\n",
       "      <th>winddir</th>\n",
       "      <th>sealevelpressure</th>\n",
       "      <th>cloudcover</th>\n",
       "      <th>visibility</th>\n",
       "      <th>solarradiation</th>\n",
       "      <th>solarenergy</th>\n",
       "      <th>uvindex</th>\n",
       "      <th>conditions</th>\n",
       "    </tr>\n",
       "  </thead>\n",
       "  <tbody>\n",
       "    <tr>\n",
       "      <th>0</th>\n",
       "      <td>1673478000000</td>\n",
       "      <td>-1.294855</td>\n",
       "      <td>-1.897138</td>\n",
       "      <td>-0.044632</td>\n",
       "      <td>-2.265223</td>\n",
       "      <td>-0.285279</td>\n",
       "      <td>0.014298</td>\n",
       "      <td>25</td>\n",
       "      <td>-0.352969</td>\n",
       "      <td>0.208756</td>\n",
       "      <td>...</td>\n",
       "      <td>2.73284</td>\n",
       "      <td>2.474449</td>\n",
       "      <td>0.425239</td>\n",
       "      <td>-1.333573</td>\n",
       "      <td>0.878171</td>\n",
       "      <td>-0.846319</td>\n",
       "      <td>-1.244246</td>\n",
       "      <td>-1.249809</td>\n",
       "      <td>-1.301321</td>\n",
       "      <td>2</td>\n",
       "    </tr>\n",
       "  </tbody>\n",
       "</table>\n",
       "<p>1 rows × 29 columns</p>\n",
       "</div>"
      ],
      "text/plain": [
       "            date      pm25      pm10        o3       no2       so2        co  \\\n",
       "0  1673478000000 -1.294855 -1.897138 -0.044632 -2.265223 -0.285279  0.014298   \n",
       "\n",
       "   aqi   tempmax   tempmin  ...  windgust  windspeed   winddir  \\\n",
       "0   25 -0.352969  0.208756  ...   2.73284   2.474449  0.425239   \n",
       "\n",
       "   sealevelpressure  cloudcover  visibility  solarradiation  solarenergy  \\\n",
       "0         -1.333573    0.878171   -0.846319       -1.244246    -1.249809   \n",
       "\n",
       "    uvindex  conditions  \n",
       "0 -1.301321           2  \n",
       "\n",
       "[1 rows x 29 columns]"
      ]
     },
     "execution_count": 102,
     "metadata": {},
     "output_type": "execute_result"
    }
   ],
   "source": [
    "X.loc[X['date'] == max (X['date'])]"
   ]
  },
  {
   "cell_type": "code",
   "execution_count": 65,
   "id": "d95cb139-409f-49bf-b048-a544db9ffe15",
   "metadata": {},
   "outputs": [],
   "source": [
    "import time\n",
    "latest_date_unix = str(X.date.values[0])[:10]\n",
    "latest_date = time.ctime(int(latest_date_unix))"
   ]
  },
  {
   "cell_type": "code",
   "execution_count": 78,
   "id": "459828de-ab27-483d-b3de-4771593ddab8",
   "metadata": {},
   "outputs": [],
   "source": [
    "temp=time.ctime(1673478000+(3600*24))"
   ]
  },
  {
   "cell_type": "code",
   "execution_count": 85,
   "id": "afc55532-8a98-4826-b06f-96cbf0105f7d",
   "metadata": {},
   "outputs": [
    {
     "data": {
      "text/plain": [
       "'Jan 13'"
      ]
     },
     "execution_count": 85,
     "metadata": {},
     "output_type": "execute_result"
    }
   ],
   "source": [
    "temp[4:-14]"
   ]
  },
  {
   "cell_type": "code",
   "execution_count": 72,
   "id": "8505c9a7-0e35-48bf-b685-ee0b899e7870",
   "metadata": {},
   "outputs": [
    {
     "data": {
      "text/plain": [
       "'1673478000'"
      ]
     },
     "execution_count": 72,
     "metadata": {},
     "output_type": "execute_result"
    }
   ],
   "source": [
    "latest_date_unix"
   ]
  },
  {
   "cell_type": "code",
   "execution_count": 71,
   "id": "13e7d4c2-194d-4307-88e3-94af37c5ccde",
   "metadata": {},
   "outputs": [
    {
     "data": {
      "text/plain": [
       "'Thu May 29 10:00:00 55000'"
      ]
     },
     "execution_count": 71,
     "metadata": {},
     "output_type": "execute_result"
    }
   ],
   "source": [
    "latest_date"
   ]
  },
  {
   "cell_type": "code",
   "execution_count": 90,
   "id": "7b2fa75e-0f85-4d35-90c3-cd5f282e5162",
   "metadata": {},
   "outputs": [],
   "source": [
    "days=list()\n",
    "temp_sec=int(latest_date_unix)\n",
    "for i in range(0,7):\n",
    "    temp_sec=temp_sec+(3600*24)\n",
    "\n",
    "    days.append(time.ctime(temp_sec)[4:-14])"
   ]
  },
  {
   "cell_type": "code",
   "execution_count": 91,
   "id": "dafafa77-50ae-46a8-9a4c-4601cbeb5e12",
   "metadata": {},
   "outputs": [
    {
     "data": {
      "text/plain": [
       "['Jan 13', 'Jan 14', 'Jan 15', 'Jan 16', 'Jan 17', 'Jan 18', 'Jan 19']"
      ]
     },
     "execution_count": 91,
     "metadata": {},
     "output_type": "execute_result"
    }
   ],
   "source": [
    "days"
   ]
  },
  {
   "cell_type": "code",
   "execution_count": 49,
   "id": "672c3399-ed1b-4cfd-8fc3-ce79c41adfff",
   "metadata": {},
   "outputs": [],
   "source": [
    "X = X.drop(columns=[\"date\"]).fillna(0)"
   ]
  },
  {
   "cell_type": "code",
   "execution_count": 38,
   "id": "7f2abea1-34a9-4f1e-9382-b9b475b06e2c",
   "metadata": {},
   "outputs": [],
   "source": [
    "from functions import decode_features, get_model\n",
    "data_to_display = decode_features(X, feature_view=feature_view)"
   ]
  },
  {
   "cell_type": "code",
   "execution_count": 39,
   "id": "a37fee6c-66f7-482e-8fcc-bd1d55f20543",
   "metadata": {},
   "outputs": [
    {
     "data": {
      "text/html": [
       "<div>\n",
       "<style scoped>\n",
       "    .dataframe tbody tr th:only-of-type {\n",
       "        vertical-align: middle;\n",
       "    }\n",
       "\n",
       "    .dataframe tbody tr th {\n",
       "        vertical-align: top;\n",
       "    }\n",
       "\n",
       "    .dataframe thead th {\n",
       "        text-align: right;\n",
       "    }\n",
       "</style>\n",
       "<table border=\"1\" class=\"dataframe\">\n",
       "  <thead>\n",
       "    <tr style=\"text-align: right;\">\n",
       "      <th></th>\n",
       "      <th>date</th>\n",
       "      <th>pm25</th>\n",
       "      <th>pm10</th>\n",
       "      <th>o3</th>\n",
       "      <th>no2</th>\n",
       "      <th>so2</th>\n",
       "      <th>co</th>\n",
       "      <th>aqi</th>\n",
       "      <th>tempmax</th>\n",
       "      <th>tempmin</th>\n",
       "      <th>...</th>\n",
       "      <th>windgust</th>\n",
       "      <th>windspeed</th>\n",
       "      <th>winddir</th>\n",
       "      <th>sealevelpressure</th>\n",
       "      <th>cloudcover</th>\n",
       "      <th>visibility</th>\n",
       "      <th>solarradiation</th>\n",
       "      <th>solarenergy</th>\n",
       "      <th>uvindex</th>\n",
       "      <th>conditions</th>\n",
       "    </tr>\n",
       "  </thead>\n",
       "  <tbody>\n",
       "    <tr>\n",
       "      <th>0</th>\n",
       "      <td>1673478000000</td>\n",
       "      <td>12.0</td>\n",
       "      <td>4.0</td>\n",
       "      <td>25.1</td>\n",
       "      <td>3.9</td>\n",
       "      <td>0.1</td>\n",
       "      <td>2.5</td>\n",
       "      <td>25</td>\n",
       "      <td>11.9</td>\n",
       "      <td>9.0</td>\n",
       "      <td>...</td>\n",
       "      <td>79.6</td>\n",
       "      <td>50.7</td>\n",
       "      <td>231.9</td>\n",
       "      <td>1002.4</td>\n",
       "      <td>88.0</td>\n",
       "      <td>11.6</td>\n",
       "      <td>7.7</td>\n",
       "      <td>0.6</td>\n",
       "      <td>1.0</td>\n",
       "      <td>Rain, Partially cloudy</td>\n",
       "    </tr>\n",
       "  </tbody>\n",
       "</table>\n",
       "<p>1 rows × 29 columns</p>\n",
       "</div>"
      ],
      "text/plain": [
       "            date  pm25  pm10    o3  no2  so2   co  aqi  tempmax  tempmin  ...  \\\n",
       "0  1673478000000  12.0   4.0  25.1  3.9  0.1  2.5   25     11.9      9.0  ...   \n",
       "\n",
       "   windgust  windspeed  winddir  sealevelpressure  cloudcover  visibility  \\\n",
       "0      79.6       50.7    231.9            1002.4        88.0        11.6   \n",
       "\n",
       "   solarradiation  solarenergy  uvindex              conditions  \n",
       "0             7.7          0.6      1.0  Rain, Partially cloudy  \n",
       "\n",
       "[1 rows x 29 columns]"
      ]
     },
     "execution_count": 39,
     "metadata": {},
     "output_type": "execute_result"
    }
   ],
   "source": [
    "data_to_display"
   ]
  },
  {
   "cell_type": "code",
   "execution_count": null,
   "id": "b1d93b6d-94ee-48df-9e76-a2be6419a639",
   "metadata": {},
   "outputs": [],
   "source": [
    "#data_to_display = data_to_display.set_index(\"city\")"
   ]
  },
  {
   "cell_type": "code",
   "execution_count": 45,
   "id": "fe0d2cef-280c-4353-ba7e-fdbd340cb33b",
   "metadata": {},
   "outputs": [],
   "source": [
    "model = get_model(project=project,\n",
    "                  model_name=\"LSTM_model\",\n",
    "                  evaluation_metric=\"mse\",\n",
    "                  sort_metrics_by=\"min\")"
   ]
  },
  {
   "cell_type": "code",
   "execution_count": 50,
   "id": "5c12bcf3-bd5b-4258-9b52-8736fd4fb8fc",
   "metadata": {},
   "outputs": [
    {
     "data": {
      "text/html": [
       "<div>\n",
       "<style scoped>\n",
       "    .dataframe tbody tr th:only-of-type {\n",
       "        vertical-align: middle;\n",
       "    }\n",
       "\n",
       "    .dataframe tbody tr th {\n",
       "        vertical-align: top;\n",
       "    }\n",
       "\n",
       "    .dataframe thead th {\n",
       "        text-align: right;\n",
       "    }\n",
       "</style>\n",
       "<table border=\"1\" class=\"dataframe\">\n",
       "  <thead>\n",
       "    <tr style=\"text-align: right;\">\n",
       "      <th></th>\n",
       "      <th>pm25</th>\n",
       "      <th>pm10</th>\n",
       "      <th>o3</th>\n",
       "      <th>no2</th>\n",
       "      <th>so2</th>\n",
       "      <th>co</th>\n",
       "      <th>aqi</th>\n",
       "      <th>tempmax</th>\n",
       "      <th>tempmin</th>\n",
       "      <th>temp</th>\n",
       "      <th>...</th>\n",
       "      <th>windgust</th>\n",
       "      <th>windspeed</th>\n",
       "      <th>winddir</th>\n",
       "      <th>sealevelpressure</th>\n",
       "      <th>cloudcover</th>\n",
       "      <th>visibility</th>\n",
       "      <th>solarradiation</th>\n",
       "      <th>solarenergy</th>\n",
       "      <th>uvindex</th>\n",
       "      <th>conditions</th>\n",
       "    </tr>\n",
       "  </thead>\n",
       "  <tbody>\n",
       "    <tr>\n",
       "      <th>0</th>\n",
       "      <td>-1.294855</td>\n",
       "      <td>-1.897138</td>\n",
       "      <td>-0.044632</td>\n",
       "      <td>-2.265223</td>\n",
       "      <td>-0.285279</td>\n",
       "      <td>0.014298</td>\n",
       "      <td>25</td>\n",
       "      <td>-0.352969</td>\n",
       "      <td>0.208756</td>\n",
       "      <td>-0.096937</td>\n",
       "      <td>...</td>\n",
       "      <td>2.73284</td>\n",
       "      <td>2.474449</td>\n",
       "      <td>0.425239</td>\n",
       "      <td>-1.333573</td>\n",
       "      <td>0.878171</td>\n",
       "      <td>-0.846319</td>\n",
       "      <td>-1.244246</td>\n",
       "      <td>-1.249809</td>\n",
       "      <td>-1.301321</td>\n",
       "      <td>2</td>\n",
       "    </tr>\n",
       "  </tbody>\n",
       "</table>\n",
       "<p>1 rows × 28 columns</p>\n",
       "</div>"
      ],
      "text/plain": [
       "       pm25      pm10        o3       no2       so2        co  aqi   tempmax  \\\n",
       "0 -1.294855 -1.897138 -0.044632 -2.265223 -0.285279  0.014298   25 -0.352969   \n",
       "\n",
       "    tempmin      temp  ...  windgust  windspeed   winddir  sealevelpressure  \\\n",
       "0  0.208756 -0.096937  ...   2.73284   2.474449  0.425239         -1.333573   \n",
       "\n",
       "   cloudcover  visibility  solarradiation  solarenergy   uvindex  conditions  \n",
       "0    0.878171   -0.846319       -1.244246    -1.249809 -1.301321           2  \n",
       "\n",
       "[1 rows x 28 columns]"
      ]
     },
     "execution_count": 50,
     "metadata": {},
     "output_type": "execute_result"
    }
   ],
   "source": [
    "X"
   ]
  },
  {
   "cell_type": "code",
   "execution_count": 52,
   "id": "c86f6256-45e0-4cb3-8aa3-1f005eafa418",
   "metadata": {},
   "outputs": [],
   "source": [
    "X=np.reshape(np.array(X),(len(X),1,len(X.columns)))"
   ]
  },
  {
   "cell_type": "code",
   "execution_count": 53,
   "id": "2b18598a-9a16-48e5-bf92-da015b55d14e",
   "metadata": {},
   "outputs": [
    {
     "name": "stdout",
     "output_type": "stream",
     "text": [
      "1/1 [==============================] - 0s 20ms/step\n"
     ]
    }
   ],
   "source": [
    "preds = model.predict(X)"
   ]
  },
  {
   "cell_type": "code",
   "execution_count": 54,
   "id": "1f4bd2ec-1178-4cb3-ad89-af0a3237ec87",
   "metadata": {},
   "outputs": [
    {
     "data": {
      "text/plain": [
       "array([[33.2088  , 38.52175 , 42.567642, 44.45889 , 42.770912, 43.79951 ,\n",
       "        45.145107]], dtype=float32)"
      ]
     },
     "execution_count": 54,
     "metadata": {},
     "output_type": "execute_result"
    }
   ],
   "source": [
    "preds"
   ]
  },
  {
   "cell_type": "code",
   "execution_count": null,
   "id": "34aab2bb-2317-4ac6-895a-253d61913879",
   "metadata": {},
   "outputs": [],
   "source": [
    "import requests"
   ]
  },
  {
   "cell_type": "code",
   "execution_count": null,
   "id": "96511a18-4ca2-49b5-aa55-3681b2b98ebc",
   "metadata": {},
   "outputs": [],
   "source": [
    "requests.get(f'https://weather.visualcrossing.com/VisualCrossingWebServices/rest/services/timeline/{city.lower()}/{date}?unitGroup=metric&include=days&key={WEATHER_API_KEY}&contentType=json').json()\n"
   ]
  },
  {
   "cell_type": "code",
   "execution_count": 107,
   "id": "702f6982-0111-43ab-974f-07414624e2a8",
   "metadata": {},
   "outputs": [],
   "source": [
    "start_date = datetime.now() - timedelta(days=2)"
   ]
  },
  {
   "cell_type": "code",
   "execution_count": 108,
   "id": "f1814219-33c5-442d-8c0b-1b611717585c",
   "metadata": {},
   "outputs": [
    {
     "data": {
      "text/plain": [
       "datetime.datetime(2023, 1, 11, 2, 54, 30, 786046)"
      ]
     },
     "execution_count": 108,
     "metadata": {},
     "output_type": "execute_result"
    }
   ],
   "source": [
    "start_date"
   ]
  },
  {
   "cell_type": "code",
   "execution_count": null,
   "id": "7cd85cdf-013e-4811-b888-80b55c2cb0f3",
   "metadata": {},
   "outputs": [],
   "source": []
  }
 ],
 "metadata": {
  "kernelspec": {
   "display_name": "Python 3",
   "language": "python",
   "name": "python3"
  },
  "language_info": {
   "codemirror_mode": {
    "name": "ipython",
    "version": 3
   },
   "file_extension": ".py",
   "mimetype": "text/x-python",
   "name": "python",
   "nbconvert_exporter": "python",
   "pygments_lexer": "ipython3",
   "version": "3.8.10 (default, Nov 14 2022, 12:59:47) \n[GCC 9.4.0]"
  },
  "vscode": {
   "interpreter": {
    "hash": "916dbcbb3f70747c44a77c7bcd40155683ae19c65e1c03b4aa3499c5328201f1"
   }
  }
 },
 "nbformat": 4,
 "nbformat_minor": 5
}
